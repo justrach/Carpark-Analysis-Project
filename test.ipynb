{
 "cells": [
  {
   "cell_type": "code",
   "execution_count": 2,
   "metadata": {},
   "outputs": [
    {
     "name": "stdout",
     "output_type": "stream",
     "text": [
      "2022-10-16T14:12:58Z\n"
     ]
    }
   ],
   "source": [
    "import requests as req\n",
    "import datetime\n",
    "import pandas as pd\n",
    "\n",
    "\n",
    "\n",
    "\n",
    "#Get the current date time\n",
    "output_date = datetime.datetime.now().strftime(\"%Y-%m-%dT%H:%M:%SZ\")\n",
    "val = \"YYYY-MM-DD[T]HH:mm:ss\"\n",
    "val = \"2022-10-06T10:51:34.765Z\"\n",
    "print(str(output_date))\n",
    "# Get the data from the API\n",
    "data = req.get(\"https://api.data.gov.sg/v1/transport/carpark-availability?date_time=\" + val ).json()\n",
    "\n",
    "# st.write(data)\n",
    "\n",
    "# data\n",
    "\n",
    "# with open('outputfile.json', 'w') as outf:\n",
    "#     outf.write(str(data))"
   ]
  },
  {
   "cell_type": "code",
   "execution_count": 11,
   "metadata": {},
   "outputs": [
    {
     "data": {
      "text/plain": [
       "['105',\n",
       " '583',\n",
       " '329',\n",
       " '97',\n",
       " '96',\n",
       " '177',\n",
       " '228',\n",
       " '289',\n",
       " '332',\n",
       " '273',\n",
       " '543',\n",
       " '133',\n",
       " '189',\n",
       " '138',\n",
       " '48',\n",
       " '612',\n",
       " '155',\n",
       " '82',\n",
       " '326',\n",
       " '305',\n",
       " '225',\n",
       " '244',\n",
       " '350',\n",
       " '346',\n",
       " '247',\n",
       " '30',\n",
       " '109',\n",
       " '228',\n",
       " '81',\n",
       " '213',\n",
       " '516',\n",
       " '208',\n",
       " '143',\n",
       " '93',\n",
       " '31',\n",
       " '408',\n",
       " '205',\n",
       " '363',\n",
       " '707',\n",
       " '339',\n",
       " '320',\n",
       " '56',\n",
       " '352',\n",
       " '270',\n",
       " '65',\n",
       " '187',\n",
       " '15',\n",
       " '362',\n",
       " '13',\n",
       " '129',\n",
       " '123',\n",
       " '679',\n",
       " '482',\n",
       " '226',\n",
       " '141',\n",
       " '190',\n",
       " '63',\n",
       " '239',\n",
       " '677',\n",
       " '187',\n",
       " '591',\n",
       " '206',\n",
       " '268',\n",
       " '199',\n",
       " '368',\n",
       " '391',\n",
       " '342',\n",
       " '213',\n",
       " '93',\n",
       " '368',\n",
       " '200',\n",
       " '308',\n",
       " '1163',\n",
       " '149',\n",
       " '239',\n",
       " '172',\n",
       " '388',\n",
       " '208',\n",
       " '176',\n",
       " '362',\n",
       " '54',\n",
       " '151',\n",
       " '286',\n",
       " '553',\n",
       " '58',\n",
       " '350',\n",
       " '144',\n",
       " '250',\n",
       " '626',\n",
       " '655',\n",
       " '215',\n",
       " '881',\n",
       " '922',\n",
       " '291',\n",
       " '43',\n",
       " '501',\n",
       " '95',\n",
       " '159',\n",
       " '175',\n",
       " '459',\n",
       " '461',\n",
       " '487',\n",
       " '257',\n",
       " '355',\n",
       " '303',\n",
       " '459',\n",
       " '66',\n",
       " '550',\n",
       " '202',\n",
       " '86',\n",
       " '261',\n",
       " '745',\n",
       " '57',\n",
       " '47',\n",
       " '172',\n",
       " '150',\n",
       " '406',\n",
       " '176',\n",
       " '124',\n",
       " '36',\n",
       " '91',\n",
       " '17',\n",
       " '35',\n",
       " '39',\n",
       " '222',\n",
       " '220',\n",
       " '396',\n",
       " '522',\n",
       " '257',\n",
       " '192',\n",
       " '345',\n",
       " '166',\n",
       " '346',\n",
       " '83',\n",
       " '53',\n",
       " '668',\n",
       " '119',\n",
       " '383',\n",
       " '85',\n",
       " '116',\n",
       " '247',\n",
       " '343',\n",
       " '342',\n",
       " '358',\n",
       " '257',\n",
       " '815',\n",
       " '808',\n",
       " '75',\n",
       " '823',\n",
       " '181',\n",
       " '45',\n",
       " '406',\n",
       " '329',\n",
       " '310',\n",
       " '100',\n",
       " '550',\n",
       " '172',\n",
       " '324',\n",
       " '669',\n",
       " '1054',\n",
       " '366',\n",
       " '450',\n",
       " '232',\n",
       " '192',\n",
       " '93',\n",
       " '101',\n",
       " '490',\n",
       " '462',\n",
       " '210',\n",
       " '735',\n",
       " '1000',\n",
       " '1000',\n",
       " '400',\n",
       " '595',\n",
       " '625',\n",
       " '46',\n",
       " '364',\n",
       " '713',\n",
       " '495',\n",
       " '313',\n",
       " '1109',\n",
       " '361',\n",
       " '128',\n",
       " '124',\n",
       " '239',\n",
       " '269',\n",
       " '60',\n",
       " '53',\n",
       " '460',\n",
       " '220',\n",
       " '150',\n",
       " '384',\n",
       " '338',\n",
       " '20',\n",
       " '312',\n",
       " '143',\n",
       " '25',\n",
       " '298',\n",
       " '19',\n",
       " '30',\n",
       " '15',\n",
       " '59',\n",
       " '47',\n",
       " '46',\n",
       " '292',\n",
       " '496',\n",
       " '336',\n",
       " '243',\n",
       " '350',\n",
       " '348',\n",
       " '413',\n",
       " '248',\n",
       " '1000',\n",
       " '224',\n",
       " '70',\n",
       " '10',\n",
       " '453',\n",
       " '298',\n",
       " '108',\n",
       " '355',\n",
       " '338',\n",
       " '353',\n",
       " '364',\n",
       " '385',\n",
       " '385',\n",
       " '123',\n",
       " '67',\n",
       " '521',\n",
       " '99',\n",
       " '756',\n",
       " '86',\n",
       " '41',\n",
       " '249',\n",
       " '129',\n",
       " '113',\n",
       " '250',\n",
       " '555',\n",
       " '120',\n",
       " '75',\n",
       " '75',\n",
       " '104',\n",
       " '41',\n",
       " '353',\n",
       " '415',\n",
       " '755',\n",
       " '833',\n",
       " '384',\n",
       " '842',\n",
       " '115',\n",
       " '91',\n",
       " '385',\n",
       " '287',\n",
       " '544',\n",
       " '198',\n",
       " '548',\n",
       " '29',\n",
       " '20',\n",
       " '185',\n",
       " '167',\n",
       " '309',\n",
       " '19',\n",
       " '28',\n",
       " '88',\n",
       " '88',\n",
       " '484',\n",
       " '140',\n",
       " '140',\n",
       " '140',\n",
       " '512',\n",
       " '50',\n",
       " '216',\n",
       " '550',\n",
       " '585',\n",
       " '344',\n",
       " '938',\n",
       " '141',\n",
       " '750',\n",
       " '373',\n",
       " '371',\n",
       " '444',\n",
       " '673',\n",
       " '695',\n",
       " '396',\n",
       " '302',\n",
       " '198',\n",
       " '1004',\n",
       " '387',\n",
       " '420',\n",
       " '306',\n",
       " '543',\n",
       " '118',\n",
       " '201',\n",
       " '146',\n",
       " '108',\n",
       " '873',\n",
       " '554',\n",
       " '285',\n",
       " '220',\n",
       " '300',\n",
       " '300',\n",
       " '407',\n",
       " '611',\n",
       " '202',\n",
       " '767',\n",
       " '374',\n",
       " '104',\n",
       " '318',\n",
       " '218',\n",
       " '326',\n",
       " '185',\n",
       " '136',\n",
       " '290',\n",
       " '389',\n",
       " '931',\n",
       " '232',\n",
       " '318',\n",
       " '669',\n",
       " '457',\n",
       " '672',\n",
       " '235',\n",
       " '193',\n",
       " '200',\n",
       " '158',\n",
       " '134',\n",
       " '185',\n",
       " '500',\n",
       " '520',\n",
       " '150',\n",
       " '476',\n",
       " '12',\n",
       " '191',\n",
       " '222',\n",
       " '220',\n",
       " '385',\n",
       " '253',\n",
       " '585',\n",
       " '197',\n",
       " '300',\n",
       " '322',\n",
       " '64',\n",
       " '75',\n",
       " '197',\n",
       " '274',\n",
       " '129',\n",
       " '124',\n",
       " '50',\n",
       " '164',\n",
       " '209',\n",
       " '41',\n",
       " '267',\n",
       " '563',\n",
       " '361',\n",
       " '262',\n",
       " '60',\n",
       " '1145',\n",
       " '351',\n",
       " '388',\n",
       " '998',\n",
       " '1272',\n",
       " '1318',\n",
       " '381',\n",
       " '167',\n",
       " '225',\n",
       " '369',\n",
       " '233',\n",
       " '317',\n",
       " '162',\n",
       " '296',\n",
       " '354',\n",
       " '200',\n",
       " '208',\n",
       " '94',\n",
       " '374',\n",
       " '264',\n",
       " '233',\n",
       " '700',\n",
       " '1164',\n",
       " '646',\n",
       " '113',\n",
       " '517',\n",
       " '282',\n",
       " '356',\n",
       " '26',\n",
       " '184',\n",
       " '289',\n",
       " '676',\n",
       " '451',\n",
       " '83',\n",
       " '97',\n",
       " '517',\n",
       " '206',\n",
       " '116',\n",
       " '153',\n",
       " '36',\n",
       " '274',\n",
       " '472',\n",
       " '220',\n",
       " '525',\n",
       " '93',\n",
       " '358',\n",
       " '717',\n",
       " '1052',\n",
       " '644',\n",
       " '361',\n",
       " '148',\n",
       " '51',\n",
       " '360',\n",
       " '42',\n",
       " '719',\n",
       " '256',\n",
       " '414',\n",
       " '419',\n",
       " '64',\n",
       " '420',\n",
       " '316',\n",
       " '241',\n",
       " '419',\n",
       " '159',\n",
       " '128',\n",
       " '329',\n",
       " '115',\n",
       " '214',\n",
       " '347',\n",
       " '543',\n",
       " '27',\n",
       " '343',\n",
       " '287',\n",
       " '143',\n",
       " '76',\n",
       " '427',\n",
       " '259',\n",
       " '516',\n",
       " '4',\n",
       " '11',\n",
       " '401',\n",
       " '168',\n",
       " '779',\n",
       " '713',\n",
       " '367',\n",
       " '248',\n",
       " '288',\n",
       " '28',\n",
       " '882',\n",
       " '392',\n",
       " '147',\n",
       " '326',\n",
       " '474',\n",
       " '559',\n",
       " '450',\n",
       " '16',\n",
       " '512',\n",
       " '252',\n",
       " '466',\n",
       " '1214',\n",
       " '951',\n",
       " '290',\n",
       " '303',\n",
       " '285',\n",
       " '269',\n",
       " '207',\n",
       " '430',\n",
       " '435',\n",
       " '46',\n",
       " '58',\n",
       " '154',\n",
       " '77',\n",
       " '106',\n",
       " '35',\n",
       " '154',\n",
       " '188',\n",
       " '1165',\n",
       " '754',\n",
       " '220',\n",
       " '222',\n",
       " '793',\n",
       " '1176',\n",
       " '270',\n",
       " '1000',\n",
       " '486',\n",
       " '557',\n",
       " '424',\n",
       " '126',\n",
       " '470',\n",
       " '176',\n",
       " '563',\n",
       " '288',\n",
       " '73',\n",
       " '245',\n",
       " '337',\n",
       " '466',\n",
       " '188',\n",
       " '1200',\n",
       " '383',\n",
       " '661',\n",
       " '280',\n",
       " '323',\n",
       " '212',\n",
       " '767',\n",
       " '239',\n",
       " '369',\n",
       " '196',\n",
       " '427',\n",
       " '10',\n",
       " '376',\n",
       " '200',\n",
       " '150',\n",
       " '1083',\n",
       " '450',\n",
       " '415',\n",
       " '350',\n",
       " '458',\n",
       " '337',\n",
       " '441',\n",
       " '466',\n",
       " '535',\n",
       " '121',\n",
       " '191',\n",
       " '603',\n",
       " '591',\n",
       " '489',\n",
       " '502',\n",
       " '367',\n",
       " '1061',\n",
       " '538',\n",
       " '505',\n",
       " '1302',\n",
       " '641',\n",
       " '385',\n",
       " '503',\n",
       " '1481',\n",
       " '678',\n",
       " '697',\n",
       " '262',\n",
       " '403',\n",
       " '206',\n",
       " '225',\n",
       " '31',\n",
       " '485',\n",
       " '257',\n",
       " '335',\n",
       " '807',\n",
       " '286',\n",
       " '566',\n",
       " '367',\n",
       " '297',\n",
       " '375',\n",
       " '101',\n",
       " '267',\n",
       " '27',\n",
       " '3',\n",
       " '667',\n",
       " '18',\n",
       " '77',\n",
       " '789',\n",
       " '387',\n",
       " '4',\n",
       " '2',\n",
       " '383',\n",
       " '714',\n",
       " '1401',\n",
       " '395',\n",
       " '498',\n",
       " '8',\n",
       " '359',\n",
       " '1549',\n",
       " '15',\n",
       " '272',\n",
       " '395',\n",
       " '644',\n",
       " '1454',\n",
       " '628',\n",
       " '922',\n",
       " '202',\n",
       " '550',\n",
       " '715',\n",
       " '63',\n",
       " '1336',\n",
       " '538',\n",
       " '465',\n",
       " '674',\n",
       " '394',\n",
       " '609',\n",
       " '283',\n",
       " '362',\n",
       " '556',\n",
       " '593',\n",
       " '412',\n",
       " '429',\n",
       " '494',\n",
       " '539',\n",
       " '35',\n",
       " '183',\n",
       " '408',\n",
       " '280',\n",
       " '64',\n",
       " '181',\n",
       " '53',\n",
       " '29',\n",
       " '135',\n",
       " '38',\n",
       " '143',\n",
       " '395',\n",
       " '103',\n",
       " '192',\n",
       " '102',\n",
       " '50',\n",
       " '285',\n",
       " '27',\n",
       " '245',\n",
       " '324',\n",
       " '108',\n",
       " '322',\n",
       " '350',\n",
       " '486',\n",
       " '295',\n",
       " '291',\n",
       " '452',\n",
       " '50',\n",
       " '285',\n",
       " '352',\n",
       " '411',\n",
       " '563',\n",
       " '382',\n",
       " '355',\n",
       " '350',\n",
       " '628',\n",
       " '304',\n",
       " '833',\n",
       " '254',\n",
       " '304',\n",
       " '539',\n",
       " '116',\n",
       " '57',\n",
       " '275',\n",
       " '330',\n",
       " '412',\n",
       " '398',\n",
       " '428',\n",
       " '412',\n",
       " '245',\n",
       " '247',\n",
       " '227',\n",
       " '239',\n",
       " '435',\n",
       " '522',\n",
       " '359',\n",
       " '301',\n",
       " '437',\n",
       " '2',\n",
       " '3',\n",
       " '267',\n",
       " '293',\n",
       " '671',\n",
       " '472',\n",
       " '360',\n",
       " '865',\n",
       " '1358',\n",
       " '677',\n",
       " '354',\n",
       " '75',\n",
       " '507',\n",
       " '653',\n",
       " '355',\n",
       " '473',\n",
       " '2064',\n",
       " '314',\n",
       " '293',\n",
       " '658',\n",
       " '411',\n",
       " '520',\n",
       " '4',\n",
       " '547',\n",
       " '6',\n",
       " '537',\n",
       " '741',\n",
       " '277',\n",
       " '283',\n",
       " '298',\n",
       " '204',\n",
       " '222',\n",
       " '203',\n",
       " '48',\n",
       " '430',\n",
       " '243',\n",
       " '458',\n",
       " '598',\n",
       " '39',\n",
       " '354',\n",
       " '428',\n",
       " '476',\n",
       " '175',\n",
       " '129',\n",
       " '433',\n",
       " '553',\n",
       " '588',\n",
       " '407',\n",
       " '430',\n",
       " '1069',\n",
       " '1069',\n",
       " '817',\n",
       " '366',\n",
       " '699',\n",
       " '277',\n",
       " '33',\n",
       " '30',\n",
       " '483',\n",
       " '82',\n",
       " '402',\n",
       " '31',\n",
       " '852',\n",
       " '119',\n",
       " '421',\n",
       " '674',\n",
       " '89',\n",
       " '149',\n",
       " '33',\n",
       " '147',\n",
       " '95',\n",
       " '73',\n",
       " '132',\n",
       " '535',\n",
       " '269',\n",
       " '290',\n",
       " '792',\n",
       " '50',\n",
       " '45',\n",
       " '194',\n",
       " '355',\n",
       " '247',\n",
       " '70',\n",
       " '55',\n",
       " '159',\n",
       " '429',\n",
       " '260',\n",
       " '74',\n",
       " '244',\n",
       " '312',\n",
       " '352',\n",
       " '159',\n",
       " '87',\n",
       " '616',\n",
       " '162',\n",
       " '159',\n",
       " '33',\n",
       " '76',\n",
       " '212',\n",
       " '456',\n",
       " '444',\n",
       " '625',\n",
       " '352',\n",
       " '220',\n",
       " '332',\n",
       " '65',\n",
       " '344',\n",
       " '304',\n",
       " '48',\n",
       " '345',\n",
       " '300',\n",
       " '200',\n",
       " '770',\n",
       " '647',\n",
       " '170',\n",
       " '711',\n",
       " '245',\n",
       " '94',\n",
       " '36',\n",
       " '60',\n",
       " '150',\n",
       " '30',\n",
       " '504',\n",
       " '962',\n",
       " '1000',\n",
       " '356',\n",
       " '220',\n",
       " '148',\n",
       " '82',\n",
       " '386',\n",
       " '21',\n",
       " '93',\n",
       " '26',\n",
       " '124',\n",
       " '492',\n",
       " '433',\n",
       " '247',\n",
       " '429',\n",
       " '465',\n",
       " '380',\n",
       " '169',\n",
       " '100',\n",
       " '131',\n",
       " '35',\n",
       " '222',\n",
       " '646',\n",
       " '282',\n",
       " '12',\n",
       " '900',\n",
       " '85',\n",
       " '270',\n",
       " '204',\n",
       " '332',\n",
       " '837',\n",
       " '776',\n",
       " '490',\n",
       " '204',\n",
       " '192',\n",
       " '240',\n",
       " '88',\n",
       " '371',\n",
       " '311',\n",
       " '345',\n",
       " '1100',\n",
       " '248',\n",
       " '187',\n",
       " '757',\n",
       " '348',\n",
       " '270',\n",
       " '423',\n",
       " '490',\n",
       " '401',\n",
       " '387',\n",
       " '896',\n",
       " '168',\n",
       " '39',\n",
       " '43',\n",
       " '162',\n",
       " '243',\n",
       " '192',\n",
       " '205',\n",
       " '212',\n",
       " '171',\n",
       " '231',\n",
       " '299',\n",
       " '249',\n",
       " '377',\n",
       " '189',\n",
       " '1294',\n",
       " '587',\n",
       " '447',\n",
       " '483',\n",
       " '421',\n",
       " '467',\n",
       " '444',\n",
       " '411',\n",
       " '285',\n",
       " '773',\n",
       " '1561',\n",
       " '1088',\n",
       " '350',\n",
       " '548',\n",
       " '386',\n",
       " '272',\n",
       " '553',\n",
       " '131',\n",
       " '517',\n",
       " '200',\n",
       " '6',\n",
       " '355',\n",
       " '508',\n",
       " '218',\n",
       " '105',\n",
       " '105',\n",
       " '105',\n",
       " '294',\n",
       " '230',\n",
       " '355',\n",
       " '434',\n",
       " '376',\n",
       " '429',\n",
       " '350',\n",
       " '460',\n",
       " '360',\n",
       " '358',\n",
       " '371',\n",
       " '360',\n",
       " '360',\n",
       " '10',\n",
       " '200',\n",
       " '967',\n",
       " '526',\n",
       " '20',\n",
       " '4',\n",
       " '330',\n",
       " '158',\n",
       " '264',\n",
       " '278',\n",
       " '78',\n",
       " '164',\n",
       " '82',\n",
       " '85',\n",
       " '90',\n",
       " '183',\n",
       " '215',\n",
       " '31',\n",
       " '187',\n",
       " '200',\n",
       " '360',\n",
       " '134',\n",
       " '114',\n",
       " '20',\n",
       " '456',\n",
       " '323',\n",
       " '256',\n",
       " '275',\n",
       " '162',\n",
       " '114',\n",
       " '183',\n",
       " '187',\n",
       " '189',\n",
       " '200',\n",
       " '211',\n",
       " '370',\n",
       " '200',\n",
       " '800',\n",
       " '852',\n",
       " '505',\n",
       " '601',\n",
       " '633',\n",
       " '145',\n",
       " '172',\n",
       " '458',\n",
       " '246',\n",
       " '657',\n",
       " '173',\n",
       " '266',\n",
       " '259',\n",
       " '779',\n",
       " '225',\n",
       " '823',\n",
       " '404',\n",
       " '1010',\n",
       " '320',\n",
       " '20',\n",
       " '200',\n",
       " '148',\n",
       " '199',\n",
       " '100',\n",
       " '218',\n",
       " '149',\n",
       " '343',\n",
       " '153',\n",
       " '291',\n",
       " '749',\n",
       " '399',\n",
       " '192',\n",
       " '321',\n",
       " '464',\n",
       " '84',\n",
       " '310',\n",
       " '157',\n",
       " '251',\n",
       " '354',\n",
       " '762',\n",
       " '188',\n",
       " '234',\n",
       " '175',\n",
       " '1854',\n",
       " '120',\n",
       " '98',\n",
       " '213',\n",
       " '154',\n",
       " '20',\n",
       " '50',\n",
       " '18',\n",
       " '46',\n",
       " '133',\n",
       " '194',\n",
       " '85',\n",
       " '593',\n",
       " '90',\n",
       " '64',\n",
       " '1399',\n",
       " '702',\n",
       " '691',\n",
       " '478',\n",
       " '481',\n",
       " '345',\n",
       " '1194',\n",
       " '223',\n",
       " '555',\n",
       " '306',\n",
       " '745',\n",
       " '288',\n",
       " '543',\n",
       " '441',\n",
       " '440',\n",
       " '305',\n",
       " '296',\n",
       " '500',\n",
       " '86',\n",
       " '400',\n",
       " '300',\n",
       " '200',\n",
       " '1178',\n",
       " '247',\n",
       " '500',\n",
       " '8',\n",
       " '27',\n",
       " '24',\n",
       " '426',\n",
       " '618',\n",
       " ...]"
      ]
     },
     "execution_count": 11,
     "metadata": {},
     "output_type": "execute_result"
    }
   ],
   "source": [
    "\n",
    "df = pd.DataFrame(data['items'][0]['carpark_data'])\n",
    "carpark_df = df[\"carpark_info\"] \n",
    "key_list = []\n",
    "value_of_carpark = []\n",
    "for k,v in carpark_df.items():\n",
    "    # print(k,v)\n",
    "    # print(\"\")\n",
    "    for key,value in v[0].items():\n",
    "        # print(key,value)\n",
    "        key_list.append(key)\n",
    "        value_of_carpark.append(value)\n",
    "        # print(\"\")\n",
    "\n",
    "# print(value_\n",
    "# lis,val)\n",
    "\n",
    "# append every third value of value_of_carpark to the key_list\n",
    "total_lots =  []\n",
    "for i in range(0, len(value_of_carpark), 3):\n",
    "    total_lots.append(value_of_carpark[i])\n",
    "\n",
    "# print(total_lots)\n",
    "total_lots"
   ]
  },
  {
   "cell_type": "code",
   "execution_count": 4,
   "metadata": {},
   "outputs": [
    {
     "name": "stdout",
     "output_type": "stream",
     "text": [
      "5904 1968 1968 1968\n"
     ]
    }
   ],
   "source": [
    "lot_type_list = []\n",
    "# every 2nd item append to lot_type_list\n",
    "for i in range(1, len(value_of_carpark), 3):\n",
    "    lot_type_list.append(value_of_carpark[i])\n",
    "lot_type_list\n",
    "\n",
    "lot_available_list = []\n",
    "# every 3rd item append to lot_available_list\n",
    "for i in range(2, len(value_of_carpark), 3):\n",
    "    lot_available_list.append(value_of_carpark[i])\n",
    "lot_available_list\n",
    "\n",
    "print(len(key_list),len(total_lots),len(lot_type_list),len(lot_available_list))"
   ]
  },
  {
   "cell_type": "code",
   "execution_count": 5,
   "metadata": {},
   "outputs": [
    {
     "data": {
      "text/plain": [
       "(1968, 3)"
      ]
     },
     "execution_count": 5,
     "metadata": {},
     "output_type": "execute_result"
    }
   ],
   "source": [
    "df.shape"
   ]
  },
  {
   "cell_type": "code",
   "execution_count": 10,
   "metadata": {},
   "outputs": [
    {
     "data": {
      "text/html": [
       "<div>\n",
       "<style scoped>\n",
       "    .dataframe tbody tr th:only-of-type {\n",
       "        vertical-align: middle;\n",
       "    }\n",
       "\n",
       "    .dataframe tbody tr th {\n",
       "        vertical-align: top;\n",
       "    }\n",
       "\n",
       "    .dataframe thead th {\n",
       "        text-align: right;\n",
       "    }\n",
       "</style>\n",
       "<table border=\"1\" class=\"dataframe\">\n",
       "  <thead>\n",
       "    <tr style=\"text-align: right;\">\n",
       "      <th></th>\n",
       "      <th>carpark_info</th>\n",
       "      <th>carpark_number</th>\n",
       "      <th>update_datetime</th>\n",
       "      <th>total_lots</th>\n",
       "      <th>lot_type</th>\n",
       "      <th>lot_available</th>\n",
       "    </tr>\n",
       "  </thead>\n",
       "  <tbody>\n",
       "    <tr>\n",
       "      <th>0</th>\n",
       "      <td>[{'total_lots': '105', 'lot_type': 'C', 'lots_...</td>\n",
       "      <td>HE12</td>\n",
       "      <td>2022-10-06T10:51:08</td>\n",
       "      <td>105</td>\n",
       "      <td>C</td>\n",
       "      <td>0</td>\n",
       "    </tr>\n",
       "    <tr>\n",
       "      <th>1</th>\n",
       "      <td>[{'total_lots': '583', 'lot_type': 'C', 'lots_...</td>\n",
       "      <td>HLM</td>\n",
       "      <td>2022-10-06T10:50:55</td>\n",
       "      <td>583</td>\n",
       "      <td>C</td>\n",
       "      <td>83</td>\n",
       "    </tr>\n",
       "    <tr>\n",
       "      <th>2</th>\n",
       "      <td>[{'total_lots': '329', 'lot_type': 'C', 'lots_...</td>\n",
       "      <td>RHM</td>\n",
       "      <td>2022-10-06T10:51:08</td>\n",
       "      <td>329</td>\n",
       "      <td>C</td>\n",
       "      <td>156</td>\n",
       "    </tr>\n",
       "    <tr>\n",
       "      <th>3</th>\n",
       "      <td>[{'total_lots': '97', 'lot_type': 'C', 'lots_a...</td>\n",
       "      <td>BM29</td>\n",
       "      <td>2022-10-06T10:50:50</td>\n",
       "      <td>97</td>\n",
       "      <td>C</td>\n",
       "      <td>0</td>\n",
       "    </tr>\n",
       "    <tr>\n",
       "      <th>4</th>\n",
       "      <td>[{'total_lots': '96', 'lot_type': 'C', 'lots_a...</td>\n",
       "      <td>Q81</td>\n",
       "      <td>2022-10-06T10:51:00</td>\n",
       "      <td>96</td>\n",
       "      <td>C</td>\n",
       "      <td>0</td>\n",
       "    </tr>\n",
       "    <tr>\n",
       "      <th>...</th>\n",
       "      <td>...</td>\n",
       "      <td>...</td>\n",
       "      <td>...</td>\n",
       "      <td>...</td>\n",
       "      <td>...</td>\n",
       "      <td>...</td>\n",
       "    </tr>\n",
       "    <tr>\n",
       "      <th>1963</th>\n",
       "      <td>[{'total_lots': '679', 'lot_type': 'C', 'lots_...</td>\n",
       "      <td>B65M</td>\n",
       "      <td>2022-10-06T10:49:55</td>\n",
       "      <td>679</td>\n",
       "      <td>C</td>\n",
       "      <td>501</td>\n",
       "    </tr>\n",
       "    <tr>\n",
       "      <th>1964</th>\n",
       "      <td>[{'total_lots': '5', 'lot_type': 'C', 'lots_av...</td>\n",
       "      <td>B65L</td>\n",
       "      <td>2022-10-06T10:49:55</td>\n",
       "      <td>5</td>\n",
       "      <td>C</td>\n",
       "      <td>0</td>\n",
       "    </tr>\n",
       "    <tr>\n",
       "      <th>1965</th>\n",
       "      <td>[{'total_lots': '306', 'lot_type': 'C', 'lots_...</td>\n",
       "      <td>BE3</td>\n",
       "      <td>2022-10-06T10:48:57</td>\n",
       "      <td>306</td>\n",
       "      <td>C</td>\n",
       "      <td>177</td>\n",
       "    </tr>\n",
       "    <tr>\n",
       "      <th>1966</th>\n",
       "      <td>[{'total_lots': '195', 'lot_type': 'C', 'lots_...</td>\n",
       "      <td>BE3R</td>\n",
       "      <td>2022-10-06T10:48:57</td>\n",
       "      <td>195</td>\n",
       "      <td>C</td>\n",
       "      <td>94</td>\n",
       "    </tr>\n",
       "    <tr>\n",
       "      <th>1967</th>\n",
       "      <td>[{'total_lots': '249', 'lot_type': 'C', 'lots_...</td>\n",
       "      <td>B8B</td>\n",
       "      <td>2022-10-06T10:50:19</td>\n",
       "      <td>249</td>\n",
       "      <td>C</td>\n",
       "      <td>153</td>\n",
       "    </tr>\n",
       "  </tbody>\n",
       "</table>\n",
       "<p>1968 rows × 6 columns</p>\n",
       "</div>"
      ],
      "text/plain": [
       "                                           carpark_info carpark_number  \\\n",
       "0     [{'total_lots': '105', 'lot_type': 'C', 'lots_...           HE12   \n",
       "1     [{'total_lots': '583', 'lot_type': 'C', 'lots_...            HLM   \n",
       "2     [{'total_lots': '329', 'lot_type': 'C', 'lots_...            RHM   \n",
       "3     [{'total_lots': '97', 'lot_type': 'C', 'lots_a...           BM29   \n",
       "4     [{'total_lots': '96', 'lot_type': 'C', 'lots_a...            Q81   \n",
       "...                                                 ...            ...   \n",
       "1963  [{'total_lots': '679', 'lot_type': 'C', 'lots_...           B65M   \n",
       "1964  [{'total_lots': '5', 'lot_type': 'C', 'lots_av...           B65L   \n",
       "1965  [{'total_lots': '306', 'lot_type': 'C', 'lots_...            BE3   \n",
       "1966  [{'total_lots': '195', 'lot_type': 'C', 'lots_...           BE3R   \n",
       "1967  [{'total_lots': '249', 'lot_type': 'C', 'lots_...            B8B   \n",
       "\n",
       "          update_datetime total_lots lot_type lot_available  \n",
       "0     2022-10-06T10:51:08        105        C             0  \n",
       "1     2022-10-06T10:50:55        583        C            83  \n",
       "2     2022-10-06T10:51:08        329        C           156  \n",
       "3     2022-10-06T10:50:50         97        C             0  \n",
       "4     2022-10-06T10:51:00         96        C             0  \n",
       "...                   ...        ...      ...           ...  \n",
       "1963  2022-10-06T10:49:55        679        C           501  \n",
       "1964  2022-10-06T10:49:55          5        C             0  \n",
       "1965  2022-10-06T10:48:57        306        C           177  \n",
       "1966  2022-10-06T10:48:57        195        C            94  \n",
       "1967  2022-10-06T10:50:19        249        C           153  \n",
       "\n",
       "[1968 rows x 6 columns]"
      ]
     },
     "execution_count": 10,
     "metadata": {},
     "output_type": "execute_result"
    }
   ],
   "source": [
    "df[\"total_lots\"] = total_lots\n",
    "df[\"lot_type\"] = lot_type_list\n",
    "df[\"lot_available\"] = lot_available_list\n",
    "\n",
    "df"
   ]
  },
  {
   "cell_type": "code",
   "execution_count": 7,
   "metadata": {},
   "outputs": [
    {
     "data": {
      "text/html": [
       "<div>\n",
       "<style scoped>\n",
       "    .dataframe tbody tr th:only-of-type {\n",
       "        vertical-align: middle;\n",
       "    }\n",
       "\n",
       "    .dataframe tbody tr th {\n",
       "        vertical-align: top;\n",
       "    }\n",
       "\n",
       "    .dataframe thead th {\n",
       "        text-align: right;\n",
       "    }\n",
       "</style>\n",
       "<table border=\"1\" class=\"dataframe\">\n",
       "  <thead>\n",
       "    <tr style=\"text-align: right;\">\n",
       "      <th></th>\n",
       "      <th>car_park_no</th>\n",
       "      <th>address</th>\n",
       "      <th>x_coord</th>\n",
       "      <th>y_coord</th>\n",
       "      <th>car_park_type</th>\n",
       "      <th>type_of_parking_system</th>\n",
       "      <th>short_term_parking</th>\n",
       "      <th>free_parking</th>\n",
       "      <th>night_parking</th>\n",
       "      <th>car_park_decks</th>\n",
       "      <th>gantry_height</th>\n",
       "      <th>car_park_basement</th>\n",
       "    </tr>\n",
       "  </thead>\n",
       "  <tbody>\n",
       "    <tr>\n",
       "      <th>0</th>\n",
       "      <td>ACB</td>\n",
       "      <td>BLK 270/271 ALBERT CENTRE BASEMENT CAR PARK</td>\n",
       "      <td>30314.7936</td>\n",
       "      <td>31490.4942</td>\n",
       "      <td>BASEMENT CAR PARK</td>\n",
       "      <td>ELECTRONIC PARKING</td>\n",
       "      <td>WHOLE DAY</td>\n",
       "      <td>NO</td>\n",
       "      <td>YES</td>\n",
       "      <td>1</td>\n",
       "      <td>1.80</td>\n",
       "      <td>Y</td>\n",
       "    </tr>\n",
       "    <tr>\n",
       "      <th>1</th>\n",
       "      <td>ACM</td>\n",
       "      <td>BLK 98A ALJUNIED CRESCENT</td>\n",
       "      <td>33758.4143</td>\n",
       "      <td>33695.5198</td>\n",
       "      <td>MULTI-STOREY CAR PARK</td>\n",
       "      <td>ELECTRONIC PARKING</td>\n",
       "      <td>WHOLE DAY</td>\n",
       "      <td>SUN &amp; PH FR 7AM-10.30PM</td>\n",
       "      <td>YES</td>\n",
       "      <td>5</td>\n",
       "      <td>2.10</td>\n",
       "      <td>N</td>\n",
       "    </tr>\n",
       "    <tr>\n",
       "      <th>2</th>\n",
       "      <td>AH1</td>\n",
       "      <td>BLK 101 JALAN DUSUN</td>\n",
       "      <td>29257.7203</td>\n",
       "      <td>34500.3599</td>\n",
       "      <td>SURFACE CAR PARK</td>\n",
       "      <td>ELECTRONIC PARKING</td>\n",
       "      <td>WHOLE DAY</td>\n",
       "      <td>SUN &amp; PH FR 7AM-10.30PM</td>\n",
       "      <td>YES</td>\n",
       "      <td>0</td>\n",
       "      <td>0.00</td>\n",
       "      <td>N</td>\n",
       "    </tr>\n",
       "    <tr>\n",
       "      <th>3</th>\n",
       "      <td>AK19</td>\n",
       "      <td>BLOCK 253 ANG MO KIO STREET 21</td>\n",
       "      <td>28185.4359</td>\n",
       "      <td>39012.6664</td>\n",
       "      <td>SURFACE CAR PARK</td>\n",
       "      <td>COUPON PARKING</td>\n",
       "      <td>7AM-7PM</td>\n",
       "      <td>NO</td>\n",
       "      <td>NO</td>\n",
       "      <td>0</td>\n",
       "      <td>0.00</td>\n",
       "      <td>N</td>\n",
       "    </tr>\n",
       "    <tr>\n",
       "      <th>4</th>\n",
       "      <td>AK31</td>\n",
       "      <td>BLK 302/348 ANG MO KIO ST 31</td>\n",
       "      <td>29482.0290</td>\n",
       "      <td>38684.1754</td>\n",
       "      <td>SURFACE CAR PARK</td>\n",
       "      <td>COUPON PARKING</td>\n",
       "      <td>NO</td>\n",
       "      <td>NO</td>\n",
       "      <td>NO</td>\n",
       "      <td>0</td>\n",
       "      <td>0.00</td>\n",
       "      <td>N</td>\n",
       "    </tr>\n",
       "    <tr>\n",
       "      <th>...</th>\n",
       "      <td>...</td>\n",
       "      <td>...</td>\n",
       "      <td>...</td>\n",
       "      <td>...</td>\n",
       "      <td>...</td>\n",
       "      <td>...</td>\n",
       "      <td>...</td>\n",
       "      <td>...</td>\n",
       "      <td>...</td>\n",
       "      <td>...</td>\n",
       "      <td>...</td>\n",
       "      <td>...</td>\n",
       "    </tr>\n",
       "    <tr>\n",
       "      <th>2177</th>\n",
       "      <td>Y77M</td>\n",
       "      <td>BLK 461 YISHUN AVENUE 6</td>\n",
       "      <td>29850.1522</td>\n",
       "      <td>45576.0125</td>\n",
       "      <td>MULTI-STOREY CAR PARK</td>\n",
       "      <td>ELECTRONIC PARKING</td>\n",
       "      <td>WHOLE DAY</td>\n",
       "      <td>SUN &amp; PH FR 7AM-10.30PM</td>\n",
       "      <td>YES</td>\n",
       "      <td>10</td>\n",
       "      <td>2.15</td>\n",
       "      <td>N</td>\n",
       "    </tr>\n",
       "    <tr>\n",
       "      <th>2178</th>\n",
       "      <td>Y78M</td>\n",
       "      <td>BLK 468 YISHUN ST 43</td>\n",
       "      <td>30057.2209</td>\n",
       "      <td>45166.4820</td>\n",
       "      <td>MULTI-STOREY CAR PARK</td>\n",
       "      <td>ELECTRONIC PARKING</td>\n",
       "      <td>WHOLE DAY</td>\n",
       "      <td>SUN &amp; PH FR 7AM-10.30PM</td>\n",
       "      <td>YES</td>\n",
       "      <td>4</td>\n",
       "      <td>2.15</td>\n",
       "      <td>N</td>\n",
       "    </tr>\n",
       "    <tr>\n",
       "      <th>2179</th>\n",
       "      <td>Y8</td>\n",
       "      <td>BLK 731/746 YISHUN STREET 71,72/AVENUE 5</td>\n",
       "      <td>27772.9219</td>\n",
       "      <td>45686.2734</td>\n",
       "      <td>SURFACE CAR PARK</td>\n",
       "      <td>ELECTRONIC PARKING</td>\n",
       "      <td>WHOLE DAY</td>\n",
       "      <td>SUN &amp; PH FR 7AM-10.30PM</td>\n",
       "      <td>YES</td>\n",
       "      <td>0</td>\n",
       "      <td>4.50</td>\n",
       "      <td>N</td>\n",
       "    </tr>\n",
       "    <tr>\n",
       "      <th>2180</th>\n",
       "      <td>Y82M</td>\n",
       "      <td>BLK 478 YISHUN ST 42</td>\n",
       "      <td>29935.5818</td>\n",
       "      <td>45679.7181</td>\n",
       "      <td>MULTI-STOREY CAR PARK</td>\n",
       "      <td>ELECTRONIC PARKING</td>\n",
       "      <td>WHOLE DAY</td>\n",
       "      <td>SUN &amp; PH FR 7AM-10.30PM</td>\n",
       "      <td>YES</td>\n",
       "      <td>11</td>\n",
       "      <td>2.15</td>\n",
       "      <td>N</td>\n",
       "    </tr>\n",
       "    <tr>\n",
       "      <th>2181</th>\n",
       "      <td>Y9</td>\n",
       "      <td>BLK 747/752 YISHUN STREET 72</td>\n",
       "      <td>28077.2305</td>\n",
       "      <td>45507.8047</td>\n",
       "      <td>SURFACE CAR PARK</td>\n",
       "      <td>ELECTRONIC PARKING</td>\n",
       "      <td>WHOLE DAY</td>\n",
       "      <td>SUN &amp; PH FR 7AM-10.30PM</td>\n",
       "      <td>YES</td>\n",
       "      <td>0</td>\n",
       "      <td>4.50</td>\n",
       "      <td>N</td>\n",
       "    </tr>\n",
       "  </tbody>\n",
       "</table>\n",
       "<p>2182 rows × 12 columns</p>\n",
       "</div>"
      ],
      "text/plain": [
       "     car_park_no                                      address     x_coord  \\\n",
       "0            ACB  BLK 270/271 ALBERT CENTRE BASEMENT CAR PARK  30314.7936   \n",
       "1            ACM                    BLK 98A ALJUNIED CRESCENT  33758.4143   \n",
       "2            AH1                          BLK 101 JALAN DUSUN  29257.7203   \n",
       "3           AK19               BLOCK 253 ANG MO KIO STREET 21  28185.4359   \n",
       "4           AK31                 BLK 302/348 ANG MO KIO ST 31  29482.0290   \n",
       "...          ...                                          ...         ...   \n",
       "2177        Y77M                      BLK 461 YISHUN AVENUE 6  29850.1522   \n",
       "2178        Y78M                         BLK 468 YISHUN ST 43  30057.2209   \n",
       "2179          Y8     BLK 731/746 YISHUN STREET 71,72/AVENUE 5  27772.9219   \n",
       "2180        Y82M                         BLK 478 YISHUN ST 42  29935.5818   \n",
       "2181          Y9                 BLK 747/752 YISHUN STREET 72  28077.2305   \n",
       "\n",
       "         y_coord          car_park_type type_of_parking_system  \\\n",
       "0     31490.4942      BASEMENT CAR PARK     ELECTRONIC PARKING   \n",
       "1     33695.5198  MULTI-STOREY CAR PARK     ELECTRONIC PARKING   \n",
       "2     34500.3599       SURFACE CAR PARK     ELECTRONIC PARKING   \n",
       "3     39012.6664       SURFACE CAR PARK         COUPON PARKING   \n",
       "4     38684.1754       SURFACE CAR PARK         COUPON PARKING   \n",
       "...          ...                    ...                    ...   \n",
       "2177  45576.0125  MULTI-STOREY CAR PARK     ELECTRONIC PARKING   \n",
       "2178  45166.4820  MULTI-STOREY CAR PARK     ELECTRONIC PARKING   \n",
       "2179  45686.2734       SURFACE CAR PARK     ELECTRONIC PARKING   \n",
       "2180  45679.7181  MULTI-STOREY CAR PARK     ELECTRONIC PARKING   \n",
       "2181  45507.8047       SURFACE CAR PARK     ELECTRONIC PARKING   \n",
       "\n",
       "     short_term_parking             free_parking night_parking  \\\n",
       "0             WHOLE DAY                       NO           YES   \n",
       "1             WHOLE DAY  SUN & PH FR 7AM-10.30PM           YES   \n",
       "2             WHOLE DAY  SUN & PH FR 7AM-10.30PM           YES   \n",
       "3               7AM-7PM                       NO            NO   \n",
       "4                    NO                       NO            NO   \n",
       "...                 ...                      ...           ...   \n",
       "2177          WHOLE DAY  SUN & PH FR 7AM-10.30PM           YES   \n",
       "2178          WHOLE DAY  SUN & PH FR 7AM-10.30PM           YES   \n",
       "2179          WHOLE DAY  SUN & PH FR 7AM-10.30PM           YES   \n",
       "2180          WHOLE DAY  SUN & PH FR 7AM-10.30PM           YES   \n",
       "2181          WHOLE DAY  SUN & PH FR 7AM-10.30PM           YES   \n",
       "\n",
       "      car_park_decks  gantry_height car_park_basement  \n",
       "0                  1           1.80                 Y  \n",
       "1                  5           2.10                 N  \n",
       "2                  0           0.00                 N  \n",
       "3                  0           0.00                 N  \n",
       "4                  0           0.00                 N  \n",
       "...              ...            ...               ...  \n",
       "2177              10           2.15                 N  \n",
       "2178               4           2.15                 N  \n",
       "2179               0           4.50                 N  \n",
       "2180              11           2.15                 N  \n",
       "2181               0           4.50                 N  \n",
       "\n",
       "[2182 rows x 12 columns]"
      ]
     },
     "execution_count": 7,
     "metadata": {},
     "output_type": "execute_result"
    }
   ],
   "source": [
    "read_carpark_information = pd.read_csv(\"hdb-carpark-information.csv\")\n",
    "read_carpark_information"
   ]
  },
  {
   "cell_type": "code",
   "execution_count": 8,
   "metadata": {},
   "outputs": [],
   "source": [
    "# the carparks which are not functioning in here are \n",
    "\n",
    "listOfNotFunctioningCarParks = list(set(read_carpark_information.car_park_no)-set(df.carpark_number))"
   ]
  },
  {
   "cell_type": "code",
   "execution_count": 9,
   "metadata": {},
   "outputs": [
    {
     "data": {
      "text/plain": [
       "['HG65',\n",
       " 'Q52',\n",
       " 'PL72',\n",
       " 'SE30',\n",
       " 'TBK',\n",
       " 'TB27',\n",
       " 'HG66',\n",
       " 'KM5',\n",
       " 'PL76',\n",
       " 'BE21',\n",
       " 'SE7',\n",
       " 'UBA4',\n",
       " 'B6M',\n",
       " 'TY1',\n",
       " 'TE28',\n",
       " 'B12',\n",
       " 'C28',\n",
       " 'A89',\n",
       " 'BJ22',\n",
       " 'GE1D',\n",
       " 'A86',\n",
       " 'A23',\n",
       " 'J69M',\n",
       " 'A56',\n",
       " 'W799',\n",
       " 'Q72',\n",
       " 'BL9',\n",
       " 'THM',\n",
       " 'C41',\n",
       " 'A83',\n",
       " 'M34',\n",
       " 'W99',\n",
       " 'B78',\n",
       " 'SB14',\n",
       " 'AK19',\n",
       " 'B87',\n",
       " 'EC5',\n",
       " 'B50B',\n",
       " 'BL21',\n",
       " 'MP20',\n",
       " 'C39',\n",
       " 'Q57',\n",
       " 'S47L',\n",
       " 'TWM5',\n",
       " 'BM27',\n",
       " 'TE30',\n",
       " 'B82',\n",
       " 'W525',\n",
       " 'H42A',\n",
       " 'SMML',\n",
       " 'AK52',\n",
       " 'Q99',\n",
       " 'H6M',\n",
       " 'SD10',\n",
       " 'Q51',\n",
       " 'TE29',\n",
       " 'H87L',\n",
       " 'BM36',\n",
       " 'BBM6',\n",
       " 'BE24',\n",
       " 'MP6S',\n",
       " 'SE4S',\n",
       " 'HG83',\n",
       " 'TE24',\n",
       " 'B24A',\n",
       " 'U20',\n",
       " 'BJ5',\n",
       " 'PR9',\n",
       " 'HG84',\n",
       " 'CK4A',\n",
       " 'CV4',\n",
       " 'SE54',\n",
       " 'Q65A',\n",
       " 'TP39',\n",
       " 'U41A',\n",
       " 'J58',\n",
       " 'TE26',\n",
       " 'HG57',\n",
       " 'BE20',\n",
       " 'PM1',\n",
       " 'PRM1',\n",
       " 'Q14',\n",
       " 'AK31',\n",
       " 'W62',\n",
       " 'BE17',\n",
       " 'K9',\n",
       " 'SM6',\n",
       " 'CK5',\n",
       " 'A57',\n",
       " 'K3T',\n",
       " 'M28',\n",
       " 'TP8A',\n",
       " 'U14',\n",
       " 'TY2',\n",
       " 'TE27',\n",
       " 'HG26',\n",
       " 'Q95',\n",
       " 'W519',\n",
       " 'UA6',\n",
       " 'U59',\n",
       " 'BBM4',\n",
       " 'AK9',\n",
       " 'B44A',\n",
       " 'S45A',\n",
       " 'EC7T',\n",
       " 'TJ18',\n",
       " 'U53',\n",
       " 'A58',\n",
       " 'K21',\n",
       " 'Q55',\n",
       " 'J42',\n",
       " 'BJ6',\n",
       " 'SM8',\n",
       " 'SI5',\n",
       " 'S112',\n",
       " 'TE21',\n",
       " 'U49',\n",
       " 'TP59',\n",
       " 'AK83',\n",
       " 'B6T',\n",
       " 'W521',\n",
       " 'Q93',\n",
       " 'S43L',\n",
       " 'PL74',\n",
       " 'MM5',\n",
       " 'BR18',\n",
       " 'Q92',\n",
       " 'S69A',\n",
       " 'Q49',\n",
       " 'Q15',\n",
       " 'SM5',\n",
       " 'HG3C',\n",
       " 'B50A',\n",
       " 'PL82',\n",
       " 'GM1B',\n",
       " 'W29',\n",
       " 'Q58',\n",
       " 'TP65',\n",
       " 'W47',\n",
       " 'HG3A',\n",
       " 'BE16',\n",
       " 'P77L',\n",
       " 'PL73',\n",
       " 'UCS',\n",
       " 'HG63',\n",
       " 'BM12',\n",
       " 'SM2',\n",
       " 'HDBH',\n",
       " 'TBM9',\n",
       " 'HG72',\n",
       " 'AV2',\n",
       " 'TE22',\n",
       " 'Y69L',\n",
       " 'SR2',\n",
       " 'BR21',\n",
       " 'BJ59',\n",
       " 'J30',\n",
       " 'BE15',\n",
       " 'BJ70',\n",
       " 'TP32',\n",
       " 'A30A',\n",
       " 'Y67',\n",
       " 'Y14A',\n",
       " 'AK6',\n",
       " 'TP66',\n",
       " 'HG81',\n",
       " 'Q97',\n",
       " 'S101',\n",
       " 'T56',\n",
       " 'A99',\n",
       " 'J21A',\n",
       " 'U62',\n",
       " 'Y16A',\n",
       " 'CR5',\n",
       " 'Q59',\n",
       " 'BR22',\n",
       " 'Q48',\n",
       " 'B13',\n",
       " 'PL63',\n",
       " 'SE1R',\n",
       " 'B68',\n",
       " 'SL2',\n",
       " 'TP33',\n",
       " 'H11',\n",
       " 'Y4T',\n",
       " 'TP56',\n",
       " 'T54',\n",
       " 'KU5',\n",
       " 'B76',\n",
       " 'HE22',\n",
       " 'TJ40',\n",
       " 'W63',\n",
       " 'A95',\n",
       " 'UA4',\n",
       " 'HG58',\n",
       " 'Q5S',\n",
       " 'CK26',\n",
       " 'W23T',\n",
       " 'SE4',\n",
       " 'T33',\n",
       " 'K22',\n",
       " 'HG85',\n",
       " 'U61',\n",
       " 'SE4T',\n",
       " 'CR4',\n",
       " 'Y22',\n",
       " 'SI3',\n",
       " 'BRM2',\n",
       " 'W97',\n",
       " 'A55',\n",
       " 'PL64',\n",
       " 'BA5',\n",
       " 'FR2S',\n",
       " 'SE2',\n",
       " 'SE3',\n",
       " 'U16',\n",
       " 'A90',\n",
       " 'PL83',\n",
       " 'Q4',\n",
       " 'P76L',\n",
       " 'BL20',\n",
       " 'TY3T',\n",
       " 'W523',\n",
       " 'KB6',\n",
       " 'SI14',\n",
       " 'JMS',\n",
       " 'TP61',\n",
       " 'MR3',\n",
       " 'MP6M',\n",
       " 'PDL1',\n",
       " 'BM33',\n",
       " 'HG82',\n",
       " 'SE6',\n",
       " 'TP64',\n",
       " 'H15',\n",
       " 'Y47',\n",
       " 'SRS',\n",
       " 'Y72M',\n",
       " 'HG40',\n",
       " 'J28',\n",
       " 'A31A',\n",
       " 'W16',\n",
       " 'J13',\n",
       " 'Q2A',\n",
       " 'H3BL',\n",
       " 'TE9',\n",
       " 'TE23',\n",
       " 'A1',\n",
       " 'PL81',\n",
       " 'M29',\n",
       " 'Y37',\n",
       " 'B77',\n",
       " 'PLB1',\n",
       " 'TY4',\n",
       " 'PR5',\n",
       " 'Q30',\n",
       " 'CKK1',\n",
       " 'TJ1K',\n",
       " 'SR1',\n",
       " 'H3DL',\n",
       " 'TB29',\n",
       " 'B93',\n",
       " 'KAB',\n",
       " 'GE1E',\n",
       " 'PL80',\n",
       " 'W60',\n",
       " 'PR11',\n",
       " 'SL1',\n",
       " 'TP57',\n",
       " 'Y30',\n",
       " 'Q5A',\n",
       " 'HE14',\n",
       " 'HG59',\n",
       " 'CCM',\n",
       " 'Q98',\n",
       " 'Y21A',\n",
       " 'A52L',\n",
       " 'S45L',\n",
       " 'SK1K',\n",
       " 'EI1']"
      ]
     },
     "execution_count": 9,
     "metadata": {},
     "output_type": "execute_result"
    }
   ],
   "source": [
    "listOfNotFunctioningCarParks\n"
   ]
  },
  {
   "cell_type": "code",
   "execution_count": null,
   "metadata": {},
   "outputs": [],
   "source": []
  },
  {
   "cell_type": "code",
   "execution_count": 37,
   "metadata": {},
   "outputs": [
    {
     "name": "stdout",
     "output_type": "stream",
     "text": [
      "1.4293855415778633 103.85411915193517\n"
     ]
    },
    {
     "name": "stderr",
     "output_type": "stream",
     "text": [
      "/Users/rachpradhan/miniforge3/lib/python3.10/site-packages/pyproj/crs/crs.py:141: FutureWarning:\n",
      "\n",
      "'+init=<authority>:<code>' syntax is deprecated. '<authority>:<code>' is the preferred initialization method. When making the change, be mindful of axis order changes: https://pyproj4.github.io/pyproj/stable/gotchas.html#axis-order-changes-in-proj-6\n",
      "\n",
      "/var/folders/w5/1_mwqqd55vj_rsgs8492g7n00000gn/T/ipykernel_1744/1592087966.py:6: DeprecationWarning:\n",
      "\n",
      "This function is deprecated. See: https://pyproj4.github.io/pyproj/stable/gotchas.html#upgrading-to-pyproj-2-from-pyproj-1\n",
      "\n",
      "/var/folders/w5/1_mwqqd55vj_rsgs8492g7n00000gn/T/ipykernel_1744/1592087966.py:12: DeprecationWarning:\n",
      "\n",
      "This function is deprecated. See: https://pyproj4.github.io/pyproj/stable/gotchas.html#upgrading-to-pyproj-2-from-pyproj-1\n",
      "\n"
     ]
    },
    {
     "data": {
      "text/html": [
       "<div>\n",
       "<style scoped>\n",
       "    .dataframe tbody tr th:only-of-type {\n",
       "        vertical-align: middle;\n",
       "    }\n",
       "\n",
       "    .dataframe tbody tr th {\n",
       "        vertical-align: top;\n",
       "    }\n",
       "\n",
       "    .dataframe thead th {\n",
       "        text-align: right;\n",
       "    }\n",
       "</style>\n",
       "<table border=\"1\" class=\"dataframe\">\n",
       "  <thead>\n",
       "    <tr style=\"text-align: right;\">\n",
       "      <th></th>\n",
       "      <th>car_park_no</th>\n",
       "      <th>address</th>\n",
       "      <th>x_coord</th>\n",
       "      <th>y_coord</th>\n",
       "      <th>car_park_type</th>\n",
       "      <th>type_of_parking_system</th>\n",
       "      <th>short_term_parking</th>\n",
       "      <th>free_parking</th>\n",
       "      <th>night_parking</th>\n",
       "      <th>car_park_decks</th>\n",
       "      <th>gantry_height</th>\n",
       "      <th>car_park_basement</th>\n",
       "      <th>latitude</th>\n",
       "      <th>longitude</th>\n",
       "    </tr>\n",
       "  </thead>\n",
       "  <tbody>\n",
       "    <tr>\n",
       "      <th>0</th>\n",
       "      <td>ACB</td>\n",
       "      <td>BLK 270/271 ALBERT CENTRE BASEMENT CAR PARK</td>\n",
       "      <td>30314.7936</td>\n",
       "      <td>31490.4942</td>\n",
       "      <td>BASEMENT CAR PARK</td>\n",
       "      <td>ELECTRONIC PARKING</td>\n",
       "      <td>WHOLE DAY</td>\n",
       "      <td>NO</td>\n",
       "      <td>YES</td>\n",
       "      <td>1</td>\n",
       "      <td>1.80</td>\n",
       "      <td>Y</td>\n",
       "      <td>1.301063</td>\n",
       "      <td>103.854118</td>\n",
       "    </tr>\n",
       "    <tr>\n",
       "      <th>1</th>\n",
       "      <td>ACM</td>\n",
       "      <td>BLK 98A ALJUNIED CRESCENT</td>\n",
       "      <td>33758.4143</td>\n",
       "      <td>33695.5198</td>\n",
       "      <td>MULTI-STOREY CAR PARK</td>\n",
       "      <td>ELECTRONIC PARKING</td>\n",
       "      <td>WHOLE DAY</td>\n",
       "      <td>SUN &amp; PH FR 7AM-10.30PM</td>\n",
       "      <td>YES</td>\n",
       "      <td>5</td>\n",
       "      <td>2.10</td>\n",
       "      <td>N</td>\n",
       "      <td>1.321004</td>\n",
       "      <td>103.885061</td>\n",
       "    </tr>\n",
       "    <tr>\n",
       "      <th>2</th>\n",
       "      <td>AH1</td>\n",
       "      <td>BLK 101 JALAN DUSUN</td>\n",
       "      <td>29257.7203</td>\n",
       "      <td>34500.3599</td>\n",
       "      <td>SURFACE CAR PARK</td>\n",
       "      <td>ELECTRONIC PARKING</td>\n",
       "      <td>WHOLE DAY</td>\n",
       "      <td>SUN &amp; PH FR 7AM-10.30PM</td>\n",
       "      <td>YES</td>\n",
       "      <td>0</td>\n",
       "      <td>0.00</td>\n",
       "      <td>N</td>\n",
       "      <td>1.328283</td>\n",
       "      <td>103.844620</td>\n",
       "    </tr>\n",
       "    <tr>\n",
       "      <th>3</th>\n",
       "      <td>AK19</td>\n",
       "      <td>BLOCK 253 ANG MO KIO STREET 21</td>\n",
       "      <td>28185.4359</td>\n",
       "      <td>39012.6664</td>\n",
       "      <td>SURFACE CAR PARK</td>\n",
       "      <td>COUPON PARKING</td>\n",
       "      <td>7AM-7PM</td>\n",
       "      <td>NO</td>\n",
       "      <td>NO</td>\n",
       "      <td>0</td>\n",
       "      <td>0.00</td>\n",
       "      <td>N</td>\n",
       "      <td>1.369091</td>\n",
       "      <td>103.834985</td>\n",
       "    </tr>\n",
       "    <tr>\n",
       "      <th>4</th>\n",
       "      <td>AK31</td>\n",
       "      <td>BLK 302/348 ANG MO KIO ST 31</td>\n",
       "      <td>29482.0290</td>\n",
       "      <td>38684.1754</td>\n",
       "      <td>SURFACE CAR PARK</td>\n",
       "      <td>COUPON PARKING</td>\n",
       "      <td>NO</td>\n",
       "      <td>NO</td>\n",
       "      <td>NO</td>\n",
       "      <td>0</td>\n",
       "      <td>0.00</td>\n",
       "      <td>N</td>\n",
       "      <td>1.366120</td>\n",
       "      <td>103.846636</td>\n",
       "    </tr>\n",
       "    <tr>\n",
       "      <th>...</th>\n",
       "      <td>...</td>\n",
       "      <td>...</td>\n",
       "      <td>...</td>\n",
       "      <td>...</td>\n",
       "      <td>...</td>\n",
       "      <td>...</td>\n",
       "      <td>...</td>\n",
       "      <td>...</td>\n",
       "      <td>...</td>\n",
       "      <td>...</td>\n",
       "      <td>...</td>\n",
       "      <td>...</td>\n",
       "      <td>...</td>\n",
       "      <td>...</td>\n",
       "    </tr>\n",
       "    <tr>\n",
       "      <th>2177</th>\n",
       "      <td>Y77M</td>\n",
       "      <td>BLK 461 YISHUN AVENUE 6</td>\n",
       "      <td>29850.1522</td>\n",
       "      <td>45576.0125</td>\n",
       "      <td>MULTI-STOREY CAR PARK</td>\n",
       "      <td>ELECTRONIC PARKING</td>\n",
       "      <td>WHOLE DAY</td>\n",
       "      <td>SUN &amp; PH FR 7AM-10.30PM</td>\n",
       "      <td>YES</td>\n",
       "      <td>10</td>\n",
       "      <td>2.15</td>\n",
       "      <td>N</td>\n",
       "      <td>1.428448</td>\n",
       "      <td>103.849944</td>\n",
       "    </tr>\n",
       "    <tr>\n",
       "      <th>2178</th>\n",
       "      <td>Y78M</td>\n",
       "      <td>BLK 468 YISHUN ST 43</td>\n",
       "      <td>30057.2209</td>\n",
       "      <td>45166.4820</td>\n",
       "      <td>MULTI-STOREY CAR PARK</td>\n",
       "      <td>ELECTRONIC PARKING</td>\n",
       "      <td>WHOLE DAY</td>\n",
       "      <td>SUN &amp; PH FR 7AM-10.30PM</td>\n",
       "      <td>YES</td>\n",
       "      <td>4</td>\n",
       "      <td>2.15</td>\n",
       "      <td>N</td>\n",
       "      <td>1.424744</td>\n",
       "      <td>103.851805</td>\n",
       "    </tr>\n",
       "    <tr>\n",
       "      <th>2179</th>\n",
       "      <td>Y8</td>\n",
       "      <td>BLK 731/746 YISHUN STREET 71,72/AVENUE 5</td>\n",
       "      <td>27772.9219</td>\n",
       "      <td>45686.2734</td>\n",
       "      <td>SURFACE CAR PARK</td>\n",
       "      <td>ELECTRONIC PARKING</td>\n",
       "      <td>WHOLE DAY</td>\n",
       "      <td>SUN &amp; PH FR 7AM-10.30PM</td>\n",
       "      <td>YES</td>\n",
       "      <td>0</td>\n",
       "      <td>4.50</td>\n",
       "      <td>N</td>\n",
       "      <td>1.429445</td>\n",
       "      <td>103.831278</td>\n",
       "    </tr>\n",
       "    <tr>\n",
       "      <th>2180</th>\n",
       "      <td>Y82M</td>\n",
       "      <td>BLK 478 YISHUN ST 42</td>\n",
       "      <td>29935.5818</td>\n",
       "      <td>45679.7181</td>\n",
       "      <td>MULTI-STOREY CAR PARK</td>\n",
       "      <td>ELECTRONIC PARKING</td>\n",
       "      <td>WHOLE DAY</td>\n",
       "      <td>SUN &amp; PH FR 7AM-10.30PM</td>\n",
       "      <td>YES</td>\n",
       "      <td>11</td>\n",
       "      <td>2.15</td>\n",
       "      <td>N</td>\n",
       "      <td>1.429386</td>\n",
       "      <td>103.850712</td>\n",
       "    </tr>\n",
       "    <tr>\n",
       "      <th>2181</th>\n",
       "      <td>Y9</td>\n",
       "      <td>BLK 747/752 YISHUN STREET 72</td>\n",
       "      <td>28077.2305</td>\n",
       "      <td>45507.8047</td>\n",
       "      <td>SURFACE CAR PARK</td>\n",
       "      <td>ELECTRONIC PARKING</td>\n",
       "      <td>WHOLE DAY</td>\n",
       "      <td>SUN &amp; PH FR 7AM-10.30PM</td>\n",
       "      <td>YES</td>\n",
       "      <td>0</td>\n",
       "      <td>4.50</td>\n",
       "      <td>N</td>\n",
       "      <td>1.427831</td>\n",
       "      <td>103.834013</td>\n",
       "    </tr>\n",
       "  </tbody>\n",
       "</table>\n",
       "<p>2182 rows × 14 columns</p>\n",
       "</div>"
      ],
      "text/plain": [
       "     car_park_no                                      address     x_coord  \\\n",
       "0            ACB  BLK 270/271 ALBERT CENTRE BASEMENT CAR PARK  30314.7936   \n",
       "1            ACM                    BLK 98A ALJUNIED CRESCENT  33758.4143   \n",
       "2            AH1                          BLK 101 JALAN DUSUN  29257.7203   \n",
       "3           AK19               BLOCK 253 ANG MO KIO STREET 21  28185.4359   \n",
       "4           AK31                 BLK 302/348 ANG MO KIO ST 31  29482.0290   \n",
       "...          ...                                          ...         ...   \n",
       "2177        Y77M                      BLK 461 YISHUN AVENUE 6  29850.1522   \n",
       "2178        Y78M                         BLK 468 YISHUN ST 43  30057.2209   \n",
       "2179          Y8     BLK 731/746 YISHUN STREET 71,72/AVENUE 5  27772.9219   \n",
       "2180        Y82M                         BLK 478 YISHUN ST 42  29935.5818   \n",
       "2181          Y9                 BLK 747/752 YISHUN STREET 72  28077.2305   \n",
       "\n",
       "         y_coord          car_park_type type_of_parking_system  \\\n",
       "0     31490.4942      BASEMENT CAR PARK     ELECTRONIC PARKING   \n",
       "1     33695.5198  MULTI-STOREY CAR PARK     ELECTRONIC PARKING   \n",
       "2     34500.3599       SURFACE CAR PARK     ELECTRONIC PARKING   \n",
       "3     39012.6664       SURFACE CAR PARK         COUPON PARKING   \n",
       "4     38684.1754       SURFACE CAR PARK         COUPON PARKING   \n",
       "...          ...                    ...                    ...   \n",
       "2177  45576.0125  MULTI-STOREY CAR PARK     ELECTRONIC PARKING   \n",
       "2178  45166.4820  MULTI-STOREY CAR PARK     ELECTRONIC PARKING   \n",
       "2179  45686.2734       SURFACE CAR PARK     ELECTRONIC PARKING   \n",
       "2180  45679.7181  MULTI-STOREY CAR PARK     ELECTRONIC PARKING   \n",
       "2181  45507.8047       SURFACE CAR PARK     ELECTRONIC PARKING   \n",
       "\n",
       "     short_term_parking             free_parking night_parking  \\\n",
       "0             WHOLE DAY                       NO           YES   \n",
       "1             WHOLE DAY  SUN & PH FR 7AM-10.30PM           YES   \n",
       "2             WHOLE DAY  SUN & PH FR 7AM-10.30PM           YES   \n",
       "3               7AM-7PM                       NO            NO   \n",
       "4                    NO                       NO            NO   \n",
       "...                 ...                      ...           ...   \n",
       "2177          WHOLE DAY  SUN & PH FR 7AM-10.30PM           YES   \n",
       "2178          WHOLE DAY  SUN & PH FR 7AM-10.30PM           YES   \n",
       "2179          WHOLE DAY  SUN & PH FR 7AM-10.30PM           YES   \n",
       "2180          WHOLE DAY  SUN & PH FR 7AM-10.30PM           YES   \n",
       "2181          WHOLE DAY  SUN & PH FR 7AM-10.30PM           YES   \n",
       "\n",
       "      car_park_decks  gantry_height car_park_basement  latitude   longitude  \n",
       "0                  1           1.80                 Y  1.301063  103.854118  \n",
       "1                  5           2.10                 N  1.321004  103.885061  \n",
       "2                  0           0.00                 N  1.328283  103.844620  \n",
       "3                  0           0.00                 N  1.369091  103.834985  \n",
       "4                  0           0.00                 N  1.366120  103.846636  \n",
       "...              ...            ...               ...       ...         ...  \n",
       "2177              10           2.15                 N  1.428448  103.849944  \n",
       "2178               4           2.15                 N  1.424744  103.851805  \n",
       "2179               0           4.50                 N  1.429445  103.831278  \n",
       "2180              11           2.15                 N  1.429386  103.850712  \n",
       "2181               0           4.50                 N  1.427831  103.834013  \n",
       "\n",
       "[2182 rows x 14 columns]"
      ]
     },
     "execution_count": 37,
     "metadata": {},
     "output_type": "execute_result"
    }
   ],
   "source": [
    "from pyproj import Proj, transform\n",
    "inProj  = Proj(\"+init=EPSG:3414\",preserve_units=True)\n",
    "# inProj = Proj('epsg:3414')\n",
    "outProj = Proj('epsg:4326')\n",
    "x1,y1 = 30314.7936,45679.7181\n",
    "x2,y2 = transform(inProj,outProj,x1,y1)\n",
    "print (x2,y2)\n",
    "\n",
    "carparkInformation = read_carpark_information\n",
    "\n",
    "x1,y1 = carparkInformation.x_coord,carparkInformation.y_coord\n",
    "x2,y2 = transform(inProj,outProj,x1,y1)\n",
    "\n",
    "carparkInformation[\"latitude\"] = x2\n",
    "carparkInformation[\"longitude\"] = y2\n",
    "\n",
    "carparkInformation"
   ]
  },
  {
   "cell_type": "code",
   "execution_count": 38,
   "metadata": {},
   "outputs": [
    {
     "data": {
      "application/vnd.plotly.v1+json": {
       "config": {
        "plotlyServerURL": "https://plot.ly"
       },
       "data": [
        {
         "customdata": [
          [
           "BASEMENT CAR PARK",
           "NO"
          ],
          [
           "MULTI-STOREY CAR PARK",
           "SUN & PH FR 7AM-10.30PM"
          ],
          [
           "SURFACE CAR PARK",
           "SUN & PH FR 7AM-10.30PM"
          ],
          [
           "SURFACE CAR PARK",
           "NO"
          ],
          [
           "SURFACE CAR PARK",
           "NO"
          ],
          [
           "SURFACE CAR PARK",
           "NO"
          ],
          [
           "SURFACE CAR PARK",
           "SUN & PH FR 7AM-10.30PM"
          ],
          [
           "SURFACE CAR PARK",
           "NO"
          ],
          [
           "SURFACE CAR PARK",
           "NO"
          ],
          [
           "MULTI-STOREY CAR PARK",
           "NO"
          ],
          [
           "MULTI-STOREY CAR PARK",
           "SUN & PH FR 7AM-10.30PM"
          ],
          [
           "MULTI-STOREY CAR PARK",
           "NO"
          ],
          [
           "MULTI-STOREY CAR PARK",
           "SUN & PH FR 7AM-10.30PM"
          ],
          [
           "MULTI-STOREY CAR PARK",
           "SUN & PH FR 7AM-10.30PM"
          ],
          [
           "MULTI-STOREY CAR PARK",
           "SUN & PH FR 7AM-10.30PM"
          ],
          [
           "MULTI-STOREY CAR PARK",
           "NO"
          ],
          [
           "MULTI-STOREY CAR PARK",
           "SUN & PH FR 7AM-10.30PM"
          ],
          [
           "MULTI-STOREY CAR PARK",
           "NO"
          ],
          [
           "MULTI-STOREY CAR PARK",
           "SUN & PH FR 7AM-10.30PM"
          ],
          [
           "MULTI-STOREY CAR PARK",
           "SUN & PH FR 7AM-10.30PM"
          ],
          [
           "MULTI-STOREY CAR PARK",
           "SUN & PH FR 7AM-10.30PM"
          ],
          [
           "MULTI-STOREY CAR PARK",
           "SUN & PH FR 7AM-10.30PM"
          ],
          [
           "MULTI-STOREY CAR PARK",
           "SUN & PH FR 7AM-10.30PM"
          ],
          [
           "MULTI-STOREY CAR PARK",
           "SUN & PH FR 7AM-10.30PM"
          ],
          [
           "SURFACE CAR PARK",
           "NO"
          ],
          [
           "MULTI-STOREY CAR PARK",
           "SUN & PH FR 7AM-10.30PM"
          ],
          [
           "SURFACE CAR PARK",
           "NO"
          ],
          [
           "MULTI-STOREY CAR PARK",
           "SUN & PH FR 7AM-10.30PM"
          ],
          [
           "MULTI-STOREY CAR PARK",
           "SUN & PH FR 7AM-10.30PM"
          ],
          [
           "SURFACE CAR PARK",
           "NO"
          ],
          [
           "MULTI-STOREY CAR PARK",
           "SUN & PH FR 7AM-10.30PM"
          ],
          [
           "SURFACE CAR PARK",
           "SUN & PH FR 7AM-10.30PM"
          ],
          [
           "SURFACE CAR PARK",
           "NO"
          ],
          [
           "SURFACE CAR PARK",
           "NO"
          ],
          [
           "SURFACE CAR PARK",
           "SUN & PH FR 7AM-10.30PM"
          ],
          [
           "SURFACE CAR PARK",
           "SUN & PH FR 7AM-10.30PM"
          ],
          [
           "SURFACE CAR PARK",
           "NO"
          ],
          [
           "SURFACE CAR PARK",
           "SUN & PH FR 7AM-10.30PM"
          ],
          [
           "SURFACE CAR PARK",
           "SUN & PH FR 7AM-10.30PM"
          ],
          [
           "SURFACE CAR PARK",
           "SUN & PH FR 7AM-10.30PM"
          ],
          [
           "SURFACE CAR PARK",
           "SUN & PH FR 7AM-10.30PM"
          ],
          [
           "SURFACE CAR PARK",
           "SUN & PH FR 7AM-10.30PM"
          ],
          [
           "SURFACE CAR PARK",
           "SUN & PH FR 7AM-10.30PM"
          ],
          [
           "SURFACE CAR PARK",
           "SUN & PH FR 7AM-10.30PM"
          ],
          [
           "MULTI-STOREY CAR PARK",
           "SUN & PH FR 7AM-10.30PM"
          ],
          [
           "SURFACE CAR PARK",
           "SUN & PH FR 7AM-10.30PM"
          ],
          [
           "SURFACE CAR PARK",
           "SUN & PH FR 7AM-10.30PM"
          ],
          [
           "SURFACE CAR PARK",
           "SUN & PH FR 7AM-10.30PM"
          ],
          [
           "SURFACE CAR PARK",
           "SUN & PH FR 7AM-10.30PM"
          ],
          [
           "SURFACE CAR PARK",
           "SUN & PH FR 7AM-10.30PM"
          ],
          [
           "SURFACE CAR PARK",
           "SUN & PH FR 7AM-10.30PM"
          ],
          [
           "SURFACE CAR PARK",
           "SUN & PH FR 7AM-10.30PM"
          ],
          [
           "SURFACE CAR PARK",
           "SUN & PH FR 7AM-10.30PM"
          ],
          [
           "SURFACE CAR PARK",
           "SUN & PH FR 7AM-10.30PM"
          ],
          [
           "SURFACE CAR PARK",
           "SUN & PH FR 7AM-10.30PM"
          ],
          [
           "SURFACE CAR PARK",
           "NO"
          ],
          [
           "SURFACE CAR PARK",
           "SUN & PH FR 7AM-10.30PM"
          ],
          [
           "SURFACE CAR PARK",
           "SUN & PH FR 7AM-10.30PM"
          ],
          [
           "SURFACE CAR PARK",
           "SUN & PH FR 7AM-10.30PM"
          ],
          [
           "SURFACE CAR PARK",
           "SUN & PH FR 7AM-10.30PM"
          ],
          [
           "SURFACE CAR PARK",
           "SUN & PH FR 7AM-10.30PM"
          ],
          [
           "SURFACE CAR PARK",
           "SUN & PH FR 7AM-10.30PM"
          ],
          [
           "SURFACE CAR PARK",
           "SUN & PH FR 7AM-10.30PM"
          ],
          [
           "SURFACE CAR PARK",
           "SUN & PH FR 7AM-10.30PM"
          ],
          [
           "SURFACE CAR PARK",
           "SUN & PH FR 7AM-10.30PM"
          ],
          [
           "SURFACE CAR PARK",
           "SUN & PH FR 7AM-10.30PM"
          ],
          [
           "SURFACE CAR PARK",
           "SUN & PH FR 7AM-10.30PM"
          ],
          [
           "SURFACE CAR PARK",
           "SUN & PH FR 7AM-10.30PM"
          ],
          [
           "SURFACE CAR PARK",
           "SUN & PH FR 7AM-10.30PM"
          ],
          [
           "SURFACE CAR PARK",
           "SUN & PH FR 7AM-10.30PM"
          ],
          [
           "SURFACE CAR PARK",
           "SUN & PH FR 7AM-10.30PM"
          ],
          [
           "SURFACE CAR PARK",
           "SUN & PH FR 7AM-10.30PM"
          ],
          [
           "SURFACE CAR PARK",
           "SUN & PH FR 7AM-10.30PM"
          ],
          [
           "SURFACE CAR PARK",
           "NO"
          ],
          [
           "SURFACE CAR PARK",
           "SUN & PH FR 7AM-10.30PM"
          ],
          [
           "SURFACE CAR PARK",
           "NO"
          ],
          [
           "MULTI-STOREY CAR PARK",
           "SUN & PH FR 7AM-10.30PM"
          ],
          [
           "SURFACE CAR PARK",
           "SUN & PH FR 7AM-10.30PM"
          ],
          [
           "SURFACE CAR PARK",
           "SUN & PH FR 7AM-10.30PM"
          ],
          [
           "SURFACE CAR PARK",
           "SUN & PH FR 7AM-10.30PM"
          ],
          [
           "SURFACE CAR PARK",
           "SUN & PH FR 7AM-10.30PM"
          ],
          [
           "SURFACE CAR PARK",
           "SUN & PH FR 7AM-10.30PM"
          ],
          [
           "SURFACE CAR PARK",
           "SUN & PH FR 7AM-10.30PM"
          ],
          [
           "SURFACE CAR PARK",
           "SUN & PH FR 7AM-10.30PM"
          ],
          [
           "SURFACE CAR PARK",
           "SUN & PH FR 7AM-10.30PM"
          ],
          [
           "SURFACE CAR PARK",
           "SUN & PH FR 7AM-10.30PM"
          ],
          [
           "SURFACE CAR PARK",
           "SUN & PH FR 7AM-10.30PM"
          ],
          [
           "SURFACE CAR PARK",
           "SUN & PH FR 7AM-10.30PM"
          ],
          [
           "SURFACE CAR PARK",
           "SUN & PH FR 7AM-10.30PM"
          ],
          [
           "SURFACE CAR PARK",
           "SUN & PH FR 7AM-10.30PM"
          ],
          [
           "SURFACE CAR PARK",
           "SUN & PH FR 7AM-10.30PM"
          ],
          [
           "SURFACE CAR PARK",
           "SUN & PH FR 7AM-10.30PM"
          ],
          [
           "SURFACE CAR PARK",
           "SUN & PH FR 7AM-10.30PM"
          ],
          [
           "SURFACE CAR PARK",
           "SUN & PH FR 7AM-10.30PM"
          ],
          [
           "SURFACE CAR PARK",
           "SUN & PH FR 7AM-10.30PM"
          ],
          [
           "SURFACE CAR PARK",
           "SUN & PH FR 7AM-10.30PM"
          ],
          [
           "SURFACE CAR PARK",
           "SUN & PH FR 7AM-10.30PM"
          ],
          [
           "SURFACE CAR PARK",
           "SUN & PH FR 7AM-10.30PM"
          ],
          [
           "SURFACE CAR PARK",
           "SUN & PH FR 7AM-10.30PM"
          ],
          [
           "MULTI-STOREY CAR PARK",
           "NO"
          ],
          [
           "SURFACE CAR PARK",
           "SUN & PH FR 7AM-10.30PM"
          ],
          [
           "SURFACE CAR PARK",
           "SUN & PH FR 7AM-10.30PM"
          ],
          [
           "SURFACE CAR PARK",
           "SUN & PH FR 7AM-10.30PM"
          ],
          [
           "SURFACE CAR PARK",
           "SUN & PH FR 7AM-10.30PM"
          ],
          [
           "SURFACE CAR PARK",
           "SUN & PH FR 7AM-10.30PM"
          ],
          [
           "SURFACE CAR PARK",
           "SUN & PH FR 7AM-10.30PM"
          ],
          [
           "SURFACE CAR PARK",
           "SUN & PH FR 7AM-10.30PM"
          ],
          [
           "SURFACE CAR PARK",
           "SUN & PH FR 7AM-10.30PM"
          ],
          [
           "SURFACE CAR PARK",
           "SUN & PH FR 7AM-10.30PM"
          ],
          [
           "SURFACE CAR PARK",
           "SUN & PH FR 7AM-10.30PM"
          ],
          [
           "SURFACE CAR PARK",
           "SUN & PH FR 7AM-10.30PM"
          ],
          [
           "SURFACE CAR PARK",
           "SUN & PH FR 7AM-10.30PM"
          ],
          [
           "SURFACE CAR PARK",
           "SUN & PH FR 7AM-10.30PM"
          ],
          [
           "MULTI-STOREY CAR PARK",
           "SUN & PH FR 7AM-10.30PM"
          ],
          [
           "MULTI-STOREY CAR PARK",
           "SUN & PH FR 7AM-10.30PM"
          ],
          [
           "SURFACE CAR PARK",
           "SUN & PH FR 7AM-10.30PM"
          ],
          [
           "SURFACE CAR PARK",
           "NO"
          ],
          [
           "MULTI-STOREY CAR PARK",
           "SUN & PH FR 7AM-10.30PM"
          ],
          [
           "MULTI-STOREY CAR PARK",
           "SUN & PH FR 7AM-10.30PM"
          ],
          [
           "MULTI-STOREY CAR PARK",
           "SUN & PH FR 7AM-10.30PM"
          ],
          [
           "MULTI-STOREY CAR PARK",
           "NO"
          ],
          [
           "MULTI-STOREY CAR PARK",
           "NO"
          ],
          [
           "BASEMENT CAR PARK",
           "NO"
          ],
          [
           "MULTI-STOREY CAR PARK",
           "SUN & PH FR 7AM-10.30PM"
          ],
          [
           "MULTI-STOREY CAR PARK",
           "SUN & PH FR 7AM-10.30PM"
          ],
          [
           "MULTI-STOREY CAR PARK",
           "SUN & PH FR 7AM-10.30PM"
          ],
          [
           "MULTI-STOREY CAR PARK",
           "SUN & PH FR 7AM-10.30PM"
          ],
          [
           "MULTI-STOREY CAR PARK",
           "SUN & PH FR 7AM-10.30PM"
          ],
          [
           "MULTI-STOREY CAR PARK",
           "SUN & PH FR 7AM-10.30PM"
          ],
          [
           "MULTI-STOREY CAR PARK",
           "SUN & PH FR 7AM-10.30PM"
          ],
          [
           "MULTI-STOREY CAR PARK",
           "NO"
          ],
          [
           "MULTI-STOREY CAR PARK",
           "SUN & PH FR 7AM-10.30PM"
          ],
          [
           "SURFACE CAR PARK",
           "SUN & PH FR 7AM-10.30PM"
          ],
          [
           "SURFACE CAR PARK",
           "SUN & PH FR 7AM-10.30PM"
          ],
          [
           "SURFACE CAR PARK",
           "NO"
          ],
          [
           "MULTI-STOREY CAR PARK",
           "SUN & PH FR 7AM-10.30PM"
          ],
          [
           "MULTI-STOREY CAR PARK",
           "SUN & PH FR 7AM-10.30PM"
          ],
          [
           "MULTI-STOREY CAR PARK",
           "SUN & PH FR 7AM-10.30PM"
          ],
          [
           "SURFACE CAR PARK",
           "SUN & PH FR 7AM-10.30PM"
          ],
          [
           "SURFACE CAR PARK",
           "SUN & PH FR 7AM-10.30PM"
          ],
          [
           "SURFACE CAR PARK",
           "SUN & PH FR 7AM-10.30PM"
          ],
          [
           "SURFACE CAR PARK",
           "SUN & PH FR 7AM-10.30PM"
          ],
          [
           "MULTI-STOREY CAR PARK",
           "SUN & PH FR 7AM-10.30PM"
          ],
          [
           "SURFACE CAR PARK",
           "SUN & PH FR 7AM-10.30PM"
          ],
          [
           "SURFACE CAR PARK",
           "SUN & PH FR 7AM-10.30PM"
          ],
          [
           "MULTI-STOREY CAR PARK",
           "NO"
          ],
          [
           "SURFACE CAR PARK",
           "SUN & PH FR 7AM-10.30PM"
          ],
          [
           "MULTI-STOREY CAR PARK",
           "SUN & PH FR 7AM-10.30PM"
          ],
          [
           "SURFACE CAR PARK",
           "SUN & PH FR 7AM-10.30PM"
          ],
          [
           "MULTI-STOREY CAR PARK",
           "SUN & PH FR 7AM-10.30PM"
          ],
          [
           "SURFACE CAR PARK",
           "SUN & PH FR 7AM-10.30PM"
          ],
          [
           "SURFACE CAR PARK",
           "SUN & PH FR 7AM-10.30PM"
          ],
          [
           "SURFACE CAR PARK",
           "SUN & PH FR 7AM-10.30PM"
          ],
          [
           "MULTI-STOREY CAR PARK",
           "SUN & PH FR 7AM-10.30PM"
          ],
          [
           "MULTI-STOREY CAR PARK",
           "SUN & PH FR 7AM-10.30PM"
          ],
          [
           "SURFACE CAR PARK",
           "SUN & PH FR 7AM-10.30PM"
          ],
          [
           "MULTI-STOREY CAR PARK",
           "SUN & PH FR 7AM-10.30PM"
          ],
          [
           "SURFACE CAR PARK",
           "SUN & PH FR 7AM-10.30PM"
          ],
          [
           "MULTI-STOREY CAR PARK",
           "SUN & PH FR 7AM-10.30PM"
          ],
          [
           "SURFACE CAR PARK",
           "SUN & PH FR 7AM-10.30PM"
          ],
          [
           "SURFACE CAR PARK",
           "NO"
          ],
          [
           "MULTI-STOREY CAR PARK",
           "SUN & PH FR 7AM-10.30PM"
          ],
          [
           "SURFACE CAR PARK",
           "NO"
          ],
          [
           "MULTI-STOREY CAR PARK",
           "SUN & PH FR 7AM-10.30PM"
          ],
          [
           "SURFACE CAR PARK",
           "SUN & PH FR 7AM-10.30PM"
          ],
          [
           "MULTI-STOREY CAR PARK",
           "SUN & PH FR 7AM-10.30PM"
          ],
          [
           "MULTI-STOREY CAR PARK",
           "SUN & PH FR 7AM-10.30PM"
          ],
          [
           "MULTI-STOREY CAR PARK",
           "SUN & PH FR 7AM-10.30PM"
          ],
          [
           "MULTI-STOREY CAR PARK",
           "NO"
          ],
          [
           "SURFACE CAR PARK",
           "SUN & PH FR 7AM-10.30PM"
          ],
          [
           "SURFACE CAR PARK",
           "SUN & PH FR 7AM-10.30PM"
          ],
          [
           "SURFACE CAR PARK",
           "SUN & PH FR 7AM-10.30PM"
          ],
          [
           "SURFACE CAR PARK",
           "SUN & PH FR 7AM-10.30PM"
          ],
          [
           "SURFACE CAR PARK",
           "SUN & PH FR 7AM-10.30PM"
          ],
          [
           "SURFACE CAR PARK",
           "SUN & PH FR 7AM-10.30PM"
          ],
          [
           "SURFACE CAR PARK",
           "SUN & PH FR 7AM-10.30PM"
          ],
          [
           "SURFACE CAR PARK",
           "SUN & PH FR 7AM-10.30PM"
          ],
          [
           "SURFACE CAR PARK",
           "SUN & PH FR 7AM-10.30PM"
          ],
          [
           "MECHANISED CAR PARK",
           "NO"
          ],
          [
           "SURFACE CAR PARK",
           "SUN & PH FR 7AM-10.30PM"
          ],
          [
           "SURFACE CAR PARK",
           "SUN & PH FR 7AM-10.30PM"
          ],
          [
           "SURFACE CAR PARK",
           "SUN & PH FR 7AM-10.30PM"
          ],
          [
           "SURFACE CAR PARK",
           "SUN & PH FR 7AM-10.30PM"
          ],
          [
           "SURFACE CAR PARK",
           "SUN & PH FR 7AM-10.30PM"
          ],
          [
           "SURFACE CAR PARK",
           "NO"
          ],
          [
           "MULTI-STOREY CAR PARK",
           "NO"
          ],
          [
           "MULTI-STOREY CAR PARK",
           "SUN & PH FR 7AM-10.30PM"
          ],
          [
           "MULTI-STOREY CAR PARK",
           "SUN & PH FR 7AM-10.30PM"
          ],
          [
           "SURFACE CAR PARK",
           "SUN & PH FR 7AM-10.30PM"
          ],
          [
           "SURFACE CAR PARK",
           "SUN & PH FR 7AM-10.30PM"
          ],
          [
           "SURFACE CAR PARK",
           "SUN & PH FR 7AM-10.30PM"
          ],
          [
           "SURFACE CAR PARK",
           "SUN & PH FR 7AM-10.30PM"
          ],
          [
           "SURFACE CAR PARK",
           "SUN & PH FR 7AM-10.30PM"
          ],
          [
           "SURFACE CAR PARK",
           "NO"
          ],
          [
           "SURFACE CAR PARK",
           "NO"
          ],
          [
           "SURFACE CAR PARK",
           "SUN & PH FR 7AM-10.30PM"
          ],
          [
           "MULTI-STOREY CAR PARK",
           "SUN & PH FR 7AM-10.30PM"
          ],
          [
           "MULTI-STOREY CAR PARK",
           "SUN & PH FR 7AM-10.30PM"
          ],
          [
           "MULTI-STOREY CAR PARK",
           "SUN & PH FR 7AM-10.30PM"
          ],
          [
           "MULTI-STOREY CAR PARK",
           "NO"
          ],
          [
           "MULTI-STOREY CAR PARK",
           "SUN & PH FR 7AM-10.30PM"
          ],
          [
           "SURFACE CAR PARK",
           "SUN & PH FR 7AM-10.30PM"
          ],
          [
           "MULTI-STOREY CAR PARK",
           "SUN & PH FR 7AM-10.30PM"
          ],
          [
           "MULTI-STOREY CAR PARK",
           "SUN & PH FR 7AM-10.30PM"
          ],
          [
           "MULTI-STOREY CAR PARK",
           "SUN & PH FR 7AM-10.30PM"
          ],
          [
           "MULTI-STOREY CAR PARK",
           "SUN & PH FR 7AM-10.30PM"
          ],
          [
           "MULTI-STOREY CAR PARK",
           "SUN & PH FR 7AM-10.30PM"
          ],
          [
           "MULTI-STOREY CAR PARK",
           "SUN & PH FR 7AM-10.30PM"
          ],
          [
           "MULTI-STOREY CAR PARK",
           "SUN & PH FR 7AM-10.30PM"
          ],
          [
           "MULTI-STOREY CAR PARK",
           "SUN & PH FR 7AM-10.30PM"
          ],
          [
           "MULTI-STOREY CAR PARK",
           "SUN & PH FR 7AM-10.30PM"
          ],
          [
           "MULTI-STOREY CAR PARK",
           "SUN & PH FR 7AM-10.30PM"
          ],
          [
           "SURFACE CAR PARK",
           "SUN & PH FR 7AM-10.30PM"
          ],
          [
           "MULTI-STOREY CAR PARK",
           "SUN & PH FR 7AM-10.30PM"
          ],
          [
           "MULTI-STOREY CAR PARK",
           "SUN & PH FR 7AM-10.30PM"
          ],
          [
           "MULTI-STOREY CAR PARK",
           "SUN & PH FR 7AM-10.30PM"
          ],
          [
           "MULTI-STOREY CAR PARK",
           "SUN & PH FR 7AM-10.30PM"
          ],
          [
           "MULTI-STOREY CAR PARK",
           "NO"
          ],
          [
           "MULTI-STOREY CAR PARK",
           "NO"
          ],
          [
           "MULTI-STOREY CAR PARK",
           "SUN & PH FR 7AM-10.30PM"
          ],
          [
           "MULTI-STOREY CAR PARK",
           "SUN & PH FR 7AM-10.30PM"
          ],
          [
           "MULTI-STOREY CAR PARK",
           "SUN & PH FR 7AM-10.30PM"
          ],
          [
           "MULTI-STOREY CAR PARK",
           "SUN & PH FR 7AM-10.30PM"
          ],
          [
           "MULTI-STOREY CAR PARK",
           "NO"
          ],
          [
           "MULTI-STOREY CAR PARK",
           "NO"
          ],
          [
           "MULTI-STOREY CAR PARK",
           "SUN & PH FR 7AM-10.30PM"
          ],
          [
           "MULTI-STOREY CAR PARK",
           "SUN & PH FR 7AM-10.30PM"
          ],
          [
           "MULTI-STOREY CAR PARK",
           "SUN & PH FR 7AM-10.30PM"
          ],
          [
           "MULTI-STOREY CAR PARK",
           "SUN & PH FR 7AM-10.30PM"
          ],
          [
           "SURFACE CAR PARK",
           "NO"
          ],
          [
           "MULTI-STOREY CAR PARK",
           "SUN & PH FR 7AM-10.30PM"
          ],
          [
           "MULTI-STOREY CAR PARK",
           "SUN & PH FR 7AM-10.30PM"
          ],
          [
           "MULTI-STOREY CAR PARK",
           "SUN & PH FR 7AM-10.30PM"
          ],
          [
           "MULTI-STOREY CAR PARK",
           "SUN & PH FR 7AM-10.30PM"
          ],
          [
           "MULTI-STOREY CAR PARK",
           "SUN & PH FR 7AM-10.30PM"
          ],
          [
           "SURFACE CAR PARK",
           "NO"
          ],
          [
           "MULTI-STOREY CAR PARK",
           "SUN & PH FR 7AM-10.30PM"
          ],
          [
           "MULTI-STOREY CAR PARK",
           "SUN & PH FR 7AM-10.30PM"
          ],
          [
           "MULTI-STOREY CAR PARK",
           "SUN & PH FR 7AM-10.30PM"
          ],
          [
           "MULTI-STOREY CAR PARK",
           "SUN & PH FR 7AM-10.30PM"
          ],
          [
           "MULTI-STOREY CAR PARK",
           "SUN & PH FR 7AM-10.30PM"
          ],
          [
           "MULTI-STOREY CAR PARK",
           "NO"
          ],
          [
           "MULTI-STOREY CAR PARK",
           "NO"
          ],
          [
           "MULTI-STOREY CAR PARK",
           "NO"
          ],
          [
           "MULTI-STOREY CAR PARK",
           "NO"
          ],
          [
           "SURFACE CAR PARK",
           "SUN & PH FR 7AM-10.30PM"
          ],
          [
           "SURFACE CAR PARK",
           "NO"
          ],
          [
           "SURFACE CAR PARK",
           "NO"
          ],
          [
           "SURFACE CAR PARK",
           "NO"
          ],
          [
           "SURFACE CAR PARK",
           "NO"
          ],
          [
           "MULTI-STOREY CAR PARK",
           "SUN & PH FR 7AM-10.30PM"
          ],
          [
           "SURFACE CAR PARK",
           "NO"
          ],
          [
           "MULTI-STOREY CAR PARK",
           "SUN & PH FR 7AM-10.30PM"
          ],
          [
           "MULTI-STOREY CAR PARK",
           "NO"
          ],
          [
           "SURFACE CAR PARK",
           "SUN & PH FR 7AM-10.30PM"
          ],
          [
           "SURFACE CAR PARK",
           "SUN & PH FR 7AM-10.30PM"
          ],
          [
           "MULTI-STOREY CAR PARK",
           "SUN & PH FR 7AM-10.30PM"
          ],
          [
           "MULTI-STOREY CAR PARK",
           "SUN & PH FR 7AM-10.30PM"
          ],
          [
           "MULTI-STOREY CAR PARK",
           "SUN & PH FR 7AM-10.30PM"
          ],
          [
           "MULTI-STOREY CAR PARK",
           "SUN & PH FR 7AM-10.30PM"
          ],
          [
           "MULTI-STOREY CAR PARK",
           "SUN & PH FR 7AM-10.30PM"
          ],
          [
           "MULTI-STOREY CAR PARK",
           "SUN & PH FR 7AM-10.30PM"
          ],
          [
           "MULTI-STOREY CAR PARK",
           "SUN & PH FR 7AM-10.30PM"
          ],
          [
           "MULTI-STOREY CAR PARK",
           "SUN & PH FR 7AM-10.30PM"
          ],
          [
           "SURFACE CAR PARK",
           "SUN & PH FR 7AM-10.30PM"
          ],
          [
           "SURFACE CAR PARK",
           "SUN & PH FR 7AM-10.30PM"
          ],
          [
           "SURFACE CAR PARK",
           "NO"
          ],
          [
           "SURFACE CAR PARK",
           "SUN & PH FR 7AM-10.30PM"
          ],
          [
           "MULTI-STOREY CAR PARK",
           "SUN & PH FR 7AM-10.30PM"
          ],
          [
           "SURFACE CAR PARK",
           "NO"
          ],
          [
           "SURFACE CAR PARK",
           "SUN & PH FR 7AM-10.30PM"
          ],
          [
           "SURFACE CAR PARK",
           "SUN & PH FR 7AM-10.30PM"
          ],
          [
           "SURFACE CAR PARK",
           "NO"
          ],
          [
           "SURFACE CAR PARK",
           "NO"
          ],
          [
           "SURFACE CAR PARK",
           "SUN & PH FR 7AM-10.30PM"
          ],
          [
           "SURFACE CAR PARK",
           "NO"
          ],
          [
           "SURFACE CAR PARK",
           "SUN & PH FR 7AM-10.30PM"
          ],
          [
           "SURFACE CAR PARK",
           "NO"
          ],
          [
           "SURFACE CAR PARK",
           "NO"
          ],
          [
           "SURFACE CAR PARK",
           "NO"
          ],
          [
           "BASEMENT CAR PARK",
           "NO"
          ],
          [
           "SURFACE CAR PARK",
           "NO"
          ],
          [
           "SURFACE CAR PARK",
           "NO"
          ],
          [
           "MULTI-STOREY CAR PARK",
           "SUN & PH FR 7AM-10.30PM"
          ],
          [
           "MULTI-STOREY CAR PARK",
           "NO"
          ],
          [
           "SURFACE CAR PARK",
           "NO"
          ],
          [
           "MULTI-STOREY CAR PARK",
           "SUN & PH FR 7AM-10.30PM"
          ],
          [
           "SURFACE CAR PARK",
           "NO"
          ],
          [
           "SURFACE CAR PARK",
           "SUN & PH FR 7AM-10.30PM"
          ],
          [
           "SURFACE CAR PARK",
           "SUN & PH FR 7AM-10.30PM"
          ],
          [
           "SURFACE CAR PARK",
           "SUN & PH FR 7AM-10.30PM"
          ],
          [
           "SURFACE CAR PARK",
           "SUN & PH FR 7AM-10.30PM"
          ],
          [
           "SURFACE CAR PARK",
           "NO"
          ],
          [
           "BASEMENT CAR PARK",
           "NO"
          ],
          [
           "MULTI-STOREY CAR PARK",
           "SUN & PH FR 7AM-10.30PM"
          ],
          [
           "MULTI-STOREY CAR PARK",
           "SUN & PH FR 7AM-10.30PM"
          ],
          [
           "MULTI-STOREY CAR PARK",
           "SUN & PH FR 7AM-10.30PM"
          ],
          [
           "MULTI-STOREY CAR PARK",
           "SUN & PH FR 7AM-10.30PM"
          ],
          [
           "MULTI-STOREY CAR PARK",
           "SUN & PH FR 7AM-10.30PM"
          ],
          [
           "MULTI-STOREY CAR PARK",
           "SUN & PH FR 7AM-10.30PM"
          ],
          [
           "MULTI-STOREY CAR PARK",
           "SUN & PH FR 7AM-10.30PM"
          ],
          [
           "MULTI-STOREY CAR PARK",
           "NO"
          ],
          [
           "SURFACE CAR PARK",
           "SUN & PH FR 7AM-10.30PM"
          ],
          [
           "SURFACE CAR PARK",
           "SUN & PH FR 7AM-10.30PM"
          ],
          [
           "SURFACE CAR PARK",
           "SUN & PH FR 7AM-10.30PM"
          ],
          [
           "SURFACE CAR PARK",
           "SUN & PH FR 7AM-10.30PM"
          ],
          [
           "SURFACE CAR PARK",
           "SUN & PH FR 7AM-10.30PM"
          ],
          [
           "SURFACE CAR PARK",
           "SUN & PH FR 7AM-10.30PM"
          ],
          [
           "SURFACE CAR PARK",
           "SUN & PH FR 7AM-10.30PM"
          ],
          [
           "SURFACE CAR PARK",
           "SUN & PH FR 7AM-10.30PM"
          ],
          [
           "SURFACE CAR PARK",
           "SUN & PH FR 7AM-10.30PM"
          ],
          [
           "SURFACE CAR PARK",
           "SUN & PH FR 7AM-10.30PM"
          ],
          [
           "SURFACE CAR PARK",
           "NO"
          ],
          [
           "SURFACE CAR PARK",
           "SUN & PH FR 7AM-10.30PM"
          ],
          [
           "MULTI-STOREY CAR PARK",
           "SUN & PH FR 7AM-10.30PM"
          ],
          [
           "MULTI-STOREY CAR PARK",
           "SUN & PH FR 7AM-10.30PM"
          ],
          [
           "MULTI-STOREY CAR PARK",
           "NO"
          ],
          [
           "MULTI-STOREY CAR PARK",
           "SUN & PH FR 7AM-10.30PM"
          ],
          [
           "MULTI-STOREY CAR PARK",
           "NO"
          ],
          [
           "SURFACE CAR PARK",
           "SUN & PH FR 7AM-10.30PM"
          ],
          [
           "MULTI-STOREY CAR PARK",
           "SUN & PH FR 7AM-10.30PM"
          ],
          [
           "SURFACE CAR PARK",
           "SUN & PH FR 7AM-10.30PM"
          ],
          [
           "SURFACE CAR PARK",
           "SUN & PH FR 7AM-10.30PM"
          ],
          [
           "SURFACE CAR PARK",
           "SUN & PH FR 7AM-10.30PM"
          ],
          [
           "SURFACE CAR PARK",
           "SUN & PH FR 7AM-10.30PM"
          ],
          [
           "SURFACE CAR PARK",
           "SUN & PH FR 7AM-10.30PM"
          ],
          [
           "SURFACE CAR PARK",
           "SUN & PH FR 7AM-10.30PM"
          ],
          [
           "SURFACE CAR PARK",
           "SUN & PH FR 7AM-10.30PM"
          ],
          [
           "SURFACE CAR PARK",
           "SUN & PH FR 7AM-10.30PM"
          ],
          [
           "SURFACE CAR PARK",
           "SUN & PH FR 7AM-10.30PM"
          ],
          [
           "MULTI-STOREY CAR PARK",
           "SUN & PH FR 7AM-10.30PM"
          ],
          [
           "SURFACE CAR PARK",
           "NO"
          ],
          [
           "SURFACE CAR PARK",
           "NO"
          ],
          [
           "SURFACE CAR PARK",
           "NO"
          ],
          [
           "SURFACE CAR PARK",
           "SUN & PH FR 7AM-10.30PM"
          ],
          [
           "SURFACE CAR PARK",
           "SUN & PH FR 7AM-10.30PM"
          ],
          [
           "SURFACE CAR PARK",
           "SUN & PH FR 7AM-10.30PM"
          ],
          [
           "SURFACE CAR PARK",
           "SUN & PH FR 7AM-10.30PM"
          ],
          [
           "SURFACE CAR PARK",
           "SUN & PH FR 7AM-10.30PM"
          ],
          [
           "SURFACE CAR PARK",
           "SUN & PH FR 7AM-10.30PM"
          ],
          [
           "SURFACE CAR PARK",
           "SUN & PH FR 7AM-10.30PM"
          ],
          [
           "SURFACE CAR PARK",
           "SUN & PH FR 7AM-10.30PM"
          ],
          [
           "SURFACE CAR PARK",
           "SUN & PH FR 7AM-10.30PM"
          ],
          [
           "SURFACE CAR PARK",
           "SUN & PH FR 7AM-10.30PM"
          ],
          [
           "SURFACE CAR PARK",
           "NO"
          ],
          [
           "SURFACE CAR PARK",
           "NO"
          ],
          [
           "SURFACE CAR PARK",
           "SUN & PH FR 7AM-10.30PM"
          ],
          [
           "SURFACE CAR PARK",
           "SUN & PH FR 7AM-10.30PM"
          ],
          [
           "SURFACE CAR PARK",
           "SUN & PH FR 7AM-10.30PM"
          ],
          [
           "SURFACE CAR PARK",
           "NO"
          ],
          [
           "SURFACE CAR PARK",
           "NO"
          ],
          [
           "SURFACE CAR PARK",
           "NO"
          ],
          [
           "SURFACE CAR PARK",
           "SUN & PH FR 7AM-10.30PM"
          ],
          [
           "SURFACE CAR PARK",
           "SUN & PH FR 7AM-10.30PM"
          ],
          [
           "BASEMENT CAR PARK",
           "NO"
          ],
          [
           "SURFACE CAR PARK",
           "SUN & PH FR 7AM-10.30PM"
          ],
          [
           "SURFACE CAR PARK",
           "SUN & PH FR 7AM-10.30PM"
          ],
          [
           "SURFACE CAR PARK",
           "SUN & PH FR 7AM-10.30PM"
          ],
          [
           "SURFACE CAR PARK",
           "NO"
          ],
          [
           "SURFACE CAR PARK",
           "SUN & PH FR 7AM-10.30PM"
          ],
          [
           "SURFACE CAR PARK",
           "SUN & PH FR 7AM-10.30PM"
          ],
          [
           "SURFACE CAR PARK",
           "SUN & PH FR 7AM-10.30PM"
          ],
          [
           "SURFACE CAR PARK",
           "SUN & PH FR 7AM-10.30PM"
          ],
          [
           "SURFACE CAR PARK",
           "SUN & PH FR 7AM-10.30PM"
          ],
          [
           "SURFACE CAR PARK",
           "SUN & PH FR 7AM-10.30PM"
          ],
          [
           "SURFACE CAR PARK",
           "NO"
          ],
          [
           "MULTI-STOREY CAR PARK",
           "NO"
          ],
          [
           "SURFACE CAR PARK",
           "NO"
          ],
          [
           "SURFACE CAR PARK",
           "SUN & PH FR 7AM-10.30PM"
          ],
          [
           "SURFACE CAR PARK",
           "SUN & PH FR 7AM-10.30PM"
          ],
          [
           "SURFACE CAR PARK",
           "SUN & PH FR 7AM-10.30PM"
          ],
          [
           "SURFACE CAR PARK",
           "NO"
          ],
          [
           "MULTI-STOREY CAR PARK",
           "NO"
          ],
          [
           "MULTI-STOREY CAR PARK",
           "SUN & PH FR 7AM-10.30PM"
          ],
          [
           "MULTI-STOREY CAR PARK",
           "SUN & PH FR 7AM-10.30PM"
          ],
          [
           "MULTI-STOREY CAR PARK",
           "SUN & PH FR 7AM-10.30PM"
          ],
          [
           "MULTI-STOREY CAR PARK",
           "SUN & PH FR 7AM-10.30PM"
          ],
          [
           "SURFACE CAR PARK",
           "NO"
          ],
          [
           "SURFACE CAR PARK",
           "NO"
          ],
          [
           "SURFACE CAR PARK",
           "NO"
          ],
          [
           "SURFACE CAR PARK",
           "NO"
          ],
          [
           "MULTI-STOREY CAR PARK",
           "SUN & PH FR 7AM-10.30PM"
          ],
          [
           "MULTI-STOREY CAR PARK",
           "SUN & PH FR 7AM-10.30PM"
          ],
          [
           "MULTI-STOREY CAR PARK",
           "SUN & PH FR 7AM-10.30PM"
          ],
          [
           "MULTI-STOREY CAR PARK",
           "SUN & PH FR 7AM-10.30PM"
          ],
          [
           "MULTI-STOREY CAR PARK",
           "SUN & PH FR 7AM-10.30PM"
          ],
          [
           "MULTI-STOREY CAR PARK",
           "SUN & PH FR 7AM-10.30PM"
          ],
          [
           "MULTI-STOREY CAR PARK",
           "SUN & PH FR 7AM-10.30PM"
          ],
          [
           "MULTI-STOREY CAR PARK",
           "SUN & PH FR 7AM-10.30PM"
          ],
          [
           "MULTI-STOREY CAR PARK",
           "SUN & PH FR 7AM-10.30PM"
          ],
          [
           "SURFACE CAR PARK",
           "NO"
          ],
          [
           "BASEMENT CAR PARK",
           "NO"
          ],
          [
           "MULTI-STOREY CAR PARK",
           "SUN & PH FR 7AM-10.30PM"
          ],
          [
           "MULTI-STOREY CAR PARK",
           "SUN & PH FR 7AM-10.30PM"
          ],
          [
           "SURFACE CAR PARK",
           "NO"
          ],
          [
           "MULTI-STOREY CAR PARK",
           "SUN & PH FR 7AM-10.30PM"
          ],
          [
           "MULTI-STOREY CAR PARK",
           "NO"
          ],
          [
           "MULTI-STOREY CAR PARK",
           "SUN & PH FR 7AM-10.30PM"
          ],
          [
           "MULTI-STOREY CAR PARK",
           "SUN & PH FR 7AM-10.30PM"
          ],
          [
           "MULTI-STOREY CAR PARK",
           "SUN & PH FR 7AM-10.30PM"
          ],
          [
           "MULTI-STOREY CAR PARK",
           "SUN & PH FR 7AM-10.30PM"
          ],
          [
           "MULTI-STOREY CAR PARK",
           "SUN & PH FR 7AM-10.30PM"
          ],
          [
           "SURFACE CAR PARK",
           "SUN & PH FR 7AM-10.30PM"
          ],
          [
           "MULTI-STOREY CAR PARK",
           "SUN & PH FR 7AM-10.30PM"
          ],
          [
           "BASEMENT CAR PARK",
           "NO"
          ],
          [
           "MULTI-STOREY CAR PARK",
           "SUN & PH FR 7AM-10.30PM"
          ],
          [
           "MULTI-STOREY CAR PARK",
           "SUN & PH FR 7AM-10.30PM"
          ],
          [
           "MULTI-STOREY CAR PARK",
           "SUN & PH FR 7AM-10.30PM"
          ],
          [
           "SURFACE CAR PARK",
           "SUN & PH FR 7AM-10.30PM"
          ],
          [
           "MULTI-STOREY CAR PARK",
           "NO"
          ],
          [
           "MULTI-STOREY CAR PARK",
           "NO"
          ],
          [
           "MULTI-STOREY CAR PARK",
           "SUN & PH FR 7AM-10.30PM"
          ],
          [
           "MULTI-STOREY CAR PARK",
           "NO"
          ],
          [
           "MULTI-STOREY CAR PARK",
           "NO"
          ],
          [
           "MULTI-STOREY CAR PARK",
           "SUN & PH FR 7AM-10.30PM"
          ],
          [
           "BASEMENT CAR PARK",
           "NO"
          ],
          [
           "MULTI-STOREY CAR PARK",
           "SUN & PH FR 7AM-10.30PM"
          ],
          [
           "SURFACE CAR PARK",
           "SUN & PH FR 7AM-10.30PM"
          ],
          [
           "SURFACE CAR PARK",
           "SUN & PH FR 7AM-10.30PM"
          ],
          [
           "SURFACE CAR PARK",
           "SUN & PH FR 7AM-10.30PM"
          ],
          [
           "BASEMENT CAR PARK",
           "SUN & PH FR 7AM-10.30PM"
          ],
          [
           "SURFACE CAR PARK",
           "SUN & PH FR 7AM-10.30PM"
          ],
          [
           "SURFACE CAR PARK",
           "NO"
          ],
          [
           "SURFACE CAR PARK",
           "NO"
          ],
          [
           "SURFACE CAR PARK",
           "SUN & PH FR 7AM-10.30PM"
          ],
          [
           "SURFACE CAR PARK",
           "SUN & PH FR 7AM-10.30PM"
          ],
          [
           "SURFACE CAR PARK",
           "SUN & PH FR 7AM-10.30PM"
          ],
          [
           "MULTI-STOREY CAR PARK",
           "SUN & PH FR 7AM-10.30PM"
          ],
          [
           "SURFACE CAR PARK",
           "NO"
          ],
          [
           "MULTI-STOREY CAR PARK",
           "SUN & PH FR 7AM-10.30PM"
          ],
          [
           "MULTI-STOREY CAR PARK",
           "NO"
          ],
          [
           "MULTI-STOREY CAR PARK",
           "SUN & PH FR 7AM-10.30PM"
          ],
          [
           "MULTI-STOREY CAR PARK",
           "SUN & PH FR 7AM-10.30PM"
          ],
          [
           "MULTI-STOREY CAR PARK",
           "SUN & PH FR 7AM-10.30PM"
          ],
          [
           "MULTI-STOREY CAR PARK",
           "SUN & PH FR 7AM-10.30PM"
          ],
          [
           "MULTI-STOREY CAR PARK",
           "SUN & PH FR 7AM-10.30PM"
          ],
          [
           "MULTI-STOREY CAR PARK",
           "SUN & PH FR 7AM-10.30PM"
          ],
          [
           "MULTI-STOREY CAR PARK",
           "SUN & PH FR 7AM-10.30PM"
          ],
          [
           "SURFACE CAR PARK",
           "NO"
          ],
          [
           "SURFACE CAR PARK",
           "NO"
          ],
          [
           "SURFACE CAR PARK",
           "SUN & PH FR 7AM-10.30PM"
          ],
          [
           "MULTI-STOREY CAR PARK",
           "SUN & PH FR 7AM-10.30PM"
          ],
          [
           "MULTI-STOREY CAR PARK",
           "SUN & PH FR 7AM-10.30PM"
          ],
          [
           "SURFACE CAR PARK",
           "SUN & PH FR 7AM-10.30PM"
          ],
          [
           "SURFACE CAR PARK",
           "SUN & PH FR 7AM-10.30PM"
          ],
          [
           "SURFACE CAR PARK",
           "SUN & PH FR 7AM-10.30PM"
          ],
          [
           "SURFACE CAR PARK",
           "SUN & PH FR 7AM-10.30PM"
          ],
          [
           "SURFACE CAR PARK",
           "SUN & PH FR 7AM-10.30PM"
          ],
          [
           "SURFACE CAR PARK",
           "SUN & PH FR 7AM-10.30PM"
          ],
          [
           "SURFACE CAR PARK",
           "SUN & PH FR 7AM-10.30PM"
          ],
          [
           "SURFACE CAR PARK",
           "SUN & PH FR 7AM-10.30PM"
          ],
          [
           "SURFACE CAR PARK",
           "SUN & PH FR 7AM-10.30PM"
          ],
          [
           "SURFACE CAR PARK",
           "SUN & PH FR 7AM-10.30PM"
          ],
          [
           "MULTI-STOREY CAR PARK",
           "NO"
          ],
          [
           "SURFACE CAR PARK",
           "SUN & PH FR 7AM-10.30PM"
          ],
          [
           "SURFACE CAR PARK",
           "NO"
          ],
          [
           "SURFACE CAR PARK",
           "NO"
          ],
          [
           "SURFACE CAR PARK",
           "NO"
          ],
          [
           "MULTI-STOREY CAR PARK",
           "SUN & PH FR 7AM-10.30PM"
          ],
          [
           "SURFACE CAR PARK",
           "SUN & PH FR 7AM-10.30PM"
          ],
          [
           "SURFACE CAR PARK",
           "SUN & PH FR 7AM-10.30PM"
          ],
          [
           "MULTI-STOREY CAR PARK",
           "SUN & PH FR 7AM-10.30PM"
          ],
          [
           "SURFACE CAR PARK",
           "SUN & PH FR 7AM-10.30PM"
          ],
          [
           "MULTI-STOREY CAR PARK",
           "SUN & PH FR 7AM-10.30PM"
          ],
          [
           "MULTI-STOREY CAR PARK",
           "SUN & PH FR 7AM-10.30PM"
          ],
          [
           "MULTI-STOREY CAR PARK",
           "SUN & PH FR 7AM-10.30PM"
          ],
          [
           "MULTI-STOREY CAR PARK",
           "SUN & PH FR 7AM-10.30PM"
          ],
          [
           "MULTI-STOREY CAR PARK",
           "SUN & PH FR 7AM-10.30PM"
          ],
          [
           "MULTI-STOREY CAR PARK",
           "SUN & PH FR 7AM-10.30PM"
          ],
          [
           "MULTI-STOREY CAR PARK",
           "SUN & PH FR 7AM-10.30PM"
          ],
          [
           "MULTI-STOREY CAR PARK",
           "SUN & PH FR 7AM-10.30PM"
          ],
          [
           "MULTI-STOREY CAR PARK",
           "SUN & PH FR 7AM-10.30PM"
          ],
          [
           "SURFACE CAR PARK",
           "SUN & PH FR 7AM-10.30PM"
          ],
          [
           "SURFACE CAR PARK",
           "SUN & PH FR 7AM-10.30PM"
          ],
          [
           "MULTI-STOREY CAR PARK",
           "SUN & PH FR 7AM-10.30PM"
          ],
          [
           "MULTI-STOREY CAR PARK",
           "SUN & PH FR 7AM-10.30PM"
          ],
          [
           "MULTI-STOREY CAR PARK",
           "SUN & PH FR 7AM-10.30PM"
          ],
          [
           "MULTI-STOREY CAR PARK",
           "SUN & PH FR 7AM-10.30PM"
          ],
          [
           "MULTI-STOREY CAR PARK",
           "SUN & PH FR 7AM-10.30PM"
          ],
          [
           "MULTI-STOREY CAR PARK",
           "SUN & PH FR 7AM-10.30PM"
          ],
          [
           "MULTI-STOREY CAR PARK",
           "SUN & PH FR 7AM-10.30PM"
          ],
          [
           "MULTI-STOREY CAR PARK",
           "SUN & PH FR 7AM-10.30PM"
          ],
          [
           "MULTI-STOREY CAR PARK",
           "SUN & PH FR 7AM-10.30PM"
          ],
          [
           "SURFACE CAR PARK",
           "SUN & PH FR 7AM-10.30PM"
          ],
          [
           "MULTI-STOREY CAR PARK",
           "SUN & PH FR 7AM-10.30PM"
          ],
          [
           "MULTI-STOREY CAR PARK",
           "NO"
          ],
          [
           "MULTI-STOREY CAR PARK",
           "SUN & PH FR 7AM-10.30PM"
          ],
          [
           "MULTI-STOREY CAR PARK",
           "SUN & PH FR 7AM-10.30PM"
          ],
          [
           "BASEMENT CAR PARK",
           "SUN & PH FR 7AM-10.30PM"
          ],
          [
           "COVERED CAR PARK",
           "SUN & PH FR 7AM-10.30PM"
          ],
          [
           "MULTI-STOREY CAR PARK",
           "SUN & PH FR 7AM-10.30PM"
          ],
          [
           "MULTI-STOREY CAR PARK",
           "SUN & PH FR 7AM-10.30PM"
          ],
          [
           "MULTI-STOREY CAR PARK",
           "SUN & PH FR 7AM-10.30PM"
          ],
          [
           "MULTI-STOREY CAR PARK",
           "SUN & PH FR 7AM-10.30PM"
          ],
          [
           "SURFACE CAR PARK",
           "NO"
          ],
          [
           "MULTI-STOREY CAR PARK",
           "NO"
          ],
          [
           "MULTI-STOREY CAR PARK",
           "SUN & PH FR 7AM-10.30PM"
          ],
          [
           "MULTI-STOREY CAR PARK",
           "SUN & PH FR 7AM-10.30PM"
          ],
          [
           "MULTI-STOREY CAR PARK",
           "SUN & PH FR 7AM-10.30PM"
          ],
          [
           "MULTI-STOREY CAR PARK",
           "SUN & PH FR 7AM-10.30PM"
          ],
          [
           "MULTI-STOREY CAR PARK",
           "SUN & PH FR 7AM-10.30PM"
          ],
          [
           "SURFACE CAR PARK",
           "NO"
          ],
          [
           "MULTI-STOREY CAR PARK",
           "NO"
          ],
          [
           "MULTI-STOREY CAR PARK",
           "SUN & PH FR 7AM-10.30PM"
          ],
          [
           "MULTI-STOREY CAR PARK",
           "NO"
          ],
          [
           "MULTI-STOREY CAR PARK",
           "SUN & PH FR 7AM-10.30PM"
          ],
          [
           "MULTI-STOREY CAR PARK",
           "SUN & PH FR 7AM-10.30PM"
          ],
          [
           "MULTI-STOREY CAR PARK",
           "SUN & PH FR 7AM-10.30PM"
          ],
          [
           "MULTI-STOREY CAR PARK",
           "SUN & PH FR 7AM-10.30PM"
          ],
          [
           "MULTI-STOREY CAR PARK",
           "SUN & PH FR 7AM-10.30PM"
          ],
          [
           "MULTI-STOREY CAR PARK",
           "SUN & PH FR 7AM-10.30PM"
          ],
          [
           "MULTI-STOREY CAR PARK",
           "SUN & PH FR 7AM-10.30PM"
          ],
          [
           "MULTI-STOREY CAR PARK",
           "SUN & PH FR 7AM-10.30PM"
          ],
          [
           "SURFACE CAR PARK",
           "SUN & PH FR 7AM-10.30PM"
          ],
          [
           "MULTI-STOREY CAR PARK",
           "SUN & PH FR 7AM-10.30PM"
          ],
          [
           "SURFACE CAR PARK",
           "SUN & PH FR 7AM-10.30PM"
          ],
          [
           "SURFACE CAR PARK",
           "SUN & PH FR 7AM-10.30PM"
          ],
          [
           "MULTI-STOREY CAR PARK",
           "SUN & PH FR 7AM-10.30PM"
          ],
          [
           "MULTI-STOREY CAR PARK",
           "SUN & PH FR 7AM-10.30PM"
          ],
          [
           "MULTI-STOREY CAR PARK",
           "SUN & PH FR 7AM-10.30PM"
          ],
          [
           "MULTI-STOREY CAR PARK",
           "SUN & PH FR 7AM-10.30PM"
          ],
          [
           "SURFACE CAR PARK",
           "NO"
          ],
          [
           "SURFACE CAR PARK",
           "SUN & PH FR 7AM-10.30PM"
          ],
          [
           "SURFACE CAR PARK",
           "SUN & PH FR 7AM-10.30PM"
          ],
          [
           "SURFACE CAR PARK",
           "SUN & PH FR 7AM-10.30PM"
          ],
          [
           "SURFACE CAR PARK",
           "SUN & PH FR 7AM-10.30PM"
          ],
          [
           "SURFACE CAR PARK",
           "SUN & PH FR 7AM-10.30PM"
          ],
          [
           "SURFACE CAR PARK",
           "NO"
          ],
          [
           "SURFACE CAR PARK",
           "NO"
          ],
          [
           "SURFACE CAR PARK",
           "SUN & PH FR 7AM-10.30PM"
          ],
          [
           "SURFACE CAR PARK",
           "NO"
          ],
          [
           "SURFACE CAR PARK",
           "NO"
          ],
          [
           "SURFACE CAR PARK",
           "SUN & PH FR 7AM-10.30PM"
          ],
          [
           "MULTI-STOREY CAR PARK",
           "SUN & PH FR 7AM-10.30PM"
          ],
          [
           "MULTI-STOREY CAR PARK",
           "NO"
          ],
          [
           "MULTI-STOREY CAR PARK",
           "NO"
          ],
          [
           "MECHANISED AND SURFACE CAR PARK",
           "NO"
          ],
          [
           "SURFACE CAR PARK",
           "NO"
          ],
          [
           "SURFACE CAR PARK",
           "NO"
          ],
          [
           "SURFACE CAR PARK",
           "NO"
          ],
          [
           "SURFACE CAR PARK",
           "NO"
          ],
          [
           "SURFACE CAR PARK",
           "SUN & PH FR 7AM-10.30PM"
          ],
          [
           "SURFACE CAR PARK",
           "NO"
          ],
          [
           "SURFACE CAR PARK",
           "SUN & PH FR 7AM-10.30PM"
          ],
          [
           "MULTI-STOREY CAR PARK",
           "SUN & PH FR 7AM-10.30PM"
          ],
          [
           "MULTI-STOREY CAR PARK",
           "SUN & PH FR 7AM-10.30PM"
          ],
          [
           "MULTI-STOREY CAR PARK",
           "NO"
          ],
          [
           "SURFACE CAR PARK",
           "NO"
          ],
          [
           "SURFACE CAR PARK",
           "NO"
          ],
          [
           "SURFACE CAR PARK",
           "NO"
          ],
          [
           "SURFACE CAR PARK",
           "NO"
          ],
          [
           "MULTI-STOREY CAR PARK",
           "NO"
          ],
          [
           "SURFACE CAR PARK",
           "NO"
          ],
          [
           "MULTI-STOREY CAR PARK",
           "SUN & PH FR 7AM-10.30PM"
          ],
          [
           "SURFACE CAR PARK",
           "NO"
          ],
          [
           "MULTI-STOREY CAR PARK",
           "SUN & PH FR 7AM-10.30PM"
          ],
          [
           "MULTI-STOREY CAR PARK",
           "SUN & PH FR 7AM-10.30PM"
          ],
          [
           "SURFACE CAR PARK",
           "SUN & PH FR 7AM-10.30PM"
          ],
          [
           "SURFACE CAR PARK",
           "SUN & PH FR 7AM-10.30PM"
          ],
          [
           "SURFACE CAR PARK",
           "SUN & PH FR 7AM-10.30PM"
          ],
          [
           "SURFACE CAR PARK",
           "SUN & PH FR 7AM-10.30PM"
          ],
          [
           "SURFACE CAR PARK",
           "SUN & PH FR 7AM-10.30PM"
          ],
          [
           "MULTI-STOREY CAR PARK",
           "SUN & PH FR 7AM-10.30PM"
          ],
          [
           "SURFACE CAR PARK",
           "SUN & PH FR 7AM-10.30PM"
          ],
          [
           "SURFACE CAR PARK",
           "SUN & PH FR 7AM-10.30PM"
          ],
          [
           "MULTI-STOREY CAR PARK",
           "SUN & PH FR 7AM-10.30PM"
          ],
          [
           "SURFACE CAR PARK",
           "NO"
          ],
          [
           "SURFACE CAR PARK",
           "SUN & PH FR 7AM-10.30PM"
          ],
          [
           "SURFACE CAR PARK",
           "SUN & PH FR 7AM-10.30PM"
          ],
          [
           "SURFACE CAR PARK",
           "SUN & PH FR 7AM-10.30PM"
          ],
          [
           "SURFACE CAR PARK",
           "SUN & PH FR 7AM-10.30PM"
          ],
          [
           "SURFACE CAR PARK",
           "SUN & PH FR 7AM-10.30PM"
          ],
          [
           "SURFACE CAR PARK",
           "SUN & PH FR 7AM-10.30PM"
          ],
          [
           "SURFACE CAR PARK",
           "SUN & PH FR 7AM-10.30PM"
          ],
          [
           "SURFACE CAR PARK",
           "SUN & PH FR 7AM-10.30PM"
          ],
          [
           "SURFACE CAR PARK",
           "SUN & PH FR 7AM-10.30PM"
          ],
          [
           "SURFACE CAR PARK",
           "SUN & PH FR 7AM-10.30PM"
          ],
          [
           "MULTI-STOREY CAR PARK",
           "SUN & PH FR 7AM-10.30PM"
          ],
          [
           "SURFACE CAR PARK",
           "SUN & PH FR 7AM-10.30PM"
          ],
          [
           "SURFACE CAR PARK",
           "SUN & PH FR 7AM-10.30PM"
          ],
          [
           "SURFACE CAR PARK",
           "SUN & PH FR 7AM-10.30PM"
          ],
          [
           "SURFACE CAR PARK",
           "SUN & PH FR 7AM-10.30PM"
          ],
          [
           "SURFACE CAR PARK",
           "SUN & PH FR 7AM-10.30PM"
          ],
          [
           "SURFACE CAR PARK",
           "SUN & PH FR 7AM-10.30PM"
          ],
          [
           "MULTI-STOREY CAR PARK",
           "SUN & PH FR 7AM-10.30PM"
          ],
          [
           "MULTI-STOREY CAR PARK",
           "SUN & PH FR 7AM-10.30PM"
          ],
          [
           "MULTI-STOREY CAR PARK",
           "SUN & PH FR 7AM-10.30PM"
          ],
          [
           "MULTI-STOREY CAR PARK",
           "NO"
          ],
          [
           "BASEMENT CAR PARK",
           "NO"
          ],
          [
           "SURFACE CAR PARK",
           "NO"
          ],
          [
           "SURFACE CAR PARK",
           "NO"
          ],
          [
           "MULTI-STOREY CAR PARK",
           "NO"
          ],
          [
           "MULTI-STOREY CAR PARK",
           "NO"
          ],
          [
           "BASEMENT CAR PARK",
           "NO"
          ],
          [
           "MULTI-STOREY CAR PARK",
           "NO"
          ],
          [
           "MULTI-STOREY CAR PARK",
           "SUN & PH FR 7AM-10.30PM"
          ],
          [
           "MULTI-STOREY CAR PARK",
           "NO"
          ],
          [
           "MULTI-STOREY CAR PARK",
           "NO"
          ],
          [
           "MULTI-STOREY CAR PARK",
           "NO"
          ],
          [
           "MULTI-STOREY CAR PARK",
           "SUN & PH FR 7AM-10.30PM"
          ],
          [
           "SURFACE CAR PARK",
           "SUN & PH FR 7AM-10.30PM"
          ],
          [
           "SURFACE CAR PARK",
           "NO"
          ],
          [
           "SURFACE CAR PARK",
           "NO"
          ],
          [
           "SURFACE CAR PARK",
           "NO"
          ],
          [
           "SURFACE CAR PARK",
           "NO"
          ],
          [
           "SURFACE CAR PARK",
           "NO"
          ],
          [
           "SURFACE CAR PARK",
           "NO"
          ],
          [
           "SURFACE CAR PARK",
           "SUN & PH FR 7AM-10.30PM"
          ],
          [
           "SURFACE CAR PARK",
           "SUN & PH FR 7AM-10.30PM"
          ],
          [
           "SURFACE CAR PARK",
           "NO"
          ],
          [
           "MULTI-STOREY CAR PARK",
           "SUN & PH FR 7AM-10.30PM"
          ],
          [
           "MULTI-STOREY CAR PARK",
           "SUN & PH FR 7AM-10.30PM"
          ],
          [
           "COVERED CAR PARK",
           "NO"
          ],
          [
           "SURFACE CAR PARK",
           "NO"
          ],
          [
           "MULTI-STOREY CAR PARK",
           "NO"
          ],
          [
           "MULTI-STOREY CAR PARK",
           "NO"
          ],
          [
           "MULTI-STOREY CAR PARK",
           "SUN & PH FR 7AM-10.30PM"
          ],
          [
           "MULTI-STOREY CAR PARK",
           "SUN & PH FR 7AM-10.30PM"
          ],
          [
           "SURFACE CAR PARK",
           "NO"
          ],
          [
           "SURFACE CAR PARK",
           "SUN & PH FR 7AM-10.30PM"
          ],
          [
           "SURFACE CAR PARK",
           "NO"
          ],
          [
           "SURFACE CAR PARK",
           "SUN & PH FR 7AM-10.30PM"
          ],
          [
           "SURFACE CAR PARK",
           "SUN & PH FR 7AM-10.30PM"
          ],
          [
           "SURFACE CAR PARK",
           "SUN & PH FR 7AM-10.30PM"
          ],
          [
           "SURFACE CAR PARK",
           "SUN & PH FR 7AM-10.30PM"
          ],
          [
           "SURFACE CAR PARK",
           "SUN & PH FR 7AM-10.30PM"
          ],
          [
           "SURFACE CAR PARK",
           "SUN & PH FR 7AM-10.30PM"
          ],
          [
           "SURFACE CAR PARK",
           "SUN & PH FR 7AM-10.30PM"
          ],
          [
           "SURFACE CAR PARK",
           "SUN & PH FR 7AM-10.30PM"
          ],
          [
           "MULTI-STOREY CAR PARK",
           "SUN & PH FR 7AM-10.30PM"
          ],
          [
           "MULTI-STOREY CAR PARK",
           "SUN & PH FR 7AM-10.30PM"
          ],
          [
           "MULTI-STOREY CAR PARK",
           "SUN & PH FR 7AM-10.30PM"
          ],
          [
           "MULTI-STOREY CAR PARK",
           "SUN & PH FR 7AM-10.30PM"
          ],
          [
           "SURFACE CAR PARK",
           "SUN & PH FR 7AM-10.30PM"
          ],
          [
           "MULTI-STOREY CAR PARK",
           "SUN & PH FR 7AM-10.30PM"
          ],
          [
           "SURFACE CAR PARK",
           "SUN & PH FR 7AM-10.30PM"
          ],
          [
           "SURFACE CAR PARK",
           "SUN & PH FR 7AM-10.30PM"
          ],
          [
           "MULTI-STOREY CAR PARK",
           "SUN & PH FR 7AM-10.30PM"
          ],
          [
           "MULTI-STOREY CAR PARK",
           "SUN & PH FR 7AM-10.30PM"
          ],
          [
           "MULTI-STOREY CAR PARK",
           "NO"
          ],
          [
           "SURFACE CAR PARK",
           "NO"
          ],
          [
           "MULTI-STOREY CAR PARK",
           "SUN & PH FR 7AM-10.30PM"
          ],
          [
           "BASEMENT CAR PARK",
           "NO"
          ],
          [
           "SURFACE CAR PARK",
           "SUN & PH FR 7AM-10.30PM"
          ],
          [
           "SURFACE CAR PARK",
           "SUN & PH FR 7AM-10.30PM"
          ],
          [
           "SURFACE CAR PARK",
           "SUN & PH FR 7AM-10.30PM"
          ],
          [
           "SURFACE CAR PARK",
           "SUN & PH FR 7AM-10.30PM"
          ],
          [
           "SURFACE CAR PARK",
           "SUN & PH FR 7AM-10.30PM"
          ],
          [
           "SURFACE CAR PARK",
           "SUN & PH FR 7AM-10.30PM"
          ],
          [
           "SURFACE CAR PARK",
           "SUN & PH FR 7AM-10.30PM"
          ],
          [
           "SURFACE CAR PARK",
           "SUN & PH FR 7AM-10.30PM"
          ],
          [
           "SURFACE CAR PARK",
           "SUN & PH FR 7AM-10.30PM"
          ],
          [
           "SURFACE CAR PARK",
           "SUN & PH FR 7AM-10.30PM"
          ],
          [
           "SURFACE CAR PARK",
           "SUN & PH FR 7AM-10.30PM"
          ],
          [
           "MULTI-STOREY CAR PARK",
           "SUN & PH FR 7AM-10.30PM"
          ],
          [
           "MULTI-STOREY CAR PARK",
           "SUN & PH FR 7AM-10.30PM"
          ],
          [
           "MULTI-STOREY CAR PARK",
           "SUN & PH FR 7AM-10.30PM"
          ],
          [
           "MULTI-STOREY CAR PARK",
           "NO"
          ],
          [
           "MULTI-STOREY CAR PARK",
           "NO"
          ],
          [
           "MULTI-STOREY CAR PARK",
           "SUN & PH FR 7AM-10.30PM"
          ],
          [
           "SURFACE CAR PARK",
           "NO"
          ],
          [
           "SURFACE CAR PARK",
           "SUN & PH FR 7AM-10.30PM"
          ],
          [
           "SURFACE CAR PARK",
           "SUN & PH FR 7AM-10.30PM"
          ],
          [
           "SURFACE CAR PARK",
           "SUN & PH FR 7AM-10.30PM"
          ],
          [
           "SURFACE CAR PARK",
           "SUN & PH FR 7AM-10.30PM"
          ],
          [
           "SURFACE CAR PARK",
           "NO"
          ],
          [
           "SURFACE CAR PARK",
           "NO"
          ],
          [
           "SURFACE CAR PARK",
           "SUN & PH FR 7AM-10.30PM"
          ],
          [
           "SURFACE CAR PARK",
           "SUN & PH FR 7AM-10.30PM"
          ],
          [
           "SURFACE CAR PARK",
           "SUN & PH FR 7AM-10.30PM"
          ],
          [
           "SURFACE CAR PARK",
           "SUN & PH FR 7AM-10.30PM"
          ],
          [
           "MULTI-STOREY CAR PARK",
           "SUN & PH FR 7AM-10.30PM"
          ],
          [
           "MULTI-STOREY CAR PARK",
           "NO"
          ],
          [
           "MULTI-STOREY CAR PARK",
           "NO"
          ],
          [
           "SURFACE CAR PARK",
           "NO"
          ],
          [
           "SURFACE CAR PARK",
           "SUN & PH FR 7AM-10.30PM"
          ],
          [
           "SURFACE CAR PARK",
           "SUN & PH FR 7AM-10.30PM"
          ],
          [
           "SURFACE CAR PARK",
           "SUN & PH FR 7AM-10.30PM"
          ],
          [
           "SURFACE CAR PARK",
           "SUN & PH FR 7AM-10.30PM"
          ],
          [
           "SURFACE CAR PARK",
           "SUN & PH FR 7AM-10.30PM"
          ],
          [
           "SURFACE CAR PARK",
           "SUN & PH FR 7AM-10.30PM"
          ],
          [
           "MULTI-STOREY CAR PARK",
           "SUN & PH FR 7AM-10.30PM"
          ],
          [
           "MULTI-STOREY CAR PARK",
           "SUN & PH FR 7AM-10.30PM"
          ],
          [
           "MULTI-STOREY CAR PARK",
           "SUN & PH FR 7AM-10.30PM"
          ],
          [
           "MULTI-STOREY CAR PARK",
           "SUN & PH FR 7AM-10.30PM"
          ],
          [
           "MULTI-STOREY CAR PARK",
           "SUN & PH FR 7AM-10.30PM"
          ],
          [
           "SURFACE CAR PARK",
           "SUN & PH FR 7AM-10.30PM"
          ],
          [
           "SURFACE CAR PARK",
           "SUN & PH FR 7AM-10.30PM"
          ],
          [
           "SURFACE CAR PARK",
           "SUN & PH FR 7AM-10.30PM"
          ],
          [
           "SURFACE CAR PARK",
           "SUN & PH FR 7AM-10.30PM"
          ],
          [
           "SURFACE CAR PARK",
           "SUN & PH FR 7AM-10.30PM"
          ],
          [
           "SURFACE CAR PARK",
           "SUN & PH FR 7AM-10.30PM"
          ],
          [
           "SURFACE CAR PARK",
           "SUN & PH FR 7AM-10.30PM"
          ],
          [
           "SURFACE CAR PARK",
           "SUN & PH FR 7AM-10.30PM"
          ],
          [
           "SURFACE CAR PARK",
           "SUN & PH FR 7AM-10.30PM"
          ],
          [
           "SURFACE CAR PARK",
           "SUN & PH FR 7AM-10.30PM"
          ],
          [
           "SURFACE CAR PARK",
           "SUN & PH FR 7AM-10.30PM"
          ],
          [
           "SURFACE CAR PARK",
           "SUN & PH FR 7AM-10.30PM"
          ],
          [
           "SURFACE CAR PARK",
           "SUN & PH FR 7AM-10.30PM"
          ],
          [
           "SURFACE CAR PARK",
           "SUN & PH FR 7AM-10.30PM"
          ],
          [
           "SURFACE CAR PARK",
           "SUN & PH FR 7AM-10.30PM"
          ],
          [
           "SURFACE CAR PARK",
           "SUN & PH FR 7AM-10.30PM"
          ],
          [
           "SURFACE CAR PARK",
           "NO"
          ],
          [
           "SURFACE CAR PARK",
           "SUN & PH FR 7AM-10.30PM"
          ],
          [
           "SURFACE CAR PARK",
           "SUN & PH FR 7AM-10.30PM"
          ],
          [
           "MULTI-STOREY CAR PARK",
           "NO"
          ],
          [
           "SURFACE CAR PARK",
           "SUN & PH FR 7AM-10.30PM"
          ],
          [
           "SURFACE CAR PARK",
           "SUN & PH FR 7AM-10.30PM"
          ],
          [
           "SURFACE CAR PARK",
           "SUN & PH FR 7AM-10.30PM"
          ],
          [
           "SURFACE CAR PARK",
           "SUN & PH FR 7AM-10.30PM"
          ],
          [
           "SURFACE CAR PARK",
           "SUN & PH FR 7AM-10.30PM"
          ],
          [
           "SURFACE CAR PARK",
           "SUN & PH FR 7AM-10.30PM"
          ],
          [
           "MULTI-STOREY CAR PARK",
           "SUN & PH FR 7AM-10.30PM"
          ],
          [
           "MULTI-STOREY CAR PARK",
           "SUN & PH FR 7AM-10.30PM"
          ],
          [
           "SURFACE CAR PARK",
           "NO"
          ],
          [
           "SURFACE CAR PARK",
           "NO"
          ],
          [
           "SURFACE CAR PARK",
           "NO"
          ],
          [
           "SURFACE CAR PARK",
           "NO"
          ],
          [
           "SURFACE CAR PARK",
           "NO"
          ],
          [
           "MULTI-STOREY CAR PARK",
           "NO"
          ],
          [
           "MULTI-STOREY CAR PARK",
           "NO"
          ],
          [
           "MULTI-STOREY CAR PARK",
           "NO"
          ],
          [
           "MULTI-STOREY CAR PARK",
           "SUN & PH FR 7AM-10.30PM"
          ],
          [
           "SURFACE CAR PARK",
           "NO"
          ],
          [
           "SURFACE CAR PARK",
           "NO"
          ],
          [
           "SURFACE CAR PARK",
           "NO"
          ],
          [
           "SURFACE CAR PARK",
           "SUN & PH FR 7AM-10.30PM"
          ],
          [
           "MULTI-STOREY CAR PARK",
           "SUN & PH FR 7AM-10.30PM"
          ],
          [
           "MULTI-STOREY CAR PARK",
           "SUN & PH FR 7AM-10.30PM"
          ],
          [
           "SURFACE CAR PARK",
           "SUN & PH FR 7AM-10.30PM"
          ],
          [
           "MULTI-STOREY CAR PARK",
           "NO"
          ],
          [
           "MULTI-STOREY CAR PARK",
           "SUN & PH FR 7AM-10.30PM"
          ],
          [
           "MULTI-STOREY CAR PARK",
           "SUN & PH FR 7AM-10.30PM"
          ],
          [
           "MULTI-STOREY CAR PARK",
           "SUN & PH FR 7AM-10.30PM"
          ],
          [
           "MULTI-STOREY CAR PARK",
           "SUN & PH FR 7AM-10.30PM"
          ],
          [
           "MULTI-STOREY CAR PARK",
           "SUN & PH FR 7AM-10.30PM"
          ],
          [
           "MULTI-STOREY CAR PARK",
           "SUN & PH FR 7AM-10.30PM"
          ],
          [
           "MULTI-STOREY CAR PARK",
           "SUN & PH FR 7AM-10.30PM"
          ],
          [
           "MULTI-STOREY CAR PARK",
           "SUN & PH FR 7AM-10.30PM"
          ],
          [
           "MULTI-STOREY CAR PARK",
           "NO"
          ],
          [
           "MULTI-STOREY CAR PARK",
           "SUN & PH FR 7AM-10.30PM"
          ],
          [
           "SURFACE CAR PARK",
           "NO"
          ],
          [
           "SURFACE CAR PARK",
           "NO"
          ],
          [
           "SURFACE CAR PARK",
           "NO"
          ],
          [
           "SURFACE CAR PARK",
           "NO"
          ],
          [
           "SURFACE CAR PARK",
           "NO"
          ],
          [
           "MULTI-STOREY CAR PARK",
           "SUN & PH FR 7AM-10.30PM"
          ],
          [
           "MULTI-STOREY CAR PARK",
           "SUN & PH FR 7AM-10.30PM"
          ],
          [
           "MULTI-STOREY CAR PARK",
           "SUN & PH FR 7AM-10.30PM"
          ],
          [
           "MULTI-STOREY CAR PARK",
           "SUN & PH FR 7AM-10.30PM"
          ],
          [
           "SURFACE CAR PARK",
           "NO"
          ],
          [
           "SURFACE CAR PARK",
           "NO"
          ],
          [
           "MULTI-STOREY CAR PARK",
           "SUN & PH FR 7AM-10.30PM"
          ],
          [
           "MULTI-STOREY CAR PARK",
           "SUN & PH FR 7AM-10.30PM"
          ],
          [
           "MULTI-STOREY CAR PARK",
           "SUN & PH FR 7AM-10.30PM"
          ],
          [
           "MULTI-STOREY CAR PARK",
           "SUN & PH FR 7AM-10.30PM"
          ],
          [
           "MULTI-STOREY CAR PARK",
           "SUN & PH FR 7AM-10.30PM"
          ],
          [
           "MULTI-STOREY CAR PARK",
           "NO"
          ],
          [
           "SURFACE CAR PARK",
           "NO"
          ],
          [
           "SURFACE CAR PARK",
           "NO"
          ],
          [
           "MULTI-STOREY CAR PARK",
           "SUN & PH FR 7AM-10.30PM"
          ],
          [
           "SURFACE CAR PARK",
           "NO"
          ],
          [
           "MULTI-STOREY CAR PARK",
           "NO"
          ],
          [
           "MULTI-STOREY CAR PARK",
           "SUN & PH FR 7AM-10.30PM"
          ],
          [
           "SURFACE CAR PARK",
           "SUN & PH FR 7AM-10.30PM"
          ],
          [
           "SURFACE CAR PARK",
           "SUN & PH FR 7AM-10.30PM"
          ],
          [
           "SURFACE CAR PARK",
           "SUN & PH FR 7AM-10.30PM"
          ],
          [
           "SURFACE CAR PARK",
           "SUN & PH FR 7AM-10.30PM"
          ],
          [
           "SURFACE CAR PARK",
           "SUN & PH FR 7AM-10.30PM"
          ],
          [
           "MULTI-STOREY CAR PARK",
           "SUN & PH FR 7AM-10.30PM"
          ],
          [
           "SURFACE CAR PARK",
           "SUN & PH FR 7AM-10.30PM"
          ],
          [
           "SURFACE CAR PARK",
           "SUN & PH FR 7AM-10.30PM"
          ],
          [
           "MULTI-STOREY CAR PARK",
           "SUN & PH FR 7AM-10.30PM"
          ],
          [
           "SURFACE CAR PARK",
           "SUN & PH FR 7AM-10.30PM"
          ],
          [
           "MULTI-STOREY CAR PARK",
           "SUN & PH FR 7AM-10.30PM"
          ],
          [
           "MULTI-STOREY CAR PARK",
           "SUN & PH FR 7AM-10.30PM"
          ],
          [
           "SURFACE CAR PARK",
           "NO"
          ],
          [
           "SURFACE CAR PARK",
           "NO"
          ],
          [
           "SURFACE CAR PARK",
           "NO"
          ],
          [
           "SURFACE CAR PARK",
           "SUN & PH FR 7AM-10.30PM"
          ],
          [
           "SURFACE CAR PARK",
           "SUN & PH FR 7AM-10.30PM"
          ],
          [
           "SURFACE CAR PARK",
           "SUN & PH FR 7AM-10.30PM"
          ],
          [
           "MULTI-STOREY CAR PARK",
           "SUN & PH FR 7AM-10.30PM"
          ],
          [
           "SURFACE CAR PARK",
           "SUN & PH FR 7AM-10.30PM"
          ],
          [
           "SURFACE CAR PARK",
           "NO"
          ],
          [
           "SURFACE CAR PARK",
           "NO"
          ],
          [
           "MULTI-STOREY CAR PARK",
           "SUN & PH FR 7AM-10.30PM"
          ],
          [
           "MULTI-STOREY CAR PARK",
           "SUN & PH FR 7AM-10.30PM"
          ],
          [
           "SURFACE CAR PARK",
           "NO"
          ],
          [
           "SURFACE CAR PARK",
           "NO"
          ],
          [
           "SURFACE CAR PARK",
           "NO"
          ],
          [
           "SURFACE CAR PARK",
           "SUN & PH FR 7AM-10.30PM"
          ],
          [
           "MULTI-STOREY CAR PARK",
           "NO"
          ],
          [
           "SURFACE CAR PARK",
           "NO"
          ],
          [
           "MULTI-STOREY CAR PARK",
           "SUN & PH FR 7AM-10.30PM"
          ],
          [
           "SURFACE CAR PARK",
           "SUN & PH FR 7AM-10.30PM"
          ],
          [
           "MULTI-STOREY CAR PARK",
           "SUN & PH FR 7AM-10.30PM"
          ],
          [
           "MULTI-STOREY CAR PARK",
           "SUN & PH FR 7AM-10.30PM"
          ],
          [
           "MULTI-STOREY CAR PARK",
           "SUN & PH FR 7AM-10.30PM"
          ],
          [
           "SURFACE CAR PARK",
           "SUN & PH FR 7AM-10.30PM"
          ],
          [
           "MULTI-STOREY CAR PARK",
           "SUN & PH FR 7AM-10.30PM"
          ],
          [
           "MULTI-STOREY CAR PARK",
           "SUN & PH FR 7AM-10.30PM"
          ],
          [
           "MULTI-STOREY CAR PARK",
           "SUN & PH FR 7AM-10.30PM"
          ],
          [
           "MULTI-STOREY CAR PARK",
           "SUN & PH FR 7AM-10.30PM"
          ],
          [
           "MULTI-STOREY CAR PARK",
           "SUN & PH FR 7AM-10.30PM"
          ],
          [
           "MULTI-STOREY CAR PARK",
           "SUN & PH FR 7AM-10.30PM"
          ],
          [
           "MULTI-STOREY CAR PARK",
           "SUN & PH FR 7AM-10.30PM"
          ],
          [
           "MULTI-STOREY CAR PARK",
           "SUN & PH FR 7AM-10.30PM"
          ],
          [
           "MULTI-STOREY CAR PARK",
           "SUN & PH FR 7AM-10.30PM"
          ],
          [
           "MULTI-STOREY CAR PARK",
           "SUN & PH FR 7AM-10.30PM"
          ],
          [
           "MULTI-STOREY CAR PARK",
           "SUN & PH FR 7AM-10.30PM"
          ],
          [
           "MULTI-STOREY CAR PARK",
           "SUN & PH FR 7AM-10.30PM"
          ],
          [
           "MULTI-STOREY CAR PARK",
           "SUN & PH FR 7AM-10.30PM"
          ],
          [
           "MULTI-STOREY CAR PARK",
           "SUN & PH FR 7AM-10.30PM"
          ],
          [
           "MULTI-STOREY CAR PARK",
           "SUN & PH FR 7AM-10.30PM"
          ],
          [
           "MULTI-STOREY CAR PARK",
           "SUN & PH FR 7AM-10.30PM"
          ],
          [
           "MULTI-STOREY CAR PARK",
           "SUN & PH FR 7AM-10.30PM"
          ],
          [
           "MULTI-STOREY CAR PARK",
           "SUN & PH FR 7AM-10.30PM"
          ],
          [
           "MULTI-STOREY CAR PARK",
           "SUN & PH FR 7AM-10.30PM"
          ],
          [
           "MULTI-STOREY CAR PARK",
           "SUN & PH FR 7AM-10.30PM"
          ],
          [
           "MULTI-STOREY CAR PARK",
           "SUN & PH FR 7AM-10.30PM"
          ],
          [
           "MULTI-STOREY CAR PARK",
           "SUN & PH FR 7AM-10.30PM"
          ],
          [
           "MULTI-STOREY CAR PARK",
           "SUN & PH FR 7AM-10.30PM"
          ],
          [
           "MULTI-STOREY CAR PARK",
           "SUN & PH FR 7AM-10.30PM"
          ],
          [
           "MULTI-STOREY CAR PARK",
           "NO"
          ],
          [
           "MULTI-STOREY CAR PARK",
           "NO"
          ],
          [
           "MULTI-STOREY CAR PARK",
           "SUN & PH FR 7AM-10.30PM"
          ],
          [
           "MULTI-STOREY CAR PARK",
           "SUN & PH FR 7AM-10.30PM"
          ],
          [
           "MULTI-STOREY CAR PARK",
           "SUN & PH FR 7AM-10.30PM"
          ],
          [
           "MULTI-STOREY CAR PARK",
           "SUN & PH FR 7AM-10.30PM"
          ],
          [
           "MULTI-STOREY CAR PARK",
           "SUN & PH FR 7AM-10.30PM"
          ],
          [
           "MULTI-STOREY CAR PARK",
           "SUN & PH FR 7AM-10.30PM"
          ],
          [
           "MULTI-STOREY CAR PARK",
           "SUN & PH FR 7AM-10.30PM"
          ],
          [
           "MULTI-STOREY CAR PARK",
           "SUN & PH FR 7AM-10.30PM"
          ],
          [
           "SURFACE CAR PARK",
           "SUN & PH FR 7AM-10.30PM"
          ],
          [
           "SURFACE CAR PARK",
           "NO"
          ],
          [
           "SURFACE CAR PARK",
           "NO"
          ],
          [
           "SURFACE CAR PARK",
           "NO"
          ],
          [
           "SURFACE CAR PARK",
           "SUN & PH FR 7AM-10.30PM"
          ],
          [
           "SURFACE CAR PARK",
           "NO"
          ],
          [
           "SURFACE CAR PARK",
           "NO"
          ],
          [
           "SURFACE CAR PARK",
           "SUN & PH FR 7AM-10.30PM"
          ],
          [
           "SURFACE CAR PARK",
           "SUN & PH FR 7AM-10.30PM"
          ],
          [
           "SURFACE CAR PARK",
           "SUN & PH FR 7AM-10.30PM"
          ],
          [
           "SURFACE CAR PARK",
           "SUN & PH FR 7AM-10.30PM"
          ],
          [
           "SURFACE CAR PARK",
           "SUN & PH FR 7AM-10.30PM"
          ],
          [
           "SURFACE CAR PARK",
           "SUN & PH FR 7AM-10.30PM"
          ],
          [
           "SURFACE CAR PARK",
           "SUN & PH FR 7AM-10.30PM"
          ],
          [
           "SURFACE CAR PARK",
           "SUN & PH FR 7AM-10.30PM"
          ],
          [
           "SURFACE CAR PARK",
           "SUN & PH FR 7AM-10.30PM"
          ],
          [
           "SURFACE CAR PARK",
           "SUN & PH FR 7AM-10.30PM"
          ],
          [
           "SURFACE CAR PARK",
           "SUN & PH FR 7AM-10.30PM"
          ],
          [
           "SURFACE CAR PARK",
           "SUN & PH FR 7AM-10.30PM"
          ],
          [
           "SURFACE CAR PARK",
           "SUN & PH FR 7AM-10.30PM"
          ],
          [
           "SURFACE CAR PARK",
           "NO"
          ],
          [
           "SURFACE CAR PARK",
           "SUN & PH FR 7AM-10.30PM"
          ],
          [
           "SURFACE CAR PARK",
           "SUN & PH FR 7AM-10.30PM"
          ],
          [
           "MULTI-STOREY CAR PARK",
           "SUN & PH FR 7AM-10.30PM"
          ],
          [
           "SURFACE CAR PARK",
           "SUN & PH FR 7AM-10.30PM"
          ],
          [
           "SURFACE CAR PARK",
           "SUN & PH FR 7AM-10.30PM"
          ],
          [
           "SURFACE CAR PARK",
           "SUN & PH FR 7AM-10.30PM"
          ],
          [
           "SURFACE CAR PARK",
           "SUN & PH FR 7AM-10.30PM"
          ],
          [
           "SURFACE CAR PARK",
           "SUN & PH FR 7AM-10.30PM"
          ],
          [
           "SURFACE CAR PARK",
           "SUN & PH FR 7AM-10.30PM"
          ],
          [
           "SURFACE CAR PARK",
           "SUN & PH FR 7AM-10.30PM"
          ],
          [
           "SURFACE CAR PARK",
           "SUN & PH FR 7AM-10.30PM"
          ],
          [
           "SURFACE CAR PARK",
           "SUN & PH FR 7AM-10.30PM"
          ],
          [
           "SURFACE CAR PARK",
           "SUN & PH FR 7AM-10.30PM"
          ],
          [
           "SURFACE CAR PARK",
           "SUN & PH FR 7AM-10.30PM"
          ],
          [
           "SURFACE CAR PARK",
           "SUN & PH FR 7AM-10.30PM"
          ],
          [
           "SURFACE CAR PARK",
           "SUN & PH FR 7AM-10.30PM"
          ],
          [
           "SURFACE CAR PARK",
           "SUN & PH FR 7AM-10.30PM"
          ],
          [
           "SURFACE CAR PARK",
           "NO"
          ],
          [
           "SURFACE CAR PARK",
           "SUN & PH FR 7AM-10.30PM"
          ],
          [
           "SURFACE CAR PARK",
           "NO"
          ],
          [
           "SURFACE CAR PARK",
           "SUN & PH FR 7AM-10.30PM"
          ],
          [
           "SURFACE CAR PARK",
           "SUN & PH FR 7AM-10.30PM"
          ],
          [
           "SURFACE CAR PARK",
           "NO"
          ],
          [
           "SURFACE CAR PARK",
           "SUN & PH FR 7AM-10.30PM"
          ],
          [
           "SURFACE CAR PARK",
           "SUN & PH FR 7AM-10.30PM"
          ],
          [
           "SURFACE CAR PARK",
           "SUN & PH FR 7AM-10.30PM"
          ],
          [
           "SURFACE CAR PARK",
           "NO"
          ],
          [
           "SURFACE CAR PARK",
           "NO"
          ],
          [
           "SURFACE CAR PARK",
           "SUN & PH FR 7AM-10.30PM"
          ],
          [
           "SURFACE CAR PARK",
           "SUN & PH FR 7AM-10.30PM"
          ],
          [
           "MULTI-STOREY CAR PARK",
           "SUN & PH FR 7AM-10.30PM"
          ],
          [
           "SURFACE CAR PARK",
           "SUN & PH FR 7AM-10.30PM"
          ],
          [
           "SURFACE CAR PARK",
           "SUN & PH FR 7AM-10.30PM"
          ],
          [
           "SURFACE CAR PARK",
           "SUN & PH FR 7AM-10.30PM"
          ],
          [
           "SURFACE CAR PARK",
           "SUN & PH FR 7AM-10.30PM"
          ],
          [
           "SURFACE CAR PARK",
           "SUN & PH FR 7AM-10.30PM"
          ],
          [
           "SURFACE CAR PARK",
           "SUN & PH FR 7AM-10.30PM"
          ],
          [
           "SURFACE CAR PARK",
           "SUN & PH FR 7AM-10.30PM"
          ],
          [
           "SURFACE CAR PARK",
           "NO"
          ],
          [
           "SURFACE CAR PARK",
           "NO"
          ],
          [
           "SURFACE CAR PARK",
           "NO"
          ],
          [
           "MULTI-STOREY CAR PARK",
           "NO"
          ],
          [
           "SURFACE CAR PARK",
           "SUN & PH FR 7AM-10.30PM"
          ],
          [
           "SURFACE CAR PARK",
           "NO"
          ],
          [
           "MULTI-STOREY CAR PARK",
           "NO"
          ],
          [
           "SURFACE CAR PARK",
           "SUN & PH FR 7AM-10.30PM"
          ],
          [
           "SURFACE CAR PARK",
           "SUN & PH FR 7AM-10.30PM"
          ],
          [
           "MULTI-STOREY CAR PARK",
           "SUN & PH FR 7AM-10.30PM"
          ],
          [
           "SURFACE CAR PARK",
           "SUN & PH FR 7AM-10.30PM"
          ],
          [
           "MULTI-STOREY CAR PARK",
           "SUN & PH FR 7AM-10.30PM"
          ],
          [
           "SURFACE CAR PARK",
           "SUN & PH FR 7AM-10.30PM"
          ],
          [
           "SURFACE CAR PARK",
           "SUN & PH FR 7AM-10.30PM"
          ],
          [
           "SURFACE CAR PARK",
           "SUN & PH FR 7AM-10.30PM"
          ],
          [
           "MULTI-STOREY CAR PARK",
           "SUN & PH FR 7AM-10.30PM"
          ],
          [
           "SURFACE CAR PARK",
           "SUN & PH FR 7AM-10.30PM"
          ],
          [
           "MULTI-STOREY CAR PARK",
           "SUN & PH FR 7AM-10.30PM"
          ],
          [
           "SURFACE CAR PARK",
           "SUN & PH FR 7AM-10.30PM"
          ],
          [
           "SURFACE CAR PARK",
           "SUN & PH FR 7AM-10.30PM"
          ],
          [
           "SURFACE CAR PARK",
           "SUN & PH FR 7AM-10.30PM"
          ],
          [
           "SURFACE CAR PARK",
           "SUN & PH FR 7AM-10.30PM"
          ],
          [
           "SURFACE CAR PARK",
           "SUN & PH FR 7AM-10.30PM"
          ],
          [
           "SURFACE CAR PARK",
           "SUN & PH FR 7AM-10.30PM"
          ],
          [
           "MULTI-STOREY CAR PARK",
           "NO"
          ],
          [
           "MULTI-STOREY CAR PARK",
           "SUN & PH FR 7AM-10.30PM"
          ],
          [
           "MULTI-STOREY CAR PARK",
           "SUN & PH FR 7AM-10.30PM"
          ],
          [
           "MULTI-STOREY CAR PARK",
           "SUN & PH FR 7AM-10.30PM"
          ],
          [
           "MULTI-STOREY CAR PARK",
           "SUN & PH FR 7AM-10.30PM"
          ],
          [
           "MULTI-STOREY CAR PARK",
           "SUN & PH FR 7AM-10.30PM"
          ],
          [
           "SURFACE CAR PARK",
           "SUN & PH FR 7AM-10.30PM"
          ],
          [
           "MULTI-STOREY CAR PARK",
           "SUN & PH FR 7AM-10.30PM"
          ],
          [
           "MULTI-STOREY CAR PARK",
           "SUN & PH FR 7AM-10.30PM"
          ],
          [
           "MULTI-STOREY CAR PARK",
           "SUN & PH FR 7AM-10.30PM"
          ],
          [
           "MULTI-STOREY CAR PARK",
           "SUN & PH FR 7AM-10.30PM"
          ],
          [
           "MULTI-STOREY CAR PARK",
           "SUN & PH FR 7AM-10.30PM"
          ],
          [
           "MULTI-STOREY CAR PARK",
           "SUN & PH FR 7AM-10.30PM"
          ],
          [
           "MULTI-STOREY CAR PARK",
           "SUN & PH FR 7AM-10.30PM"
          ],
          [
           "MULTI-STOREY CAR PARK",
           "SUN & PH FR 7AM-10.30PM"
          ],
          [
           "MULTI-STOREY CAR PARK",
           "NO"
          ],
          [
           "MULTI-STOREY CAR PARK",
           "SUN & PH FR 7AM-10.30PM"
          ],
          [
           "SURFACE CAR PARK",
           "SUN & PH FR 7AM-10.30PM"
          ],
          [
           "MULTI-STOREY CAR PARK",
           "SUN & PH FR 7AM-10.30PM"
          ],
          [
           "MULTI-STOREY CAR PARK",
           "SUN & PH FR 7AM-10.30PM"
          ],
          [
           "MULTI-STOREY CAR PARK",
           "SUN & PH FR 7AM-10.30PM"
          ],
          [
           "MULTI-STOREY CAR PARK",
           "SUN & PH FR 7AM-10.30PM"
          ],
          [
           "MULTI-STOREY CAR PARK",
           "SUN & PH FR 7AM-10.30PM"
          ],
          [
           "MULTI-STOREY CAR PARK",
           "SUN & PH FR 7AM-10.30PM"
          ],
          [
           "MULTI-STOREY CAR PARK",
           "SUN & PH FR 7AM-10.30PM"
          ],
          [
           "MULTI-STOREY CAR PARK",
           "SUN & PH FR 7AM-10.30PM"
          ],
          [
           "MULTI-STOREY CAR PARK",
           "SUN & PH FR 7AM-10.30PM"
          ],
          [
           "MULTI-STOREY CAR PARK",
           "SUN & PH FR 7AM-10.30PM"
          ],
          [
           "BASEMENT CAR PARK",
           "NO"
          ],
          [
           "MULTI-STOREY CAR PARK",
           "NO"
          ],
          [
           "SURFACE CAR PARK",
           "NO"
          ],
          [
           "SURFACE CAR PARK",
           "NO"
          ],
          [
           "MULTI-STOREY CAR PARK",
           "SUN & PH FR 7AM-10.30PM"
          ],
          [
           "SURFACE CAR PARK",
           "SUN & PH FR 7AM-10.30PM"
          ],
          [
           "SURFACE CAR PARK",
           "SUN & PH FR 7AM-10.30PM"
          ],
          [
           "SURFACE CAR PARK",
           "SUN & PH FR 7AM-10.30PM"
          ],
          [
           "SURFACE CAR PARK",
           "SUN & PH FR 7AM-10.30PM"
          ],
          [
           "SURFACE CAR PARK",
           "SUN & PH FR 7AM-10.30PM"
          ],
          [
           "SURFACE CAR PARK",
           "SUN & PH FR 7AM-10.30PM"
          ],
          [
           "SURFACE CAR PARK",
           "NO"
          ],
          [
           "MULTI-STOREY CAR PARK",
           "SUN & PH FR 7AM-10.30PM"
          ],
          [
           "SURFACE CAR PARK",
           "SUN & PH FR 7AM-10.30PM"
          ],
          [
           "SURFACE CAR PARK",
           "SUN & PH FR 7AM-10.30PM"
          ],
          [
           "SURFACE CAR PARK",
           "SUN & PH FR 7AM-10.30PM"
          ],
          [
           "SURFACE CAR PARK",
           "SUN & PH FR 7AM-10.30PM"
          ],
          [
           "MULTI-STOREY CAR PARK",
           "NO"
          ],
          [
           "SURFACE CAR PARK",
           "SUN & PH FR 7AM-10.30PM"
          ],
          [
           "SURFACE CAR PARK",
           "SUN & PH FR 7AM-10.30PM"
          ],
          [
           "SURFACE CAR PARK",
           "SUN & PH FR 7AM-10.30PM"
          ],
          [
           "MULTI-STOREY CAR PARK",
           "NO"
          ],
          [
           "SURFACE CAR PARK",
           "SUN & PH FR 7AM-10.30PM"
          ],
          [
           "SURFACE CAR PARK",
           "NO"
          ],
          [
           "MULTI-STOREY CAR PARK",
           "SUN & PH FR 7AM-10.30PM"
          ],
          [
           "MULTI-STOREY CAR PARK",
           "NO"
          ],
          [
           "SURFACE CAR PARK",
           "NO"
          ],
          [
           "SURFACE CAR PARK",
           "NO"
          ],
          [
           "SURFACE CAR PARK",
           "SUN & PH FR 7AM-10.30PM"
          ],
          [
           "SURFACE CAR PARK",
           "SUN & PH FR 7AM-10.30PM"
          ],
          [
           "MULTI-STOREY CAR PARK",
           "SUN & PH FR 7AM-10.30PM"
          ],
          [
           "MULTI-STOREY CAR PARK",
           "SUN & PH FR 7AM-10.30PM"
          ],
          [
           "MULTI-STOREY CAR PARK",
           "SUN & PH FR 7AM-10.30PM"
          ],
          [
           "MULTI-STOREY CAR PARK",
           "SUN & PH FR 7AM-10.30PM"
          ],
          [
           "MULTI-STOREY CAR PARK",
           "NO"
          ],
          [
           "MULTI-STOREY CAR PARK",
           "NO"
          ],
          [
           "MULTI-STOREY CAR PARK",
           "NO"
          ],
          [
           "MULTI-STOREY CAR PARK",
           "SUN & PH FR 7AM-10.30PM"
          ],
          [
           "MULTI-STOREY CAR PARK",
           "SUN & PH FR 7AM-10.30PM"
          ],
          [
           "MULTI-STOREY CAR PARK",
           "SUN & PH FR 7AM-10.30PM"
          ],
          [
           "MULTI-STOREY CAR PARK",
           "SUN & PH FR 7AM-10.30PM"
          ],
          [
           "MULTI-STOREY CAR PARK",
           "NO"
          ],
          [
           "MULTI-STOREY CAR PARK",
           "NO"
          ],
          [
           "SURFACE CAR PARK",
           "SUN & PH FR 7AM-10.30PM"
          ],
          [
           "SURFACE CAR PARK",
           "SUN & PH FR 7AM-10.30PM"
          ],
          [
           "SURFACE CAR PARK",
           "SUN & PH FR 7AM-10.30PM"
          ],
          [
           "SURFACE CAR PARK",
           "SUN & PH FR 7AM-10.30PM"
          ],
          [
           "SURFACE CAR PARK",
           "SUN & PH FR 7AM-10.30PM"
          ],
          [
           "SURFACE CAR PARK",
           "SUN & PH FR 7AM-10.30PM"
          ],
          [
           "SURFACE CAR PARK",
           "NO"
          ],
          [
           "SURFACE CAR PARK",
           "SUN & PH FR 7AM-10.30PM"
          ],
          [
           "SURFACE CAR PARK",
           "NO"
          ],
          [
           "SURFACE CAR PARK",
           "NO"
          ],
          [
           "SURFACE CAR PARK",
           "NO"
          ],
          [
           "SURFACE CAR PARK",
           "NO"
          ],
          [
           "SURFACE CAR PARK",
           "NO"
          ],
          [
           "SURFACE CAR PARK",
           "NO"
          ],
          [
           "SURFACE CAR PARK",
           "NO"
          ],
          [
           "SURFACE CAR PARK",
           "NO"
          ],
          [
           "MULTI-STOREY CAR PARK",
           "SUN & PH FR 7AM-10.30PM"
          ],
          [
           "SURFACE CAR PARK",
           "NO"
          ],
          [
           "SURFACE CAR PARK",
           "NO"
          ],
          [
           "SURFACE CAR PARK",
           "NO"
          ],
          [
           "SURFACE CAR PARK",
           "NO"
          ],
          [
           "MULTI-STOREY CAR PARK",
           "SUN & PH FR 7AM-10.30PM"
          ],
          [
           "MULTI-STOREY CAR PARK",
           "SUN & PH FR 7AM-10.30PM"
          ],
          [
           "MULTI-STOREY CAR PARK",
           "NO"
          ],
          [
           "MULTI-STOREY CAR PARK",
           "SUN & PH FR 7AM-10.30PM"
          ],
          [
           "MULTI-STOREY CAR PARK",
           "SUN & PH FR 7AM-10.30PM"
          ],
          [
           "MULTI-STOREY CAR PARK",
           "SUN & PH FR 7AM-10.30PM"
          ],
          [
           "MULTI-STOREY CAR PARK",
           "SUN & PH FR 7AM-10.30PM"
          ],
          [
           "MULTI-STOREY CAR PARK",
           "SUN & PH FR 7AM-10.30PM"
          ],
          [
           "MULTI-STOREY CAR PARK",
           "SUN & PH FR 7AM-10.30PM"
          ],
          [
           "MULTI-STOREY CAR PARK",
           "SUN & PH FR 7AM-10.30PM"
          ],
          [
           "SURFACE CAR PARK",
           "SUN & PH FR 7AM-10.30PM"
          ],
          [
           "SURFACE CAR PARK",
           "SUN & PH FR 7AM-10.30PM"
          ],
          [
           "SURFACE CAR PARK",
           "NO"
          ],
          [
           "MULTI-STOREY CAR PARK",
           "NO"
          ],
          [
           "SURFACE CAR PARK",
           "NO"
          ],
          [
           "SURFACE CAR PARK",
           "NO"
          ],
          [
           "SURFACE CAR PARK",
           "NO"
          ],
          [
           "SURFACE CAR PARK",
           "NO"
          ],
          [
           "SURFACE CAR PARK",
           "NO"
          ],
          [
           "SURFACE CAR PARK",
           "SUN & PH FR 7AM-10.30PM"
          ],
          [
           "MULTI-STOREY CAR PARK",
           "NO"
          ],
          [
           "SURFACE CAR PARK",
           "SUN & PH FR 7AM-10.30PM"
          ],
          [
           "MULTI-STOREY CAR PARK",
           "NO"
          ],
          [
           "SURFACE CAR PARK",
           "NO"
          ],
          [
           "MULTI-STOREY CAR PARK",
           "SUN & PH FR 7AM-10.30PM"
          ],
          [
           "MULTI-STOREY CAR PARK",
           "SUN & PH FR 7AM-10.30PM"
          ],
          [
           "SURFACE CAR PARK",
           "NO"
          ],
          [
           "MULTI-STOREY CAR PARK",
           "NO"
          ],
          [
           "SURFACE CAR PARK",
           "NO"
          ],
          [
           "SURFACE CAR PARK",
           "SUN & PH FR 7AM-10.30PM"
          ],
          [
           "MULTI-STOREY CAR PARK",
           "NO"
          ],
          [
           "SURFACE CAR PARK",
           "NO"
          ],
          [
           "SURFACE CAR PARK",
           "NO"
          ],
          [
           "SURFACE CAR PARK",
           "SUN & PH FR 7AM-10.30PM"
          ],
          [
           "SURFACE CAR PARK",
           "SUN & PH FR 7AM-10.30PM"
          ],
          [
           "SURFACE CAR PARK",
           "SUN & PH FR 7AM-10.30PM"
          ],
          [
           "SURFACE CAR PARK",
           "SUN & PH FR 7AM-10.30PM"
          ],
          [
           "SURFACE CAR PARK",
           "SUN & PH FR 7AM-10.30PM"
          ],
          [
           "SURFACE CAR PARK",
           "SUN & PH FR 7AM-10.30PM"
          ],
          [
           "SURFACE CAR PARK",
           "SUN & PH FR 7AM-10.30PM"
          ],
          [
           "SURFACE CAR PARK",
           "SUN & PH FR 7AM-10.30PM"
          ],
          [
           "SURFACE CAR PARK",
           "NO"
          ],
          [
           "SURFACE CAR PARK",
           "SUN & PH FR 7AM-10.30PM"
          ],
          [
           "SURFACE CAR PARK",
           "SUN & PH FR 7AM-10.30PM"
          ],
          [
           "SURFACE CAR PARK",
           "SUN & PH FR 7AM-10.30PM"
          ],
          [
           "SURFACE CAR PARK",
           "SUN & PH FR 7AM-10.30PM"
          ],
          [
           "SURFACE CAR PARK",
           "SUN & PH FR 7AM-10.30PM"
          ],
          [
           "SURFACE CAR PARK",
           "SUN & PH FR 7AM-10.30PM"
          ],
          [
           "SURFACE CAR PARK",
           "NO"
          ],
          [
           "SURFACE CAR PARK",
           "NO"
          ],
          [
           "SURFACE CAR PARK",
           "NO"
          ],
          [
           "SURFACE CAR PARK",
           "NO"
          ],
          [
           "SURFACE CAR PARK",
           "SUN & PH FR 7AM-10.30PM"
          ],
          [
           "MULTI-STOREY CAR PARK",
           "SUN & PH FR 7AM-10.30PM"
          ],
          [
           "SURFACE CAR PARK",
           "NO"
          ],
          [
           "MULTI-STOREY CAR PARK",
           "SUN & PH FR 7AM-10.30PM"
          ],
          [
           "MULTI-STOREY CAR PARK",
           "SUN & PH FR 7AM-10.30PM"
          ],
          [
           "MULTI-STOREY CAR PARK",
           "SUN & PH FR 7AM-10.30PM"
          ],
          [
           "MULTI-STOREY CAR PARK",
           "SUN & PH FR 7AM-10.30PM"
          ],
          [
           "MULTI-STOREY CAR PARK",
           "NO"
          ],
          [
           "SURFACE/MULTI-STOREY CAR PARK",
           "NO"
          ],
          [
           "SURFACE/MULTI-STOREY CAR PARK",
           "NO"
          ],
          [
           "BASEMENT CAR PARK",
           "NO"
          ],
          [
           "SURFACE/MULTI-STOREY CAR PARK",
           "NO"
          ],
          [
           "BASEMENT CAR PARK",
           "NO"
          ],
          [
           "BASEMENT CAR PARK",
           "NO"
          ],
          [
           "SURFACE/MULTI-STOREY CAR PARK",
           "NO"
          ],
          [
           "SURFACE CAR PARK",
           "NO"
          ],
          [
           "SURFACE/MULTI-STOREY CAR PARK",
           "NO"
          ],
          [
           "SURFACE/MULTI-STOREY CAR PARK",
           "NO"
          ],
          [
           "MULTI-STOREY CAR PARK",
           "NO"
          ],
          [
           "SURFACE/MULTI-STOREY CAR PARK",
           "NO"
          ],
          [
           "SURFACE/MULTI-STOREY CAR PARK",
           "NO"
          ],
          [
           "BASEMENT CAR PARK",
           "NO"
          ],
          [
           "SURFACE/MULTI-STOREY CAR PARK",
           "NO"
          ],
          [
           "SURFACE/MULTI-STOREY CAR PARK",
           "NO"
          ],
          [
           "SURFACE/MULTI-STOREY CAR PARK",
           "NO"
          ],
          [
           "SURFACE/MULTI-STOREY CAR PARK",
           "NO"
          ],
          [
           "SURFACE CAR PARK",
           "NO"
          ],
          [
           "MULTI-STOREY CAR PARK",
           "SUN & PH FR 7AM-10.30PM"
          ],
          [
           "MULTI-STOREY CAR PARK",
           "SUN & PH FR 7AM-10.30PM"
          ],
          [
           "MULTI-STOREY CAR PARK",
           "SUN & PH FR 7AM-10.30PM"
          ],
          [
           "MULTI-STOREY CAR PARK",
           "SUN & PH FR 7AM-10.30PM"
          ],
          [
           "MULTI-STOREY CAR PARK",
           "SUN & PH FR 7AM-10.30PM"
          ],
          [
           "MULTI-STOREY CAR PARK",
           "SUN & PH FR 7AM-10.30PM"
          ],
          [
           "MULTI-STOREY CAR PARK",
           "SUN & PH FR 7AM-10.30PM"
          ],
          [
           "MULTI-STOREY CAR PARK",
           "SUN & PH FR 7AM-10.30PM"
          ],
          [
           "MULTI-STOREY CAR PARK",
           "SUN & PH FR 7AM-10.30PM"
          ],
          [
           "BASEMENT CAR PARK",
           "NO"
          ],
          [
           "MULTI-STOREY CAR PARK",
           "SUN & PH FR 7AM-10.30PM"
          ],
          [
           "MULTI-STOREY CAR PARK",
           "SUN & PH FR 7AM-10.30PM"
          ],
          [
           "MULTI-STOREY CAR PARK",
           "SUN & PH FR 7AM-10.30PM"
          ],
          [
           "MULTI-STOREY CAR PARK",
           "SUN & PH FR 7AM-10.30PM"
          ],
          [
           "BASEMENT CAR PARK",
           "NO"
          ],
          [
           "MULTI-STOREY CAR PARK",
           "SUN & PH FR 7AM-10.30PM"
          ],
          [
           "MULTI-STOREY CAR PARK",
           "SUN & PH FR 7AM-10.30PM"
          ],
          [
           "MULTI-STOREY CAR PARK",
           "SUN & PH FR 7AM-10.30PM"
          ],
          [
           "MULTI-STOREY CAR PARK",
           "SUN & PH FR 7AM-10.30PM"
          ],
          [
           "BASEMENT CAR PARK",
           "NO"
          ],
          [
           "BASEMENT CAR PARK",
           "NO"
          ],
          [
           "MULTI-STOREY CAR PARK",
           "NO"
          ],
          [
           "MULTI-STOREY CAR PARK",
           "NO"
          ],
          [
           "SURFACE CAR PARK",
           "NO"
          ],
          [
           "MULTI-STOREY CAR PARK",
           "SUN & PH FR 7AM-10.30PM"
          ],
          [
           "MULTI-STOREY CAR PARK",
           "SUN & PH FR 7AM-10.30PM"
          ],
          [
           "COVERED CAR PARK",
           "NO"
          ],
          [
           "MULTI-STOREY CAR PARK",
           "SUN & PH FR 7AM-10.30PM"
          ],
          [
           "MULTI-STOREY CAR PARK",
           "SUN & PH FR 7AM-10.30PM"
          ],
          [
           "MULTI-STOREY CAR PARK",
           "NO"
          ],
          [
           "MULTI-STOREY CAR PARK",
           "NO"
          ],
          [
           "MULTI-STOREY CAR PARK",
           "NO"
          ],
          [
           "MULTI-STOREY CAR PARK",
           "NO"
          ],
          [
           "COVERED CAR PARK",
           "NO"
          ],
          [
           "SURFACE CAR PARK",
           "NO"
          ],
          [
           "MULTI-STOREY CAR PARK",
           "NO"
          ],
          [
           "COVERED CAR PARK",
           "NO"
          ],
          [
           "MULTI-STOREY CAR PARK",
           "NO"
          ],
          [
           "COVERED CAR PARK",
           "NO"
          ],
          [
           "MULTI-STOREY CAR PARK",
           "NO"
          ],
          [
           "MULTI-STOREY CAR PARK",
           "NO"
          ],
          [
           "MULTI-STOREY CAR PARK",
           "SUN & PH FR 7AM-10.30PM"
          ],
          [
           "MULTI-STOREY CAR PARK",
           "SUN & PH FR 7AM-10.30PM"
          ],
          [
           "MULTI-STOREY CAR PARK",
           "NO"
          ],
          [
           "MULTI-STOREY CAR PARK",
           "SUN & PH FR 7AM-10.30PM"
          ],
          [
           "MULTI-STOREY CAR PARK",
           "NO"
          ],
          [
           "MULTI-STOREY CAR PARK",
           "SUN & PH FR 7AM-10.30PM"
          ],
          [
           "MULTI-STOREY CAR PARK",
           "SUN & PH FR 7AM-10.30PM"
          ],
          [
           "MULTI-STOREY CAR PARK",
           "SUN & PH FR 7AM-10.30PM"
          ],
          [
           "BASEMENT CAR PARK",
           "NO"
          ],
          [
           "MULTI-STOREY CAR PARK",
           "SUN & PH FR 7AM-10.30PM"
          ],
          [
           "MULTI-STOREY CAR PARK",
           "NO"
          ],
          [
           "MULTI-STOREY CAR PARK",
           "SUN & PH FR 7AM-10.30PM"
          ],
          [
           "MULTI-STOREY CAR PARK",
           "NO"
          ],
          [
           "MULTI-STOREY CAR PARK",
           "NO"
          ],
          [
           "BASEMENT CAR PARK",
           "NO"
          ],
          [
           "MULTI-STOREY CAR PARK",
           "SUN & PH FR 7AM-10.30PM"
          ],
          [
           "MULTI-STOREY CAR PARK",
           "SUN & PH FR 7AM-10.30PM"
          ],
          [
           "MULTI-STOREY CAR PARK",
           "NO"
          ],
          [
           "MULTI-STOREY CAR PARK",
           "SUN & PH FR 7AM-10.30PM"
          ],
          [
           "MULTI-STOREY CAR PARK",
           "NO"
          ],
          [
           "MULTI-STOREY CAR PARK",
           "SUN & PH FR 7AM-10.30PM"
          ],
          [
           "MULTI-STOREY CAR PARK",
           "SUN & PH FR 7AM-10.30PM"
          ],
          [
           "MULTI-STOREY CAR PARK",
           "NO"
          ],
          [
           "MULTI-STOREY CAR PARK",
           "SUN & PH FR 7AM-10.30PM"
          ],
          [
           "MULTI-STOREY CAR PARK",
           "SUN & PH FR 7AM-10.30PM"
          ],
          [
           "MULTI-STOREY CAR PARK",
           "SUN & PH FR 7AM-10.30PM"
          ],
          [
           "MULTI-STOREY CAR PARK",
           "SUN & PH FR 7AM-10.30PM"
          ],
          [
           "MULTI-STOREY CAR PARK",
           "SUN & PH FR 7AM-10.30PM"
          ],
          [
           "MULTI-STOREY CAR PARK",
           "NO"
          ],
          [
           "BASEMENT CAR PARK",
           "NO"
          ],
          [
           "BASEMENT CAR PARK",
           "NO"
          ],
          [
           "BASEMENT CAR PARK",
           "NO"
          ],
          [
           "MULTI-STOREY CAR PARK",
           "SUN & PH FR 7AM-10.30PM"
          ],
          [
           "MULTI-STOREY CAR PARK",
           "SUN & PH FR 7AM-10.30PM"
          ],
          [
           "MULTI-STOREY CAR PARK",
           "SUN & PH FR 7AM-10.30PM"
          ],
          [
           "MULTI-STOREY CAR PARK",
           "SUN & PH FR 7AM-10.30PM"
          ],
          [
           "MULTI-STOREY CAR PARK",
           "SUN & PH FR 7AM-10.30PM"
          ],
          [
           "MULTI-STOREY CAR PARK",
           "SUN & PH FR 7AM-10.30PM"
          ],
          [
           "MULTI-STOREY CAR PARK",
           "SUN & PH FR 7AM-10.30PM"
          ],
          [
           "MULTI-STOREY CAR PARK",
           "SUN & PH FR 7AM-10.30PM"
          ],
          [
           "MULTI-STOREY CAR PARK",
           "SUN & PH FR 7AM-10.30PM"
          ],
          [
           "MULTI-STOREY CAR PARK",
           "SUN & PH FR 7AM-10.30PM"
          ],
          [
           "MULTI-STOREY CAR PARK",
           "SUN & PH FR 7AM-10.30PM"
          ],
          [
           "MULTI-STOREY CAR PARK",
           "SUN & PH FR 7AM-10.30PM"
          ],
          [
           "MULTI-STOREY CAR PARK",
           "NO"
          ],
          [
           "MULTI-STOREY CAR PARK",
           "NO"
          ],
          [
           "MULTI-STOREY CAR PARK",
           "SUN & PH FR 7AM-10.30PM"
          ],
          [
           "MULTI-STOREY CAR PARK",
           "SUN & PH FR 7AM-10.30PM"
          ],
          [
           "MULTI-STOREY CAR PARK",
           "SUN & PH FR 7AM-10.30PM"
          ],
          [
           "MULTI-STOREY CAR PARK",
           "SUN & PH FR 7AM-10.30PM"
          ],
          [
           "MULTI-STOREY CAR PARK",
           "SUN & PH FR 7AM-10.30PM"
          ],
          [
           "MULTI-STOREY CAR PARK",
           "SUN & PH FR 7AM-10.30PM"
          ],
          [
           "MULTI-STOREY CAR PARK",
           "SUN & PH FR 7AM-10.30PM"
          ],
          [
           "MULTI-STOREY CAR PARK",
           "SUN & PH FR 7AM-10.30PM"
          ],
          [
           "MULTI-STOREY CAR PARK",
           "SUN & PH FR 7AM-10.30PM"
          ],
          [
           "MULTI-STOREY CAR PARK",
           "NO"
          ],
          [
           "MULTI-STOREY CAR PARK",
           "SUN & PH FR 7AM-10.30PM"
          ],
          [
           "MULTI-STOREY CAR PARK",
           "SUN & PH FR 7AM-10.30PM"
          ],
          [
           "MULTI-STOREY CAR PARK",
           "SUN & PH FR 7AM-10.30PM"
          ],
          [
           "MULTI-STOREY CAR PARK",
           "SUN & PH FR 7AM-10.30PM"
          ],
          [
           "MULTI-STOREY CAR PARK",
           "SUN & PH FR 7AM-10.30PM"
          ],
          [
           "MULTI-STOREY CAR PARK",
           "SUN & PH FR 7AM-10.30PM"
          ],
          [
           "MULTI-STOREY CAR PARK",
           "SUN & PH FR 7AM-10.30PM"
          ],
          [
           "MULTI-STOREY CAR PARK",
           "SUN & PH FR 7AM-10.30PM"
          ],
          [
           "MULTI-STOREY CAR PARK",
           "SUN & PH FR 7AM-10.30PM"
          ],
          [
           "MULTI-STOREY CAR PARK",
           "SUN & PH FR 7AM-10.30PM"
          ],
          [
           "MULTI-STOREY CAR PARK",
           "SUN & PH FR 7AM-10.30PM"
          ],
          [
           "MULTI-STOREY CAR PARK",
           "SUN & PH FR 7AM-10.30PM"
          ],
          [
           "MULTI-STOREY CAR PARK",
           "SUN & PH FR 7AM-10.30PM"
          ],
          [
           "MULTI-STOREY CAR PARK",
           "SUN & PH FR 7AM-10.30PM"
          ],
          [
           "MULTI-STOREY CAR PARK",
           "SUN & PH FR 7AM-10.30PM"
          ],
          [
           "MULTI-STOREY CAR PARK",
           "SUN & PH FR 7AM-10.30PM"
          ],
          [
           "MULTI-STOREY CAR PARK",
           "SUN & PH FR 7AM-10.30PM"
          ],
          [
           "MULTI-STOREY CAR PARK",
           "SUN & PH FR 7AM-10.30PM"
          ],
          [
           "MULTI-STOREY CAR PARK",
           "SUN & PH FR 7AM-10.30PM"
          ],
          [
           "SURFACE CAR PARK",
           "SUN & PH FR 7AM-10.30PM"
          ],
          [
           "SURFACE CAR PARK",
           "SUN & PH FR 7AM-10.30PM"
          ],
          [
           "SURFACE CAR PARK",
           "SUN & PH FR 7AM-10.30PM"
          ],
          [
           "SURFACE CAR PARK",
           "SUN & PH FR 7AM-10.30PM"
          ],
          [
           "SURFACE CAR PARK",
           "SUN & PH FR 7AM-10.30PM"
          ],
          [
           "SURFACE CAR PARK",
           "SUN & PH FR 7AM-10.30PM"
          ],
          [
           "SURFACE CAR PARK",
           "SUN & PH FR 7AM-10.30PM"
          ],
          [
           "MULTI-STOREY CAR PARK",
           "NO"
          ],
          [
           "MULTI-STOREY CAR PARK",
           "SUN & PH FR 7AM-10.30PM"
          ],
          [
           "SURFACE CAR PARK",
           "NO"
          ],
          [
           "SURFACE CAR PARK",
           "SUN & PH FR 7AM-10.30PM"
          ],
          [
           "SURFACE CAR PARK",
           "SUN & PH FR 7AM-10.30PM"
          ],
          [
           "SURFACE CAR PARK",
           "SUN & PH FR 7AM-10.30PM"
          ],
          [
           "SURFACE CAR PARK",
           "NO"
          ],
          [
           "SURFACE CAR PARK",
           "NO"
          ],
          [
           "SURFACE CAR PARK",
           "NO"
          ],
          [
           "SURFACE CAR PARK",
           "SUN & PH FR 7AM-10.30PM"
          ],
          [
           "SURFACE CAR PARK",
           "NO"
          ],
          [
           "SURFACE CAR PARK",
           "SUN & PH FR 7AM-10.30PM"
          ],
          [
           "SURFACE CAR PARK",
           "SUN & PH FR 7AM-10.30PM"
          ],
          [
           "SURFACE CAR PARK",
           "SUN & PH FR 7AM-10.30PM"
          ],
          [
           "SURFACE CAR PARK",
           "NO"
          ],
          [
           "SURFACE CAR PARK",
           "NO"
          ],
          [
           "SURFACE CAR PARK",
           "NO"
          ],
          [
           "MULTI-STOREY CAR PARK",
           "SUN & PH FR 7AM-10.30PM"
          ],
          [
           "SURFACE CAR PARK",
           "SUN & PH FR 7AM-10.30PM"
          ],
          [
           "SURFACE CAR PARK",
           "SUN & PH FR 7AM-10.30PM"
          ],
          [
           "SURFACE CAR PARK",
           "SUN & PH FR 7AM-10.30PM"
          ],
          [
           "SURFACE CAR PARK",
           "SUN & PH FR 7AM-10.30PM"
          ],
          [
           "SURFACE CAR PARK",
           "SUN & PH FR 7AM-10.30PM"
          ],
          [
           "SURFACE CAR PARK",
           "SUN & PH FR 7AM-10.30PM"
          ],
          [
           "SURFACE CAR PARK",
           "SUN & PH FR 7AM-10.30PM"
          ],
          [
           "MULTI-STOREY CAR PARK",
           "SUN & PH FR 7AM-10.30PM"
          ],
          [
           "MULTI-STOREY CAR PARK",
           "SUN & PH FR 7AM-10.30PM"
          ],
          [
           "SURFACE CAR PARK",
           "NO"
          ],
          [
           "SURFACE CAR PARK",
           "NO"
          ],
          [
           "MULTI-STOREY CAR PARK",
           "SUN & PH FR 7AM-10.30PM"
          ],
          [
           "SURFACE CAR PARK",
           "NO"
          ],
          [
           "MULTI-STOREY CAR PARK",
           "SUN & PH FR 7AM-10.30PM"
          ],
          [
           "SURFACE CAR PARK",
           "NO"
          ],
          [
           "MULTI-STOREY CAR PARK",
           "SUN & PH FR 7AM-10.30PM"
          ],
          [
           "SURFACE CAR PARK",
           "NO"
          ],
          [
           "MULTI-STOREY CAR PARK",
           "SUN & PH FR 7AM-10.30PM"
          ],
          [
           "SURFACE CAR PARK",
           "NO"
          ],
          [
           "SURFACE CAR PARK",
           "NO"
          ],
          [
           "SURFACE CAR PARK",
           "NO"
          ],
          [
           "MULTI-STOREY CAR PARK",
           "SUN & PH FR 7AM-10.30PM"
          ],
          [
           "MULTI-STOREY CAR PARK",
           "SUN & PH FR 7AM-10.30PM"
          ],
          [
           "SURFACE CAR PARK",
           "SUN & PH FR 7AM-10.30PM"
          ],
          [
           "SURFACE CAR PARK",
           "SUN & PH FR 7AM-10.30PM"
          ],
          [
           "SURFACE CAR PARK",
           "SUN & PH FR 7AM-10.30PM"
          ],
          [
           "SURFACE CAR PARK",
           "SUN & PH FR 7AM-10.30PM"
          ],
          [
           "SURFACE CAR PARK",
           "NO"
          ],
          [
           "SURFACE CAR PARK",
           "SUN & PH FR 7AM-10.30PM"
          ],
          [
           "SURFACE CAR PARK",
           "SUN & PH FR 7AM-10.30PM"
          ],
          [
           "SURFACE CAR PARK",
           "NO"
          ],
          [
           "SURFACE CAR PARK",
           "NO"
          ],
          [
           "SURFACE CAR PARK",
           "SUN & PH FR 7AM-10.30PM"
          ],
          [
           "SURFACE CAR PARK",
           "NO"
          ],
          [
           "SURFACE CAR PARK",
           "SUN & PH FR 7AM-10.30PM"
          ],
          [
           "SURFACE CAR PARK",
           "SUN & PH FR 7AM-10.30PM"
          ],
          [
           "SURFACE CAR PARK",
           "NO"
          ],
          [
           "SURFACE CAR PARK",
           "NO"
          ],
          [
           "SURFACE CAR PARK",
           "NO"
          ],
          [
           "SURFACE CAR PARK",
           "SUN & PH FR 7AM-10.30PM"
          ],
          [
           "SURFACE CAR PARK",
           "NO"
          ],
          [
           "SURFACE CAR PARK",
           "NO"
          ],
          [
           "SURFACE CAR PARK",
           "SUN & PH FR 7AM-10.30PM"
          ],
          [
           "SURFACE CAR PARK",
           "SUN & PH FR 7AM-10.30PM"
          ],
          [
           "SURFACE CAR PARK",
           "SUN & PH FR 7AM-10.30PM"
          ],
          [
           "SURFACE CAR PARK",
           "SUN & PH FR 7AM-10.30PM"
          ],
          [
           "SURFACE CAR PARK",
           "NO"
          ],
          [
           "SURFACE CAR PARK",
           "NO"
          ],
          [
           "SURFACE CAR PARK",
           "NO"
          ],
          [
           "SURFACE CAR PARK",
           "NO"
          ],
          [
           "MULTI-STOREY CAR PARK",
           "SUN & PH FR 7AM-10.30PM"
          ],
          [
           "MULTI-STOREY CAR PARK",
           "NO"
          ],
          [
           "SURFACE CAR PARK",
           "NO"
          ],
          [
           "SURFACE CAR PARK",
           "NO"
          ],
          [
           "SURFACE CAR PARK",
           "NO"
          ],
          [
           "SURFACE CAR PARK",
           "SUN & PH FR 7AM-10.30PM"
          ],
          [
           "SURFACE CAR PARK",
           "SUN & PH FR 7AM-10.30PM"
          ],
          [
           "MULTI-STOREY CAR PARK",
           "SUN & PH FR 7AM-10.30PM"
          ],
          [
           "MULTI-STOREY CAR PARK",
           "SUN & PH FR 7AM-10.30PM"
          ],
          [
           "MULTI-STOREY CAR PARK",
           "SUN & PH FR 7AM-10.30PM"
          ],
          [
           "MULTI-STOREY CAR PARK",
           "SUN & PH FR 7AM-10.30PM"
          ],
          [
           "SURFACE CAR PARK",
           "NO"
          ],
          [
           "SURFACE CAR PARK",
           "NO"
          ],
          [
           "SURFACE CAR PARK",
           "NO"
          ],
          [
           "SURFACE CAR PARK",
           "NO"
          ],
          [
           "SURFACE CAR PARK",
           "NO"
          ],
          [
           "SURFACE CAR PARK",
           "NO"
          ],
          [
           "SURFACE CAR PARK",
           "NO"
          ],
          [
           "SURFACE CAR PARK",
           "NO"
          ],
          [
           "MULTI-STOREY CAR PARK",
           "SUN & PH FR 7AM-10.30PM"
          ],
          [
           "SURFACE CAR PARK",
           "SUN & PH FR 7AM-10.30PM"
          ],
          [
           "SURFACE CAR PARK",
           "SUN & PH FR 7AM-10.30PM"
          ],
          [
           "SURFACE CAR PARK",
           "SUN & PH FR 7AM-10.30PM"
          ],
          [
           "MULTI-STOREY CAR PARK",
           "SUN & PH FR 7AM-10.30PM"
          ],
          [
           "MULTI-STOREY CAR PARK",
           "SUN & PH FR 7AM-10.30PM"
          ],
          [
           "MULTI-STOREY CAR PARK",
           "SUN & PH FR 7AM-10.30PM"
          ],
          [
           "MULTI-STOREY CAR PARK",
           "SUN & PH FR 7AM-10.30PM"
          ],
          [
           "SURFACE CAR PARK",
           "NO"
          ],
          [
           "MULTI-STOREY CAR PARK",
           "SUN & PH FR 7AM-10.30PM"
          ],
          [
           "MULTI-STOREY CAR PARK",
           "NO"
          ],
          [
           "MULTI-STOREY CAR PARK",
           "SUN & PH FR 7AM-10.30PM"
          ],
          [
           "MULTI-STOREY CAR PARK",
           "SUN & PH FR 7AM-10.30PM"
          ],
          [
           "MULTI-STOREY CAR PARK",
           "SUN & PH FR 7AM-10.30PM"
          ],
          [
           "MULTI-STOREY CAR PARK",
           "SUN & PH FR 7AM-10.30PM"
          ],
          [
           "MULTI-STOREY CAR PARK",
           "SUN & PH FR 7AM-10.30PM"
          ],
          [
           "MULTI-STOREY CAR PARK",
           "SUN & PH FR 7AM-10.30PM"
          ],
          [
           "MULTI-STOREY CAR PARK",
           "SUN & PH FR 7AM-10.30PM"
          ],
          [
           "MULTI-STOREY CAR PARK",
           "SUN & PH FR 7AM-10.30PM"
          ],
          [
           "MULTI-STOREY CAR PARK",
           "SUN & PH FR 7AM-10.30PM"
          ],
          [
           "MULTI-STOREY CAR PARK",
           "SUN & PH FR 7AM-10.30PM"
          ],
          [
           "MULTI-STOREY CAR PARK",
           "SUN & PH FR 7AM-10.30PM"
          ],
          [
           "MULTI-STOREY CAR PARK",
           "SUN & PH FR 7AM-10.30PM"
          ],
          [
           "MULTI-STOREY CAR PARK",
           "SUN & PH FR 7AM-10.30PM"
          ],
          [
           "MULTI-STOREY CAR PARK",
           "SUN & PH FR 7AM-10.30PM"
          ],
          [
           "MULTI-STOREY CAR PARK",
           "SUN & PH FR 7AM-10.30PM"
          ],
          [
           "MULTI-STOREY CAR PARK",
           "SUN & PH FR 7AM-10.30PM"
          ],
          [
           "MULTI-STOREY CAR PARK",
           "SUN & PH FR 7AM-10.30PM"
          ],
          [
           "MULTI-STOREY CAR PARK",
           "SUN & PH FR 7AM-10.30PM"
          ],
          [
           "MULTI-STOREY CAR PARK",
           "SUN & PH FR 7AM-10.30PM"
          ],
          [
           "MULTI-STOREY CAR PARK",
           "SUN & PH FR 7AM-10.30PM"
          ],
          [
           "MULTI-STOREY CAR PARK",
           "SUN & PH FR 7AM-10.30PM"
          ],
          [
           "MULTI-STOREY CAR PARK",
           "SUN & PH FR 7AM-10.30PM"
          ],
          [
           "MULTI-STOREY CAR PARK",
           "SUN & PH FR 7AM-10.30PM"
          ],
          [
           "MULTI-STOREY CAR PARK",
           "SUN & PH FR 7AM-10.30PM"
          ],
          [
           "MULTI-STOREY CAR PARK",
           "NO"
          ],
          [
           "MULTI-STOREY CAR PARK",
           "SUN & PH FR 7AM-10.30PM"
          ],
          [
           "MULTI-STOREY CAR PARK",
           "SUN & PH FR 7AM-10.30PM"
          ],
          [
           "SURFACE CAR PARK",
           "NO"
          ],
          [
           "MULTI-STOREY CAR PARK",
           "SUN & PH FR 7AM-10.30PM"
          ],
          [
           "MULTI-STOREY CAR PARK",
           "SUN & PH FR 7AM-10.30PM"
          ],
          [
           "MULTI-STOREY CAR PARK",
           "SUN & PH FR 7AM-10.30PM"
          ],
          [
           "MULTI-STOREY CAR PARK",
           "SUN & PH FR 7AM-10.30PM"
          ],
          [
           "MULTI-STOREY CAR PARK",
           "SUN & PH FR 7AM-10.30PM"
          ],
          [
           "MULTI-STOREY CAR PARK",
           "SUN & PH FR 7AM-10.30PM"
          ],
          [
           "MULTI-STOREY CAR PARK",
           "SUN & PH FR 7AM-10.30PM"
          ],
          [
           "MULTI-STOREY CAR PARK",
           "SUN & PH FR 7AM-10.30PM"
          ],
          [
           "MULTI-STOREY CAR PARK",
           "SUN & PH FR 7AM-10.30PM"
          ],
          [
           "MULTI-STOREY CAR PARK",
           "NO"
          ],
          [
           "MULTI-STOREY CAR PARK",
           "SUN & PH FR 7AM-10.30PM"
          ],
          [
           "MULTI-STOREY CAR PARK",
           "NO"
          ],
          [
           "MULTI-STOREY CAR PARK",
           "SUN & PH FR 7AM-10.30PM"
          ],
          [
           "MULTI-STOREY CAR PARK",
           "SUN & PH FR 7AM-10.30PM"
          ],
          [
           "MULTI-STOREY CAR PARK",
           "SUN & PH FR 7AM-10.30PM"
          ],
          [
           "MULTI-STOREY CAR PARK",
           "SUN & PH FR 7AM-10.30PM"
          ],
          [
           "MULTI-STOREY CAR PARK",
           "SUN & PH FR 7AM-10.30PM"
          ],
          [
           "MULTI-STOREY CAR PARK",
           "SUN & PH FR 7AM-10.30PM"
          ],
          [
           "MULTI-STOREY CAR PARK",
           "SUN & PH FR 7AM-10.30PM"
          ],
          [
           "MULTI-STOREY CAR PARK",
           "SUN & PH FR 7AM-10.30PM"
          ],
          [
           "MULTI-STOREY CAR PARK",
           "SUN & PH FR 7AM-10.30PM"
          ],
          [
           "SURFACE CAR PARK",
           "SUN & PH FR 7AM-10.30PM"
          ],
          [
           "SURFACE CAR PARK",
           "SUN & PH FR 7AM-10.30PM"
          ],
          [
           "SURFACE CAR PARK",
           "NO"
          ],
          [
           "SURFACE CAR PARK",
           "NO"
          ],
          [
           "SURFACE CAR PARK",
           "SUN & PH FR 7AM-10.30PM"
          ],
          [
           "SURFACE CAR PARK",
           "SUN & PH FR 7AM-10.30PM"
          ],
          [
           "SURFACE CAR PARK",
           "SUN & PH FR 7AM-10.30PM"
          ],
          [
           "SURFACE CAR PARK",
           "NO"
          ],
          [
           "SURFACE CAR PARK",
           "NO"
          ],
          [
           "SURFACE CAR PARK",
           "NO"
          ],
          [
           "SURFACE CAR PARK",
           "SUN & PH FR 7AM-10.30PM"
          ],
          [
           "SURFACE CAR PARK",
           "SUN & PH FR 7AM-10.30PM"
          ],
          [
           "SURFACE CAR PARK",
           "SUN & PH FR 7AM-10.30PM"
          ],
          [
           "SURFACE CAR PARK",
           "NO"
          ],
          [
           "SURFACE CAR PARK",
           "SUN & PH FR 7AM-10.30PM"
          ],
          [
           "SURFACE CAR PARK",
           "NO"
          ],
          [
           "SURFACE CAR PARK",
           "NO"
          ],
          [
           "SURFACE CAR PARK",
           "NO"
          ],
          [
           "SURFACE CAR PARK",
           "SUN & PH FR 7AM-10.30PM"
          ],
          [
           "MULTI-STOREY CAR PARK",
           "NO"
          ],
          [
           "SURFACE CAR PARK",
           "SUN & PH FR 7AM-10.30PM"
          ],
          [
           "SURFACE CAR PARK",
           "SUN & PH FR 7AM-10.30PM"
          ],
          [
           "MULTI-STOREY CAR PARK",
           "SUN & PH FR 7AM-10.30PM"
          ],
          [
           "SURFACE CAR PARK",
           "NO"
          ],
          [
           "SURFACE CAR PARK",
           "SUN & PH FR 7AM-10.30PM"
          ],
          [
           "SURFACE CAR PARK",
           "NO"
          ],
          [
           "SURFACE CAR PARK",
           "SUN & PH FR 7AM-10.30PM"
          ],
          [
           "MULTI-STOREY CAR PARK",
           "NO"
          ],
          [
           "MULTI-STOREY CAR PARK",
           "SUN & PH FR 7AM-10.30PM"
          ],
          [
           "SURFACE CAR PARK",
           "SUN & PH FR 7AM-10.30PM"
          ],
          [
           "MULTI-STOREY CAR PARK",
           "SUN & PH FR 7AM-10.30PM"
          ],
          [
           "SURFACE CAR PARK",
           "SUN & PH FR 7AM-10.30PM"
          ],
          [
           "SURFACE CAR PARK",
           "SUN & PH FR 7AM-10.30PM"
          ],
          [
           "SURFACE CAR PARK",
           "SUN & PH FR 7AM-10.30PM"
          ],
          [
           "SURFACE CAR PARK",
           "SUN & PH FR 7AM-10.30PM"
          ],
          [
           "SURFACE CAR PARK",
           "SUN & PH FR 7AM-10.30PM"
          ],
          [
           "SURFACE CAR PARK",
           "SUN & PH FR 7AM-10.30PM"
          ],
          [
           "MULTI-STOREY CAR PARK",
           "SUN & PH FR 7AM-10.30PM"
          ],
          [
           "MULTI-STOREY CAR PARK",
           "SUN & PH FR 7AM-10.30PM"
          ],
          [
           "SURFACE CAR PARK",
           "SUN & PH FR 7AM-10.30PM"
          ],
          [
           "MULTI-STOREY CAR PARK",
           "NO"
          ],
          [
           "SURFACE CAR PARK",
           "SUN & PH FR 7AM-10.30PM"
          ],
          [
           "MULTI-STOREY CAR PARK",
           "SUN & PH FR 7AM-10.30PM"
          ],
          [
           "MULTI-STOREY CAR PARK",
           "SUN & PH FR 7AM-10.30PM"
          ],
          [
           "MULTI-STOREY CAR PARK",
           "SUN & PH FR 7AM-10.30PM"
          ],
          [
           "SURFACE CAR PARK",
           "NO"
          ],
          [
           "BASEMENT CAR PARK",
           "SUN & PH FR 7AM-10.30PM"
          ],
          [
           "MULTI-STOREY CAR PARK",
           "SUN & PH FR 7AM-10.30PM"
          ],
          [
           "MULTI-STOREY CAR PARK",
           "SUN & PH FR 7AM-10.30PM"
          ],
          [
           "SURFACE CAR PARK",
           "NO"
          ],
          [
           "MULTI-STOREY CAR PARK",
           "SUN & PH FR 7AM-10.30PM"
          ],
          [
           "SURFACE CAR PARK",
           "NO"
          ],
          [
           "SURFACE CAR PARK",
           "SUN & PH FR 7AM-10.30PM"
          ],
          [
           "SURFACE CAR PARK",
           "SUN & PH FR 7AM-10.30PM"
          ],
          [
           "SURFACE CAR PARK",
           "SUN & PH FR 7AM-10.30PM"
          ],
          [
           "MULTI-STOREY CAR PARK",
           "SUN & PH FR 7AM-10.30PM"
          ],
          [
           "MULTI-STOREY CAR PARK",
           "SUN & PH FR 7AM-10.30PM"
          ],
          [
           "SURFACE CAR PARK",
           "SUN & PH FR 7AM-10.30PM"
          ],
          [
           "SURFACE CAR PARK",
           "SUN & PH FR 7AM-10.30PM"
          ],
          [
           "SURFACE CAR PARK",
           "SUN & PH FR 7AM-10.30PM"
          ],
          [
           "SURFACE CAR PARK",
           "SUN & PH FR 7AM-10.30PM"
          ],
          [
           "SURFACE CAR PARK",
           "SUN & PH FR 7AM-10.30PM"
          ],
          [
           "MULTI-STOREY CAR PARK",
           "SUN & PH FR 7AM-10.30PM"
          ],
          [
           "MULTI-STOREY CAR PARK",
           "SUN & PH FR 7AM-10.30PM"
          ],
          [
           "MULTI-STOREY CAR PARK",
           "SUN & PH FR 7AM-10.30PM"
          ],
          [
           "MULTI-STOREY CAR PARK",
           "SUN & PH FR 7AM-10.30PM"
          ],
          [
           "MULTI-STOREY CAR PARK",
           "SUN & PH FR 7AM-10.30PM"
          ],
          [
           "MULTI-STOREY CAR PARK",
           "NO"
          ],
          [
           "MULTI-STOREY CAR PARK",
           "NO"
          ],
          [
           "SURFACE CAR PARK",
           "SUN & PH FR 7AM-10.30PM"
          ],
          [
           "SURFACE CAR PARK",
           "SUN & PH FR 7AM-10.30PM"
          ],
          [
           "SURFACE CAR PARK",
           "SUN & PH FR 7AM-10.30PM"
          ],
          [
           "SURFACE CAR PARK",
           "SUN & PH FR 7AM-10.30PM"
          ],
          [
           "SURFACE CAR PARK",
           "SUN & PH FR 7AM-10.30PM"
          ],
          [
           "SURFACE CAR PARK",
           "NO"
          ],
          [
           "SURFACE CAR PARK",
           "SUN & PH FR 7AM-10.30PM"
          ],
          [
           "SURFACE CAR PARK",
           "SUN & PH FR 7AM-10.30PM"
          ],
          [
           "SURFACE CAR PARK",
           "SUN & PH FR 7AM-10.30PM"
          ],
          [
           "SURFACE CAR PARK",
           "SUN & PH FR 7AM-10.30PM"
          ],
          [
           "SURFACE CAR PARK",
           "SUN & PH FR 7AM-10.30PM"
          ],
          [
           "SURFACE CAR PARK",
           "SUN & PH FR 7AM-10.30PM"
          ],
          [
           "SURFACE CAR PARK",
           "SUN & PH FR 7AM-10.30PM"
          ],
          [
           "SURFACE CAR PARK",
           "SUN & PH FR 7AM-10.30PM"
          ],
          [
           "MULTI-STOREY CAR PARK",
           "SUN & PH FR 7AM-10.30PM"
          ],
          [
           "SURFACE CAR PARK",
           "NO"
          ],
          [
           "MULTI-STOREY CAR PARK",
           "SUN & PH FR 7AM-10.30PM"
          ],
          [
           "MULTI-STOREY CAR PARK",
           "SUN & PH FR 7AM-10.30PM"
          ],
          [
           "MULTI-STOREY CAR PARK",
           "SUN & PH FR 7AM-10.30PM"
          ],
          [
           "MULTI-STOREY CAR PARK",
           "SUN & PH FR 7AM-10.30PM"
          ],
          [
           "MULTI-STOREY CAR PARK",
           "SUN & PH FR 7AM-10.30PM"
          ],
          [
           "MULTI-STOREY CAR PARK",
           "SUN & PH FR 7AM-10.30PM"
          ],
          [
           "MULTI-STOREY CAR PARK",
           "SUN & PH FR 7AM-10.30PM"
          ],
          [
           "MULTI-STOREY CAR PARK",
           "SUN & PH FR 7AM-10.30PM"
          ],
          [
           "MULTI-STOREY CAR PARK",
           "SUN & PH FR 7AM-10.30PM"
          ],
          [
           "MULTI-STOREY CAR PARK",
           "SUN & PH FR 7AM-10.30PM"
          ],
          [
           "MULTI-STOREY CAR PARK",
           "SUN & PH FR 7AM-10.30PM"
          ],
          [
           "MULTI-STOREY CAR PARK",
           "SUN & PH FR 7AM-10.30PM"
          ],
          [
           "MULTI-STOREY CAR PARK",
           "SUN & PH FR 7AM-10.30PM"
          ],
          [
           "MULTI-STOREY CAR PARK",
           "SUN & PH FR 7AM-10.30PM"
          ],
          [
           "MULTI-STOREY CAR PARK",
           "SUN & PH FR 7AM-10.30PM"
          ],
          [
           "MULTI-STOREY CAR PARK",
           "SUN & PH FR 7AM-10.30PM"
          ],
          [
           "MULTI-STOREY CAR PARK",
           "SUN & PH FR 7AM-10.30PM"
          ],
          [
           "MULTI-STOREY CAR PARK",
           "NO"
          ],
          [
           "BASEMENT CAR PARK",
           "SUN & PH FR 7AM-10.30PM"
          ],
          [
           "MULTI-STOREY CAR PARK",
           "SUN & PH FR 7AM-10.30PM"
          ],
          [
           "MULTI-STOREY CAR PARK",
           "SUN & PH FR 7AM-10.30PM"
          ],
          [
           "MULTI-STOREY CAR PARK",
           "SUN & PH FR 7AM-10.30PM"
          ],
          [
           "MULTI-STOREY CAR PARK",
           "SUN & PH FR 7AM-10.30PM"
          ],
          [
           "MULTI-STOREY CAR PARK",
           "SUN & PH FR 7AM-10.30PM"
          ],
          [
           "MULTI-STOREY CAR PARK",
           "SUN & PH FR 7AM-10.30PM"
          ],
          [
           "MULTI-STOREY CAR PARK",
           "SUN & PH FR 7AM-10.30PM"
          ],
          [
           "MULTI-STOREY CAR PARK",
           "SUN & PH FR 7AM-10.30PM"
          ],
          [
           "MULTI-STOREY CAR PARK",
           "SUN & PH FR 7AM-10.30PM"
          ],
          [
           "MULTI-STOREY CAR PARK",
           "SUN & PH FR 7AM-10.30PM"
          ],
          [
           "MULTI-STOREY CAR PARK",
           "SUN & PH FR 7AM-10.30PM"
          ],
          [
           "MULTI-STOREY CAR PARK",
           "SUN & PH FR 7AM-10.30PM"
          ],
          [
           "MULTI-STOREY CAR PARK",
           "SUN & PH FR 7AM-10.30PM"
          ],
          [
           "MULTI-STOREY CAR PARK",
           "SUN & PH FR 7AM-10.30PM"
          ],
          [
           "MULTI-STOREY CAR PARK",
           "SUN & PH FR 7AM-10.30PM"
          ],
          [
           "MULTI-STOREY CAR PARK",
           "SUN & PH FR 7AM-10.30PM"
          ],
          [
           "MULTI-STOREY CAR PARK",
           "SUN & PH FR 7AM-10.30PM"
          ],
          [
           "MULTI-STOREY CAR PARK",
           "SUN & PH FR 7AM-10.30PM"
          ],
          [
           "MULTI-STOREY CAR PARK",
           "SUN & PH FR 7AM-10.30PM"
          ],
          [
           "MULTI-STOREY CAR PARK",
           "SUN & PH FR 7AM-10.30PM"
          ],
          [
           "MULTI-STOREY CAR PARK",
           "SUN & PH FR 7AM-10.30PM"
          ],
          [
           "MULTI-STOREY CAR PARK",
           "SUN & PH FR 7AM-10.30PM"
          ],
          [
           "MULTI-STOREY CAR PARK",
           "SUN & PH FR 7AM-10.30PM"
          ],
          [
           "MULTI-STOREY CAR PARK",
           "SUN & PH FR 7AM-10.30PM"
          ],
          [
           "MULTI-STOREY CAR PARK",
           "SUN & PH FR 7AM-10.30PM"
          ],
          [
           "MULTI-STOREY CAR PARK",
           "SUN & PH FR 7AM-10.30PM"
          ],
          [
           "MULTI-STOREY CAR PARK",
           "SUN & PH FR 7AM-10.30PM"
          ],
          [
           "MULTI-STOREY CAR PARK",
           "SUN & PH FR 7AM-10.30PM"
          ],
          [
           "MULTI-STOREY CAR PARK",
           "SUN & PH FR 7AM-10.30PM"
          ],
          [
           "MULTI-STOREY CAR PARK",
           "SUN & PH FR 7AM-10.30PM"
          ],
          [
           "MULTI-STOREY CAR PARK",
           "SUN & PH FR 7AM-10.30PM"
          ],
          [
           "MULTI-STOREY CAR PARK",
           "SUN & PH FR 7AM-10.30PM"
          ],
          [
           "SURFACE CAR PARK",
           "NO"
          ],
          [
           "MULTI-STOREY CAR PARK",
           "SUN & PH FR 7AM-10.30PM"
          ],
          [
           "MULTI-STOREY CAR PARK",
           "SUN & PH FR 7AM-10.30PM"
          ],
          [
           "MULTI-STOREY CAR PARK",
           "SUN & PH FR 7AM-10.30PM"
          ],
          [
           "MULTI-STOREY CAR PARK",
           "SUN & PH FR 7AM-10.30PM"
          ],
          [
           "MULTI-STOREY CAR PARK",
           "SUN & PH FR 7AM-10.30PM"
          ],
          [
           "MULTI-STOREY CAR PARK",
           "SUN & PH FR 7AM-10.30PM"
          ],
          [
           "MULTI-STOREY CAR PARK",
           "SUN & PH FR 7AM-10.30PM"
          ],
          [
           "MULTI-STOREY CAR PARK",
           "SUN & PH FR 7AM-10.30PM"
          ],
          [
           "MULTI-STOREY CAR PARK",
           "SUN & PH FR 7AM-10.30PM"
          ],
          [
           "BASEMENT CAR PARK",
           "NO"
          ],
          [
           "MULTI-STOREY CAR PARK",
           "NO"
          ],
          [
           "MULTI-STOREY CAR PARK",
           "SUN & PH FR 7AM-10.30PM"
          ],
          [
           "BASEMENT CAR PARK",
           "NO"
          ],
          [
           "BASEMENT CAR PARK",
           "NO"
          ],
          [
           "BASEMENT CAR PARK",
           "NO"
          ],
          [
           "MULTI-STOREY CAR PARK",
           "NO"
          ],
          [
           "MULTI-STOREY CAR PARK",
           "NO"
          ],
          [
           "MULTI-STOREY CAR PARK",
           "NO"
          ],
          [
           "MULTI-STOREY CAR PARK",
           "NO"
          ],
          [
           "MULTI-STOREY CAR PARK",
           "NO"
          ],
          [
           "MULTI-STOREY CAR PARK",
           "SUN & PH FR 7AM-10.30PM"
          ],
          [
           "COVERED CAR PARK",
           "NO"
          ],
          [
           "MULTI-STOREY CAR PARK",
           "SUN & PH FR 7AM-10.30PM"
          ],
          [
           "MULTI-STOREY CAR PARK",
           "NO"
          ],
          [
           "MULTI-STOREY CAR PARK",
           "NO"
          ],
          [
           "SURFACE CAR PARK",
           "NO"
          ],
          [
           "MULTI-STOREY CAR PARK",
           "NO"
          ],
          [
           "MULTI-STOREY CAR PARK",
           "SUN & PH FR 7AM-10.30PM"
          ],
          [
           "MULTI-STOREY CAR PARK",
           "SUN & PH FR 7AM-10.30PM"
          ],
          [
           "MULTI-STOREY CAR PARK",
           "NO"
          ],
          [
           "MULTI-STOREY CAR PARK",
           "NO"
          ],
          [
           "MULTI-STOREY CAR PARK",
           "NO"
          ],
          [
           "MULTI-STOREY CAR PARK",
           "NO"
          ],
          [
           "MULTI-STOREY CAR PARK",
           "SUN & PH FR 7AM-10.30PM"
          ],
          [
           "MULTI-STOREY CAR PARK",
           "SUN & PH FR 7AM-10.30PM"
          ],
          [
           "MULTI-STOREY CAR PARK",
           "SUN & PH FR 7AM-10.30PM"
          ],
          [
           "MULTI-STOREY CAR PARK",
           "SUN & PH FR 7AM-10.30PM"
          ],
          [
           "MULTI-STOREY CAR PARK",
           "SUN & PH FR 7AM-10.30PM"
          ],
          [
           "MULTI-STOREY CAR PARK",
           "SUN & PH FR 7AM-10.30PM"
          ],
          [
           "MULTI-STOREY CAR PARK",
           "SUN & PH FR 7AM-10.30PM"
          ],
          [
           "MULTI-STOREY CAR PARK",
           "SUN & PH FR 7AM-10.30PM"
          ],
          [
           "SURFACE CAR PARK",
           "NO"
          ],
          [
           "COVERED CAR PARK",
           "SUN & PH FR 7AM-10.30PM"
          ],
          [
           "MULTI-STOREY CAR PARK",
           "SUN & PH FR 7AM-10.30PM"
          ],
          [
           "SURFACE CAR PARK",
           "NO"
          ],
          [
           "SURFACE CAR PARK",
           "NO"
          ],
          [
           "SURFACE CAR PARK",
           "NO"
          ],
          [
           "MULTI-STOREY CAR PARK",
           "SUN & PH FR 7AM-10.30PM"
          ],
          [
           "SURFACE CAR PARK",
           "NO"
          ],
          [
           "SURFACE CAR PARK",
           "SUN & PH FR 7AM-10.30PM"
          ],
          [
           "SURFACE CAR PARK",
           "SUN & PH FR 7AM-10.30PM"
          ],
          [
           "SURFACE CAR PARK",
           "SUN & PH FR 7AM-10.30PM"
          ],
          [
           "SURFACE CAR PARK",
           "SUN & PH FR 7AM-10.30PM"
          ],
          [
           "SURFACE CAR PARK",
           "SUN & PH FR 7AM-10.30PM"
          ],
          [
           "MULTI-STOREY CAR PARK",
           "SUN & PH FR 7AM-10.30PM"
          ],
          [
           "MULTI-STOREY CAR PARK",
           "SUN & PH FR 7AM-10.30PM"
          ],
          [
           "MULTI-STOREY CAR PARK",
           "SUN & PH FR 7AM-10.30PM"
          ],
          [
           "SURFACE CAR PARK",
           "SUN & PH FR 7AM-10.30PM"
          ],
          [
           "SURFACE CAR PARK",
           "NO"
          ],
          [
           "SURFACE CAR PARK",
           "NO"
          ],
          [
           "SURFACE CAR PARK",
           "NO"
          ],
          [
           "MULTI-STOREY CAR PARK",
           "SUN & PH FR 7AM-10.30PM"
          ],
          [
           "MULTI-STOREY CAR PARK",
           "SUN & PH FR 7AM-10.30PM"
          ],
          [
           "MULTI-STOREY CAR PARK",
           "SUN & PH FR 7AM-10.30PM"
          ],
          [
           "SURFACE CAR PARK",
           "SUN & PH FR 7AM-10.30PM"
          ],
          [
           "MULTI-STOREY CAR PARK",
           "SUN & PH FR 7AM-10.30PM"
          ],
          [
           "MULTI-STOREY CAR PARK",
           "SUN & PH FR 7AM-10.30PM"
          ],
          [
           "MULTI-STOREY CAR PARK",
           "SUN & PH FR 7AM-10.30PM"
          ],
          [
           "MULTI-STOREY CAR PARK",
           "SUN & PH FR 7AM-10.30PM"
          ],
          [
           "MULTI-STOREY CAR PARK",
           "SUN & PH FR 7AM-10.30PM"
          ],
          [
           "MULTI-STOREY CAR PARK",
           "SUN & PH FR 7AM-10.30PM"
          ],
          [
           "MULTI-STOREY CAR PARK",
           "SUN & PH FR 7AM-10.30PM"
          ],
          [
           "MULTI-STOREY CAR PARK",
           "SUN & PH FR 7AM-10.30PM"
          ],
          [
           "MULTI-STOREY CAR PARK",
           "SUN & PH FR 7AM-10.30PM"
          ],
          [
           "MULTI-STOREY CAR PARK",
           "SUN & PH FR 7AM-10.30PM"
          ],
          [
           "MULTI-STOREY CAR PARK",
           "SUN & PH FR 7AM-10.30PM"
          ],
          [
           "MULTI-STOREY CAR PARK",
           "SUN & PH FR 7AM-10.30PM"
          ],
          [
           "MULTI-STOREY CAR PARK",
           "SUN & PH FR 7AM-10.30PM"
          ],
          [
           "MULTI-STOREY CAR PARK",
           "SUN & PH FR 7AM-10.30PM"
          ],
          [
           "MULTI-STOREY CAR PARK",
           "NO"
          ],
          [
           "MULTI-STOREY CAR PARK",
           "NO"
          ],
          [
           "SURFACE CAR PARK",
           "NO"
          ],
          [
           "SURFACE CAR PARK",
           "NO"
          ],
          [
           "SURFACE CAR PARK",
           "NO"
          ],
          [
           "SURFACE CAR PARK",
           "NO"
          ],
          [
           "SURFACE CAR PARK",
           "NO"
          ],
          [
           "SURFACE CAR PARK",
           "NO"
          ],
          [
           "SURFACE CAR PARK",
           "NO"
          ],
          [
           "SURFACE CAR PARK",
           "NO"
          ],
          [
           "SURFACE CAR PARK",
           "NO"
          ],
          [
           "SURFACE CAR PARK",
           "NO"
          ],
          [
           "SURFACE CAR PARK",
           "NO"
          ],
          [
           "SURFACE CAR PARK",
           "NO"
          ],
          [
           "SURFACE CAR PARK",
           "NO"
          ],
          [
           "SURFACE CAR PARK",
           "NO"
          ],
          [
           "SURFACE CAR PARK",
           "NO"
          ],
          [
           "MULTI-STOREY CAR PARK",
           "NO"
          ],
          [
           "MULTI-STOREY CAR PARK",
           "SUN & PH FR 7AM-10.30PM"
          ],
          [
           "MULTI-STOREY CAR PARK",
           "SUN & PH FR 7AM-10.30PM"
          ],
          [
           "MULTI-STOREY CAR PARK",
           "SUN & PH FR 7AM-10.30PM"
          ],
          [
           "MULTI-STOREY CAR PARK",
           "SUN & PH FR 7AM-10.30PM"
          ],
          [
           "SURFACE CAR PARK",
           "NO"
          ],
          [
           "SURFACE CAR PARK",
           "NO"
          ],
          [
           "MULTI-STOREY CAR PARK",
           "SUN & PH FR 7AM-10.30PM"
          ],
          [
           "MULTI-STOREY CAR PARK",
           "NO"
          ],
          [
           "MULTI-STOREY CAR PARK",
           "SUN & PH FR 7AM-10.30PM"
          ],
          [
           "MULTI-STOREY CAR PARK",
           "SUN & PH FR 7AM-10.30PM"
          ],
          [
           "MULTI-STOREY CAR PARK",
           "SUN & PH FR 7AM-10.30PM"
          ],
          [
           "MULTI-STOREY CAR PARK",
           "SUN & PH FR 7AM-10.30PM"
          ],
          [
           "MULTI-STOREY CAR PARK",
           "SUN & PH FR 7AM-10.30PM"
          ],
          [
           "MULTI-STOREY CAR PARK",
           "SUN & PH FR 7AM-10.30PM"
          ],
          [
           "MULTI-STOREY CAR PARK",
           "NO"
          ],
          [
           "MULTI-STOREY CAR PARK",
           "NO"
          ],
          [
           "SURFACE CAR PARK",
           "NO"
          ],
          [
           "SURFACE CAR PARK",
           "SUN & PH FR 7AM-10.30PM"
          ],
          [
           "SURFACE CAR PARK",
           "SUN & PH FR 7AM-10.30PM"
          ],
          [
           "SURFACE CAR PARK",
           "SUN & PH FR 7AM-10.30PM"
          ],
          [
           "SURFACE CAR PARK",
           "SUN & PH FR 7AM-10.30PM"
          ],
          [
           "SURFACE CAR PARK",
           "NO"
          ],
          [
           "SURFACE CAR PARK",
           "SUN & PH FR 7AM-10.30PM"
          ],
          [
           "SURFACE CAR PARK",
           "NO"
          ],
          [
           "SURFACE CAR PARK",
           "SUN & PH FR 7AM-10.30PM"
          ],
          [
           "SURFACE CAR PARK",
           "SUN & PH FR 7AM-10.30PM"
          ],
          [
           "SURFACE CAR PARK",
           "SUN & PH FR 7AM-10.30PM"
          ],
          [
           "SURFACE CAR PARK",
           "NO"
          ],
          [
           "SURFACE CAR PARK",
           "NO"
          ],
          [
           "SURFACE CAR PARK",
           "NO"
          ],
          [
           "SURFACE CAR PARK",
           "NO"
          ],
          [
           "SURFACE CAR PARK",
           "SUN & PH FR 7AM-10.30PM"
          ],
          [
           "SURFACE CAR PARK",
           "SUN & PH FR 7AM-10.30PM"
          ],
          [
           "SURFACE CAR PARK",
           "SUN & PH FR 7AM-10.30PM"
          ],
          [
           "SURFACE CAR PARK",
           "SUN & PH FR 7AM-10.30PM"
          ],
          [
           "SURFACE CAR PARK",
           "SUN & PH FR 7AM-10.30PM"
          ],
          [
           "SURFACE CAR PARK",
           "SUN & PH FR 7AM-10.30PM"
          ],
          [
           "SURFACE CAR PARK",
           "SUN & PH FR 7AM-10.30PM"
          ],
          [
           "SURFACE CAR PARK",
           "SUN & PH FR 7AM-10.30PM"
          ],
          [
           "SURFACE CAR PARK",
           "NO"
          ],
          [
           "SURFACE CAR PARK",
           "NO"
          ],
          [
           "SURFACE CAR PARK",
           "NO"
          ],
          [
           "SURFACE CAR PARK",
           "SUN & PH FR 7AM-10.30PM"
          ],
          [
           "SURFACE CAR PARK",
           "SUN & PH FR 7AM-10.30PM"
          ],
          [
           "SURFACE CAR PARK",
           "NO"
          ],
          [
           "SURFACE CAR PARK",
           "NO"
          ],
          [
           "SURFACE CAR PARK",
           "SUN & PH FR 7AM-10.30PM"
          ],
          [
           "SURFACE CAR PARK",
           "NO"
          ],
          [
           "SURFACE CAR PARK",
           "SUN & PH FR 7AM-10.30PM"
          ],
          [
           "SURFACE CAR PARK",
           "NO"
          ],
          [
           "SURFACE CAR PARK",
           "SUN & PH FR 7AM-10.30PM"
          ],
          [
           "SURFACE CAR PARK",
           "NO"
          ],
          [
           "SURFACE CAR PARK",
           "NO"
          ],
          [
           "MULTI-STOREY CAR PARK",
           "SUN & PH FR 7AM-10.30PM"
          ],
          [
           "MULTI-STOREY CAR PARK",
           "SUN & PH FR 7AM-10.30PM"
          ],
          [
           "MULTI-STOREY CAR PARK",
           "SUN & PH FR 7AM-10.30PM"
          ],
          [
           "MULTI-STOREY CAR PARK",
           "SUN & PH FR 7AM-10.30PM"
          ],
          [
           "SURFACE CAR PARK",
           "SUN & PH FR 7AM-10.30PM"
          ],
          [
           "SURFACE CAR PARK",
           "SUN & PH FR 7AM-10.30PM"
          ],
          [
           "SURFACE CAR PARK",
           "SUN & PH FR 7AM-10.30PM"
          ],
          [
           "SURFACE CAR PARK",
           "SUN & PH FR 7AM-10.30PM"
          ],
          [
           "SURFACE CAR PARK",
           "SUN & PH FR 7AM-10.30PM"
          ],
          [
           "MULTI-STOREY CAR PARK",
           "SUN & PH FR 7AM-10.30PM"
          ],
          [
           "SURFACE CAR PARK",
           "NO"
          ],
          [
           "SURFACE CAR PARK",
           "SUN & PH FR 7AM-10.30PM"
          ],
          [
           "SURFACE CAR PARK",
           "SUN & PH FR 7AM-10.30PM"
          ],
          [
           "MULTI-STOREY CAR PARK",
           "SUN & PH FR 7AM-10.30PM"
          ],
          [
           "MULTI-STOREY CAR PARK",
           "SUN & PH FR 7AM-10.30PM"
          ],
          [
           "MULTI-STOREY CAR PARK",
           "SUN & PH FR 7AM-10.30PM"
          ],
          [
           "MULTI-STOREY CAR PARK",
           "SUN & PH FR 7AM-10.30PM"
          ],
          [
           "MULTI-STOREY CAR PARK",
           "SUN & PH FR 7AM-10.30PM"
          ],
          [
           "MULTI-STOREY CAR PARK",
           "SUN & PH FR 7AM-10.30PM"
          ],
          [
           "MULTI-STOREY CAR PARK",
           "SUN & PH FR 7AM-10.30PM"
          ],
          [
           "MULTI-STOREY CAR PARK",
           "SUN & PH FR 7AM-10.30PM"
          ],
          [
           "MULTI-STOREY CAR PARK",
           "SUN & PH FR 7AM-10.30PM"
          ],
          [
           "MULTI-STOREY CAR PARK",
           "SUN & PH FR 7AM-10.30PM"
          ],
          [
           "MULTI-STOREY CAR PARK",
           "SUN & PH FR 7AM-10.30PM"
          ],
          [
           "MULTI-STOREY CAR PARK",
           "SUN & PH FR 7AM-10.30PM"
          ],
          [
           "MULTI-STOREY CAR PARK",
           "SUN & PH FR 7AM-10.30PM"
          ],
          [
           "MULTI-STOREY CAR PARK",
           "NO"
          ],
          [
           "MULTI-STOREY CAR PARK",
           "NO"
          ],
          [
           "MULTI-STOREY CAR PARK",
           "NO"
          ],
          [
           "MULTI-STOREY CAR PARK",
           "SUN & PH FR 7AM-10.30PM"
          ],
          [
           "MULTI-STOREY CAR PARK",
           "SUN & PH FR 7AM-10.30PM"
          ],
          [
           "MULTI-STOREY CAR PARK",
           "SUN & PH FR 7AM-10.30PM"
          ],
          [
           "MULTI-STOREY CAR PARK",
           "SUN & PH FR 7AM-10.30PM"
          ],
          [
           "MULTI-STOREY CAR PARK",
           "SUN & PH FR 7AM-10.30PM"
          ],
          [
           "MULTI-STOREY CAR PARK",
           "SUN & PH FR 7AM-10.30PM"
          ],
          [
           "MULTI-STOREY CAR PARK",
           "SUN & PH FR 7AM-10.30PM"
          ],
          [
           "MULTI-STOREY CAR PARK",
           "NO"
          ],
          [
           "MULTI-STOREY CAR PARK",
           "SUN & PH FR 7AM-10.30PM"
          ],
          [
           "MULTI-STOREY CAR PARK",
           "SUN & PH FR 7AM-10.30PM"
          ],
          [
           "MULTI-STOREY CAR PARK",
           "SUN & PH FR 7AM-10.30PM"
          ],
          [
           "MULTI-STOREY CAR PARK",
           "SUN & PH FR 7AM-10.30PM"
          ],
          [
           "MULTI-STOREY CAR PARK",
           "SUN & PH FR 7AM-10.30PM"
          ],
          [
           "MULTI-STOREY CAR PARK",
           "NO"
          ],
          [
           "MULTI-STOREY CAR PARK",
           "NO"
          ],
          [
           "MULTI-STOREY CAR PARK",
           "NO"
          ],
          [
           "MULTI-STOREY CAR PARK",
           "SUN & PH FR 7AM-10.30PM"
          ],
          [
           "MULTI-STOREY CAR PARK",
           "SUN & PH FR 7AM-10.30PM"
          ],
          [
           "MULTI-STOREY CAR PARK",
           "SUN & PH FR 7AM-10.30PM"
          ],
          [
           "MULTI-STOREY CAR PARK",
           "SUN & PH FR 7AM-10.30PM"
          ],
          [
           "MULTI-STOREY CAR PARK",
           "SUN & PH FR 7AM-10.30PM"
          ],
          [
           "MULTI-STOREY CAR PARK",
           "SUN & PH FR 7AM-10.30PM"
          ],
          [
           "MULTI-STOREY CAR PARK",
           "SUN & PH FR 7AM-10.30PM"
          ],
          [
           "MULTI-STOREY CAR PARK",
           "SUN & PH FR 7AM-10.30PM"
          ],
          [
           "MULTI-STOREY CAR PARK",
           "SUN & PH FR 7AM-10.30PM"
          ],
          [
           "MULTI-STOREY CAR PARK",
           "SUN & PH FR 7AM-10.30PM"
          ],
          [
           "MULTI-STOREY CAR PARK",
           "NO"
          ],
          [
           "MULTI-STOREY CAR PARK",
           "NO"
          ],
          [
           "MULTI-STOREY CAR PARK",
           "SUN & PH FR 7AM-10.30PM"
          ],
          [
           "MULTI-STOREY CAR PARK",
           "SUN & PH FR 7AM-10.30PM"
          ],
          [
           "MULTI-STOREY CAR PARK",
           "SUN & PH FR 7AM-10.30PM"
          ],
          [
           "MULTI-STOREY CAR PARK",
           "SUN & PH FR 7AM-10.30PM"
          ],
          [
           "MULTI-STOREY CAR PARK",
           "NO"
          ],
          [
           "MULTI-STOREY CAR PARK",
           "NO"
          ],
          [
           "MULTI-STOREY CAR PARK",
           "SUN & PH FR 7AM-10.30PM"
          ],
          [
           "MULTI-STOREY CAR PARK",
           "NO"
          ],
          [
           "MULTI-STOREY CAR PARK",
           "SUN & PH FR 7AM-10.30PM"
          ],
          [
           "MULTI-STOREY CAR PARK",
           "SUN & PH FR 7AM-10.30PM"
          ],
          [
           "MULTI-STOREY CAR PARK",
           "SUN & PH FR 7AM-10.30PM"
          ],
          [
           "MULTI-STOREY CAR PARK",
           "SUN & PH FR 7AM-10.30PM"
          ],
          [
           "MULTI-STOREY CAR PARK",
           "NO"
          ],
          [
           "MULTI-STOREY CAR PARK",
           "SUN & PH FR 7AM-10.30PM"
          ],
          [
           "MULTI-STOREY CAR PARK",
           "NO"
          ],
          [
           "MULTI-STOREY CAR PARK",
           "NO"
          ],
          [
           "MULTI-STOREY CAR PARK",
           "NO"
          ],
          [
           "MULTI-STOREY CAR PARK",
           "SUN & PH FR 7AM-10.30PM"
          ],
          [
           "MULTI-STOREY CAR PARK",
           "SUN & PH FR 7AM-10.30PM"
          ],
          [
           "MULTI-STOREY CAR PARK",
           "SUN & PH FR 7AM-10.30PM"
          ],
          [
           "MULTI-STOREY CAR PARK",
           "NO"
          ],
          [
           "MULTI-STOREY CAR PARK",
           "SUN & PH FR 7AM-10.30PM"
          ],
          [
           "SURFACE CAR PARK",
           "NO"
          ],
          [
           "MULTI-STOREY CAR PARK",
           "SUN & PH FR 7AM-10.30PM"
          ],
          [
           "MULTI-STOREY CAR PARK",
           "SUN & PH FR 7AM-10.30PM"
          ],
          [
           "MULTI-STOREY CAR PARK",
           "SUN & PH FR 7AM-10.30PM"
          ],
          [
           "MULTI-STOREY CAR PARK",
           "SUN & PH FR 7AM-10.30PM"
          ],
          [
           "MULTI-STOREY CAR PARK",
           "SUN & PH FR 7AM-10.30PM"
          ],
          [
           "MULTI-STOREY CAR PARK",
           "SUN & PH FR 7AM-10.30PM"
          ],
          [
           "MULTI-STOREY CAR PARK",
           "SUN & PH FR 7AM-10.30PM"
          ],
          [
           "MULTI-STOREY CAR PARK",
           "SUN & PH FR 7AM-10.30PM"
          ],
          [
           "MULTI-STOREY CAR PARK",
           "SUN & PH FR 7AM-10.30PM"
          ],
          [
           "MULTI-STOREY CAR PARK",
           "SUN & PH FR 7AM-10.30PM"
          ],
          [
           "MULTI-STOREY CAR PARK",
           "SUN & PH FR 7AM-10.30PM"
          ],
          [
           "MULTI-STOREY CAR PARK",
           "SUN & PH FR 7AM-10.30PM"
          ],
          [
           "MULTI-STOREY CAR PARK",
           "SUN & PH FR 7AM-10.30PM"
          ],
          [
           "MULTI-STOREY CAR PARK",
           "NO"
          ],
          [
           "MULTI-STOREY CAR PARK",
           "NO"
          ],
          [
           "MULTI-STOREY CAR PARK",
           "SUN & PH FR 7AM-10.30PM"
          ],
          [
           "MULTI-STOREY CAR PARK",
           "SUN & PH FR 7AM-10.30PM"
          ],
          [
           "MULTI-STOREY CAR PARK",
           "SUN & PH FR 7AM-10.30PM"
          ],
          [
           "MULTI-STOREY CAR PARK",
           "SUN & PH FR 7AM-10.30PM"
          ],
          [
           "MULTI-STOREY CAR PARK",
           "SUN & PH FR 7AM-10.30PM"
          ],
          [
           "MULTI-STOREY CAR PARK",
           "SUN & PH FR 7AM-10.30PM"
          ],
          [
           "MULTI-STOREY CAR PARK",
           "SUN & PH FR 7AM-10.30PM"
          ],
          [
           "MULTI-STOREY CAR PARK",
           "SUN & PH FR 7AM-10.30PM"
          ],
          [
           "MULTI-STOREY CAR PARK",
           "SUN & PH FR 7AM-10.30PM"
          ],
          [
           "MULTI-STOREY CAR PARK",
           "SUN & PH FR 7AM-10.30PM"
          ],
          [
           "SURFACE CAR PARK",
           "SUN & PH FR 7AM-10.30PM"
          ],
          [
           "SURFACE CAR PARK",
           "SUN & PH FR 7AM-10.30PM"
          ],
          [
           "SURFACE CAR PARK",
           "SUN & PH FR 7AM-10.30PM"
          ],
          [
           "SURFACE CAR PARK",
           "SUN & PH FR 7AM-10.30PM"
          ],
          [
           "SURFACE CAR PARK",
           "SUN & PH FR 7AM-10.30PM"
          ],
          [
           "SURFACE CAR PARK",
           "SUN & PH FR 7AM-10.30PM"
          ],
          [
           "SURFACE CAR PARK",
           "SUN & PH FR 7AM-10.30PM"
          ],
          [
           "SURFACE CAR PARK",
           "SUN & PH FR 7AM-10.30PM"
          ],
          [
           "SURFACE CAR PARK",
           "SUN & PH FR 7AM-10.30PM"
          ],
          [
           "SURFACE CAR PARK",
           "SUN & PH FR 7AM-10.30PM"
          ],
          [
           "SURFACE CAR PARK",
           "SUN & PH FR 7AM-10.30PM"
          ],
          [
           "SURFACE CAR PARK",
           "SUN & PH FR 7AM-10.30PM"
          ],
          [
           "MULTI-STOREY CAR PARK",
           "SUN & PH FR 7AM-10.30PM"
          ],
          [
           "SURFACE CAR PARK",
           "SUN & PH FR 7AM-10.30PM"
          ],
          [
           "SURFACE CAR PARK",
           "SUN & PH FR 7AM-10.30PM"
          ],
          [
           "SURFACE CAR PARK",
           "SUN & PH FR 7AM-10.30PM"
          ],
          [
           "SURFACE CAR PARK",
           "SUN & PH FR 7AM-10.30PM"
          ],
          [
           "SURFACE CAR PARK",
           "SUN & PH FR 7AM-10.30PM"
          ],
          [
           "SURFACE CAR PARK",
           "SUN & PH FR 7AM-10.30PM"
          ],
          [
           "SURFACE CAR PARK",
           "SUN & PH FR 7AM-10.30PM"
          ],
          [
           "MULTI-STOREY CAR PARK",
           "SUN & PH FR 7AM-10.30PM"
          ],
          [
           "SURFACE CAR PARK",
           "SUN & PH FR 7AM-10.30PM"
          ],
          [
           "SURFACE CAR PARK",
           "SUN & PH FR 7AM-10.30PM"
          ],
          [
           "SURFACE CAR PARK",
           "SUN & PH FR 7AM-10.30PM"
          ],
          [
           "SURFACE CAR PARK",
           "SUN & PH FR 7AM-10.30PM"
          ],
          [
           "SURFACE CAR PARK",
           "SUN & PH FR 7AM-10.30PM"
          ],
          [
           "SURFACE CAR PARK",
           "SUN & PH FR 7AM-10.30PM"
          ],
          [
           "SURFACE CAR PARK",
           "SUN & PH FR 7AM-10.30PM"
          ],
          [
           "SURFACE CAR PARK",
           "SUN & PH FR 7AM-10.30PM"
          ],
          [
           "SURFACE CAR PARK",
           "SUN & PH FR 7AM-10.30PM"
          ],
          [
           "SURFACE CAR PARK",
           "SUN & PH FR 7AM-10.30PM"
          ],
          [
           "SURFACE CAR PARK",
           "SUN & PH FR 7AM-10.30PM"
          ],
          [
           "SURFACE CAR PARK",
           "SUN & PH FR 7AM-10.30PM"
          ],
          [
           "SURFACE CAR PARK",
           "SUN & PH FR 7AM-10.30PM"
          ],
          [
           "MULTI-STOREY CAR PARK",
           "SUN & PH FR 7AM-10.30PM"
          ],
          [
           "SURFACE CAR PARK",
           "SUN & PH FR 7AM-10.30PM"
          ],
          [
           "SURFACE CAR PARK",
           "SUN & PH FR 7AM-10.30PM"
          ],
          [
           "SURFACE CAR PARK",
           "SUN & PH FR 7AM-10.30PM"
          ],
          [
           "SURFACE CAR PARK",
           "NO"
          ],
          [
           "SURFACE CAR PARK",
           "SUN & PH FR 7AM-10.30PM"
          ],
          [
           "SURFACE CAR PARK",
           "SUN & PH FR 7AM-10.30PM"
          ],
          [
           "SURFACE CAR PARK",
           "NO"
          ],
          [
           "SURFACE CAR PARK",
           "SUN & PH FR 7AM-10.30PM"
          ],
          [
           "SURFACE CAR PARK",
           "SUN & PH FR 7AM-10.30PM"
          ],
          [
           "SURFACE CAR PARK",
           "SUN & PH FR 7AM-10.30PM"
          ],
          [
           "MULTI-STOREY CAR PARK",
           "SUN & PH FR 7AM-10.30PM"
          ],
          [
           "SURFACE CAR PARK",
           "SUN & PH FR 7AM-10.30PM"
          ],
          [
           "SURFACE CAR PARK",
           "SUN & PH FR 7AM-10.30PM"
          ],
          [
           "MULTI-STOREY CAR PARK",
           "SUN & PH FR 7AM-10.30PM"
          ],
          [
           "MULTI-STOREY CAR PARK",
           "SUN & PH FR 7AM-10.30PM"
          ],
          [
           "MULTI-STOREY CAR PARK",
           "SUN & PH FR 7AM-10.30PM"
          ],
          [
           "MULTI-STOREY CAR PARK",
           "SUN & PH FR 7AM-10.30PM"
          ],
          [
           "MULTI-STOREY CAR PARK",
           "NO"
          ],
          [
           "SURFACE CAR PARK",
           "SUN & PH FR 7AM-10.30PM"
          ],
          [
           "SURFACE CAR PARK",
           "SUN & PH FR 7AM-10.30PM"
          ],
          [
           "SURFACE CAR PARK",
           "SUN & PH FR 7AM-10.30PM"
          ],
          [
           "SURFACE CAR PARK",
           "SUN & PH FR 7AM-10.30PM"
          ],
          [
           "MULTI-STOREY CAR PARK",
           "SUN & PH FR 7AM-10.30PM"
          ],
          [
           "SURFACE CAR PARK",
           "NO"
          ],
          [
           "SURFACE CAR PARK",
           "NO"
          ],
          [
           "SURFACE CAR PARK",
           "NO"
          ],
          [
           "SURFACE CAR PARK",
           "SUN & PH FR 7AM-10.30PM"
          ],
          [
           "SURFACE CAR PARK",
           "NO"
          ],
          [
           "SURFACE CAR PARK",
           "NO"
          ],
          [
           "SURFACE CAR PARK",
           "SUN & PH FR 7AM-10.30PM"
          ],
          [
           "SURFACE CAR PARK",
           "NO"
          ],
          [
           "SURFACE CAR PARK",
           "NO"
          ],
          [
           "SURFACE CAR PARK",
           "NO"
          ],
          [
           "SURFACE CAR PARK",
           "NO"
          ],
          [
           "SURFACE CAR PARK",
           "SUN & PH FR 7AM-10.30PM"
          ],
          [
           "SURFACE CAR PARK",
           "NO"
          ],
          [
           "SURFACE CAR PARK",
           "NO"
          ],
          [
           "SURFACE CAR PARK",
           "NO"
          ],
          [
           "SURFACE CAR PARK",
           "SUN & PH FR 7AM-10.30PM"
          ],
          [
           "SURFACE CAR PARK",
           "SUN & PH FR 7AM-10.30PM"
          ],
          [
           "SURFACE CAR PARK",
           "SUN & PH FR 7AM-10.30PM"
          ],
          [
           "SURFACE CAR PARK",
           "SUN & PH FR 7AM-10.30PM"
          ],
          [
           "SURFACE CAR PARK",
           "SUN & PH FR 7AM-10.30PM"
          ],
          [
           "SURFACE CAR PARK",
           "SUN & PH FR 7AM-10.30PM"
          ],
          [
           "SURFACE CAR PARK",
           "SUN & PH FR 7AM-10.30PM"
          ],
          [
           "SURFACE CAR PARK",
           "SUN & PH FR 7AM-10.30PM"
          ],
          [
           "SURFACE CAR PARK",
           "SUN & PH FR 7AM-10.30PM"
          ],
          [
           "SURFACE CAR PARK",
           "SUN & PH FR 7AM-10.30PM"
          ],
          [
           "SURFACE CAR PARK",
           "SUN & PH FR 7AM-10.30PM"
          ],
          [
           "SURFACE CAR PARK",
           "SUN & PH FR 7AM-10.30PM"
          ],
          [
           "SURFACE CAR PARK",
           "SUN & PH FR 7AM-10.30PM"
          ],
          [
           "SURFACE CAR PARK",
           "SUN & PH FR 7AM-10.30PM"
          ],
          [
           "SURFACE CAR PARK",
           "SUN & PH FR 7AM-10.30PM"
          ],
          [
           "SURFACE CAR PARK",
           "SUN & PH FR 7AM-10.30PM"
          ],
          [
           "SURFACE CAR PARK",
           "NO"
          ],
          [
           "SURFACE CAR PARK",
           "NO"
          ],
          [
           "SURFACE CAR PARK",
           "NO"
          ],
          [
           "SURFACE CAR PARK",
           "SUN & PH FR 7AM-10.30PM"
          ],
          [
           "SURFACE CAR PARK",
           "SUN & PH FR 7AM-10.30PM"
          ],
          [
           "SURFACE CAR PARK",
           "SUN & PH FR 7AM-10.30PM"
          ],
          [
           "MULTI-STOREY CAR PARK",
           "SUN & PH FR 7AM-10.30PM"
          ],
          [
           "SURFACE CAR PARK",
           "SUN & PH FR 7AM-10.30PM"
          ],
          [
           "SURFACE CAR PARK",
           "SUN & PH FR 7AM-10.30PM"
          ],
          [
           "MULTI-STOREY CAR PARK",
           "SUN & PH FR 7AM-10.30PM"
          ],
          [
           "SURFACE CAR PARK",
           "SUN & PH FR 7AM-10.30PM"
          ],
          [
           "SURFACE CAR PARK",
           "SUN & PH FR 7AM-10.30PM"
          ],
          [
           "SURFACE CAR PARK",
           "NO"
          ],
          [
           "SURFACE CAR PARK",
           "NO"
          ],
          [
           "SURFACE CAR PARK",
           "NO"
          ],
          [
           "SURFACE CAR PARK",
           "NO"
          ],
          [
           "SURFACE CAR PARK",
           "NO"
          ],
          [
           "SURFACE CAR PARK",
           "SUN & PH FR 7AM-10.30PM"
          ],
          [
           "MULTI-STOREY CAR PARK",
           "SUN & PH FR 7AM-10.30PM"
          ],
          [
           "SURFACE CAR PARK",
           "SUN & PH FR 7AM-10.30PM"
          ],
          [
           "SURFACE CAR PARK",
           "SUN & PH FR 7AM-10.30PM"
          ],
          [
           "SURFACE CAR PARK",
           "SUN & PH FR 7AM-10.30PM"
          ],
          [
           "SURFACE CAR PARK",
           "SUN & PH FR 7AM-10.30PM"
          ],
          [
           "SURFACE CAR PARK",
           "SUN & PH FR 7AM-10.30PM"
          ],
          [
           "SURFACE CAR PARK",
           "NO"
          ],
          [
           "SURFACE CAR PARK",
           "SUN & PH FR 7AM-10.30PM"
          ],
          [
           "SURFACE CAR PARK",
           "SUN & PH FR 7AM-10.30PM"
          ],
          [
           "SURFACE CAR PARK",
           "SUN & PH FR 7AM-10.30PM"
          ],
          [
           "SURFACE CAR PARK",
           "SUN & PH FR 7AM-10.30PM"
          ],
          [
           "SURFACE CAR PARK",
           "SUN & PH FR 7AM-10.30PM"
          ],
          [
           "SURFACE CAR PARK",
           "SUN & PH FR 7AM-10.30PM"
          ],
          [
           "MULTI-STOREY CAR PARK",
           "SUN & PH FR 7AM-10.30PM"
          ],
          [
           "SURFACE CAR PARK",
           "SUN & PH FR 7AM-10.30PM"
          ],
          [
           "SURFACE CAR PARK",
           "SUN & PH FR 7AM-10.30PM"
          ],
          [
           "SURFACE CAR PARK",
           "NO"
          ],
          [
           "SURFACE CAR PARK",
           "SUN & PH FR 7AM-10.30PM"
          ],
          [
           "SURFACE CAR PARK",
           "SUN & PH FR 7AM-10.30PM"
          ],
          [
           "SURFACE CAR PARK",
           "SUN & PH FR 7AM-10.30PM"
          ],
          [
           "MULTI-STOREY CAR PARK",
           "SUN & PH FR 7AM-10.30PM"
          ],
          [
           "SURFACE CAR PARK",
           "SUN & PH FR 7AM-10.30PM"
          ],
          [
           "SURFACE CAR PARK",
           "SUN & PH FR 7AM-10.30PM"
          ],
          [
           "SURFACE CAR PARK",
           "SUN & PH FR 7AM-10.30PM"
          ],
          [
           "MULTI-STOREY CAR PARK",
           "SUN & PH FR 7AM-10.30PM"
          ],
          [
           "MULTI-STOREY CAR PARK",
           "SUN & PH FR 7AM-10.30PM"
          ],
          [
           "SURFACE CAR PARK",
           "SUN & PH FR 7AM-10.30PM"
          ],
          [
           "SURFACE CAR PARK",
           "SUN & PH FR 7AM-10.30PM"
          ],
          [
           "SURFACE CAR PARK",
           "SUN & PH FR 7AM-10.30PM"
          ],
          [
           "SURFACE CAR PARK",
           "NO"
          ],
          [
           "SURFACE CAR PARK",
           "SUN & PH FR 7AM-10.30PM"
          ],
          [
           "SURFACE CAR PARK",
           "SUN & PH FR 7AM-10.30PM"
          ],
          [
           "SURFACE CAR PARK",
           "SUN & PH FR 7AM-10.30PM"
          ],
          [
           "SURFACE CAR PARK",
           "SUN & PH FR 7AM-10.30PM"
          ],
          [
           "SURFACE CAR PARK",
           "SUN & PH FR 7AM-10.30PM"
          ],
          [
           "SURFACE CAR PARK",
           "SUN & PH FR 7AM-10.30PM"
          ],
          [
           "SURFACE CAR PARK",
           "SUN & PH FR 7AM-10.30PM"
          ],
          [
           "SURFACE CAR PARK",
           "SUN & PH FR 1PM-10.30PM"
          ],
          [
           "SURFACE CAR PARK",
           "SUN & PH FR 7AM-10.30PM"
          ],
          [
           "SURFACE CAR PARK",
           "SUN & PH FR 7AM-10.30PM"
          ],
          [
           "SURFACE CAR PARK",
           "SUN & PH FR 7AM-10.30PM"
          ],
          [
           "SURFACE CAR PARK",
           "SUN & PH FR 7AM-10.30PM"
          ],
          [
           "SURFACE CAR PARK",
           "SUN & PH FR 1PM-10.30PM"
          ],
          [
           "SURFACE CAR PARK",
           "SUN & PH FR 1PM-10.30PM"
          ],
          [
           "SURFACE CAR PARK",
           "SUN & PH FR 1PM-10.30PM"
          ],
          [
           "SURFACE CAR PARK",
           "SUN & PH FR 7AM-10.30PM"
          ],
          [
           "SURFACE CAR PARK",
           "SUN & PH FR 7AM-10.30PM"
          ],
          [
           "SURFACE CAR PARK",
           "SUN & PH FR 7AM-10.30PM"
          ],
          [
           "SURFACE CAR PARK",
           "SUN & PH FR 7AM-10.30PM"
          ],
          [
           "MULTI-STOREY CAR PARK",
           "SUN & PH FR 7AM-10.30PM"
          ],
          [
           "SURFACE CAR PARK",
           "SUN & PH FR 7AM-10.30PM"
          ],
          [
           "SURFACE CAR PARK",
           "SUN & PH FR 7AM-10.30PM"
          ],
          [
           "SURFACE CAR PARK",
           "SUN & PH FR 7AM-10.30PM"
          ],
          [
           "SURFACE CAR PARK",
           "SUN & PH FR 7AM-10.30PM"
          ],
          [
           "SURFACE CAR PARK",
           "SUN & PH FR 7AM-10.30PM"
          ],
          [
           "SURFACE CAR PARK",
           "SUN & PH FR 7AM-10.30PM"
          ],
          [
           "SURFACE CAR PARK",
           "SUN & PH FR 7AM-10.30PM"
          ],
          [
           "MULTI-STOREY CAR PARK",
           "SUN & PH FR 7AM-10.30PM"
          ],
          [
           "SURFACE CAR PARK",
           "SUN & PH FR 1PM-10.30PM"
          ],
          [
           "MULTI-STOREY CAR PARK",
           "SUN & PH FR 7AM-10.30PM"
          ],
          [
           "SURFACE CAR PARK",
           "SUN & PH FR 7AM-10.30PM"
          ],
          [
           "SURFACE CAR PARK",
           "SUN & PH FR 7AM-10.30PM"
          ],
          [
           "MULTI-STOREY CAR PARK",
           "SUN & PH FR 7AM-10.30PM"
          ],
          [
           "MULTI-STOREY CAR PARK",
           "NO"
          ],
          [
           "SURFACE CAR PARK",
           "SUN & PH FR 7AM-10.30PM"
          ],
          [
           "SURFACE CAR PARK",
           "NO"
          ],
          [
           "SURFACE CAR PARK",
           "NO"
          ],
          [
           "SURFACE CAR PARK",
           "SUN & PH FR 1PM-10.30PM"
          ],
          [
           "SURFACE CAR PARK",
           "SUN & PH FR 7AM-10.30PM"
          ],
          [
           "MULTI-STOREY CAR PARK",
           "SUN & PH FR 7AM-10.30PM"
          ],
          [
           "MULTI-STOREY CAR PARK",
           "SUN & PH FR 7AM-10.30PM"
          ],
          [
           "MULTI-STOREY CAR PARK",
           "SUN & PH FR 7AM-10.30PM"
          ],
          [
           "MULTI-STOREY CAR PARK",
           "SUN & PH FR 7AM-10.30PM"
          ],
          [
           "MULTI-STOREY CAR PARK",
           "SUN & PH FR 7AM-10.30PM"
          ],
          [
           "MULTI-STOREY CAR PARK",
           "SUN & PH FR 7AM-10.30PM"
          ],
          [
           "MULTI-STOREY CAR PARK",
           "SUN & PH FR 7AM-10.30PM"
          ],
          [
           "MULTI-STOREY CAR PARK",
           "SUN & PH FR 7AM-10.30PM"
          ],
          [
           "MULTI-STOREY CAR PARK",
           "SUN & PH FR 7AM-10.30PM"
          ],
          [
           "SURFACE CAR PARK",
           "SUN & PH FR 1PM-10.30PM"
          ],
          [
           "MULTI-STOREY CAR PARK",
           "SUN & PH FR 7AM-10.30PM"
          ],
          [
           "MULTI-STOREY CAR PARK",
           "SUN & PH FR 7AM-10.30PM"
          ],
          [
           "MULTI-STOREY CAR PARK",
           "SUN & PH FR 7AM-10.30PM"
          ],
          [
           "MULTI-STOREY CAR PARK",
           "NO"
          ],
          [
           "MULTI-STOREY CAR PARK",
           "SUN & PH FR 7AM-10.30PM"
          ],
          [
           "MULTI-STOREY CAR PARK",
           "SUN & PH FR 7AM-10.30PM"
          ],
          [
           "MULTI-STOREY CAR PARK",
           "SUN & PH FR 7AM-10.30PM"
          ],
          [
           "MULTI-STOREY CAR PARK",
           "SUN & PH FR 7AM-10.30PM"
          ],
          [
           "MULTI-STOREY CAR PARK",
           "SUN & PH FR 7AM-10.30PM"
          ],
          [
           "SURFACE CAR PARK",
           "SUN & PH FR 7AM-10.30PM"
          ],
          [
           "MULTI-STOREY CAR PARK",
           "SUN & PH FR 7AM-10.30PM"
          ],
          [
           "SURFACE CAR PARK",
           "SUN & PH FR 7AM-10.30PM"
          ],
          [
           "SURFACE CAR PARK",
           "SUN & PH FR 7AM-10.30PM"
          ],
          [
           "BASEMENT CAR PARK",
           "NO"
          ],
          [
           "BASEMENT CAR PARK",
           "NO"
          ],
          [
           "BASEMENT CAR PARK",
           "NO"
          ],
          [
           "SURFACE CAR PARK",
           "SUN & PH FR 7AM-10.30PM"
          ],
          [
           "SURFACE CAR PARK",
           "NO"
          ],
          [
           "MULTI-STOREY CAR PARK",
           "SUN & PH FR 7AM-10.30PM"
          ],
          [
           "MULTI-STOREY CAR PARK",
           "SUN & PH FR 7AM-10.30PM"
          ],
          [
           "MULTI-STOREY CAR PARK",
           "NO"
          ],
          [
           "MULTI-STOREY CAR PARK",
           "SUN & PH FR 7AM-10.30PM"
          ],
          [
           "MULTI-STOREY CAR PARK",
           "SUN & PH FR 7AM-10.30PM"
          ],
          [
           "MULTI-STOREY CAR PARK",
           "SUN & PH FR 7AM-10.30PM"
          ],
          [
           "SURFACE CAR PARK",
           "NO"
          ],
          [
           "SURFACE CAR PARK",
           "NO"
          ],
          [
           "SURFACE CAR PARK",
           "NO"
          ],
          [
           "SURFACE CAR PARK",
           "NO"
          ],
          [
           "MULTI-STOREY CAR PARK",
           "NO"
          ],
          [
           "MULTI-STOREY CAR PARK",
           "NO"
          ],
          [
           "SURFACE CAR PARK",
           "NO"
          ],
          [
           "SURFACE CAR PARK",
           "NO"
          ],
          [
           "SURFACE CAR PARK",
           "SUN & PH FR 7AM-10.30PM"
          ],
          [
           "SURFACE CAR PARK",
           "SUN & PH FR 7AM-10.30PM"
          ],
          [
           "SURFACE CAR PARK",
           "SUN & PH FR 7AM-10.30PM"
          ],
          [
           "MULTI-STOREY CAR PARK",
           "SUN & PH FR 7AM-10.30PM"
          ],
          [
           "MULTI-STOREY CAR PARK",
           "SUN & PH FR 7AM-10.30PM"
          ],
          [
           "MULTI-STOREY CAR PARK",
           "SUN & PH FR 7AM-10.30PM"
          ],
          [
           "SURFACE CAR PARK",
           "SUN & PH FR 7AM-10.30PM"
          ],
          [
           "SURFACE CAR PARK",
           "SUN & PH FR 7AM-10.30PM"
          ],
          [
           "SURFACE CAR PARK",
           "SUN & PH FR 7AM-10.30PM"
          ],
          [
           "SURFACE CAR PARK",
           "SUN & PH FR 7AM-10.30PM"
          ],
          [
           "SURFACE CAR PARK",
           "NO"
          ],
          [
           "SURFACE CAR PARK",
           "SUN & PH FR 7AM-10.30PM"
          ],
          [
           "SURFACE CAR PARK",
           "SUN & PH FR 7AM-10.30PM"
          ],
          [
           "SURFACE CAR PARK",
           "NO"
          ],
          [
           "SURFACE CAR PARK",
           "NO"
          ],
          [
           "SURFACE CAR PARK",
           "NO"
          ],
          [
           "SURFACE CAR PARK",
           "NO"
          ],
          [
           "SURFACE CAR PARK",
           "NO"
          ],
          [
           "MULTI-STOREY CAR PARK",
           "NO"
          ],
          [
           "SURFACE CAR PARK",
           "SUN & PH FR 7AM-10.30PM"
          ],
          [
           "SURFACE CAR PARK",
           "SUN & PH FR 7AM-10.30PM"
          ],
          [
           "SURFACE CAR PARK",
           "SUN & PH FR 7AM-10.30PM"
          ],
          [
           "SURFACE CAR PARK",
           "SUN & PH FR 7AM-10.30PM"
          ],
          [
           "MULTI-STOREY CAR PARK",
           "SUN & PH FR 7AM-10.30PM"
          ],
          [
           "SURFACE CAR PARK",
           "SUN & PH FR 7AM-10.30PM"
          ],
          [
           "SURFACE CAR PARK",
           "SUN & PH FR 7AM-10.30PM"
          ],
          [
           "MULTI-STOREY CAR PARK",
           "NO"
          ],
          [
           "MULTI-STOREY CAR PARK",
           "SUN & PH FR 7AM-10.30PM"
          ],
          [
           "MULTI-STOREY CAR PARK",
           "SUN & PH FR 7AM-10.30PM"
          ],
          [
           "MULTI-STOREY CAR PARK",
           "NO"
          ],
          [
           "SURFACE CAR PARK",
           "NO"
          ],
          [
           "MULTI-STOREY CAR PARK",
           "SUN & PH FR 7AM-10.30PM"
          ],
          [
           "MULTI-STOREY CAR PARK",
           "SUN & PH FR 7AM-10.30PM"
          ],
          [
           "SURFACE CAR PARK",
           "SUN & PH FR 7AM-10.30PM"
          ],
          [
           "MULTI-STOREY CAR PARK",
           "SUN & PH FR 7AM-10.30PM"
          ],
          [
           "MULTI-STOREY CAR PARK",
           "SUN & PH FR 7AM-10.30PM"
          ],
          [
           "MULTI-STOREY CAR PARK",
           "SUN & PH FR 7AM-10.30PM"
          ],
          [
           "MULTI-STOREY CAR PARK",
           "SUN & PH FR 7AM-10.30PM"
          ],
          [
           "MULTI-STOREY CAR PARK",
           "SUN & PH FR 7AM-10.30PM"
          ],
          [
           "MULTI-STOREY CAR PARK",
           "SUN & PH FR 7AM-10.30PM"
          ],
          [
           "MULTI-STOREY CAR PARK",
           "SUN & PH FR 7AM-10.30PM"
          ],
          [
           "MULTI-STOREY CAR PARK",
           "SUN & PH FR 7AM-10.30PM"
          ],
          [
           "MULTI-STOREY CAR PARK",
           "SUN & PH FR 7AM-10.30PM"
          ],
          [
           "MULTI-STOREY CAR PARK",
           "SUN & PH FR 7AM-10.30PM"
          ],
          [
           "MULTI-STOREY CAR PARK",
           "SUN & PH FR 7AM-10.30PM"
          ],
          [
           "MULTI-STOREY CAR PARK",
           "SUN & PH FR 7AM-10.30PM"
          ],
          [
           "MULTI-STOREY CAR PARK",
           "SUN & PH FR 7AM-10.30PM"
          ],
          [
           "MULTI-STOREY CAR PARK",
           "SUN & PH FR 7AM-10.30PM"
          ],
          [
           "MULTI-STOREY CAR PARK",
           "SUN & PH FR 7AM-10.30PM"
          ],
          [
           "MULTI-STOREY CAR PARK",
           "SUN & PH FR 7AM-10.30PM"
          ],
          [
           "MULTI-STOREY CAR PARK",
           "NO"
          ],
          [
           "MULTI-STOREY CAR PARK",
           "SUN & PH FR 7AM-10.30PM"
          ],
          [
           "MULTI-STOREY CAR PARK",
           "SUN & PH FR 7AM-10.30PM"
          ],
          [
           "MULTI-STOREY CAR PARK",
           "SUN & PH FR 7AM-10.30PM"
          ],
          [
           "MULTI-STOREY CAR PARK",
           "SUN & PH FR 7AM-10.30PM"
          ],
          [
           "MULTI-STOREY CAR PARK",
           "NO"
          ],
          [
           "MULTI-STOREY CAR PARK",
           "SUN & PH FR 7AM-10.30PM"
          ],
          [
           "MULTI-STOREY CAR PARK",
           "SUN & PH FR 7AM-10.30PM"
          ],
          [
           "MULTI-STOREY CAR PARK",
           "SUN & PH FR 7AM-10.30PM"
          ],
          [
           "MULTI-STOREY CAR PARK",
           "SUN & PH FR 7AM-10.30PM"
          ],
          [
           "MULTI-STOREY CAR PARK",
           "SUN & PH FR 7AM-10.30PM"
          ],
          [
           "MULTI-STOREY CAR PARK",
           "SUN & PH FR 7AM-10.30PM"
          ],
          [
           "MULTI-STOREY CAR PARK",
           "SUN & PH FR 7AM-10.30PM"
          ],
          [
           "MULTI-STOREY CAR PARK",
           "NO"
          ],
          [
           "SURFACE CAR PARK",
           "SUN & PH FR 7AM-10.30PM"
          ],
          [
           "SURFACE CAR PARK",
           "NO"
          ],
          [
           "MULTI-STOREY CAR PARK",
           "SUN & PH FR 7AM-10.30PM"
          ],
          [
           "MULTI-STOREY CAR PARK",
           "SUN & PH FR 7AM-10.30PM"
          ],
          [
           "MULTI-STOREY CAR PARK",
           "SUN & PH FR 7AM-10.30PM"
          ],
          [
           "MULTI-STOREY CAR PARK",
           "SUN & PH FR 7AM-10.30PM"
          ],
          [
           "MULTI-STOREY CAR PARK",
           "SUN & PH FR 7AM-10.30PM"
          ],
          [
           "MULTI-STOREY CAR PARK",
           "SUN & PH FR 7AM-10.30PM"
          ],
          [
           "MULTI-STOREY CAR PARK",
           "SUN & PH FR 7AM-10.30PM"
          ],
          [
           "BASEMENT CAR PARK",
           "NO"
          ],
          [
           "MULTI-STOREY CAR PARK",
           "SUN & PH FR 7AM-10.30PM"
          ],
          [
           "MULTI-STOREY CAR PARK",
           "SUN & PH FR 7AM-10.30PM"
          ],
          [
           "MULTI-STOREY CAR PARK",
           "SUN & PH FR 7AM-10.30PM"
          ],
          [
           "MULTI-STOREY CAR PARK",
           "SUN & PH FR 7AM-10.30PM"
          ],
          [
           "MULTI-STOREY CAR PARK",
           "SUN & PH FR 7AM-10.30PM"
          ],
          [
           "SURFACE CAR PARK",
           "SUN & PH FR 1PM-10.30PM"
          ],
          [
           "MULTI-STOREY CAR PARK",
           "SUN & PH FR 7AM-10.30PM"
          ],
          [
           "MULTI-STOREY CAR PARK",
           "SUN & PH FR 7AM-10.30PM"
          ],
          [
           "MULTI-STOREY CAR PARK",
           "NO"
          ],
          [
           "MULTI-STOREY CAR PARK",
           "SUN & PH FR 7AM-10.30PM"
          ],
          [
           "MULTI-STOREY CAR PARK",
           "SUN & PH FR 7AM-10.30PM"
          ],
          [
           "MULTI-STOREY CAR PARK",
           "SUN & PH FR 7AM-10.30PM"
          ],
          [
           "MULTI-STOREY CAR PARK",
           "SUN & PH FR 7AM-10.30PM"
          ],
          [
           "MULTI-STOREY CAR PARK",
           "SUN & PH FR 7AM-10.30PM"
          ],
          [
           "MULTI-STOREY CAR PARK",
           "SUN & PH FR 7AM-10.30PM"
          ],
          [
           "MULTI-STOREY CAR PARK",
           "SUN & PH FR 7AM-10.30PM"
          ],
          [
           "MULTI-STOREY CAR PARK",
           "SUN & PH FR 7AM-10.30PM"
          ],
          [
           "MULTI-STOREY CAR PARK",
           "SUN & PH FR 7AM-10.30PM"
          ],
          [
           "MULTI-STOREY CAR PARK",
           "SUN & PH FR 7AM-10.30PM"
          ],
          [
           "MULTI-STOREY CAR PARK",
           "SUN & PH FR 7AM-10.30PM"
          ],
          [
           "MULTI-STOREY CAR PARK",
           "SUN & PH FR 7AM-10.30PM"
          ],
          [
           "MULTI-STOREY CAR PARK",
           "NO"
          ],
          [
           "MULTI-STOREY CAR PARK",
           "SUN & PH FR 7AM-10.30PM"
          ],
          [
           "MULTI-STOREY CAR PARK",
           "SUN & PH FR 7AM-10.30PM"
          ],
          [
           "MULTI-STOREY CAR PARK",
           "SUN & PH FR 7AM-10.30PM"
          ],
          [
           "MULTI-STOREY CAR PARK",
           "SUN & PH FR 7AM-10.30PM"
          ],
          [
           "MULTI-STOREY CAR PARK",
           "SUN & PH FR 7AM-10.30PM"
          ],
          [
           "MULTI-STOREY CAR PARK",
           "SUN & PH FR 7AM-10.30PM"
          ],
          [
           "MULTI-STOREY CAR PARK",
           "SUN & PH FR 7AM-10.30PM"
          ],
          [
           "MULTI-STOREY CAR PARK",
           "SUN & PH FR 7AM-10.30PM"
          ],
          [
           "MULTI-STOREY CAR PARK",
           "SUN & PH FR 7AM-10.30PM"
          ],
          [
           "MULTI-STOREY CAR PARK",
           "SUN & PH FR 7AM-10.30PM"
          ],
          [
           "MULTI-STOREY CAR PARK",
           "NO"
          ],
          [
           "MULTI-STOREY CAR PARK",
           "SUN & PH FR 7AM-10.30PM"
          ],
          [
           "MULTI-STOREY CAR PARK",
           "SUN & PH FR 7AM-10.30PM"
          ],
          [
           "MULTI-STOREY CAR PARK",
           "SUN & PH FR 7AM-10.30PM"
          ],
          [
           "MULTI-STOREY CAR PARK",
           "SUN & PH FR 7AM-10.30PM"
          ],
          [
           "MULTI-STOREY CAR PARK",
           "SUN & PH FR 7AM-10.30PM"
          ],
          [
           "MULTI-STOREY CAR PARK",
           "SUN & PH FR 7AM-10.30PM"
          ],
          [
           "MULTI-STOREY CAR PARK",
           "NO"
          ],
          [
           "MULTI-STOREY CAR PARK",
           "SUN & PH FR 7AM-10.30PM"
          ],
          [
           "MULTI-STOREY CAR PARK",
           "SUN & PH FR 7AM-10.30PM"
          ],
          [
           "MULTI-STOREY CAR PARK",
           "SUN & PH FR 7AM-10.30PM"
          ],
          [
           "MULTI-STOREY CAR PARK",
           "SUN & PH FR 7AM-10.30PM"
          ],
          [
           "MULTI-STOREY CAR PARK",
           "SUN & PH FR 7AM-10.30PM"
          ],
          [
           "SURFACE CAR PARK",
           "SUN & PH FR 7AM-10.30PM"
          ],
          [
           "SURFACE CAR PARK",
           "SUN & PH FR 1PM-10.30PM"
          ],
          [
           "SURFACE CAR PARK",
           "SUN & PH FR 7AM-10.30PM"
          ],
          [
           "SURFACE CAR PARK",
           "SUN & PH FR 7AM-10.30PM"
          ],
          [
           "SURFACE CAR PARK",
           "SUN & PH FR 7AM-10.30PM"
          ],
          [
           "SURFACE CAR PARK",
           "NO"
          ],
          [
           "SURFACE CAR PARK",
           "SUN & PH FR 7AM-10.30PM"
          ],
          [
           "SURFACE CAR PARK",
           "SUN & PH FR 7AM-10.30PM"
          ],
          [
           "SURFACE CAR PARK",
           "SUN & PH FR 7AM-10.30PM"
          ],
          [
           "SURFACE CAR PARK",
           "SUN & PH FR 7AM-10.30PM"
          ],
          [
           "SURFACE CAR PARK",
           "SUN & PH FR 7AM-10.30PM"
          ],
          [
           "SURFACE CAR PARK",
           "SUN & PH FR 7AM-10.30PM"
          ],
          [
           "SURFACE CAR PARK",
           "SUN & PH FR 7AM-10.30PM"
          ],
          [
           "SURFACE CAR PARK",
           "SUN & PH FR 7AM-10.30PM"
          ],
          [
           "SURFACE CAR PARK",
           "SUN & PH FR 1PM-10.30PM"
          ],
          [
           "SURFACE CAR PARK",
           "SUN & PH FR 7AM-10.30PM"
          ],
          [
           "SURFACE CAR PARK",
           "SUN & PH FR 7AM-10.30PM"
          ],
          [
           "SURFACE CAR PARK",
           "SUN & PH FR 7AM-10.30PM"
          ],
          [
           "MULTI-STOREY CAR PARK",
           "SUN & PH FR 7AM-10.30PM"
          ],
          [
           "SURFACE CAR PARK",
           "SUN & PH FR 7AM-10.30PM"
          ],
          [
           "SURFACE CAR PARK",
           "SUN & PH FR 7AM-10.30PM"
          ],
          [
           "SURFACE CAR PARK",
           "SUN & PH FR 7AM-10.30PM"
          ],
          [
           "SURFACE CAR PARK",
           "SUN & PH FR 7AM-10.30PM"
          ],
          [
           "MULTI-STOREY CAR PARK",
           "SUN & PH FR 7AM-10.30PM"
          ],
          [
           "SURFACE CAR PARK",
           "SUN & PH FR 7AM-10.30PM"
          ],
          [
           "SURFACE CAR PARK",
           "SUN & PH FR 7AM-10.30PM"
          ],
          [
           "SURFACE CAR PARK",
           "SUN & PH FR 7AM-10.30PM"
          ],
          [
           "MULTI-STOREY CAR PARK",
           "SUN & PH FR 7AM-10.30PM"
          ],
          [
           "SURFACE CAR PARK",
           "NO"
          ],
          [
           "SURFACE CAR PARK",
           "SUN & PH FR 7AM-10.30PM"
          ],
          [
           "BASEMENT CAR PARK",
           "SUN & PH FR 1PM-10.30PM"
          ],
          [
           "SURFACE CAR PARK",
           "SUN & PH FR 7AM-10.30PM"
          ],
          [
           "MULTI-STOREY CAR PARK",
           "SUN & PH FR 7AM-10.30PM"
          ],
          [
           "SURFACE CAR PARK",
           "SUN & PH FR 7AM-10.30PM"
          ],
          [
           "SURFACE CAR PARK",
           "SUN & PH FR 7AM-10.30PM"
          ],
          [
           "SURFACE CAR PARK",
           "SUN & PH FR 7AM-10.30PM"
          ],
          [
           "SURFACE CAR PARK",
           "SUN & PH FR 7AM-10.30PM"
          ],
          [
           "SURFACE CAR PARK",
           "SUN & PH FR 7AM-10.30PM"
          ],
          [
           "SURFACE CAR PARK",
           "SUN & PH FR 7AM-10.30PM"
          ],
          [
           "SURFACE CAR PARK",
           "SUN & PH FR 7AM-10.30PM"
          ],
          [
           "SURFACE CAR PARK",
           "SUN & PH FR 7AM-10.30PM"
          ],
          [
           "SURFACE CAR PARK",
           "SUN & PH FR 7AM-10.30PM"
          ],
          [
           "MECHANISED AND SURFACE CAR PARK",
           "SUN & PH FR 7AM-10.30PM"
          ],
          [
           "SURFACE CAR PARK",
           "SUN & PH FR 7AM-10.30PM"
          ],
          [
           "SURFACE CAR PARK",
           "NO"
          ],
          [
           "SURFACE CAR PARK",
           "SUN & PH FR 7AM-10.30PM"
          ],
          [
           "SURFACE CAR PARK",
           "SUN & PH FR 7AM-10.30PM"
          ],
          [
           "MULTI-STOREY CAR PARK",
           "SUN & PH FR 7AM-10.30PM"
          ],
          [
           "SURFACE CAR PARK",
           "SUN & PH FR 7AM-10.30PM"
          ],
          [
           "SURFACE CAR PARK",
           "SUN & PH FR 7AM-10.30PM"
          ],
          [
           "MULTI-STOREY CAR PARK",
           "SUN & PH FR 7AM-10.30PM"
          ],
          [
           "SURFACE CAR PARK",
           "SUN & PH FR 7AM-10.30PM"
          ],
          [
           "SURFACE CAR PARK",
           "SUN & PH FR 7AM-10.30PM"
          ],
          [
           "SURFACE CAR PARK",
           "SUN & PH FR 7AM-10.30PM"
          ],
          [
           "MULTI-STOREY CAR PARK",
           "SUN & PH FR 7AM-10.30PM"
          ],
          [
           "SURFACE CAR PARK",
           "SUN & PH FR 7AM-10.30PM"
          ],
          [
           "SURFACE CAR PARK",
           "NO"
          ],
          [
           "MULTI-STOREY CAR PARK",
           "NO"
          ],
          [
           "SURFACE CAR PARK",
           "SUN & PH FR 7AM-10.30PM"
          ],
          [
           "SURFACE CAR PARK",
           "SUN & PH FR 7AM-10.30PM"
          ],
          [
           "MULTI-STOREY CAR PARK",
           "SUN & PH FR 7AM-10.30PM"
          ],
          [
           "MULTI-STOREY CAR PARK",
           "SUN & PH FR 7AM-10.30PM"
          ],
          [
           "MULTI-STOREY CAR PARK",
           "SUN & PH FR 7AM-10.30PM"
          ],
          [
           "MULTI-STOREY CAR PARK",
           "NO"
          ],
          [
           "SURFACE CAR PARK",
           "NO"
          ],
          [
           "SURFACE CAR PARK",
           "NO"
          ],
          [
           "SURFACE CAR PARK",
           "NO"
          ],
          [
           "MULTI-STOREY CAR PARK",
           "SUN & PH FR 7AM-10.30PM"
          ],
          [
           "SURFACE CAR PARK",
           "SUN & PH FR 7AM-10.30PM"
          ],
          [
           "MULTI-STOREY CAR PARK",
           "SUN & PH FR 7AM-10.30PM"
          ],
          [
           "MULTI-STOREY CAR PARK",
           "SUN & PH FR 7AM-10.30PM"
          ],
          [
           "BASEMENT CAR PARK",
           "SUN & PH FR 7AM-10.30PM"
          ],
          [
           "MULTI-STOREY CAR PARK",
           "SUN & PH FR 7AM-10.30PM"
          ],
          [
           "MULTI-STOREY CAR PARK",
           "SUN & PH FR 7AM-10.30PM"
          ],
          [
           "MULTI-STOREY CAR PARK",
           "SUN & PH FR 7AM-10.30PM"
          ],
          [
           "MULTI-STOREY CAR PARK",
           "SUN & PH FR 7AM-10.30PM"
          ],
          [
           "SURFACE CAR PARK",
           "NO"
          ],
          [
           "SURFACE CAR PARK",
           "NO"
          ],
          [
           "MULTI-STOREY CAR PARK",
           "SUN & PH FR 7AM-10.30PM"
          ],
          [
           "SURFACE CAR PARK",
           "NO"
          ],
          [
           "MULTI-STOREY CAR PARK",
           "SUN & PH FR 7AM-10.30PM"
          ],
          [
           "SURFACE CAR PARK",
           "SUN & PH FR 7AM-10.30PM"
          ],
          [
           "MULTI-STOREY CAR PARK",
           "SUN & PH FR 7AM-10.30PM"
          ],
          [
           "MULTI-STOREY CAR PARK",
           "SUN & PH FR 7AM-10.30PM"
          ],
          [
           "MULTI-STOREY CAR PARK",
           "SUN & PH FR 7AM-10.30PM"
          ],
          [
           "MULTI-STOREY CAR PARK",
           "SUN & PH FR 7AM-10.30PM"
          ],
          [
           "MULTI-STOREY CAR PARK",
           "SUN & PH FR 7AM-10.30PM"
          ],
          [
           "MULTI-STOREY CAR PARK",
           "SUN & PH FR 7AM-10.30PM"
          ],
          [
           "MULTI-STOREY CAR PARK",
           "SUN & PH FR 7AM-10.30PM"
          ],
          [
           "SURFACE CAR PARK",
           "NO"
          ],
          [
           "MULTI-STOREY CAR PARK",
           "SUN & PH FR 7AM-10.30PM"
          ],
          [
           "MULTI-STOREY CAR PARK",
           "SUN & PH FR 7AM-10.30PM"
          ],
          [
           "SURFACE CAR PARK",
           "SUN & PH FR 7AM-10.30PM"
          ],
          [
           "MULTI-STOREY CAR PARK",
           "SUN & PH FR 7AM-10.30PM"
          ],
          [
           "SURFACE CAR PARK",
           "SUN & PH FR 7AM-10.30PM"
          ]
         ],
         "hovertemplate": "<b>%{hovertext}</b><br><br>latitude=%{lat}<br>longitude=%{lon}<br>car_park_type=%{customdata[0]}<br>free_parking=%{customdata[1]}<extra></extra>",
         "hovertext": [
          "BLK 270/271 ALBERT CENTRE BASEMENT CAR PARK",
          "BLK 98A ALJUNIED CRESCENT",
          "BLK 101 JALAN DUSUN",
          "BLOCK 253 ANG MO KIO STREET 21",
          "BLK 302/348 ANG MO KIO ST 31",
          "BLOCK 513 ANG MO KIO ST 53",
          "BLOCK 728 ANG MO KIO AVE 6",
          "BLK 5022 TO 5095 ANG MO KIO INDUSTRIAL PARK 2",
          "ANG MO KIO AVENUE 9",
          "BLK 227 ANG MO KIO ST 23",
          "BLK 256A ANG MO KIO STREET 21",
          "BLK 308C ANG MO KIO AVE 1",
          "BLK 260 ANG MO KIO ST 21",
          "BLK 309B ANG MO KIO ST 31",
          "BLK 316B ANG MO KIO STREET 31",
          "BLK 255A ANG MO KIO ST 21",
          "BLK 455 ANG MO KIO ST 44",
          "BLK 588 ANG MO KIO STREET 52",
          "BLK 700 ANG MO KIO AVE 6",
          "BLK 590 ANG MO KIO ST 51",
          "BLK 596 ANG MO KIO STREEET 52",
          "BLK 130A ANG MO KIO ST 12",
          "BLK 132A ANG MO KIO ST 12",
          "BLK 352A ANG MO KIO STREET 32",
          "3 AND 5 DOVER ROAD",
          "BLK 2A DOVER ROAD",
          "BLK 26 AND 27 DOVER CRESCENT",
          "BLK 28 DOVER CRESCENT",
          "BLK 19A DOVER CRESCENT",
          "12 TO 14 DOVER CLOSE EAST",
          "BLK 12A DOVER CLOSE EAST",
          "BLK 20/22/23 DOVER CRESCENT",
          "BLK 120/120A/121-127 ALEXANDRA VILLAGE",
          "BLK 1001/1010 BUKIT MERAH LANE 1/3",
          "BLK 215 ANG MO KIO STREET 22",
          "BLK 201/202 ANG MO KIO STREET 22",
          "BLK 650 ANG MO KIO STREET 61",
          "BLK 223/226/226A-226D ANG MO KIO ST 22",
          "BLK 229/230 ANG MO KIO ST 22",
          "BLK 232/233 ANG MO KIO ST 22",
          "BLK 226E-226H ANG MO KIO ST 22",
          "BLK 206/207 ANG MO KIO STREET 22",
          "BLK 304/307/319 ANG MO KIO ST 31",
          "BLK 325/326/301 ANG MO KIO STREET 31",
          "BLK 347A ANG MO KIO AVENUE 3",
          "BLK 338/340 ANG MO KIO ST 32",
          "BLK 330/337 ANG MO KIO AVE 8",
          "BLK 113/114/118 ANG MO KIO AVE 4",
          "BLK 108/109/110 ANG MO KIO ST 11",
          "BLK 103/105/107 ANG MO KIO ST 11",
          "BLK 347 ANG MO KIO AVENUE 3",
          "BLK 129/134 ANG MO KIO STREET 12",
          "BLK 133 ANG MO KIO STREET 12",
          "BLK 119/128 ANG MO KIO ST 12",
          "BLK 125/126 ANG MO KIO STREET 12",
          "BLK 253/254 ANG MO KIO STREET 21",
          "BLK 422/425 ANG MO KIO ST 42",
          "BLK 426/428/435 ANG MO KIO ST 43",
          "BLK 436/443/445 ANG MO KIO ST 43",
          "BLK 446/449/453 ANG MO KIO ST 43",
          "BLK 407/410/421 ANG MO KIO AVE 10",
          "BLK 401/405 ANG MO KIO AVE 10",
          "BLK 217/220 ANG MO KIO AVENUE 1",
          "BLK 471/476 ANG MO KIO ST 44",
          "BLK 466/470 ANG MO KIO ST 44",
          "BLK 461/465 ANG MO KIO ST 44",
          "BLK 457/458/460 ANG MO KIO ST 44",
          "BLK 459/456 ANG MO KIO ST 44",
          "BLK 570/578 ANG MO KIO ST 51",
          "BLK 562/565/560 ANG MO KIO STREET 54",
          "BLK 571/73 ANG MO KIO ST 51",
          "BLK 555/559 ANG MO KIO STREET 54",
          "BLK 548/552/556 ANG MO KIO STREET 54",
          "BLK 252/253A ANG MO KIO STREET 21",
          "BLK 701/716 ANG MO KIO AVE 3/6",
          "BLK 700B/ 700C ANG MO KIO AVE 3/6",
          "BLK 712A ANG MO KIO AVE 3/6",
          "BLK 727/728 ANG MO KIO AVE 6",
          "BLK 729/730 ANG MO KIO AVE 6/8",
          "BLK 725/730 ANG MO KIO AVE 8",
          "BLK 720/723 ANG MO KIO AVE 8",
          "BLK 721/722 ANG MO KIO AVE 8",
          "BLK 547/551 ANG MO KIO ST 54",
          "BLK 540/546 ANG MO KIO ST 54",
          "BLK 520/534/529 ANG MO KIO AVE 5/10",
          "BLK 501/513/508 ANG MO KIO ST 52/53",
          "BLK 584/586 ANG MO KIO ST 51",
          "BLK 558/560 ANG MO KIO STREET 54",
          "BLK 601/604/603 ANG MO KIO AVE 5",
          "BLK 605/612 ANG MO KIO AVE 4/5",
          "BLK 620/624/626 ANG MO KIO ST 61",
          "BLK 623/625/627 ANG MO KIO ST 61",
          "BLK 212/213 ANG MO KIO STREET 23",
          "BLK 629/626 ANG MO KIO AVE 4",
          "BLK 628/632 ANG MO KIO ST 61",
          "BLK 633/640 ANG MO KIO ST 61",
          "BLK 641/645 ANG MO KIO ST 61",
          "BLK 646/649 ANG MO KIO ST 61",
          "BLK 177/182 ANG MO KIO AVE 4",
          "BLK 613A ANG MO KIO AVENUE 4",
          "BLK 150/156 ANG MO KIO AVE 5",
          "BLK 157/163 ANG MO KIO AVE 4",
          "BLK 209/210 ANG MO KIO STREET 22",
          "BLK 170/172 ANG MO KIO ST 13",
          "BLK 173/176 ANG MO KIO AVE 4",
          "BLK 5022 TO 5095 ANG MO KIO IND PARK 2",
          "BLK 340 ANG MO KIO ST 32",
          "BLK 4001-4003/4026-4028/4033-4035 ANG MO KIO IND PARK 1",
          "BLK 462/463 ANG MO KIO ST 44",
          "BLK 348 ANG MO KIO AVE 3",
          "BLK 101/102 ANG MO KIO ST 11",
          "BLK 202/203 ANG MO KIO STREET 22",
          "BLK 625/627 ANG MO KIO ST 61",
          "BLK 104C ANG MO KIO STREET 11",
          "BLK 323A ANG MO KIO AVENUE 3",
          "BLK 259 ANG MO KIO AVE 2",
          "BLK 181 ANG MO KIO AVE 5",
          "106 BIDADARI PARK DRIVE",
          "BLK 117 ALKAFF CRESCENT",
          "BLK 101 BIDADARI PARK DRIVE",
          "BLK 113 ALKAFF CRESCENT",
          "BLK 109 BIDADARI PARK DRIVE",
          "BLK 232 BRAS BASAH BASEMENT CAR PARK",
          "BLK 188A BUKIT BATOK WEST AVE 6",
          "BLK 628A BUKIT BATOK CENTRAL",
          "BLK 289H BUKIT BATOK STREET 25",
          "BLK 288H BUKIT BATOK STREET 25",
          "BLK 290H BUKIT BATOK STREET 24",
          "BLK 291F BUKIT BATOK STREET 24",
          "BLK 154A BUKIT BATOK WEST AVE 8",
          "BLK 622A BUKIT BATOK CENTRAL",
          "BLK 395A BUKIT BATOK WEST AVE 5",
          "BLKS 168-180 BISHAN STREET 13",
          "BLK 181-186 BISHAN STREET 13",
          "BLK 187-197 BISHAN STREET 13",
          "BLK 135A BISHAN STREET 12",
          "BLK 167A BISHAN STREET 13",
          "BLK 152A BISHAN STREET 11",
          "BISHAN PARK I",
          "BISHAN PARK II",
          "BLK 441-455 SIN MING/BRIGHT HILL DRIVE",
          "BLK 503/504 BISHAN STREET 11",
          "BLK 505 BISHAN STREET 11",
          "BLK 506/509 BISHAN STREET 11",
          "BLK 511/513 BISHAN STREET 13",
          "BLK 514 BISHAN STREET 13",
          "BLK 201/206 BISHAN STREET 23",
          "BLK 207A BISHAN STREET 23",
          "BLK 207/212/216/217 BISHAN STREET 23",
          "BLK 212A BISHAN STREET 23",
          "BLK 213-215,218-227 BISHAN STREET 23",
          "BLK 228-231 BISHAN STREET 23",
          "BLK 401-408 SIN MING AVE",
          "BLK 410A SIN MING AVE",
          "BLK 231A BISHAN STREET 23",
          "BLK 232-237 BISHAN STREET 22",
          "BLK 237A BISHAN STREET 22",
          "BLK 238-245 BISHAN STREET 22",
          "BLK 246A BISHAN STREET 22",
          "BLK 246-256 BISHAN STREET 22",
          "BLK 278-281 BISHAN STREET 24",
          "BLK 282 BISHAN STREET 22",
          "BLK 283/284 BISHAN STREET 22",
          "BLK 263A BISHAN STREET 22",
          "BLK 101-116 BISHAN STREET 12",
          "BLK 268A BISHAN STREET 24",
          "BLK 290A BISHAN STREET 24",
          "BLK 448A BRIGHT HILL DRIVE",
          "BLK 275 BISHAN ST 24",
          "BLK 117-134 BISHAN STREET 12",
          "BLK 135/138 BISHAN STREET 12",
          "BLK 139-144 BISHAN STREET 12",
          "BLK 145-150A, 151 BISHAN STREET 11",
          "BLK 153-167 BISHAN STREET 13",
          "BLK 1 THOMSON ROAD",
          "BLK 2 BALESTIER ROAD",
          "BLK 517 - 519 JELAPANG ROAD",
          "BLK 533 - 534 BUKIT PANJANG RING ROAD",
          "BLK 259B BANGKIT ROAD",
          "BLK 130-140 CASHEW ROAD",
          "BLK 234-241 BUKIT PANJANG RING ROAD",
          "BLK 242-245 BUKIT PANJANG RING ROAD",
          "BLK 246-255 BANGKIT ROAD",
          "BLK 270-277 BANGKIT ROAD",
          "BLK 257 BANGKIT ROAD",
          "BLK 259A BANGKIT ROAD",
          "BLK 259A BANGKIT ROAD",
          "BLK 401A FAJAR ROAD",
          "BLK 401-408 FAJAR ROAD",
          "BLK 409-419 FAJAR ROAD",
          "BLK 141-151 GANGSA/PETIR ROAD",
          "BLK 420-426 FAJAR ROAD",
          "BLK 427-435 BUKIT PANJANG RING ROAD",
          "BLK 256/257/260 BANGKIT ROAD",
          "BLK 258 BUKIT PANJANG RING ROAD",
          "BLK 436-441 FAJAR ROAD",
          "BLK 453A FAJAR ROAD",
          "BLK 449A BUKIT PANJANG RING ROAD",
          "BLK 442A FAJAR ROAD",
          "BLK 170A LOMPANG ROAD",
          "BLK 505A JELAPANG ROAD",
          "BLK 101/129 GANGSA ROAD/PENDING ROAD",
          "BLK 510A JELAPANG ROAD",
          "BLK 513A JELAPANG ROAD",
          "BLK 518A JELAPANG ROAD",
          "BLK 234A BUKIT PANJANG RING ROAD",
          "BLK 517A JELAPANG ROAD",
          "BLK 521A JELAPANG ROAD",
          "BLK 525A JELAPANG ROAD",
          "BLK 529A JELAPANG ROAD",
          "BLK 533A BUKIT PANJANG RING ROAD",
          "BLK 537A BUKIT PANJANG RING ROAD",
          "BLK 219/233 PETIR ROAD",
          "BLK 541A BUKIT PANJANG RING ROAD",
          "BLK 152A GANGSA ROAD",
          "BLK 163A GANGSA ROAD",
          "BLK 603A SENJA ROAD",
          "BLK 177A LOMPANG ROAD",
          "BLK 180A LOMPANG ROAD",
          "BLK 651A SENJA LINK",
          "BLK 611A/613A/615A/616A BUKIT PANJANG RING ROAD/SENJA ROAD",
          "BLK 225A PETIR ROAD MSCP",
          "BLK 468A SEGAR ROAD",
          "BLK 181A JELEBU ROAD",
          "BLK 185A JELEBU ROAD",
          "BLK 480A SEGAR ROAD",
          "BLK 476A SEGAR ROAD",
          "BLK 625A SENJA ROAD",
          "BLK 629A SENJA ROAD",
          "BLK 628 SENJA RD",
          "BLK 455A SEGAR ROAD",
          "BLK 488A SEGAR ROAD",
          "BLK 217A PETIR ROAD MSCP",
          "BLK 547 SEGAR ROAD",
          "BLK 548 SEGAR ROAD",
          "BLK 454 FAJAR ROAD",
          "BLK 443 FAJAR ROAD",
          "BLK 632 SENJA ROAD",
          "BLK 634 SENJA ROAD",
          "BLK 636 SENJA ROAD",
          "BLK 422A FAJAR ROAD",
          "BLK 643 SENJA CLOSE",
          "BLK 646 SENJA CLOSE",
          "BLK 642 SENJA CLOSE",
          "BLK 638 SENJA CLOSE",
          "BLK 201/218 PETIR ROAD",
          "BLK 668 CHANDER ROAD",
          "BLK 681/682 RACE COURSE ROAD",
          "BLK 682/683 RACE COURSE ROAD",
          "BLK 684/685 RACE COURSE ROAD",
          "BLK 678 PERUMAL ROAD",
          "BLK 668 CHANDER ROAD",
          "BLK 6A BOON KENG ROAD",
          "BLK 10 BENDEMEER ROAD",
          "BLK 188/191 BOON LAY DRIVE",
          "BLK 198/206 BOON LAY DRIVE",
          "BLK 257A BOON LAY DRIVE",
          "BLK 268 BOON LAY DRIVE",
          "BLK 208A BOON LAY PLACE",
          "BLK 212A BOON LAY PLACE",
          "180 BOON LAY DRIVE",
          "183 BOON LAY AVENUE",
          "196 BOON LAY DR",
          "216 BOON LAY AVE",
          "BLK 174/179 BOON LAY DRIVE",
          "BLK 221 BOON LAY PLACE",
          "BLK 221 BL8 BOON LAY PLACE",
          "BLK 185/187 BOON LAY AVE",
          "BLK 126A BUKIT MERAH VIEW",
          "BLK 28 JALAN BUKIT MERAH",
          "BLK 56/57 LENGKOK BAHRU",
          "BLK 55 LENGKOK BAHRU",
          "BLK 44/47 LENGKOK BAHRU",
          "BLK 34-36 JALAN RUMAH TINGGI",
          "BLK 88/89 REDHILL CLOSE",
          "BLK 28 HOY FATT ROAD",
          "BLK 89/90 REDHILL CLOSE",
          "BLK 1/3/5 JALAN BUKIT MERAH",
          "BLK 115/116 BUKIT MERAH CENTRAL",
          "BLK 117, 161 BUKIT MERAH CENTRAL",
          "BLK 163 BUKIT MERAH CENTRAL",
          "BLK 49/50 HOY FATT ROAD",
          "BLK 164/165 BUKIT MERAH CENTRAL",
          "BLK 119 BUKIT MERAH CENTRAL",
          "BLKS 167-169 JALAN BUKIT MERAH",
          "JALAN BUKIT MERAH",
          "BLK 35A JALAN RUMAH TINGGI",
          "BLKS 8/10 JALAN RUMAH TINGGI",
          "BLK 61 LENGKOK BAHRU",
          "BLK 58/59 LENGKOK BAHRU",
          "BLK 101/109 BUKIT PURMEI ROAD",
          "BLK 110/115 BUKIT PURMEI ROAD",
          "BLK 665 BUFFALO ROAD LOADING/UNLOADING BAYS",
          "BLK 665 BUFFALO ROAD BASEMENT CAR PARK",
          "BLK 39 BENDEMEER ROAD",
          "BLK 112A WHAMPOA ROAD",
          "BLK 32A JALAN BAHAGIA",
          "BLK 98A WHAMPOA DRIVE",
          "BLK 85A WHAMPOA DRIVE",
          "BLK 19A JALAN TENTERAM",
          "BLK 116 JALAN TENTERAM",
          "BLK 78A LORONG LIMAU",
          "BLK 90 WHAMPOA DRIVE",
          "BLKS 27-30 & 32-33 JALAN BAHAGIA",
          "BLKS 34/35 JALAN BAHAGIA",
          "BLK 20 JALAN TENTERAM",
          "BLK 111A ST MICHAEL BUS TERMINAL",
          "BLK 41/47 JALAN BAHAGIA",
          "BLK 61/62 JALAN MA'MOR",
          "BLK 81/89 WHAMPOA DRIVE",
          "BLK 74/75 WHAMPOA DRIVE",
          "BLK 92 WHAMPOA DRIVE",
          "BLK 76/77 LORONG LIMAU",
          "BLK 69 MOULMEIN ROAD",
          "BLK 2B BOON TIONG ROAD",
          "BLK 8C BOON TIONG RD",
          "BLK 11A BOON TIONG ROAD",
          "BLK 129A BUKIT MERAH VIEW",
          "BLK 2A JLN BUKIT MERAH",
          "BLK 404/413 BEDOK NORTH AVENUE 3",
          "BLK 431 BEDOK NORTH ROAD",
          "BLK 416/418 BEDOK NORTH AVENUE 2",
          "BLK 420/421 BEDOK NORTH STREET 1",
          "BLK 414/425 BEDOK NORTH ROAD",
          "BLK 412/413 BEDOK NORTH AVENUE 2",
          "BLKS 59, 62-65 NEW UPPER CHANGI ROAD",
          "BLK 52/57 NEW UPPER CHANGI ROAD",
          "BLK 36-44, 60 BEDOK SOUTH ROAD",
          "BLK 67/73 BEDOK SOUTH ROAD",
          "BLK 74/82 BEDOK NORTH ROAD",
          "BLK 187 BEDOK NORTH ST 4",
          "BLK 84/89 BEDOK NORTH AVENUE 4",
          "BLK 84 BEDOK NORTH STREET 4",
          "BLK 91/97 BEDOK NORTH AVENUE 4",
          "BLK 98/100 BEDOK NORTH AVENUE 4",
          "BLK 101/106 BEDOK NORTH AVENUE 4",
          "BLK 107/110 BEDOK NORTH ROAD",
          "BLK 119/123 BEDOK NORTH STREET 2",
          "BLK 124/129 BEDOK NORTH STREET 2",
          "BLK 130/132 BEDOK NORTH STREET 2",
          "BLK 131/133 BEDOK NORTH AVENUE 3",
          "BLK 134/136 BEDOK NORTH AVENUE 3",
          "BLK 137/140 BEDOK NORTH AVENUE 3",
          "BLK 504/508 BEDOK NORTH STREET 3",
          "BLK 510 BEDOK NORTH STREET 3",
          "BLK 509/511 BEDOK NORTH STREET 3",
          "BLK 519/522 553 BEDOK NORTH AVENUE 1/2",
          "BLK 528/536 BEDOK NORTH STREET 3",
          "BLK 523/527 BEDOK NORTH STREET 3",
          "BLKS 556/557 BEDOK NORTH STREET 3",
          "BLK 537/539 BEDOK NORTH STREET 3",
          "BLK 537 BEDOK NORTH STREET 3",
          "BLK 540/542 BEDOK NORTH STREET 3",
          "BLK 543/547 BEDOK NORTH STREET 3",
          "BLK 547C BEDOK NORTH AVENUE 1",
          "BLK 549/551 BEDOK NORTH AVENUE 1",
          "BLK 601/605 BEDOK RESERVOIR ROAD",
          "BLK 606/610 BEDOK RESERVOIR ROAD",
          "BLK 609A BEDOK RESERVOIR ROAD",
          "BLK 611/616 BEDOK RESERVOIR ROAD",
          "BLK 617/624 BEDOK RESERVOIR ROAD",
          "BLK 625/629 BEDOK RESERVOIR ROAD",
          "BLK 630/632 BEDOK RESERVOIR ROAD",
          "BLK 701/708 BEDOK RESERVOIR ROAD",
          "BLK 716/718/721 BEDOK RESERVOIR ROAD",
          "BLK 204/209 NEW UPPER CHANGI ROAD",
          "BLK 208A NEW UPPER CHANGI ROAD",
          "BLK 23 BEDOK SOUTH AVENUE 1",
          "BLK 722/725 BEDOK RESERVOIR ROAD",
          "BLK 739/745 BEDOK RESERVOIR ROAD",
          "BLK 155/172 BEDOK SOUTH ROAD/AVE 3",
          "BLK 152A BEDOK SOUTH ROAD",
          "BLK 154 BEDOK SOUTH ROAD",
          "BLK 637A BEDOK RESERVOIR ROAD",
          "BLK 649A JALAN TENAGA",
          "BLK 10A BEDOK SOUTH AVENUE 2",
          "BLK 94A BEDOK NORTH AVENUE 4",
          "BLK 211/218 BEDOK NORTH STREET 1",
          "BLK 216/218 BEDOK NORTH ST 1",
          "BEDOK CENTRAL",
          "BLK 201 BEDOK NORTH ST 1",
          "BLK 29C CHAI CHEE AVENUE",
          "BLK 660A JALAN TENAGA",
          "BLK 651A JALAN TENAGA",
          "BLK 671A JALAN DAMAI",
          "BLK 613C BEDOK RESERVOIR ROAD",
          "BLK 761A BEDOK RESERVOIR VIEW",
          "BLK 765A BEDOK RESERVOIR VIEW",
          "BLK 769A BEDOK RESERVOIR VIEW",
          "BLK 772A BEDOK RESERVOIR VIEW",
          "BLK 201/203 BEDOK NORTH STREET 1",
          "BLK 222 BEDOK NORTH DRIVE",
          "BLK 739A BEDOK RESERVOIR ROAD",
          "BLK 30A NEW UPPER CHANGI ROAD",
          "BLK 509B BEDOK NORTH STREET 3",
          "BLK 21A CHAI CHEE ROAD",
          "BLK 215A BEDOK CENTRAL",
          "BLK 184 BEDOK NORTH RD",
          "BLK 114A BEDOK NORTH ST 2",
          "BLK 13A BEDOK SOUTH RD",
          "BLK 34A BED0K SOUTH AVE 2",
          "BLK 116A BEDOK NORTH ROAD",
          "BLK 402/403 BEDOK NORTH AVENUE 3",
          "BLK 35A BEDOK SOUTH AVE 2",
          "BLK 630 BEDOK RESERVOIR ROAD",
          "BLK 2A BEDOK SOUTH AVE 1",
          "BLK 19A BEDOK SOUTH ROAD",
          "BLK 513A BEDOK NORTH AVE 2",
          "BLK 512 TO 518, 554 BEDOK NORTH AVE 2",
          "BLK 220 BEDOK CENTRAL",
          "BLK 219 BEDOK CENTRAL",
          "BLK 714A BEDOK RESERVOIR ROAD",
          "BLK 748 BEDOK RESERVOIR CRESCENT",
          "BLK 807 CHAI CHEE ROAD",
          "BLK 88 TANGLIN HALT RD",
          "309 CHOA CHU KANG AVE 4",
          "BLK 84A COMMONWEALTH CLOSE",
          "BLK 1/2 CHAI CHEE STREET",
          "BLK 43/45 CHAI CHEE STREET",
          "BLK 50/54 CHAI CHEE STREET",
          "BLK 11 CHAI CHEE ROAD",
          "BLK 22/24, 59/63, 803/805 CHAI CHEE ROAD",
          "BLK 27 CHAI CHEE ROAD",
          "BLK 25-27 CHAI CHEE ROAD",
          "BLK 30/40 CHAI CHEE AVENUE",
          "BLK 55/58 CHAI CHEE DRIVE",
          "BLK 41/42 CHAI CHEE STREET",
          "BLK 54 C'WEALTH DR",
          "BLK 355 CHOA CHU KANG CENTRAL",
          "BLK 429A CHOA CHU KANG AVENUE 4",
          "BLK 625A CHOA CHU KANG STREET 62",
          "BLK 445A CHOA CHU KANG AVE 4",
          "BLK 474A CHOA CHU KANG AVE 3",
          "BLK 450A CHOA CHU KANG AVE 4",
          "BLK 462A CHOA CHU KANG AVE 4",
          "BLK 483A CHOA CHU KANG AVE 5",
          "BLK 486A CHOA CHU KANG AVE 5",
          "BLK 297B CHOA CHU KANG AVE 2",
          "BLK BETWEEN 404 & 426 CHOA CHU KANG AVENUE 1/4",
          "BLK 302 CHOA CHU KANG LOOP",
          "BLK 101/108 TECK WHYE LANE",
          "BLK 227A CHOA CHU KANG CENTRAL",
          "BLK 287A CHOA CHU KANG AVENUE 2",
          "BLK 409/413 CHOA CHU KANG AVE 3",
          "BLK 414-420 CHOA CHU KANG AVENUE 4",
          "BLK 278/287 CHOA CHU KANG AVENUE 2/3",
          "BLK 288/295 CHOA CHU KANG AVENUE 2/3",
          "BLK 401/408 CHOA CHU KANG AVE 3",
          "BLK 421/428 CHOA CHU KANG AVENUE 4",
          "BLK 130/132 CHOA CHU KANG AVE 1",
          "BLK 133/134 TECK WHYE LANE",
          "BLK 109/117 TECK WHYE LANE",
          "BLK 429, 438-441 CHOA CHU KANG AVENUE 4",
          "BLK 343A CHOA CHU KANG LOOP",
          "BLK 430-437 CHOA CHU KANG AVENUE 4",
          "BLK 350-351 CHOA CHU KANG CENTRAL",
          "BLK 352-355 CHOA CHU KANG CENTRAL",
          "BLK 302, 304-308 CHOA CHU KANG LOOP",
          "BLK 276A CHOA CHU KANG AVENUE 2",
          "BLK 276/277 CHOA CHU KANG AVENUE 2",
          "BLK 118/124 TECK WHYE LANE",
          "BLK 118A TECK WHYE LANE",
          "BLK 248/250 CHOA CHU KANG AVENUE 2",
          "BLK 251A CHOA CHU KANG AVENUE 2",
          "BLK 253A CHOA CHU KANG AVE 1",
          "BLK 502A CHOA CHU KANG STREET 51",
          "BLK 511A CHOA CHU KANG STREET 51",
          "BLK 513A CHOA CHU KANG STREET 51",
          "BLK 527A CHOA CHU KANG STREET 51",
          "BLK 552A CHOA CHU KANG STREET 52",
          "BLK 541A CHOA CHU KANG STREET 52",
          "BLK 559A CHOA CHU KANG NORTH 6",
          "BLK 135-138,141,142 & 145 TECK WHYE LANE/AVE",
          "BLK 144/145 TECK WHYE LANE/AVE",
          "BLK 567A CHOA CHU KANG STREET 52",
          "BLK 708A CHOA CHU KANG STREET 53",
          "BLK 754A CHOA CHU KANG NORTH 5",
          "BLK 762A CHOA CHU KANG NTH 5",
          "BLK 771A CHOA CHU KANG ST 54",
          "BLK 792A CHOA CHU KANG NTH 6",
          "BLK 787A CHOA CHU KANG DRIVE",
          "BLK 604A CHOA CHU KANG ST 62",
          "BLK 610A CHOA CHU KANG ST 62",
          "BLK 139 & 140 TECK WHYE LANE/AVE",
          "BLK 611A CHOA CHU KANG ST 62",
          "BLK 621A CHOA CHU KANG NORTH 7",
          "BLK 659A/660A/661A CHOA CHU KANG CRESCENT",
          "BLK 668A CHOA CHU KANG CRESCENT",
          "BLK 638-643 CHOA CHU KANG STREET 64",
          "BLK 631-637 & 636A CHOA CHU KANG NORTH 6",
          "BLK 675A CHOA CHU KANG CRESCENT",
          "BLK 669A CHOA CHU KANG CRESCENT",
          "BLK 678A CHOA CHU KANG CRESCENT",
          "BLK 297A CHOA CHU KANG AVE 2",
          "BLK 143, 144 & 146 TECK WHYE LANE",
          "BLK 146A 146A TECK WHYE AVENUE",
          "BLK 683 CHOA CHU KANG CRESCENT",
          "BLK 686 CHOA CHU KANG CRESCENT",
          "BLK 687 CHOA CHU KANG DRIVE",
          "BLK 689 CHOA CHU KANG CRESCENT",
          "BLK 692 CHOA CHU KANG CRESCENT",
          "BLK 535,536 AND 537 CHOA CHU KANG STREET 51",
          "BLK 573A CHOA CHU KANG STREET 52",
          "BLK 135A TECK WHYE LANE",
          "BLK 476 CHOA CHU KANG AVE 5",
          "BLK 488 CHOA CHU KANG AVE 5",
          "BLK 489 CHOA CHU KANG AVE 5",
          "BLK 801 KEAT HONG CLOSE",
          "BLK 805 KEAT HONG CLOSE",
          "BLK 809 CHOA CHU KANG AVENUE 1",
          "BLK 810 CHOA CHU KANG AVE 7",
          "BLK 815 CHOA CHU KANG AVE 7",
          "817 KEAT HONG LINK",
          "BLK 201-221 CHOA CHU KANG CENTRAL",
          "BLK 203A CHOA CHU KANG AVE 1/CENTRAL",
          "BLK 223-227 CHOA CHU KANG CENTRAL",
          "BLK 228-239 CHOA CHU KANG CENTRAL",
          "BLK 129A CLARENCE LANE",
          "312 CLEMENTI AVE 4",
          "BLK 311 CLEMENTI AVE 4",
          "BLK 10 CANTONMENT CLOSE",
          "BLK 1/3/15/17 BEACH ROAD",
          "BLK 2 BEACH ROAD",
          "BLK 3 BEACH ROAD",
          "BLK 3/4 BEACH ROAD",
          "BLK 29/30 KELANTAN LANE",
          "BLK 9 NORTH BRIDGE ROAD",
          "BLK 639/640 ROWELL COURT",
          "BLK 632/633/635 VEERASAMY ROAD",
          "BLK 7 NORTH BRIDGE ROAD",
          "BLK 18/19 JALAN SULTAN",
          "BLK 10 NORTH BRIDGE ROAD",
          "BLK 464/463 CRAWFORD LANE",
          "BLK 54 CHIN SWEE ROAD MSCP",
          "BLK 441 COMMONWEALTH AVE WEST",
          "BLK 8C BOON KENG ROAD",
          "BLK 1/1A TELOK PAKU ROAD",
          "BLK 3 CHANGI VILLAGE ROAD",
          "BLK 5 CHANGI VILLAGE ROAD",
          "BLK 6 CHANGI VILLAGE ROAD",
          "BLK 269/269A/269B CHENG YAN COURT CAR PARK",
          "BLK 339,341,344-345,371-381 CLEMENTI AVENUE 5",
          "BLK 321-322,324-326 CLEMENTI AVENUE 5",
          "BLK 301-302,305-308 CLEMENTI AVENUE 4",
          "BLK 309A CLEMENTI AVE 4",
          "BLK 318A CLEMENTI AVE 4",
          "BLK 440 CLEMENTI AVE 3",
          "BLK 430-435 CLEMENTI AVE 3",
          "BLK 442-444,442A CLEMENTI AVE 3",
          "BLK 426/428 CLEMENTI AVE 3",
          "BLK 426/427 CLEMENTI AVE 3",
          "BLK 445 CLEMENTI AVE3",
          "BLK 449-451 CLEMENTI AVE 3",
          "BLK 462A CLEMENTI AVENUE 3",
          "BLK 454 TO 460 CLEMENTI AVE 3",
          "BLK 455A CLEMENTI AVE 3",
          "BLK 109A CLEMENTI ST 11",
          "BLK 110/118 CLEMENTI STREET 13",
          "BLK 101-104 CLEMENTI STREET 14",
          "BLK 105-107 CLEMENTI STREET 12",
          "BLK 108/109 CLEMENTI STREET 11",
          "BLK 201/206 CLEMENTI AVENUE 6",
          "BLK 208 CLEMENTI AVE 6",
          "BLK 501-505 WEST COAST DRIVE",
          "BLK 503 WEST COAST DRIVE",
          "BLK 416A CLEMENTI AVE 1",
          "BLK 419, 420 AND 420A CLEMENTI AVE 1",
          "BLK 507-509 WEST COAST DRIVE",
          "BLK 510/511 WEST COAST ROAD",
          "BLK 514-519 WEST COAST ROAD",
          "BLK 601-613 CLEMENTI WEST STREET 1",
          "BLK 702/703 WEST COAST ROAD",
          "BLK 704-714 CLEMENTI WEST STREET 2",
          "BLK 728/729 CLEMENTI WEST STREET 2",
          "BLK 720-727,730-731 CLEMENTI WEST STREET 2",
          "BLK 715-717 CLEMENTI WEST STREET 2",
          "CLEMENTI SPORTS COMPLEX",
          "BLK 413A COMMONWEALTH AVENUE WEST",
          "CLEMENTI WOODS",
          "BLK 358-360,362-363,366-367 CLEMENTI AVE 2",
          "BLK 328-334 CLEMENTI AVE 2",
          "BLK 349-355 CLEMENTI AVE 2",
          "BLK 335/338 CLEMENTI AVE 2",
          "BLK 340/342/343/346-348 CLEMENTI AVE 5",
          "BLK 104C DEPOT ROAD",
          "BLK 112C DEPOT ROAD",
          "108A DEPOT ROAD",
          "BLK 105 DEPOT ROAD",
          "BLOCK 110 DEPOT ROAD",
          "BLK 102A/102B DEPOT ROAD",
          "BLK 38A MARGARET DRIVE",
          "BLK 31A MARGARET DRIVE",
          "BLK 37A MARGARET DRIVE",
          "BLK 1 CANTONMENT ROAD",
          "BLK 40 & 41 MARGARET DRIVE",
          "BLK 95A DAWSON ROAD",
          "BLK 89A DAWSON ROAD",
          "BLK 85 DAWSON ROAD",
          "BLK 78A DAWSON ROAD",
          "BLK 31A EUNOS CRESCENT",
          "BLK 12-25 EUNOS CRESCENT",
          "BLK 5-8/11/4A EUNOS CRESCENT",
          "BLK 1-3/1A EUNOS CRESCENT",
          "BLK 9-10 EUNOS CRESCENT",
          "BLK 842-848 SIMS AVENUE",
          "BLK 842 TO 848 SIM AVENUE",
          "BLK 2A EUNOS MRT SIMS AVENUE",
          "BLK 1001-1085 EUNOS INDUSTRIAL ESTATE",
          "BLK 410/411/414-417 EUNOS ROAD 5",
          "BLK 1/7 EVERTON PARK",
          "BLK 6A EVERTON ROAD",
          "BLK 808 FRENCH ROAD MSCP",
          "BLK 3/4 QUEEN'S ROAD",
          "BLK 2/3/4 QUEEN'S ROAD",
          "BLK 8A EMPRESS ROAD",
          "BLK 6A FARRER ROAD",
          "BLK 60A GEYLANG BAHRU",
          "BLK 118 ALJUNIED AVE 2",
          "BLK 118 ALJUNIED AVE 2",
          "BLK 99-106/111-112 ALJUNIED CRESCENT",
          "BLK 114-117 ALJUNIED AVENUE 2",
          "BLK 119 ALJUNIED CRESCENT",
          "BLK 1005-1012 ALJUNIED CRESCENT",
          "BLK 109-110 ALJUNIED CRESCENT",
          "BLK 107-108 ALJUNIED CRESCENT",
          "BLK 95 & 113 ALJUNIED CRESCENT",
          "BLK 120 TO 123 GEYLANG EAST CENTRAL",
          "BLK 124 TO 128 GEYLANG EAST AVE 1",
          "BLK 129-134 GEYLANG EAST AVE 1/2",
          "BLK 24 GHIM MOH LINK",
          "BLK 2A GHIM MOH ROAD",
          "BLK 5A GHIM MOH RD",
          "31A GHIM MOH LINK",
          "BLK 7/8/9 GHIM MOH ROAD",
          "BLK 8A GHIM MOH RD",
          "BLK 19/20 GHIM MOH ROAD",
          "BLK 21 GHIM MOH ROAD",
          "BLK 13A GHIM MOH RD",
          "BLK 16A GHIM MOH ROAD",
          "BLK 2 GEYLANG SERAI",
          "BLK 2 GEYLANG SERAI",
          "BLK 104A HENDERSON CRESCENT",
          "BLK 480 480 LORONG 6 TOA PAYOH",
          "BLK 102/103/104 HENDERSON CRESCENT",
          "BLK 78/81 REDHILL LANE",
          "BLK 115 BUKIT MERAH VIEW",
          "BLK 93/96 HENDERSON RD",
          "ALEXANDRA RD",
          "BLK 105 HENDERSON RD",
          "BLK 116 BUKIT MERAH VIEW",
          "BLK 116/117 BUKIT MERAH VIEW",
          "BLK 121/122 & 127 BUKIT MERAH VIEW",
          "BLK 118/119 BUKIT MERAH VIEW",
          "BLK 1,2,6,7 HOUGANG AVE 3",
          "BLK 470 UPPER SERANGOON CRESCENT",
          "BLK 475 UPPER SERANGOON CRESCENT",
          "BLK 476 UPP SERANGOON VIEW",
          "BLK 376 HOUGANG ST 32",
          "BLK 377 HG 1E HOUGANG STREET 32",
          "BLK 229 HOUGANG STREET 21",
          "BLK 101-108 HOUGANG AVENUE 1",
          "BLK 301-319 HOUGANG AVENUE 5",
          "BLK 320-324 HOUGANG AVENUE 5",
          "BLK 325/326 HOUGANG AVENUE 7",
          "BLK 327-328,332-334,358-363 HOUGANG AVENUE 5",
          "BLK 208-210 HOUGANG STREET 21",
          "BLK 211-212 HOUGANG STREET 21",
          "BLK 231/233/235/237 HOUGANG STREET 21",
          "BLK 230/232/234/236/238 HOUGANG AVENUE 1",
          "BLK 138-145 LORONG AH SOO",
          "BLK 15-18 HOUGANG AVE 3",
          "BLK 473 UPP SERANGOON CRESCENT",
          "BLK 933 HOUGANG AVENUE 9",
          "BLK 364 / 365 UPP SERANGOON RD",
          "BLK 581,582 AND 582A BUANGKOK GREEN",
          "BLK 128-137 LORONG AH SOO",
          "BLK 154-157 HOUGANG STREET 11",
          "BLK 239-246 HOUGANG STREET 22",
          "BLK 247-254 HOUGANG AVENUE 3",
          "BLK 335-341 HOUGANG AVENUE 7",
          "BLK 351-357 HOUGANG AVENUE 7",
          "BLK 997 BUANGKOK CRESCENT",
          "BLK 991 BUANGKOK LINK",
          "BLK 996 BUANGKOK CRESCENT",
          "BLK 998 BUANGKOK CRESCENT",
          "BLK 993 BUANGKOK LINK",
          "BLK 993A-993B, 994A-994C, 995A-995D, BUANGKOK CRESCENT/BUANGKOK LINK",
          "BLK 464-468 HOUGANG AVENUE 10",
          "BLK 414-416 HOUGANG AVENUE 10",
          "BLK 601-608 HOUGANG AVENUE 4",
          "BLK 609-621 HOUGANG AVENUE 8",
          "BLK 622-632 HOUGANG AVENUE 8",
          "BLK 701-702,707-710 HOUGANG AVENUE 2",
          "BLK 703-706,711-712 HOUGANG AVENUE 2",
          "BLKS 501-507 HOUGANG AVENUE 8",
          "BLK 508-517,520-533 HOUGANG AVENUE 10",
          "HOUGANG SPORTS COMPLEX",
          "BLK 19-23 HOUGANG AVE 3",
          "BLK 1 TO 32, 37 TO 38 DEFU LANE 10",
          "BLK 633-642 & 647-648 HOUGANG AVENUE 8",
          "BLK 643-646/649-662/665-667 HOUGANG AVENUE 8",
          "BLK 668-680 HOUGANG AVENUE 8",
          "BLK 681-684 HOUGANG AVENUES 4/8",
          "BLK 685-691 HOUGANG STREET 61",
          "BLK 692-698 HOUGANG STREET 61",
          "BLK 805 HOUGANG CENTRAL",
          "BLK 417-434 HOUGANG AVE 6/8/10",
          "BLK 435-458 HOUGANG AVE 6/8",
          "BLK 24/25 HOUGANG AVE 3",
          "BLK 534-545 HOUGANG AVENUE 8",
          "BLK 546-555 HOUGANG STREET 51",
          "BLK 556-566 HOUGANG STREET 51",
          "BLK 830A HOUGANG CENTRAL",
          "BLK 220-222 HOUGANG STREET 21",
          "BLK 814 HOUGANG AVENUE 10",
          "BLK 830-835 HOUGANG CENTRAL",
          "DEFU LANE 7",
          "DEFU LANE 8",
          "DEFU LANE 9",
          "BLK 548A HOUGANG STREET 51",
          "BLK 559A HOUGANG STREET 51",
          "BLK 566A HOUGANG STREET 51",
          "BLK 465A UPPER SERANGOON ROAD",
          "BLK 682-684 HOUGANG STREET 61",
          "DEFU LANE 11",
          "DEFU LANE 12",
          "BLK 401-413, 460-463 HOUGANG AVENUE 10",
          "BLK 838A HOUGANG CENTRAL",
          "BLK 850A HOUGANG CENTRAL",
          "BLK 109-127 HOUGANG AVENUE 1",
          "BLK 567A HOUGANG STREET 51",
          "BLK 574A HOUGANG STREET 51",
          "BLK 576A HOUGANG AVENUE 4",
          "BLK 909A HOUGANG STREET 91",
          "BLK 166A HOUGANG AVENUE 1",
          "BLK 172A HOUGANG AVENUE 1",
          "BLK 159A HOUGANG STREET 11",
          "BLK 919A HOUGANG AVENUE 4",
          "BLK 925A HOUGANG STREET 91",
          "BLK 931A HOUGANG STREET 91",
          "BLK 941A HOUGANG STREET 92",
          "DEFU LANE 1",
          "DEFU LANE 2",
          "DEFU LANE 3",
          "DEFU LANE 5",
          "DEFU LANE 6",
          "BLK 946A HOUGANG STREET 92",
          "BLK 955A HOUGANG AVENUE 9",
          "BLK 699D HOUGANG STREET 52",
          "BLK 435A HOUGANG AVE 8",
          "BLK 201-204 HOUGANG STREET 21",
          "BLK 206 HOUGANG ST 21",
          "BLK 966A HOUGANG AVENUE 9",
          "BLK 971A HOUGANG STREET 91",
          "BLK 373A HOUGANG STREET 31",
          "BLK 980 BUANGKOK CRESCENT",
          "BLK 984 BUANGKOK LINK",
          "BLK 105 HOUGANG AVENUE 1",
          "BLK 108 HOUGANG AVE 1",
          "BLK 804 HOUGANG AVE 10",
          "BLK 988 BUANGKOK GREEN",
          "BLK 174A-174D HOUGANG AVENUE 1",
          "BLK 533A HONG LIM MSCP",
          "BLK 96 HENDERSON ROAD",
          "BLK 1-3 HAIG RD",
          "BLK 4-6 HAIG RD",
          "BLK 7 TO 9 HAIG RD",
          "BLK 10 TO 14 HAIG RD",
          "BLK 21 TO 23 HAIG RD",
          "BLK 51 HAVELOCK ROAD",
          "BLK 34 JALAN BUKIT HO SWEE",
          "BLK 1/5 DELTA AVE",
          "BLK 96 HAVELOCK ROAD MSCP",
          "BLK 568 GANGES AVENUE",
          "BLK 28A BEO CRESCENT",
          "BLK 44A HAVELOCK ROAD",
          "BLK 87 ZION RD",
          "BLK 991A TO 991B,992A TO 992B BUANGKOK LINK",
          "BLK 998A TO 998B,999A TO 999B BUANGKOK CRESCENT",
          "BLK 22 HAVELOCK RD",
          "BLK 644,645,652,655 HOUGANG AVENUE 8",
          "BLK 77/79 GANGES AVENUE",
          "BLK 78A INDUS RD",
          "BLKS 4-8 TAMAN HO SWEE",
          "BLK 950 TO 976 HOUGANG AVE 9 /STREET 91",
          "BLK 978C TO 981D, 982, 987A TO 988C BUANKOK CRESCENT/GREEN",
          "BLK 134A JALAN BUKIT MERAH",
          "BLK 113A JLN BUKIT MERAH",
          "BLK 3-5,7,8,4A JALAN BATU",
          "BLK 10-11 JALAN BATU",
          "BLK 6,12,14 KAMPONG ARANG ROAD",
          "BLK 1,2,9 KAMPONG KAYU",
          "BLK 2 JOO CHIAT RD",
          "BLK 2 JOO CHIAT RD",
          "BLK 8A JALAN KUKOH MSCP",
          "BLK 1 JALAN KUKOH CAR PARK",
          "BLK 117A JALAN MEMBINA",
          "BLK 18A JALAN MEMBINA",
          "BLK 26 JALAN MEMBINA",
          "BLK 4/5/6 JALAN MINYAK CAR PARK",
          "BLK 517B JURONG WEST STREET 52",
          "BLK 648 JURONG WEST ST 61",
          "BLK 686 JURONG WEST CENTRAL 1",
          "BLK 624A JURONG WEST STREET 61",
          "BLK 601A JURONG WEST STREET 62",
          "BLK 635A JURONG WEST STREET 65",
          "BLK 617A JURONG WEST STREET 65",
          "BLK 659 JURONG WEST ST 65",
          "BLK 660 JURONG WEST ST 64",
          "BLK 629A JURONG WEST ST 65",
          "BLK 273 JURONG WEST AVENUE 3",
          "BLK 682 JURONG WEST CENTRAL 1",
          "BLK 657 JURONG WEST STREET 65",
          "BLK 651 JURONG WEST STREET 61",
          "BLK 674 JURONG WEST STREET 65",
          "BLK 276 JURONG WEST STREET 25",
          "BLK 655 JURONG WEST STREET 61",
          "BLK 673 JURONG WEST ST 65",
          "BLK 675 JURONG WEST ST 64",
          "BLK 676 JURONG WEST ST 64",
          "BLK 990 JURONG WEST ST 93",
          "BLK 986 JURONG WEST ST 93",
          "BLK 679 JURONG WEST CENTRAL 1",
          "BLK 271 JURONG WEST ST 24",
          "BLK 638A JURONG WEST ST 61",
          "697 JURONG WEST CTRL 3",
          "BLK 684 JURONG WEST ST 64",
          "BLK 664 JURONG WEST ST 64",
          "BLK 663 JURONG WEST ST 65",
          "BLK 669 JURONG WEST ST 64",
          "BLK 667 JURONG WEST ST 65",
          "BLK 650 JURONG WEST ST 61",
          "BLK 814 JELLICOE ROAD",
          "BLK 37A JALAN RUMAH TINGGI",
          "BLK 499 JURONG WEST ST 41",
          "BLK 686 JURONG WEST CTRL 1",
          "BLK 692A JURONG WEST CTRL 3",
          "BLK 624A JURONG WEST ST 61 (SERVICE ROAD)",
          "BLK 337 TAH CHING RD",
          "BLK 647A JURONG WEST ST 61",
          "BLK 101/107 JURONG EAST ST 13",
          "BLK 246/249 JURONG EAST ST 24",
          "BLK 250/251 JURONG EAST ST 24",
          "BLK 252/254 JURONG EAST ST 24",
          "BLK 253 JURONG EAST ST 24",
          "BLK 256/258 JURONG EAST ST 24",
          "BLK 259/264 JURONG EAST ST 24",
          "BLK 301/304 JURONG EAST ST 32",
          "BLK 305/306 JURONG EAST ST 32",
          "BLK 307/308 JURONG EAST ST 32",
          "BLK 309/310 JURONG EAST ST 32",
          "BLK 108/110 JURONG EAST ST 13",
          "BLK 311/316 JURONG EAST ST 32",
          "BLK 317/328 JURONG EAST STREET 31",
          "BLK 318A JURONG EAST AVE 1",
          "BLK 329/333 JURONG EAST AVENUE 1",
          "BLK 334/341 JURONG EAST AVENUE 1",
          "BLK 372A JURONG EAST ST 32",
          "BLK 342/346 JURONG EAST STREET 31",
          "BLK 347/350 JURONG EAST AVE 1",
          "BLK 351/353 JURONG EAST STREET 31",
          "BLK 521/524 JURONG WEST STREET 52",
          "BLK 525/527 JURONG WEST STREET 52",
          "BLK 528/534 JURONG WEST STREET 52",
          "BLK 111/116 JURONG EAST ST 13",
          "BLK 530/536 JURONG WEST STREET 52",
          "BLK 515/517 JURONG WEST STREET 52",
          "BLK 518/520 JURONG WEST STREET 52",
          "BLK 513/514 JURONG WEST STREET 52",
          "BLK 508/511 JURONG WEST STREET 51/52",
          "BLK 543/551 JURONG WEST STREET 42",
          "BLK 537/542 JURONG WEST AVENUE 1",
          "BLK 505/508 JURONG WEST STREET 52",
          "BLK 456-461 JURONG WEST STREET 41",
          "BLK 201/206 JURONG EAST ST 21",
          "BLK 462-467 JURONG WEST STREET 41",
          "BLK 468-473 JURONG WEST STREET 41",
          "BLK 474 JURONG WEST STREET 41",
          "BLK 474-477 JURONG WEST STREET 41",
          "BLK 478-483 JURONG WEST STREET 41",
          "BLK 484-491 JURONG WEST AVENUE 1",
          "BLK 501/504 JURONG WEST STREET 51",
          "BLK 502/503 JURONG WEST AVENUE 1",
          "BLK 441/455 JURONG WEST AVE 1/ST 42",
          "BLK 552/559 JURONG WEST STREET 42",
          "560 JURONG WEST ST 42",
          "BLK 207/208 JURONG EAST ST 21",
          "BLK 401/408 JURONG WEST STREET 42",
          "BLK 409/416 JURONG WEST STREET 42",
          "BLK 423/440 JURONG WEST AVE 1/ST 42",
          "BLK 417/422 JURONG WEST STREET 42",
          "BLK 492-496 JURONG WEST STREET 41",
          "BLK 497-498 JURONG WEST STREET 41",
          "BLK 130 JURONG GATEWAY ROAD",
          "BLK 131/134 JURONG GATEWAY ROAD",
          "BLK 131 JURONG GATEWAY ROAD",
          "BLK 132 JURONG GATEWAY ROAD",
          "BLK 209/214 JURONG EAST ST 21",
          "BLK 505 JURONG WEST ST 52",
          "505A JURONG WEST ST 52",
          "BLK 912/932 JURONG WEST STREET 92",
          "BLK 902/908 JURONG WEST STREET 91",
          "BLK 901 JURONG WEST STREET 91",
          "BLK 909/911 JURONG WEST STREET 91",
          "BLK 354 JURONG EAST AVE 1",
          "BLK 933-953 JURONG WEST STREET 91",
          "BLK 959-961 JURONG WEST STREET 92",
          "BLK 962-966 JURONG WEST STREET 91",
          "BLK 962A JURONG WEST STREET 91",
          "BLK 974/980 JURONG WEST STREET 93",
          "BLK 967 JURONG WEST 91 JURONG WEST STREET 93",
          "BLK 215A/231 JURONG EAST ST 21",
          "BLK 835/838 JURONG WEST STREET 81",
          "BLK 812/826 JURONG WEST STREET 81",
          "BLK 743/751 JURONG WEST STREET 73",
          "BLK 719/731 JURONG WEST STREET 72",
          "BLK 711/718 JURONG WEST STREET 71",
          "BLK 712B JURONG WEST ST 71 JURONG WEST STREET 71",
          "BLK 841A JURONG WEST STREET 81",
          "BLK 832A JURONG WEST STREET 81",
          "BLK 750A JURONG WEST STREET 73",
          "BLK 702A JURONG WEST STREET 71",
          "BLK 821A JURONG WEST STREET 81",
          "BLK 232/240 JURONG EAST ST 21",
          "BLK 240C JURONG EAST AVE 1",
          "BLK 734A JURONG WEST STREET 73",
          "BLK 760A JURONG WEST STREET 74",
          "BLK 844A JURONG WEST ST 81",
          "BLK 865A JURONG WEST ST 81",
          "BLK 854A JURONG WEST ST 81",
          "BLK 859A JURONG WEST ST 81",
          "BLK 764A JURONG WEST ST 74",
          "BLK 692A JURONG WEST CENTRAL 1",
          "BLK 691A JURONG WEST CENTRAL 1",
          "BLK 241/245 JURONG EAST ST 24",
          "BLK 274A TOH GUAN ROAD",
          "BLK 287E JURONG EAST STREET 21",
          "BLK 285E TOH GUAN ROAD",
          "BLK 286E TOH GUAN ROAD",
          "BLK 288F JURONG EAST STREET 21",
          "BLK 282A TOH GUAN ROAD",
          "BLK 267A TOH GUAN ROAD",
          "BLK 273A TOH GUAN ROAD",
          "BLK 647A JURONG WEST STREET 61",
          "BLK 640A JURONG WEST STREET 61",
          "BLK 334 KRETA AYER BASEMENT CAR PARK",
          "BLK 335 KRETA AYER MSCP",
          "KAM KRETA AYER (LOADING BAY)",
          "BLK 333 KRETA AYER CAR PARK",
          "BLK 65A KALLANG BAHRU",
          "BLK 61-62/68 GEYLANG BAHRU ROAD",
          "BLK 30 BENDEMEER ROAD",
          "BLK 34 WHAMPOA WEST",
          "BLK 22/24 SERANGOON ROAD",
          "BLK 66/71 KALLANG BAHRU",
          "BLK 23 BENDEMEER ROAD",
          "BLK 45-48 BENDEMEER ROAD",
          "BLK 49A WHAMPOA SOUTH",
          "BLK 64/65/67 KALLANG BAHRU",
          "BLK 72/93/97 GEYLANG BAHRU",
          "BLK 74/92 GEYLANG BAHRU",
          "BLK 69 GEYLANG BAHRU",
          "BLK 671 KLANG LANE",
          "BLK 101/121 BEDOK RESERVOIR ROAD",
          "BLK 122/126 BEDOK RESERVOIR ROAD",
          "BLK 127/135, 141/151 BEDOK RESERVOIR ROAD",
          "BLK 145A BEDOK RESERVOIR ROAD",
          "BLK 136/140 BEDOK RESERVOIR ROAD",
          "BLK 14A FARRER PARK ROAD",
          "BLK 37A CAMBRIDGE ROAD",
          "BLK 14A FARRER PARK RD",
          "BLK 9/10 GLOUCESTER ROAD",
          "BLK 49/50 DORSET ROAD",
          "BLK 48/48A DURHAM ROAD",
          "BLK 51/54 KENT ROAD",
          "BLK 31 KELANTAN LANE MSCP",
          "BLK 56A CASSIA CRESCENT",
          "BLK 93A JALAN DUA",
          "BLK 11A PINE CLOSE",
          "BLK 49A JALAN TIGA",
          "BLK 37 PINE LANE",
          "BLK 115 JALAN AYER",
          "BLK 125A KIM TIAN ROAD",
          "BLK 120B KIM TIAN PLACE",
          "BLK 131A KIM TIAN ROAD",
          "BLK 119A KIM TIAN ROAD",
          "BLK 126 KIM TIAN ROAD",
          "BLK 127 KIM TIAN ROAD",
          "BLK 301/305-306/311-318 UBI AVENUE 1",
          "BLK 319-330 UBI AVENUE 1",
          "BLK 331-341 UBI AVENUE 1",
          "BLK 342-352 UBI AVENUE 1",
          "BLK 3004-3007,3014,3015 UBI ROAD 1",
          "BLK 302,304 UBI AVENUE 1",
          "BLK 28,30,32,34,36 CASSIA CRESCENT",
          "BLK 62 DAKOTA CRESCENT",
          "BLK 9,10,12 PINE CLOSE",
          "BLK 21 JALAN EMPAT",
          "BLK 58 DAKOTA CRESCENT",
          "BLK 60 DAKOTA CRESCENT",
          "BLK 17 JALAN EMPAT",
          "BLK 52 CASSIA CRESCENT",
          "BLK 51 OLD AIRPORT ROAD",
          "BLK 42 CASSIA CRESCENT",
          "BLK 64 LENGKOK BAHRU",
          "BLK 110,113-116 LENGKONG TIGA",
          "BLK 111-112 LENGKONG TIGA",
          "BLK 101-109 LENGKONG TIGA",
          "BLK 415-420 LOR LEW LIAN",
          "BLK 157A MEI LING STREET",
          "BLK 161A MEI LING ST",
          "BLK 28A BALAM ROAD",
          "BLK 52A PIPIT ROAD",
          "BLK 66A CIRCUIT ROAD",
          "BLK 31A CIRCUIT ROAD",
          "BLK 17 CIRCUIT ROAD",
          "BLK 82 CIRCUIT ROAD",
          "BLK 113 MCNAIR ROAD",
          "BLK 108A MCNAIR ROAD",
          "BLKS 108/112 MCNAIR ROAD",
          "BLKS 119/124 MCNAIR ROAD",
          "BLK 1 TO 4 MARINE TERRACE",
          "BLK 65A MARINE DRIVE",
          "BLK 72 TO 76 MARINE DRIVE",
          "BLK 78 & 79 MARINE DRIVE",
          "BLK 81/82 MARINE PARADE ROAD",
          "BLK 83/87 MARINE PARADE ROAD",
          "BLK 84 TO 86 MARINE PARADE ROAD",
          "BLK 51/59 MARINE TERRACE",
          "BLK 89 MARINE PARADE CTRL",
          "BLK 5 TO 8 MARINE TERRACE",
          "BLK 35A MARINE CRESCENT",
          "BLK 86 MARINE PARADE ROAD",
          "BLK 12A MARINE TERRACE",
          "BLK 16A MARINE TERRACE",
          "BLK 52/57 MARINE TERRACE",
          "BLK 47A MARINE CRESCENT",
          "BLK 45 MARINE CRESCENT",
          "BLK 50/50A/53 MARINE TERRACE",
          "BLK 77A MARINE DRIVE",
          "BLK 77 MARINE DRIVE",
          "BLK 54/55/56/58/59 MARINE TERRACE",
          "BLK 1/2 MAUDE ROAD",
          "BLK 7 KING GEORGE AVENUE",
          "BLK 804/805, 809 MAUDE ROAD",
          "BLK 8 FRENCH ROAD",
          "BLK 801/802 FRENCH ROAD",
          "BLK 85 TO 94/92A PIPIT ROAD",
          "BLK 37 CIRCUIT ROAD",
          "BLK 65 & 80 CIRCUIT RD",
          "BLK 53 TO 56/68/70/71/72 PIPIT RD/CIRCUIT RD",
          "BLK 82A/83 MACPHERSON LANE",
          "BLK 12 TO 14 MERPATI RD",
          "BLK 19 TO 21/23/24/30/32 BALAM RD",
          "BLK 120 TO 124 PAYA LEBAR WAY",
          "BLK 125 TO 126 ALJUNIED ROAD",
          "BLK 81/82 MACPHERSON LANE",
          "BLK 41 TO 42 CIRCUIT ROAD",
          "BLK 43 CIRCUIT ROAD",
          "BLK 38 TO 40 CIRCUIT ROAD",
          "BLK 63 TO 64 CIRCUIT ROAD",
          "BLK 22/34/36 CIRCUIT RD",
          "BLK 13 NORTH BRIDGE ROAD MSCP",
          "BLK 601 - 605A/D TAMPINES AVE 9/ ST 61",
          "BLK 601 TAMPINES AVE 9",
          "BLK 605 TAMPINES ST 61",
          "BLK 609 TAMPINES NTH DR 1",
          "613 TAMPINES NTH DR 1",
          "BLK 618 TAMPINES STREET 61",
          "BLK 475 CHOA CHU KANG AVE 3",
          "BLK 533A CHOA CHU KANG ST 51",
          "BLK 399 YUNG SHENG RD",
          "BLK 762A JURONG WEST ST 75",
          "BLK 168 PUNGGOL FIELD",
          "681 PUNGGOL DR",
          "BLK 446A FAJAR ROAD",
          "BLK 524A JELAPANG ROAD",
          "BLK 57 DAWSON RD",
          "BLK 258 PASIR RIS ST 21",
          "BLK 624A ELIAS RD",
          "BLK 734 PASIR RIS ST 72",
          "BLK 118 RIVERVALE DR",
          "BLK 866A TAMPINES ST 83",
          "BLK 548 WOODLANDS DR 44",
          "BLK 768 WOODLANDS AVE 6",
          "BLK 888A WOODLANDS DR 50",
          "BLK 883A WOODLANDS ST 82",
          "BLK 440 PASIR RIS DRIVE 4",
          "BLK 174 PUNGGOL FIELD",
          "BLK 175 PUNGGOL FIELD",
          "BLK 137 EDGEDALE PLAINS",
          "BLK 131 EDGEDALE PLAINS",
          "BLK 292 PUNGGOL CENTRAL",
          "BLK 171 EDGEDALE PLAINS",
          "BLK 180 EDGEFIELD PLAINS",
          "BLK 642 PUNGGOL DRIVE",
          "BLK 162 PUNGGOL CENTRAL",
          "BLK 186-188,190-192 PUNGGOL CENTRAL",
          "BLK 638 PUNGGOL DRIVE",
          "BLK 166 PUNGGOL CENTRAL",
          "BLK 644 PUNGGOL CENTRAL",
          "BLK 201 PUNGGOL FIELD",
          "BLK 178 & 193 EDGEFIELD PLAINS",
          "BLK 172 EDGEDALE PLAINS",
          "BLK 650 PUNGGOL CENTRAL",
          "BLK 204 PUNGGOL FIELD",
          "BLK 194 PUNGGOL ROAD",
          "BLK 633 PUNGGOL DRIVE",
          "BLK 170D PUNGGOL EAST",
          "BLK 301 PUNGGOL CENTRAL",
          "BLK 302 PUNGGOL PLACE",
          "BLK 621A - 621B EDGEFIELD WALK",
          "BLK 603 PUNGGOL ROAD",
          "BLK 602 PUNGGOL CENTRAL",
          "BLK 305 PUNGGOL ROAD",
          "BLK 614 EDGEFIELD PLAINS",
          "BLK 612 PUNGGOL DRIVE",
          "BLK 267 PUNGGOL FIELD",
          "BLK 270 PUNGGOL FIELD",
          "BLK 273 PUNGGOL PLACE",
          "BLK 616 PUNGGOL DRIVE",
          "BLK 288 PUNGGOL PLACE",
          "BLK 206A PUNGGOL PLACE",
          "BLK 169 PUNGGOL FIELD",
          "BLK 624 PUNGGOL CENTRAL",
          "BLK 207 PUNGGOL PLACE",
          "BLK 271 PUNGGOL WALK",
          "BLK 210 PUNGGOL PLACE",
          "BLK 211 PUNGGOL WALK",
          "BLK 213 PUNGGOL WALK",
          "BLK 312 SUMANG LINK",
          "BLK 266 PUNGGOL WAY",
          "BLK 259 PUNGGOL FIELD",
          "BLK 261 PUNGGOL WAY",
          "BLK 672 EDGEFIELD PLAINS",
          "BLK 665 PUNGGOL DRIVE",
          "663  PUNGGOL DRIVE",
          "BLK 308 PUNGGOL WALK",
          "BLK 670 EDGEFIELD PLAINS",
          "BLK 678 PUNGGOL DRIVE",
          "BLK 256 SUMANG WALK",
          "BLK 677 PUNGGOL DRIVE",
          "BLK 676 PUNGGOL DRIVE",
          "BLK 310 PUNGGOL WALK",
          "BLK 121 EDGEDALE PLAINS",
          "BLK 314 PUNGGOL WAY",
          "BLK 217 SUMANG WALK",
          "BLK 661 EDGEDALE PLAINS",
          "BLK 226 SUMANG LANE",
          "BLK 682 EDGEDALE PLAINS EDGEDALE PLAINS",
          "BLK 222 SUMANG LANE SUMANG LANE",
          "BLK 228 PUNGGOL FIELD",
          "BLK 233 SUMANG LANE",
          "BLK 325 SUMANG WALK",
          "BLK 326 SUMANG WALK SUMANG WALK",
          "BLK 659 PUNGGOL EAST ROAD",
          "BLK 322 SUMANG WALK",
          "BLK 407A-407B NORTHSHORE WALK",
          "BLK 421A NORTHSHORE DRIVE",
          "BLK 413A NORTHSHORE DR",
          "BLK 419A NORTHSHORE DRIVE",
          "473A PASIR RIS DR 6",
          "BLK 204A PASIR RIS STREET 21",
          "BLK 269A PASIR RIS STREET 21",
          "BLK 272A PASIR RIS STREET 21",
          "BLK 199A PASIR RIS STREET 12",
          "BLK 180A PASIR RIS STREET 11",
          "BLK 158A PASIR RIS STREET 13",
          "BLK 149A PASIR RIS STREET 13",
          "BLK 142A PASIR RIS STREET 11",
          "BLK 135A PASIR RIS STREET 11",
          "BLK 108A PASIR RIS STREET 12",
          "BLK 220A PASIR RIS STREET 21",
          "BLK 526 PASIR RIS STREET 51",
          "BLK 530 PASIR RIS DR 1",
          "BLK 555A PASIR RIS STREET 51",
          "BLK 564A PASIR RIS STREET 51",
          "BLK 561A PASIR RIS STREET 51",
          "BLK 500A PASIR RIS STREET 52",
          "BLK 521A PASIR RIS STREET 52",
          "BLK 578A PASIR RIS STREET 53",
          "BLK 586A PASIR RIS STREET 53",
          "BLK 601A ELIAS ROAD",
          "BLK 225A PASIR RIS STREET 21",
          "BLK 614A ELIAS ROAD",
          "BLK 631A PASIR RIS DRIVE 3",
          "BLK 635A PASIR RIS DRIVE 1",
          "BLK 649A PASIR RIS DRIVE 10",
          "BLK 700A PASIR RIS DRIVE 10",
          "BLK 710A PASIR RIS STREET 72",
          "BLK 718A PASIR RIS STREET 72",
          "BLK 736A PASIR RIS DRIVE 10",
          "BLK 231A PASIR RIS DRIVE 4",
          "BLK 744A PASIR RIS STREET 71",
          "BLK 747A PASIR RIS STREET 71",
          "BLK 757A PASIR RIS ST 71",
          "BLK 762A PASIR RIS STREET 71",
          "BLK 773A PASIR RIS STREET 71",
          "BLK 782A PASIR RIS STREET 71",
          "BLK 235A PASIR RIS STREET 21",
          "BLK 245A PASIR RIS STREET 21",
          "BLK 257A PASIR RIS STREET 21",
          "BLK 458A PASIR RIS DRIVE 4",
          "BLK 216A PASIR RIS STREET 21",
          "BLK 101 TO 109 POTONG PASIR AVENUE 1",
          "BLK 143 TO 145 POTONG PASIR AVENUES 2/3",
          "BLK 134 TO 142 POTONG PASIR AVENUE 3",
          "BLK 121 TO 133 POTONG PASIR AVENUE 1",
          "BLK 113 TO 120 POTONG PASIR AVENUE 1",
          "BLK 146 POTONG PASIR AVENUE 2",
          "BLK 145 POTONG PASIR AVENUES 2/3",
          "BLK 33 PARK CRESCENT MSCP",
          "BLK 441A PASIR RIS DRIVE 6",
          "BLK 212A PASIR RIS STREET 21",
          "BLK 101/108 PASIR RIS STREET 12",
          "BLK 467/477 PASIR RIS DRIVE 6",
          "BLK 478/487 PASIR RIS DRIVE 4",
          "BLK 544/556 PASIR RIS STREET 51",
          "BLK 537-543, 564-569 PASIR RIS STREET 51",
          "BLK 557-562 PASIR RIS ST 51",
          "BLK 109/129 PASIR RIS STREET 11",
          "BLK 531/536 PASIR RIS DR 1/PASIR RIS CENTRAL",
          "BLK 406/411 PASIR RIS DRIVE 6",
          "BLK 405/406, 412/429 PASIR RIS DRIVE 6",
          "BLK 441/445 PASIR RIS DRIVE 6",
          "BLK 446/455 PASIR RIS DRIVE 6",
          "BLK 456/461 PASIR RIS DRIVE 4",
          "BLK 463/466 PASIR RIS STREET 41",
          "BLK 196 PUNGGOL FIELD",
          "BLK 416 PANDAN GARDENS",
          "BLK 415 PANDAN GARDENS",
          "BLK 401/402 PANDAN GARDENS",
          "BLK 403/408 PANDAN GARDENS",
          "BLK 413 PANDAN GARDENS",
          "BLK 412/414 PANDAN GARDENS",
          "BLK 409/411 PANDAN GARDENS",
          "BLK 199 PUNGGOL FIELD",
          "BLK 101 PUNGGOL FIELD",
          "PUNGGOL ROAD",
          "PUNGGOL CENTRAL",
          "BLK 105 EDGEFIELD PLAINS",
          "BLK 740 TO 745 PASIR RIS STREET 71",
          "BLK 107 PUNGGOL FIELD",
          "BLK 106A PUNGGOL FIELD",
          "BLK 109 PUNGGOL FIELD",
          "BLK 109B PUNGGOL FIELD",
          "BLK 119 EDGEFIELD PLAINS",
          "BLK 229A & 229B SUMANG LANE",
          "BLK 327A SUMANG WALK",
          "BLK 659 PUNGGOL EAST",
          "BLK 126 EDGEDALE PLAINS",
          "BLK 128 PUNGGOL FIELD WALK",
          "BLK 49 STIRLING RD",
          "BLK 41/48 STIRLING RD",
          "BLK 45 AND 50 STIRLING RD",
          "BLK 52 STIRLING RD",
          "BLK 151 MEI LING STREET",
          "BLK 155-164 STIRLING ROAD",
          "MARGARET DRIVE",
          "BLK 168A QUEENSWAY",
          "BLK 80 STRATHMORE AVENUE",
          "BLK 150A MEI CHIN ROAD",
          "- MEI CHIN ROAD",
          "BLKS 166-171 STIRLING ROAD",
          "BLK 165-166 STIRLING RD",
          "BLK 39 TANGLIN HALT ROAD",
          "BLK 33-34 TANGLIN HALT ROAD",
          "BLK 61/66 COMMONWEALTH DRIVE",
          "BLK 46-2 COMMONWEALTH DRIVE",
          "BLK 46-3 COMMONWEALTH DRIVE",
          "BLK 47/49 TANGLIN HALT ROAD",
          "BLK 115A COMMONWEALTH DRIVE",
          "BLK 96-111 AND 115 COMMONWEALTH CRESCENT",
          "BLK 117 COMMONWEALTH DRIVE",
          "BLK 116-118 COMMONWEALTH CRESCENT",
          "BLK 110 COMMONWEALTH CRESCENT",
          "BLK 99/102 COMMONWEALTH CRESCENT",
          "BLK 96 COMMONWEALTH CRESCENT",
          "BLK 91/92 COMMONWEALTH DRIVE",
          "BLK 10A HOLLAND DRIVE",
          "BLK 18 HOLLAND DRIVE",
          "BLK 19/23A/23B QUEENS CLOSE",
          "BLK 45/46/47 HOLLAND DRIVE",
          "BLK 43 HOLLAND DRIVE",
          "BLK 2/4/6/31/32 HOLLAND CLOSE",
          "NORTH BUONA VISTA ROAD",
          "BLK 148A MEI LING STREET",
          "BLK 5A HOLLAND CLOSE",
          "BLK 19A QUEEN'S CLOSE",
          "BLK 7B COMMONWEALTH AVENUE",
          "BLK 82 STRATHMORE AVENUE",
          "BLK 83 STRATHMORE AVENUE",
          "BLK 102 COMMONWEALTH CRESCENT",
          "BLK 98 COMMONWEALTH CRESCENT",
          "BLK 181-184 STIRLING ROAD",
          "BLK 64 COMMONWEALTH DRIVE",
          "BLK 55 COMMONWEALTH DRIVE",
          "BLK 89 COMMONWEALTH DRIVE",
          "BLK 638 VEERASAMY ROAD",
          "BLK 101/102 JALAN RAJAH",
          "BLK 103/104 JALAN RAJAH",
          "BLK 105/108 JALAN RAJAH",
          "BLK 88A REDHILL CLOSE",
          "BLK 70A REDHILL CLOSE",
          "BLK 73 REDHILL RD",
          "BLK 74 REDHILL RD",
          "BLK 75A/B REDHILL ROAD",
          "BLK 60A STRATHMORE AVENUE",
          "BLK 61 STRATHMORE AVENUE",
          "BLK 306B CANBERRA ROAD",
          "BLK 481A SEMBAWANG DRIVE",
          "BLK 476A SEMBAWANG DRIVE",
          "BLK 424A CANBERRA ROAD",
          "BLK 404A ADMIRALTY LINK",
          "BLK 406A SEMBAWANG DRIVE",
          "BLK 358A ADMIRALTY DRIVE",
          "BLK 339 SEMBAWANG CLOSE",
          "BLK 504 MONTREAL DRIVE",
          "BLK 469/469A/469B ADMIRALTY DRIVE",
          "BLK 501 WELLINGTON CIRCLE",
          "BLK 316A SEMBAWANG VISTA",
          "BLK 505 CANBERRA LINK",
          "BLK 467/467A/467B ADMIRALTY DRIVE",
          "BLK 351 CANBERRA ROAD",
          "BLK 354 ADMIRALTY DRIVE",
          "BLK 506 WELLINGTON CIRCLE",
          "BLK 588 MONTREAL DRIVE",
          "BLK 484A ADMIRALTY LINK",
          "BLK 492A ADMIRALTY LINK",
          "BLK 482A ADMIRALTY LINK",
          "BLK 508 WELLINGTON CIRCLE",
          "BLK 325A SEMBAWANG CRESCENT",
          "BLK 466 SEMBAWANG DRIVE",
          "BLK 463 SEMBAWANG DRIVE",
          "BLK 591 MONTREAL LINK",
          "BLK 592 MONTREAL LINK",
          "BLK 462 SEMBAWANG DRIVE",
          "BLK 120 CANBERRA CRES",
          "BLK 121 CANBERRA ST",
          "BLK 106 CANBERRA STREET",
          "BLK 129 CANBERRA ST",
          "BLK 108 CANBERRA WALK",
          "BLK 313A SEMBAWANG DRIVE",
          "BLK 115 CANBERRA WALK",
          "BLK 361 SEMBAWANG CRES",
          "BLK 365 SEMBAWANG CRES",
          "BLK 117 CANBERRA CRESCENT",
          "BLK 102 CANBERRA STREET",
          "BLK 132 CANBERRA VIEW",
          "BLK 126 CANBERRA STREET",
          "BLK 109 CANBERRA WALK",
          "BLK 322A SEMBAWANG CLOSE",
          "BLK 306A CANBERRA ROAD",
          "BLK 336A SEMBAWANG CRESCENT",
          "BLK 330A SEMBAWANG CLOSE",
          "BLK 335A SEMBAWANG CLOSE",
          "BLK 114A LORONG 3 GEYLANG MSCP",
          "BLK 50A SIMS DRIVE",
          "BLK 40-44 SIMS DRIVE",
          "BLK 113/114 LOR 3 GEYLANG",
          "BLK 63 SIMS PLACE",
          "BLK 45/50/51 SIMS DRIVE",
          "BLK 46/47/48/49 SIMS PLACE",
          "BLK 52 SIMS PLACE",
          "BLK 53 SIMS PLACE",
          "BLK 114 LOR 3 GEYLANG",
          "157 SERANGOON NORTH AVE 1",
          "BLK 151/154 SERANGOON NORTH AVE 1/2",
          "BLK 211-222 SERANGOON AVENUE 4",
          "BLK 223/230 SERANGOON AVENUE 4",
          "BLK 231/237 SERANGOON AVENUE 3",
          "BLK 238/246 SERANGOON AVENUE 3",
          "BLK 301/319 SERANGOON AVENUE 2",
          "BLK 321/329 SERANGOON AVENUE 3",
          "BLK 330/335 SERANGOON AVENUE 3",
          "BLK 201/210 SERANGOON CENTRAL",
          "BLK 101/108 SERANGOON NORTH AVE 1",
          "BLK 264 SERANGOON CENTRAL",
          "BLK 262/263 SERANGOON CENTRAL",
          "BLK 261/263 SERANGOON CENTRAL",
          "BLK 253/254 SERANGOON CENTRAL DRIVE",
          "BLK 265 SERANGOON AVENUE 3",
          "BLK 401/408 SERANGOON CENTRAL/AVE 1",
          "BLK 409/414 SERANGOON CENTRAL/AVE 1",
          "BLK 421/427 SERANGOON CENTRAL/AVE 1",
          "BLK 410A SERANGOON CENTRAL",
          "BLK 2A LORONG LEW LIAN",
          "BLK 109/112 SERANGOON NORTH AVE 1",
          "BLK 141A SERANGOON NTH AVE 2",
          "BLK 514/520 SERANGOON NORTH AVENUE 4",
          "BLK 521/530 SERANGOON NORTH AVENUE 4",
          "BLK 537/542 SERANGOON NORTH AVENUE 4",
          "BLK 531/536 SERANGOON NORTH AVENUE 4",
          "BLK 500/506B SERANGOON NORTH AVENUE 4",
          "BLK 519 SERANGOON NORTH AVENUE 4",
          "BLK 504A SERANGOON NORTH AVENUE 4",
          "BLK 542A SERANGOON NORTH AVENUE 4",
          "BLK 113-125, 142-148 SERANGOON NORTH AVE 1",
          "BLK 149A SERANGOON NORTH AVENUE 1",
          "BLK 113,115,117,118,120,121 SERANGOON NORTH AVE 1",
          "BLK 550A SERANGOON NORTH AVENUE 3",
          "BLK 546A SERANGOON NORTH AVE 3",
          "BLK 512A SERANGOON NORTH AVE 4",
          "BLK 510 SERANGOON NORTH AVE 4",
          "BLK 150 SERANGOON NORTH AVENUE 2",
          "BLK 238A SERANGOON AVENUE 2",
          "BLK 257A SERANGOON CENTRAL DRIVE",
          "NEXT TO BLK 226 SERANGOON AVE 4",
          "BLK 150 SERANGOON NORTH AVE 2",
          "BLK 223A SERANGOON AVE 4",
          "BLK 126 SERANGOON NORTH AVE 1",
          "BLK 127 SERANGOON NORTH AVE 1",
          "BLK 135/141 SERANGOON NORTH AVE 2",
          "BLK 4A ST. GEORGE'S LANE",
          "BLK 25A/26/26A/26B ST.GEORGE'S LANE",
          "BLK 1/3/8 ST GEORGE RD",
          "BLK 14/19 ST GEORGE RD",
          "BLK 20/23 ST GEORGE RD",
          "BLK 9/11 ST GEORGE RD",
          "BLK 301-313 SHUNFU ROAD",
          "BLK 320 SHUNFU ROAD",
          "BLK 115 SIMEI STREET 1",
          "BLK 125 SIMEI STREET 1",
          "BLK 166 SIMEI ROAD MSCP",
          "BLK 248 SIMEI STREET 5",
          "BLK 256A SIMEI STREET 1",
          "BLK 168 SIMEI LANE",
          "BLK 101/107 SIMEI STREET 1",
          "BLK 148 - 154 SIMEI STREET 1",
          "BLK 155/162 SIMEI ROAD",
          "BLK 163/165 SIMEI ROAD",
          "BLK 221/235 SIMEI STREET 4",
          "BLK 142/145 SIMEI ST 2",
          "BLK 108/119 SIMEI STREET 1",
          "BLK 117/119 SIMEI STREET 1",
          "BLK 120/122 SIMEI STREET 1",
          "BLK 120/130 SIMEI STREET 1",
          "BLK 132 SIMEI STREET 1",
          "BLK 132 - 139 SIMEI STREET 1",
          "BLK 138 SIMEI STREET 1",
          "BLK 141/147 SIMEI STREET 2",
          "BLK 133A RIVERVALE STREET",
          "BLK 272A SENGKANG CENTRAL",
          "BLK 241A COMPASSVALE WALK",
          "BLK 226D COMPASSVALE WALK",
          "BLK 103A RIVERVALE WALK",
          "BLK 228D COMPASSVALE WALK",
          "BLK 142A RIVERVALE DRIVE",
          "BLK 256A COMPASSVALE ROAD",
          "BLK 111A RIVERVALE WALK",
          "BLK 248A COMPASSVALE ROAD",
          "BLK 188E RIVERVALE DRIVE",
          "BLK 190C RIVERVALE DRIVE",
          "BLK 236A COMPASSVALE WALK",
          "BLK 191C RIVERVALE DRIVE",
          "BLK 117D RIVERVALE DRIVE",
          "BLK 122F RIVERVALE DRIVE",
          "BLK 121E SENGKANG EAST WAY",
          "BLK 185 RIVERVALE CRESCENT",
          "BLK 257 COMPASSVALE ROAD",
          "BLK 259 COMPASSVALE ROAD",
          "BLK 119 RIVERVALE DRIVE",
          "BLK 203 COMPASSVALE ROAD",
          "BLK 204 COMPASSVALE DRIVE",
          "BLK 205D COMPASSVALE LANE",
          "BLK 260 SENGKANG EAST WAY",
          "BLK 195A RIVERVALE DRIVE",
          "BLK 200 SENGKANG EAST ROAD",
          "BLK 201 SENGKANG EAST ROAD",
          "BLK 299 COMPASSVALE STREET",
          "BLK 297 COMPASSVALE STREET",
          "BLK 301 ANCHORVALE DRIVE",
          "BLK 303 ANCHORVALE LINK",
          "BLK 261 COMPASSVALE STREET",
          "BLK 291 COMPASSVALE STREET",
          "BLK 102A RIVERVALE WALK",
          "BLK 306 ANCHORVALE LINK",
          "BLK 305 ANCHORVALE LINK",
          "BLK 304 ANCHORVALE LINK",
          "BLK 290 COMPASSVALE CRESCENT",
          "BLK 308 ANCHORVALE ROAD",
          "BLK 295 COMPASSVALE CRESCENT",
          "BLK 312 ANCHORVALE LANE",
          "BLK 310 ANCHORVALE ROAD",
          "BLK 321 ANCHORVALE DRIVE",
          "BLK 319 ANCHORVALE DRIVE",
          "BLK 124D RIVERVALE DRIVE",
          "BLK 323 SENGKANG EAST WAY",
          "BLK 325 SENGKANG EAST WAY",
          "BLK 318,316A-316C SK52/56 ANCHORVALE LINK",
          "BLK 313,315A-315C SK53/57 ANCHORVALE ROAD",
          "BLK 184 RIVERVALE CRESCENT",
          "BLK 160 RIVERVALE CRESCENT",
          "BLK 413 FERNVALE LINK",
          "BLK 263 COMPASSVALE STREET",
          "BLK 233A COMPASSVALE WALK",
          "BLK 404 FERNVALE LANE",
          "BLK 406 FERNVALE RD",
          "BLK 408 FERNVALE RD",
          "BLK 208 COMPASSVALE LANE",
          "BLK 269 COMPASSVALE LINK",
          "BLK 267 COMPASSVALE LINK",
          "BLK 156A RIVERVALE CRESCENT",
          "BLK 266 COMPASSVALE BOW",
          "BLK 275 COMPASSVALE LINK",
          "BLK 437 FERNVALE ROAD",
          "BLK 224E COMPASSVALE WALK",
          "BLK 273 COMPASSVALE LINK",
          "BLK 277 COMPASSVALE LINK",
          "BLK 272 SENGKANG CENTRAL",
          "BLK 270 SENGKANG CENTRAL",
          "BLK 439 SENGKANG WEST AVE",
          "BLK 441 FERNVALE ROAD",
          "BLK 210 COMPASSVALE LANE",
          "BLK 410 FERNVALE ROAD",
          "BLK 443 FERNVALE ROAD",
          "BLK 212 COMPASSVALE DRIVE",
          "BLK 126A RIVERVALE STREET",
          "BLK 434 FERNVALE ROAD",
          "BLK 446 JALAN KAYU",
          "BLK 182 RIVERVALE CRESCENT",
          "BLK 450 SENGKANG WEST WAY",
          "BLK 180 RIVERVALE CRESCENT",
          "BLK 430 FERNVALE LINK",
          "BLK 432 SENGKANG WEST WAY",
          "BLK 448 SENGKANG WEST WAY",
          "BLK 451 SENGKANG WEST WAY",
          "BLK 326 ANCHORVALE ROAD",
          "BLK 146A RIVERVALE CRESCENT",
          "BLK 332 ANCHORVALE LINK",
          "BLK 281 SENGKANG EAST AVE",
          "BLK 279 SENGKANG EAST AVE",
          "BLK 453 FERNVALE ROAD",
          "BLK 329 ANCHORVALE STREET",
          "BLK 334 ANCHORVALE CRESCENT",
          "BLK 440 FERNVALE LINK",
          "BLK 350 ANCHORVALE ROAD",
          "BLK 414 FERNVALE LINK",
          "BLK 468 FERNVALE LINK",
          "BLK 4 SAGO LANE CAR PARK",
          "BLK 2 EAST COAST ROAD",
          "BLK 3 EAST COAST ROAD",
          "BLK 53A STRATHMORE AVENUE",
          "BLK 50/51 STRATHMORE AVENUE",
          "BLK 22 SIN MING ROAD",
          "BLK 23/24 SIN MING ROAD",
          "BLK 25 SIN MING ROAD",
          "BLK 1-21, 27-36 SIN MING INDUSTRIAL ESTATE",
          "BLK 37/39 SIN MING DRIVE",
          "BLK 22A SIN MING ROAD",
          "BLK 24A SIN MING ROAD",
          "BLK 108 SPOTTISWOODE PARK MSCP",
          "BLK 101/102 SPOTTISWOODE PARK CAR PARK",
          "BLK 1-2 SPOONER ROAD",
          "BLK 10 SELEGIE ROAD CAR PARK",
          "BLK 8, 9 SELEGIE ROAD CAR PARK",
          "BLK 56A STRATHMORE AVENUE",
          "BLK 169A STIRLING ROAD",
          "BLK 171A STIRLING ROAD",
          "BLK 168-171 STIRLING ROAD",
          "BLK 472 FERNVALE STREET",
          "BLK 470 FERNVALE LINK",
          "BLK 164 RIVERVALE CRESCENT",
          "BLK 293 COMPASSVALE CRESCENT",
          "BLK 215 COMPASSVALE DRIVE",
          "BLK 217 COMPASSVALE DRIVE",
          "BLK 278 COMPASSVALE BOW",
          "BLK 338 ANCHORVALE CRESCENT",
          "BLK 289 COMPASSVALE CRESCENT",
          "BLK 417 FERNVALE LINK",
          "BLK 351 ANCHORVALE ROAD",
          "BLK 455 SENGKANG WEST AVE",
          "BLK 457 SENGKANG WEST RD",
          "BLK 353 ANCHORVALE LANE",
          "BLK 460 SENGKANG WEST WAY",
          "BLK 402 FERNVALE LANE",
          "351A-351D ANCHORVALE ROAD",
          "353A-353B,355A,356A-356B ANCHORVALE LANE",
          "BLK 501B WELLINGTON CIRCLE",
          "BLK 507A WELLINGTON CIRCLE",
          "BLK 489 ADMIRALTY LINK",
          "SENGKANG EAST WAY",
          "BLK 121A AND 121B CANBERRA STREET",
          "BLK 128A, 128B, 129A AND 130A CANBERRA STREET AND CANBERRA CRESCENT",
          "BLK 542A/542 SERANGOON NORTH AVENUE 4",
          "BLK 115B AND 115C CANBERRA WALK",
          "BLK 117A, 117B, 118A AND 118B CANBERRA CRESCENT",
          "BLK 132C AND 133 CANBERRA VIEW",
          "BLK 132A AND 132B CANBERRA CRESCENT",
          "BLK 109A, 109B,109C & 109D CANBERRA WALK",
          "BLK 437 FERNVALE ROAD",
          "BLK 507 TAMPINES CENTRAL 1",
          "BLK 475 TAMPINES STREET 44",
          "BLK 16A TELOK BLANGAH CRESCENT",
          "BLK 23A TELOK BLANGAH CRESCENT",
          "BLK 3A TELOK BLANGAH CRESCENT",
          "BLK 84 TELOK BLANGAH HTS",
          "BLK 90B TELOK BLANGAH ST 31",
          "BLK 48A TELOK BLANGAH DRIVE",
          "BLK 80 TELOK BLANGAH ST 31",
          "BLK 73A TELOK BLANGAH STREET 32",
          "BLK 78A TELOK BLANGAH STREET 32",
          "BLK 88A TELOK BLANGAH HEIGHTS",
          "BLK 57A TELOK BLANGAH HEIGHTS",
          "BLK 52A TELOK BLANGAH DR",
          "BLK 70 TELOK BLANGAH HEIGHTS",
          "BLK 90 TELOK BLANGAH STREET 31",
          "BLK 93 TELOK BLANGAH STREET 31",
          "BLK 1/2/3/4/6 TELOK BLANGAH CRES",
          "BLK 38/40 TELOK BLANGAH RISE",
          "BLK 42/43 TELOK BLANGAH RISE",
          "BLK 113/114 DEPOT ROAD",
          "BLK 50/71 TELOK BLANGAH DRIVE",
          "BLK 72/74/84 TELOK BLANGAH DRIVE",
          "BLK 75/76 TELOK BLANGAH DRIVE",
          "BLK 8-10 TELOK BLANGAH CRES",
          "BLK 79/80/81 TELOK BLANGAH DRIVE",
          "DEPOT ROAD LORRY PARK",
          "BLK 4001-4008 DEPOT LANE",
          "BLK 45 TELOK BLANGAH DRIVE",
          "BLK 45 & 79 ALONG TELOK BLANGAH DRIVE",
          "BLK 12/22 TELOK BLANGAH CRES",
          "BLK 18 & 19 TELOK BLANGAH CRESCENT",
          "BLK 27/33 TELOK BLANGAH WAY",
          "BLK 29/32 TELOK BLANGAH RISE",
          "BLK 30/31 TELOK BLANGAH RISE",
          "BLK 32/35 TELOK BLANGAH RISE",
          "BLK 115-117 JALAN BUKIT MERAH",
          "BLK 78/80 MOH GUAN TERRACE/CHAY YAN STREET",
          "BLK 140/142 JALAN BUKIT MERAH",
          "BLK 105-107 JALAN BUKIT MERAH",
          "BLK 76 GUAN CHUAN STREET",
          "BLK 66/73 ENG WATT STREET",
          "BLK 59 ENG HOON STREET",
          "KIM PONG ROAD",
          "BLK 17/31/141/150 KAMPONG BAHRU ROAD",
          "KERBSIDE TIONG BAHRU EST",
          "BLK 77, 72, 71 & 58 SENG POH ROAD",
          "BLK 81 TIONG POH ROAD/KENG KIAT STREET",
          "BLK 79 PENG NGUAN STREET/CHAY YAN STREET",
          "BLK 108/110/112 JALAN BUKIT MERAH",
          "BLK 78 & 79 YONG SIAK STREET/MOH GUAN TERRACE",
          "BLK 132-138 JALAN BUKIT MERAH",
          "BLK 61/69 SENG POH LANE",
          "BLK 64 AND 65 TEBAN GARDENS RD",
          "BLK 63A TEBAN GARDENS RD",
          "BLK 61 TEBAN GARDENS RD",
          "BLK 22A TEBAN GARDENS RD",
          "BLK 57A TEBAN GARDENS RD",
          "BLK 24 & 25 TEBAN GARDENS",
          "BLK 49 TO 54 TEBAN GARDENS",
          "BLK 30/31/46/48 TEBAN GARDENS",
          "BLK 32, 39/41 TEBAN GARDENS",
          "BLK 33/38/43/45 TEBAN GARDENS",
          "BLK 37B COMMONWEALTH DRIVE",
          "ALONG YUNG SHENG ROAD",
          "BLK 63-66 YUNG KUANG ROAD",
          "BLK 151/154 YUNG HO ROAD",
          "BLK 364 YUNG AN ROAD",
          "BLK 155A YUNG LOH ROAD",
          "BLK 163A YUNG PING ROAD",
          "BLK 331A KANG CHING ROAD",
          "BLK 346A KANG CHING ROAD",
          "BLK 328A TAH CHING ROAD",
          "BLK 115A HO CHING ROAD",
          "BLK 183A CORPORATION DRIVE",
          "BLK 121A YUAN CHING RD",
          "BLK 337 TAH CHING ROAD",
          "175 YUNG KUANG ROAD",
          "138 YUAN CHING ROAD",
          "164 YUNG KUANG RD",
          "BLK 140 CORPORATION DRIVE",
          "BLK 150 CORPORATION DRIVE",
          "BLK 331A TAMPINES STREET 32",
          "BLK 384A TAMPINES STREET 32",
          "BLK 390A TAMPINES AVENUE 7",
          "BLK 374A TAMPINES STREET 34",
          "BLK 891B TAMPINES AVENUE 8",
          "BLK 450B TAMPINES STREET 42",
          "BLK 230A TAMPINES STREET 21",
          "BLK 842A TAMPINES STREET 82",
          "BLK 856A TAMPINES STREET 82",
          "BLK 364A TAMPINES STREET 34",
          "BLK 366A TAMPINES STREET 34",
          "BLK 340A TAMPINES STREET 33",
          "BLK 351A TAMPINES STREET 33",
          "BLK 354A TAMPINES STREET 33",
          "BLK 359A TAMPINES ST 34",
          "BLK 497E TAMPINES STREET 45",
          "BLK 497K TAMPINES STREET 45",
          "BLK 497L TAMPINES STREET 45",
          "BLK 498K TAMPINES STREET 45",
          "BLK 498C TAMPINES STREET 45",
          "BLK 496A TAMPINES STREET 43",
          "BLK 701A TAMPINES STREET 71",
          "BLK 716A TAMPINES STREET 71",
          "BLK 723A TAMPINES STREET 72",
          "BLK 727A TAMPINES STREET 71",
          "BLK 730A TAMPINES STREET 71",
          "BLK 742A TAMPINES STREET 72",
          "BLK 515 TAMPINES CTRL 7",
          "BLK 518 TAMPINES CTRL 7",
          "BLK 494A TAMPINES STREET 43",
          "BLK 921A TAMPINES ST 91",
          "BLK 823A TAMPINES STREET 81",
          "BLK 202A TAMPINES STREET 21",
          "BLK 499 TAMPINES AVE 9",
          "BLK 869C TAMPINES AVE 8",
          "BLK 522 TAMPINES CTRL 7",
          "BLK 519 TAMPINES CENTRAL 8",
          "BLK 890 TAMPINES AVE 1",
          "BLK 494F TAMPINES ST 43",
          "BLK 492A TAMPINES STREET 45",
          "BLK 870B TAMPINES ST 86",
          "BLK 879C TAMPINES AVE 8",
          "BLK 492 TAMPINES ST45",
          "BLK 859B TAMPINES AVE 5",
          "BLK 875A TAMPINES STREET 86",
          "BLK 873A BLK 873A TAMPINES STREET 86",
          "BLK 307A TAMPINES STREET 32",
          "BLK 311A TAMPINES STREET 33",
          "BLK 316A TAMPINES STREET 33",
          "BLK 330A TAMPINES STREET 32",
          "BLK 18A LOR 6 TOA PAYOH",
          "BLK 5/7 TANJONG PAGAR",
          "BLK 1/6 TANJONG PAGAR MSCP",
          "BLK 60A LORONG 4 TOA PAYOH",
          "BLK 156A LORONG 1 TOA PAYOH",
          "BLK 110A LORONG 1 TOA PAYOH",
          "BLK 161A LORONG 1 TOA PAYOH",
          "BLK 93A LORONG 4 TOA PAYOH",
          "BLK 141A LORONG 2 TOA PAYOH",
          "BLK 128A LORONG 1 TOA PAYOH",
          "BLK 260 KIM KEAT AVENUE",
          "BLK 146A LORONG 2 TOA PAYOH",
          "BLK 194A KIM KEAT AVE",
          "BLK 233A LOR 8 TOA PAYOH",
          "BLK 227A LOR 8 TOA PAYOH",
          "BLK 78B TOA PAYOH CENTRAL",
          "BLK 138 LORONG 1A TOA PAYOH",
          "BLK 130 LORONG 1 TOA PAYOH",
          "BLK 261A TOA PAYOH EAST",
          "BLK 101C LORONG 2 TOA PAYOH",
          "BLK 171A LORONG 1 TOA PAYOH",
          "BLK 81C LORONG 4 TOA PAYOH",
          "BLK 84C LORONG 2 TOA PAYOH",
          "BLK 35A LORONG 5 TOA PAYOH",
          "BLK 120A LORONG 2 TOA PAYOH",
          "BLK 11A LORONG 8 TOA PAYOH",
          "BLK 10A LORONG 7 TOA PAYOH",
          "BLK 68 LORONG 5 TOA PAYOH",
          "BLK 71/72 LORONG 5 TOA PAYOH",
          "BLK 63/64 LORONG 5 TOA PAYOH",
          "BLK 53 TO 55 LORONG 5 TOA PAYOH",
          "BLK 175/183 TO 185 TOA PAYOH TOWN CENTRE",
          "BLK 177 TO 179 TOA PAYOH TOWN CENTRE",
          "BLK 186/191 TO 193 TOA PAYOH TOWN CENTRE",
          "BLK 85/A/B/C LORONG 4 TOA PAYOH",
          "BLK 158-161/163/168-174 LORONG 1 TOA PAYOH",
          "BLK 148 TO 150 LORONG 1 TOA PAYOH",
          "BLK 125/126/131 LORONG 2 TOA PAYOH",
          "BLK 66/70/73 LORONG 4 TOA PAYOH",
          "BLK 3A LORONG 7 TOA PAYOH",
          "BLK 116/122 LORONG 1 TOA PAYOH",
          "BLK 109/111 TO 115 LORONG 1 TOA PAYOH",
          "BLK 107/108/110-112 LORONG 1 TOA PAYOH",
          "BLK 205 TO 207 TOA PAYOH NORTH",
          "BLK 49 TO 52 LORONG 5 TOA PAYOH",
          "BLK 43 TO 48 LORONG 5/6 TOA PAYOH",
          "BLK 28 TO 33 TOA PAYOH EAST",
          "BLK 4A LORONG 7 TOA PAYOH",
          "BLK 241-259/25-27 KIM KEAT LINK/AVE",
          "BLK 253/254/256 KIM KEAT AVENUE",
          "BLK 19 TO 23 LORONG 7 TOA PAYOH",
          "BLK 8 LORONG 7 TOA PAYOH",
          "BLK 4/5 LORONG 7 TOA PAYOH",
          "BLK 1 TO 3 LORONG 7 TOA PAYOH",
          "BLK 210 TO 215 LORONG 8 TOA PAYOH",
          "BLK 216 TO 221 LORONG 8 TOA PAYOH",
          "BLK 222 TO 224 LORONG 8 TOA PAYOH",
          "BLK 1 TO 21 LOR 8 INDUSTRIAL PARK",
          "BLK 1002 TO 1004 LORONG 8 TOA PAYOH",
          "BLK 1003/1004 TOA PAYOH INDUSTRIAL PK.",
          "BLK 236 TO 240 TOA PAYOH LORONG 1",
          "BLK 190 TOA PAYOH CENTRAL MSCP",
          "BLK 199 TO 201 TOA PAYOH NORTH",
          "BLK 202 TO 204 TOA PAYOH NORTH",
          "BLK 199 & 203 TOA PAYOH NORTH",
          "BLK 62B LORONG 4 TOA PAYOH",
          "BLK 19 LOR 6 TOA PAYOH",
          "BLK 25-27/257-259 KIM KEAT AVE",
          "BLK 196 KIM KEAT AVE",
          "BLK 100/103-106 LORONG 1 TOA PAYOH",
          "BLK 91-96/98/100 LORONG 3 TOA PAYOH",
          "BLK 91-92 LOR 3/4 TOA PAYOH LOR 3 TOA PAYOH",
          "BLK 14A KAMPONG ARANG ROAD",
          "BLK 14 KAMPONG ARANG ROAD",
          "BLK 102/107 TOWNER ROAD",
          "BLK 154A JALAN TECK WHYE",
          "BLK 158A JALAN TECK WHYE",
          "BLK 160A JALAN TECK WHYE",
          "BLK 165 TECK WHYE CRESCENT",
          "BLK 153 JALAN TECK WHYE",
          "BLK 25/26 TECK WHYE LANE",
          "BLK 15-20 TECK WHYE LANE",
          "BLK 8/11 TECK WHYE LANE",
          "BLK 1/7 TECK WHYE AVENUE",
          "BLK 1A TOH YI DRIVE",
          "BLK 1-19 TOH YI DRIVE",
          "BLK 17/18 TOH YI DRIVE",
          "BLK 21 TOH YI DRIVE",
          "BLK 101/108 TAMPINES ST 11",
          "BLK 149/151 TAMPINES STREET 12",
          "BLK 156/160 TAMPINES STREET 12",
          "BLK 161/166 TAMPINES STREET 12",
          "BLK 201A/201C TAMPINES STREET 21",
          "BLK 202/205 TAMPINES STREET 21",
          "BLK 201D/209/208A TAMPINES STREET 21",
          "BLK 201E TAMPINES STREET 21",
          "BLK 210/230 TAMPINES STREET 23",
          "BLK 231/238 TAMPINES STREET 21",
          "BLK 239/244 TAMPINES STREET 21",
          "BLK 245/248 TAMPINES STREET 21",
          "BLK 249/266 TAMPINES STREET 21",
          "BLK 251/253 TAMPINES STREET 21",
          "BLK 257/260 TAMPINES STREET 21",
          "BLK 255/264 TAMPINES STREET 21",
          "BLK 109/114 TAMPINES ST 11",
          "BLK 267/271 TAMPINES STREET 21",
          "BLK 268-270 TAMPINES STREET 21",
          "BLK 272-275 TAMPINES STREET 22",
          "BLK 276/282 TAMPINES STREET 22",
          "BLK 283/286 TAMPINES STREET 22",
          "BLK 287/298/299A/299B TAMPINES STREET 22",
          "BLK 801, 820, 897/898 TAMPINES AVE 4/STREET 81",
          "BLK 902-916, 942-946 TAMPINES STREET 91",
          "BLK 921-941 TAMPINES STREET 91",
          "BLK 124/127 TAMPINES STREET 11",
          "BLK 821/829 TAMPINES STREET 81",
          "BLK 824/827 TAMPINES STREET 81",
          "BLK 831/841 TAMPINES STREET 83",
          "BLK 830/840 TAMPINES STREET 82",
          "BLK 843/855 TAMPINES STREET 83",
          "BLK 842/856 TAMPINES STREET 82",
          "BLK 857/864 TAMPINES STREET 83/AVE 5",
          "BLK 864B TAMPINES STREET 83",
          "BLK 865/874A TAMPINES ST 83/84",
          "BLK 875/886A TAMPINES STREET 84 /AVE 8",
          "BLK 882A TAMPINES STREET 83",
          "BLK 887-889 TAMPINES ST 81/AVENUE 3",
          "BLK 894-896 TAMPINES STREET 81",
          "BLK 513 TAMPINES CENTRAL 1",
          "BLK 501/508 TAMPINES CENTRAL 1",
          "BLK 827A TAMPINES ST 81",
          "BLK 885A TAMPINES ST 83",
          "BLK 872A TAMPINES ST 86",
          "BLK 136/138 TAMPINES ST 11",
          "BLK 136A TAMPINES ST 11",
          "BLK 401/417 TAMPINES STREET 41",
          "BLK 418/424 TAMPINES STREET 41",
          "BLK 425/428 TAMPINES STREET 41",
          "BLK 429/432 TAMPINES STREET 41",
          "BLK 433/443 TAMPINES STREET 43",
          "BLK 472/484 TAMPINES STREET 43/44",
          "BLK 444/450 TAMPINES STREET 42",
          "BLK 451/460 TAMPINES STREET 42",
          "BLK 137/139 TAMPINES ST 11",
          "BLK 461/471 TAMPINES STREET 44",
          "BLK 485A/489C TAMPINES ST 45/AVE 9",
          "BLK 140/148 TAMPINES STREET 12",
          "BLK 2A JOO SENG RD",
          "BLK 3 TO 5 UPPER ALJUNIED LANE",
          "BLK 10/11/19 TO 21 JOO SENG ROAD",
          "BLK 8 JOO SENG ROAD",
          "BLK 12 TO 18 JOO SENG ROAD",
          "BLK 2 UPPER ALJUNIED LANE",
          "UBI AVE 4",
          "BLK 13A UPPER BOON KENG ROAD",
          "BLK 11/15/18 UPPER BOON KENG",
          "BLK 19/20 UPPER BOON KENG",
          "BLK 38/39 UPPER BOON KENG",
          "BLK 5 UPP BOON KENG RD",
          "BLK 8 UPPER BOON KENG ROAD",
          "BLK 34 UPPER CROSS STREET CAR PARK",
          "BLK 101/110 BUKIT BATOK WEST AVE 6",
          "BLK 178/184 BUKIT BATOK WEST AVENUE 8",
          "BLK 166 BUKIT BATOK WEST AVENUE 8",
          "BLK 201/211 BUKIT BATOK STREET 21",
          "BLK 212/230 BUKIT BATOK STREET 21",
          "BLK 217/219 BUKIT BATOK STREET 21",
          "BLK 231/237 BUKIT BATOK EAST AVENUE 5",
          "BLK 238/241 BUKIT BATOK EAST AVENUE 5",
          "BLK 242/253 BUKIT BATOK EAST AVE 2/5",
          "BLK 254/265 BUKIT BATOK EAST AVE 4",
          "BLK 266/284 BUKIT BATOK EAST AVE 3/4",
          "BLK 111/132 BUKIT BATOK WEST AVE 6",
          "BUKIT BATOK EAST AVE 2/6",
          "BLK 301/309 BUKIT BATOK STREET 31",
          "BLK 310/323 BUKIT BATOK STREET 32/33",
          "BLK 407-426 BUKIT BATOK WEST AVE 2/4",
          "BLK 324/336 BUKIT BATOK STREET 32/33",
          "BLK 333/334 BUKIT BATOK WEST AVE 4",
          "BLK 337-353/355-356 BUKIT BATOK ST 34",
          "BLK 354/357-370 BUKIT BATOK ST 31",
          "BLK 371-373 BUKIT BATOK ST 31",
          "BLK 374-376 BUKIT BATOK ST 31",
          "BLK 376 BUKIT BATOK MSCP",
          "BLK 133/139 BUKIT BATOK WEST AVENUE 6",
          "BLK 523-525 BUKIT BATOK STREET 52",
          "BLKS 526-534 BUKIT BATOK STREET 51",
          "BLKS 512-514 BUKIT BATOK STREET 52",
          "BLKS 535-542 BUKIT BATOK STREET 51/52",
          "BLKS 501-511 BUKIT BATOK ST 52",
          "BLK 185/187 BUKIT BATOK WEST AVENUE 6",
          "BLK 631 BUKIT BATOK CENTRAL",
          "BLK 140/143 BUKIT BATOK STREET 11",
          "BLK 644A BUKIT BATOK CENTRAL",
          "BLK 632/644 BUKIT BATOK CENTRAL",
          "BLK 630 BT BATOK CENTRAL",
          "BLK 404A BUKIT BATOK WEST AVENUE 7",
          "BLK 285A BUKIT BATOK EAST AVE 3",
          "BLK 297 - 299 BUKIT BATOK ST 22 BUKIT BATOK STREET 22",
          "BLK 350 BUKIT BATOK STREET 32",
          "210A BUKIT BATOK STREET 21",
          "BLK 144/149 BUKIT BATOK WEST AVENUE 6",
          "BLK 230A BUKIT BATOK ST 21 BUKIT BATOK ST 21",
          "BLK 412A BUKIT BATOK WEST AVE 4",
          "BLK 194 BUKIT BATOK WEST AVE 6",
          "BLK 296 BUKIT BATOK ST 22",
          "241A BUKIT BATOK EAST AVE 5",
          "BLK 445 BUKIT BATOK WEST AVE 8",
          "BLK 443 BUKIT BATOK WEST AVE 8",
          "BLK 293 BUKIT BATOK ST 21",
          "BLK 448 BT BATOK WEST AVE 9",
          "BLK 292 BUKIT BATOK EAST AVE 6",
          "BLK 150/158 BUKIT BATOK STREET 11",
          "BLK 451 BUKIT BATOK WEST AVE 6",
          "BLK440 BUKIT BATOK WEST AVE 8",
          "BLK 453 BUKIT BATOK WEST AVE 6",
          "BLK 377A BUKIT BATOK ST 31",
          "BLK 461 BUKIT BATOK WEST AVE 8",
          "BLK 439 BUKIT BATOK WEST AVE 8",
          "BLK 436 BUKIT BATOK WEST AVE 5",
          "BLK 460 BUKIT BATOK WEST AVE 8",
          "BLK 467 BUKIT BATOK WEST AVE 9",
          "BLK 159/164 BUKIT BATOK STREET 11",
          "BLK 463 BUKIT BATOK ST 41",
          "BLK 165/168 BUKIT BATOK WEST AVENUE 8",
          "BLK 169/177 BUKIT BATOK WEST AVENUE 8",
          "BLK 261/262/264 WATERLOO BASEMENT CAR PARK",
          "900 SOUTH WOODLANDS DR",
          "BLK 104 WHAMPOA DRIVE",
          "BLK 4/5 MARSILING ROAD",
          "BLK 537-547 WOODLANDS DRIVE 16",
          "BLK 686 WOODLANDS DRIVE 73",
          "BLK 687 WOODLANDS DRIVE 75",
          "BLK 766A WOODLANDS CIRCLE",
          "BLK 688 WOODLANDS DR 75",
          "BLK 689 WOODLANDS DR 75",
          "BLK 690 WOODLANDS DRIVE 75",
          "BLK 569A-569B CHAMPIONS WAY",
          "BLK 302A WOODLANDS STREET 31",
          "BLK 764B WOODLANDS CIRCLE",
          "BLK 22/27 MARSILING DRIVE",
          "BLK 29A MARSILING DR",
          "BLK 34A MARSILING DR",
          "BLK 201/206 MARSILING DRIVE",
          "BLK 210/218 MARSILING CRESCENT",
          "MARSILING INDUSTRIAL EST",
          "BLK 101-113 WOODLANDS ST 13",
          "BLK 114-133 MARSILING RISE",
          "BLK 181 MARSILING ROAD",
          "BLK 182 WOODLANDS STREET 13",
          "BLK 185 WOODLANDS STREET 13",
          "BLK 134-143 MARSILING RD",
          "BLK 144-166 WOODLANDS ST 13",
          "BLK 167-179 WOODLANDS ST 13",
          "BLK 336-350 WOODLANDS STREET 32",
          "BLK 344 WOODLANDS STREET 32",
          "BLK 321-335 WOODLANDS STREET 32",
          "BLK 307-320 WOODLANDS AVENUE 1",
          "BLK 301/302 WOODLANDS ST 31",
          "BLK 303 WOODLANDS ST 31",
          "BLK 304/305 WOODLANDS ST 31",
          "BLK 306/306A WOODLANDS ST 31",
          "BLK 4A/6A WOODLANDS CENTRE ROAD",
          "BLK 305 WOODLANDS ST 31",
          "BLK 801-810 WOODLANDS STREET 81",
          "BLK 816-821 WOODLANDS STREET 82",
          "BLK 830-836 WOODLANDS STREET 83",
          "BLK 6/7 MARSILING DRIVE",
          "BLK 7A MARSILING DRIVE",
          "BLK 837-850 WOODLANDS STREET 82",
          "BLK 851-856 WOODLANDS STREET 83",
          "BLK 406A WOODLANDS STREET 41",
          "BLK 413A WOODLANDS STREET 41",
          "BLK 421A WOODLANDS STREET 41",
          "BLK 426A WOODLANDS STREET 41",
          "WOODLANDS INDUSTRIAL PARK E",
          "BLK 874A WOODLANDS STREET 81",
          "BLK 839A WOODLANDS STREET 82",
          "BLK 10/13 MARSILING LANE",
          "BLK 13A MARSILING LANE",
          "BLK 846A WOODLANDS AVENUE 4",
          "BLK 505A WOODLANDS DRIVE 14",
          "BLK 509A WOODLANDS DRIVE 14",
          "BLK 866A WOODLANDS STREET 83",
          "BLK 516A WOODLANDS DRIVE 14",
          "BLK 517A WOODLANDS DRIVE 14",
          "BLK 519A WOODLANDS DRIVE 14",
          "BLK 823A WOODLANDS STREET 82",
          "BLK 521A WOODLANDS DRIVE 14",
          "BLK 523A WOODLANDS DRIVE 14",
          "BLK 525A WOODLANDS DRIVE 14",
          "BLK 527A WOODLANDS DRIVE 14",
          "BLK 881A WOODLANDS STREET 82",
          "BLK 536A WOODLANDS DRIVE 14",
          "BLK 824A WOODLANDS STREET 81",
          "BLK 546A WOODLANDS DRIVE 16",
          "BLK 549A WOODLANDS DRIVE 44",
          "BLK 859A WOODLANDS STREET 83",
          "BLK 554A WOODLANDS DRIVE 53",
          "BLK 891C WOODLANDS DRIVE 50",
          "BLK 892C WOODLANDS DRIVE 50",
          "BLK 570 WOODLANDS AVENUE 1",
          "BLK 574 WOODLANDS DRIVE 16",
          "BLK 578A WOODLANDS DRIVE 16",
          "BLK 579A WOODLANDS DRIVE 16",
          "BLK 895D WOODLANDS DRIVE 50",
          "BLK 586A WOODLANDS DRIVE 16",
          "BLK 588A WOODLANDS DRIVE 16",
          "BLK 897D WOODLANDS DRIVE 50",
          "BLK 15/16 MARSILING LANE",
          "WOODLANDS AVENUE 5",
          "BLK 358A WOODLANDS AVENUE 5",
          "BLK 354A WOODLANDS AVENUE 1",
          "BLK 371A WOODLANDS AVENUE 1",
          "BLK 605A WOODLANDS DRIVE 42",
          "BLK 701A WOODLANDS DRIVE 40",
          "BLK 709A WOODLANDS DRIVE 70",
          "BLK 714A WOODLANDS DRIVE 70",
          "BLK 676 WOODLANDS DRIVE 71",
          "BLK 718A WOODLANDS AVENUE 6",
          "BLK 721A WOODLANDS AVENUE 6",
          "BLK 691 WOODLANDS DRIVE 73",
          "BLK 693 WOODLANDS AVE 6",
          "BLK 694 WOODLANDS DR 62",
          "BLK 17/21 MARSILING LANE",
          "BLK 739A WOODLANDS CIRCLE",
          "BLK 728A WOODLANDS CIRCLE",
          "BLK 717C WOODLANDS DRIVE 70",
          "BLK 792A WOODLANDS AVENUE 6",
          "BLK 796A WOODLANDS DRIVE 72",
          "BLK 737A WOODLANDS CIRCLE",
          "BLK 747A WOODLANDS CIRCLE",
          "BLK 748A WOODLANDS CIRCLE",
          "BLK 757A WOODLANDS AVENUE 4",
          "BLK 759A WOODLANDS AVENUE 6",
          "BLK 780 WOODLANDS CRESCENT",
          "BLK 782 WOODLANDS CRESCENT",
          "BLK 783 WOODLANDS RISE",
          "BLK 785 WOODLANDS RISE",
          "BLK 773A WOODLANDS DRIVE 60",
          "BLK 799 WOODLANDS DRIVE 60",
          "BLK 2A MARSILING DRIVE",
          "BLK 775A WOODLANDS CRESCENT",
          "BLK 786A WOODLANDS DRIVE 60",
          "BLK 787A WOODLANDS CRESCENT",
          "BLK 608A WOODLANDS RING ROAD",
          "BLK 614A WOODLANDS AVENUE 4",
          "BLK 622A WOODLANDS DRIVE 52",
          "BLK 644A WOODLANDS RING ROAD",
          "BLK 649A WOODLANDS RING ROAD",
          "BLK 656A WOODLANDS RING ROAD",
          "BLK 887 WOODLANDS DR 50",
          "BLK 889 WOODLANDS DRIVE 50",
          "BLK 661A WOODLANDS RING ROAD",
          "BLK 626A WOODLANDS DRIVE 52",
          "BLK 630A WOODLANDS RING ROAD",
          "BLK 633A WOODLANDS RING ROAD",
          "BLK 639A WOODLANDS RING ROAD",
          "BLK 678A WOODLANDS AVENUE 6",
          "BLK 788A WOODLANDS CRESCENT",
          "BLK 667A WOODLANDS RING ROAD",
          "BLK 671A WOODLANDS DRIVE 71",
          "BLK 681 WOODLANDS DRIVE 62",
          "BLK 685 WOODLANDS DRIVE 73",
          "BLK 11/12/13 YORK HILL CAR PARK",
          "BLK 101/102 YISHUN AVE 5",
          "BLK 753/774 YISHUN STREET 72/AVENUE 3",
          "BLK 717/730 YISHUN STREET 71",
          "BLK 165/167,170/175 YISHUN RING ROAD/AVENUE 7",
          "BLK 201/202, 207/212 YISHUN STREET 21",
          "BLK 203/206, 213/222 YISHUN STREET 21",
          "BLK 223/226 YISHUN STREET 21",
          "BLK 227/235 YISHUN STREET 21",
          "BLK 238/242 YISHUN RING ROAD",
          "BLK 236/238 YISHUN RING ROAD",
          "BLK 243/257 YISHUN RING ROAD/AVENUE 9",
          "BLK 258/264 YISHUN STREET 22",
          "BLK 265/289 YISHUN STREET 22/AVENUE 6",
          "BLK 103/111 YISHUN RING ROAD",
          "BLK 293/294 YISHUN STREET 22",
          "BLK 290/292 YISHUN STREET 22",
          "BLK 290/292 YISHUN ST 22",
          "BLK 296A YISHUN STREET 20",
          "BLK 1001/1019,1023/1024 YISHUN INDUSTRIAL PARK A",
          "BLK 775-794 YISHUN RING RD/AVENUE 2",
          "BLK 795-799 YISHUN RING ROAD",
          "BLK 800-812 YISHUN RING ROAD",
          "813 YISHUN RING ROAD",
          "BLK 816/820 YISHUN STREET 81",
          "BLK 821/830 YISHUN STREET 81",
          "BLK 832/841 YISHUN STREET 81",
          "BLK 840A YISHUN STREET 81",
          "BLK 846 YISHUN RING ROAD",
          "BLK 112/120 YISHUN RING ROAD",
          "BLK 115A/115B/115C YISHUN RING ROAD",
          "BLK 848 YISHUN STREET 81",
          "BLK 848A YISHUN STREET 81",
          "BLK 850/855 YISHUN STREET 81/RING ROAD",
          "BLK 858/864 YISHUN AVE 4",
          "BLK 602-605 YISHUN STREET 61",
          "BLK 606-631 YISHUN STREET 61/RING ROAD",
          "BLK 614-618 YISHUN STREET 61",
          "BLK 632/641 YISHUN STREET 61",
          "BLK 642/643 YISHUN STREET 61",
          "BLK 644/647 YISHUN STREET 61",
          "BLK 650/661 YISHUN AVENUE 4",
          "BLK 662/666,666A TO 666B YISHUN AVENUE 4",
          "BLK 121/143 YISHUN STREET 11/RING ROAD",
          "BLK 137 YISHUN RING RD",
          "BLK 865/880 YISHUN STREET 81",
          "BLK 302-314 YISHUN CENTRAL/RING ROAD",
          "BLK 307 YISHUN RING ROAD/CENTRAL",
          "BLK 320-332 YISHUN CENTRAL/RING ROAD",
          "BLK 343-346 YISHUN AVENUE 11",
          "BLK 347 YISHUN AVE 11",
          "BLK 349-359 YISHUN RING ROAD",
          "BLK 360-367 YISHUN RING ROAD",
          "BLK 386-399 YISHUN RING ROAD/AVENUE 6",
          "BLK 385 YISHUN RING/AVENUE 6",
          "BLK 401/414 YISHUN RING ROAD/AVENUE 6",
          "BLK 418/419 YISHUN AVE 11",
          "BLK 419A YISHUN AVENUE 11",
          "BLK 144/149 YISHUN STREET 11",
          "BLK 423/427, 433/440 YISHUN AVE 6/AVE 11",
          "BLK 441 YISHUN AVE 11",
          "BLK 456A YISHUN ST 41",
          "BLK 426 YISHUN AVE 11",
          "BLK 925 YISHUN CENTRAL 1",
          "BLK 926/932,934/935 YISHUN CENTRAL 1",
          "BLK 415/417 YISHUN RING ROAD/AVENUE 11",
          "162 YISHUN STREET 11",
          "BLK 429 YISHUN AVE 11",
          "BLK 150/161 YISHUN STREET 11",
          "BLK 430 YISHUN AVE 11",
          "BLK 431 YISHUN AVE 1",
          "BLOCK 342 YISHUN RING ROAD",
          "BLK 333 YISHUN ST 31",
          "BLK 334 YISHUN ST 31",
          "BLK 315 YISHUN AVE 9",
          "BLK 317 YISHUN AVE 9",
          "BLK 269A, 269B YISHUN ST 22",
          "BLKS 504A, 504B, 504C, 504D YISHUN ST 51",
          "BLK 504 YISHUN ST 51",
          "BLKS 513A, 513B, 513C YISHUN ST 51",
          "BLK 513 YISHUN STREET 51",
          "BLK 701/716 & 701B YISHUN AVENUE 5",
          "BLK 506 YISHUN AVE 4",
          "BLK 501 YISHUN ST 51",
          "512 YISHUN STREET 51",
          "BLOCK 671 YISHUN AVENUE 4",
          "BLOCK 673 YISHUN AVENUE 4",
          "BLOCK 674 YISHUN AVENUE 4",
          "BLOCK 676 YISHUN RING ROAD",
          "BLKS 462A, 462B YISHUN AVENUE 6",
          "BLK 461 YISHUN AVENUE 6",
          "BLK 468 YISHUN ST 43",
          "BLK 731/746 YISHUN STREET 71,72/AVENUE 5",
          "BLK 478 YISHUN ST 42",
          "BLK 747/752 YISHUN STREET 72"
         ],
         "lat": [
          1.3010632720874966,
          1.3210042901059609,
          1.328283495109407,
          1.36909121614356,
          1.3661204243173295,
          1.3724386334422467,
          1.3748359294533556,
          1.3766782086821643,
          1.3835990576551445,
          1.3687410945550118,
          1.3703498012136124,
          1.3655400127862634,
          1.3688861979339544,
          1.3646977329371188,
          1.3645882914751264,
          1.3705325244610713,
          1.3686107186719942,
          1.3721783233234015,
          1.369915001718853,
          1.3714570202946914,
          1.3723282292064236,
          1.3706469901715583,
          1.3716392420558656,
          1.3640741492788215,
          1.3038767185244577,
          1.3028486840208244,
          1.3059132344622109,
          1.3047388928304149,
          1.307343526593196,
          1.305807720561871,
          1.3047713772680545,
          1.3072843627095663,
          1.2855825549923126,
          1.284911285621432,
          1.3667143987756958,
          1.3686329816140796,
          1.3779874731949442,
          1.3670355338571134,
          1.3685098274818968,
          1.3680002216512899,
          1.3669676105068467,
          1.3662370557741221,
          1.3649433806415425,
          1.3681275586189163,
          1.3673354664536144,
          1.3647534118811007,
          1.3627693074285172,
          1.3727702022189985,
          1.3703630515467693,
          1.3716499282813763,
          1.3672262594201823,
          1.3709897466881407,
          1.3702181345377318,
          1.3704511192782494,
          1.3718593403230517,
          1.3700210113414353,
          1.368356473219034,
          1.3686463926053345,
          1.3664071280973518,
          1.3681130684869154,
          1.3639637058040284,
          1.361151021658679,
          1.365691620587143,
          1.3623561505378592,
          1.364936935305799,
          1.3665801816289644,
          1.3659967355493308,
          1.367205743273234,
          1.370917693067466,
          1.3705581670513376,
          1.370371281457812,
          1.3713296059549298,
          1.3725224642422473,
          1.3694707392934409,
          1.3703854326512568,
          1.369280633982194,
          1.3708650227001158,
          1.3724343595097768,
          1.3736385362921242,
          1.3726986757337116,
          1.3720196104757487,
          1.3723470075573316,
          1.3738962214127315,
          1.3744644954379837,
          1.3741704461236193,
          1.3752171305295215,
          1.370534868701229,
          1.371029158960116,
          1.380544930908412,
          1.3796863244461355,
          1.3818976185660183,
          1.3816414579421723,
          1.3683924870216928,
          1.38062064114195,
          1.3800090936953149,
          1.3807609626573387,
          1.378848189137787,
          1.378651680283736,
          1.3762021780623381,
          1.377977111891701,
          1.376353149352738,
          1.3746947111453929,
          1.3687560709932358,
          1.3743555525255606,
          1.37567492239482,
          1.3743075596364955,
          1.3651073779477731,
          1.3618848908307515,
          1.36682635874641,
          1.3662807156719192,
          1.3704591830451702,
          1.368074369978137,
          1.382000689215116,
          1.3718598268833164,
          1.367518628007778,
          1.3691643105963722,
          1.3769852572551458,
          1.333652679935497,
          1.3369045733012843,
          1.336271592542055,
          1.3352592556272487,
          1.3343396542004196,
          1.2965800277256154,
          1.3464366536863857,
          1.3508670707092796,
          1.3445062832256525,
          1.3455506982843115,
          1.3432428850770304,
          1.3428596521147609,
          1.3473553282589283,
          1.349969284844801,
          1.3658306352822938,
          1.3477410368330722,
          1.3497794554538258,
          1.3500135843193608,
          1.3448855409177118,
          1.34705912300086,
          1.345162758491224,
          1.3642994770604646,
          1.3630077482977778,
          1.3583510906519656,
          1.3488553698228036,
          1.34889150352476,
          1.3486246747246529,
          1.349436593646741,
          1.3500959071206409,
          1.3553323098292838,
          1.3551543675245774,
          1.35589523545262,
          1.3566562135466202,
          1.35792578374441,
          1.3574527003474106,
          1.36236382033242,
          1.3631857448141926,
          1.3574639721486685,
          1.3588668638092543,
          1.3591710155830503,
          1.3601707004676906,
          1.3609610362378035,
          1.3614206825630568,
          1.3574951697204816,
          1.3580079412271258,
          1.3588986300125845,
          1.359196401814309,
          1.3464955373934115,
          1.357311177642308,
          1.3555617806229023,
          1.3578308220309556,
          1.3563083436627226,
          1.346177376327494,
          1.3447482141025904,
          1.3450046991490203,
          1.3444363922391018,
          1.3471702615089867,
          1.3249913646328706,
          1.3260459729073217,
          1.3879463629794184,
          1.3839745646274244,
          1.3777664235348246,
          1.3739566801241183,
          1.3789392866308572,
          1.3807636871101439,
          1.3802532628105817,
          1.3770036224850966,
          1.3789869377958193,
          1.3774944817505004,
          1.3775065165718812,
          1.3812502325627383,
          1.3809699699980773,
          1.3840337588241158,
          1.3761350307538107,
          1.3860579471811627,
          1.385944779998901,
          1.3782937079787805,
          1.3776345511753285,
          1.383267483822887,
          1.384899130104688,
          1.3838090743064286,
          1.3826405383885652,
          1.378924834192695,
          1.3849380921344543,
          1.3773101941380146,
          1.3870292824106292,
          1.3879388940244703,
          1.3865639857228267,
          1.3791195021651272,
          1.3877960606883657,
          1.3870414895407563,
          1.386270399087047,
          1.3854321020503517,
          1.3851366908698435,
          1.384231797723518,
          1.3755313767854005,
          1.3828257877526826,
          1.3755120500520899,
          1.3769212779575684,
          1.3817204459821768,
          1.380648941115931,
          1.3786879613964431,
          1.387185789827295,
          1.3848974600068844,
          1.374991553181362,
          1.388183997698609,
          1.3793984087079159,
          1.3791133613234363,
          1.3898028076418842,
          1.3890478094024736,
          1.3862829447414404,
          1.3858912160470138,
          1.3852512028457102,
          1.387524429768434,
          1.3898650835437827,
          1.3741714064009982,
          1.388291410139453,
          1.3889973185441618,
          1.3842686253745766,
          1.381315510557872,
          1.3847041571560281,
          1.3862485761850714,
          1.3873499559694629,
          1.3853817252275487,
          1.3878519593287,
          1.3895479102849915,
          1.387001705289471,
          1.3888778457850932,
          1.374699730825973,
          1.3078189305831875,
          1.314128096949689,
          1.3144152298359464,
          1.3144503701412036,
          1.3126129574907273,
          1.307337212647674,
          1.3172763032697585,
          1.315506440163754,
          1.3437618406573566,
          1.3446925875203746,
          1.3459715197541606,
          1.347871241447772,
          1.3465495557125742,
          1.3487772809984742,
          1.3480982543721136,
          1.3492568430818903,
          1.3425435059718924,
          1.349560588526671,
          1.3468747076130891,
          1.3454251335374907,
          1.346224586311344,
          1.3458708704867641,
          1.2846262894692324,
          1.2863026958403303,
          1.288095999047967,
          1.2876720320682562,
          1.2868982043967914,
          1.2890407366150354,
          1.2857124480254343,
          1.2868507679834986,
          1.2852472955170589,
          1.287291542584285,
          1.284059569899441,
          1.283999331207603,
          1.2836347060925148,
          1.2877077662690248,
          1.2832343332565201,
          1.2824491300655394,
          1.2827478727093367,
          1.282805821517796,
          1.287667284248734,
          1.2884315560634259,
          1.2895333905500685,
          1.289097998572853,
          1.2727949460019137,
          1.2740916912710787,
          1.3065968942240511,
          1.306066749235351,
          1.3207472024589326,
          1.3264854877042744,
          1.325974060292105,
          1.3215277953752598,
          1.32273032442989,
          1.3275438277706275,
          1.3277831137966836,
          1.3243738973722452,
          1.3230185394991725,
          1.3262618386843101,
          1.3272150796002635,
          1.325955650724791,
          1.3262698248738702,
          1.327259362316204,
          1.32834641915005,
          1.3235772596397843,
          1.324908970644259,
          1.3230388252880447,
          1.3251600110203334,
          1.3189625696233347,
          1.2867839238665058,
          1.286963082194043,
          1.2863112198549294,
          1.283492802887912,
          1.2869280256342557,
          1.3290283308949447,
          1.3292101478885272,
          1.32834200532456,
          1.3275983686830186,
          1.3296532168537087,
          1.3291590929262413,
          1.3235011178756269,
          1.324217738006363,
          1.321924546005149,
          1.3197997144802687,
          1.3281779629096138,
          1.3306877578836185,
          1.3326471603070125,
          1.3312631032232785,
          1.3329691187717014,
          1.334307986772906,
          1.3341177469892762,
          1.3325447895324392,
          1.329942834656957,
          1.328501234196721,
          1.3274106694551377,
          1.3272408584024267,
          1.3283122943595511,
          1.329058097203989,
          1.3325499476387692,
          1.332554918020816,
          1.3324517913824268,
          1.331105186543512,
          1.3339712514435162,
          1.3344153931770537,
          1.3323014049396815,
          1.3316799840249027,
          1.3313212244017472,
          1.3308959153267648,
          1.3300959277312168,
          1.3299669382159505,
          1.332185766541842,
          1.3304470907251158,
          1.331512577577529,
          1.3316370821543297,
          1.3321465000881845,
          1.3339091800300193,
          1.3342514890920436,
          1.3333637440670496,
          1.3358433944930426,
          1.3375088707086673,
          1.3263304964828269,
          1.3251732958769262,
          1.3237167011755613,
          1.3372324410644003,
          1.3381537269767971,
          1.3200329104338988,
          1.3182340844394127,
          1.3178894383908413,
          1.3305481548727427,
          1.332015772086148,
          1.3225048596874,
          1.3334261836375565,
          1.3251312397332438,
          1.3271316923454237,
          1.3265215017534235,
          1.3262898453461394,
          1.3242938891077924,
          1.3343770595975393,
          1.332492267852266,
          1.3328468531231157,
          1.3330705484619232,
          1.3358995643003466,
          1.3356910123179662,
          1.3356088847994083,
          1.3367761554500246,
          1.3258814963794496,
          1.3247921201815396,
          1.3382683050605606,
          1.323211123984771,
          1.3338640412915799,
          1.3264690135495176,
          1.3262261095143135,
          1.3260802458197982,
          1.3307202632277393,
          1.3205406737790863,
          1.3222730385459693,
          1.330959178889198,
          1.3301727085826516,
          1.3225376305100753,
          1.3327973239279634,
          1.3216973941844923,
          1.3204217908689766,
          1.3322601658153184,
          1.3313036277380637,
          1.3255129802698578,
          1.324966290346567,
          1.3361557898964052,
          1.3360794194920413,
          1.3274880750733353,
          1.3018210574313145,
          1.3850753626994727,
          1.3036608788452526,
          1.326621270658444,
          1.3286857316147194,
          1.3290958607447763,
          1.3267660935698495,
          1.325761538242788,
          1.324822461139102,
          1.3235138140220364,
          1.3252462054528313,
          1.3268954882424244,
          1.3277201161996721,
          1.3016364093624146,
          1.3834995640239693,
          1.3835963556122968,
          1.3983848378100443,
          1.3811874180931392,
          1.3786379456153686,
          1.3793103007570044,
          1.3775354147340333,
          1.3759735599231637,
          1.375049975218811,
          1.377365191602345,
          1.380315085920986,
          1.3856135812488544,
          1.3774743473121396,
          1.3805047532205277,
          1.3787338234756656,
          1.3812861166246817,
          1.3829167235416275,
          1.3801473409462486,
          1.3784262097063267,
          1.3796289105733537,
          1.3820730449414027,
          1.380998422608684,
          1.3804828191297847,
          1.3792527806804948,
          1.3833829647486346,
          1.3838438770093553,
          1.3841443511993505,
          1.383326163012076,
          1.3822899983079187,
          1.3846237901647596,
          1.3800848001568025,
          1.3797457123370553,
          1.3786059243998008,
          1.379492530303263,
          1.3790288766966743,
          1.3787502331490462,
          1.3773947750358457,
          1.3886976858792568,
          1.38857724580347,
          1.3903269693827969,
          1.3922859022308847,
          1.3940529952860885,
          1.3930853528194695,
          1.3961472532491102,
          1.3801437034327266,
          1.3811651758839634,
          1.3953807621354313,
          1.390957419969763,
          1.3927690420626142,
          1.392588835064809,
          1.3945179409748218,
          1.395266310343544,
          1.3952394503711916,
          1.3974022344611878,
          1.3987826049446037,
          1.3801796230669872,
          1.4004285839443895,
          1.399644037223133,
          1.400659030128735,
          1.401554388498015,
          1.398136840661223,
          1.3971123380651005,
          1.4011960465890263,
          1.4022393536094337,
          1.4018800104107794,
          1.376811917400497,
          1.3807326977622554,
          1.3810353919401923,
          1.4042944339787478,
          1.404089419860993,
          1.403839486324844,
          1.4028635015212785,
          1.3997628341389805,
          1.3920194608918222,
          1.3939713139005419,
          1.3802822594561748,
          1.376933257277024,
          1.3766878029172827,
          1.37555881252417,
          1.3752829189296978,
          1.3732971913409147,
          1.3749824413018585,
          1.374040451680714,
          1.3765572316417813,
          1.3769877482261268,
          1.3820860793135756,
          1.381218606739474,
          1.3814959737886174,
          1.379988586192666,
          1.292483011992079,
          1.319049411792726,
          1.3193599995859169,
          1.2744580741015816,
          1.3032708363009555,
          1.3036983570832268,
          1.3040360743039932,
          1.3046835403578947,
          1.3057837826214542,
          1.3050686537907754,
          1.3076001787299971,
          1.3062497454836393,
          1.3043520307210348,
          1.3032359268391942,
          1.3055243279697766,
          1.3055339795624616,
          1.2874380741610192,
          1.314744665034576,
          1.316516432854943,
          1.388329162827995,
          1.389902482766781,
          1.3899831182202003,
          1.3901710996794738,
          1.3006260281130555,
          1.318463207322819,
          1.3158949898123835,
          1.3217898443793499,
          1.320563371411054,
          1.3173923753204828,
          1.3162541862213404,
          1.31431392669284,
          1.3138577294992604,
          1.3122716629093103,
          1.3117560814715383,
          1.3133630086406882,
          1.3133478208276774,
          1.3115042554415335,
          1.3110149396716517,
          1.3116611944348087,
          1.3216503041788255,
          1.3241976206862776,
          1.3223512364917547,
          1.322587761086612,
          1.3222422628168249,
          1.3211579795665713,
          1.3223617440785465,
          1.3126146115237984,
          1.3113609355931228,
          1.3098135876330488,
          1.3103927402801043,
          1.3114580973822938,
          1.3105631944603586,
          1.3086255588801015,
          1.3045594379669765,
          1.3070103153063959,
          1.3056123024137576,
          1.305309674521169,
          1.3035383171263133,
          1.3028066678186725,
          1.31029120826452,
          1.3114801086975776,
          1.300118048859605,
          1.3131026590525159,
          1.314488113913117,
          1.314883872279801,
          1.3166746567863592,
          1.3176492492395018,
          1.2805131560457625,
          1.281299375700636,
          1.2808383769937857,
          1.2808706520545865,
          1.2813318825559306,
          1.2804697558033025,
          1.2973346289648866,
          1.2984559909642104,
          1.2978947429610392,
          1.2769773813172844,
          1.2964677180872102,
          1.2960732173646503,
          1.2951867450181442,
          1.2953067953956656,
          1.2942254278456524,
          1.320029987855292,
          1.3226157282563193,
          1.3211567341184267,
          1.3205164562706981,
          1.3220334887301848,
          1.3177837032191553,
          1.3185196743293057,
          1.3192268648217853,
          1.3234328747450668,
          1.318846467280764,
          1.277163553465462,
          1.2761844360827463,
          1.3087586330482945,
          1.3182783907026911,
          1.317920697225088,
          1.316694831421104,
          1.316875726618627,
          1.3227723905559816,
          1.320036813606306,
          1.3199377422984941,
          1.31988748882181,
          1.3212054428036522,
          1.3197587896689407,
          1.3218540182482434,
          1.319721481525843,
          1.3192099481045423,
          1.320962408767416,
          1.3179454217838502,
          1.3175009923126009,
          1.3165497802675898,
          1.3087283120092714,
          1.3126136388646874,
          1.3129217007451577,
          1.3093544323655142,
          1.3116014028826575,
          1.310871040730976,
          1.311155904646739,
          1.3103818529743179,
          1.309492533717275,
          1.3096110710678992,
          1.317206714246544,
          1.317031227538219,
          1.2890460476816068,
          1.3322044726378666,
          1.2892221428532353,
          1.2882100231321945,
          1.285714389597192,
          1.28642306098842,
          1.2905406191010664,
          1.2900207732738616,
          1.2846680932595869,
          1.2847190033879028,
          1.2834709130566546,
          1.2837073657315154,
          1.3621655371189594,
          1.3786638473853425,
          1.375720842728826,
          1.3773896839264814,
          1.3637433814720363,
          1.3626513259842494,
          1.3581131891083953,
          1.3545477132592356,
          1.3659590849526215,
          1.3666951274857735,
          1.3678351863527216,
          1.3691978333066008,
          1.3589608383409413,
          1.3597264508362625,
          1.3576754848491717,
          1.3580562825007565,
          1.3528453827430016,
          1.3629162816240896,
          1.3763723182473238,
          1.375529907263565,
          1.3701078117066359,
          1.379407142485768,
          1.3502835072364743,
          1.3524734570237993,
          1.3575125780004997,
          1.3597981073399827,
          1.3694965867905133,
          1.3723422711738544,
          1.385422602428171,
          1.3842997435333646,
          1.3867765250799968,
          1.3842111161564574,
          1.3851206887907679,
          1.3862096500795642,
          1.3732591319490572,
          1.3754845441162997,
          1.371379058329617,
          1.3695677717165766,
          1.3699424715384199,
          1.366489722596988,
          1.3661185477855309,
          1.3730086329161062,
          1.3725208626529963,
          1.369943399871844,
          1.3642304254367996,
          1.3521187630291875,
          1.3712761200039465,
          1.3741610365120855,
          1.3721131172452155,
          1.3736487904344863,
          1.3759038270817985,
          1.3758578477105823,
          1.3711840890820386,
          1.3754251700704976,
          1.378793343418818,
          1.3653553176828952,
          1.3773318360595221,
          1.378651048417412,
          1.3802826296010706,
          1.3708718261552026,
          1.3566443539408752,
          1.372683430169658,
          1.3712032514493229,
          1.3553370925034582,
          1.3571143858970358,
          1.3508831228027312,
          1.3790043779578567,
          1.3796540278489158,
          1.3808269962216235,
          1.372357665071264,
          1.3743412526148546,
          1.3423065359348778,
          1.3405867501574724,
          1.3742926629562864,
          1.3699244511698212,
          1.3699807423866381,
          1.3536529994553819,
          1.378973567137333,
          1.3777026962814996,
          1.3786242831960878,
          1.3783044546256287,
          1.3508201907160555,
          1.350591594227991,
          1.3518113670729863,
          1.3754541941864626,
          1.3767756461828917,
          1.3760480717091137,
          1.3741901308817628,
          1.3609273751541564,
          1.3603688388032877,
          1.3584059128852386,
          1.3596146600463774,
          1.3602594484013957,
          1.374661406137122,
          1.375920928263085,
          1.3760428223925316,
          1.3778423903615717,
          1.3589105329110454,
          1.3586483875723967,
          1.37788142057996,
          1.3780174959451366,
          1.3622672179706925,
          1.379978213203624,
          1.3815610022490386,
          1.353977867224383,
          1.3526812522046199,
          1.371222137875154,
          1.3799740663044326,
          1.3494346989855843,
          1.2847577556273724,
          1.2875208652204617,
          1.311462635471375,
          1.3126324573562955,
          1.3139801309430983,
          1.3146924061758303,
          1.3130186460519382,
          1.289869482205706,
          1.287438291030861,
          1.291993773066109,
          1.2885117001814979,
          1.2901865322941068,
          1.2881678575922226,
          1.2889897405337625,
          1.2910086868911117,
          1.3844716847717906,
          1.3850735040392623,
          1.2880938969321138,
          1.3726635071200932,
          1.2913696641320331,
          1.2912253507738907,
          1.2877269654910475,
          1.3784968024576387,
          1.3798003264431464,
          1.2792629708630585,
          1.2802444113188307,
          1.302401825492277,
          1.3016276066884178,
          1.3005250402303838,
          1.303483220735441,
          1.3152529513564732,
          1.315155076965312,
          1.2872568479780304,
          1.2881646234590771,
          1.281934892229842,
          1.285135144278676,
          1.282596291075267,
          1.2880511267041055,
          1.3450705393275209,
          1.3389486784923157,
          1.3417967899715009,
          1.3411209710444394,
          1.3394709470052732,
          1.342400674377116,
          1.3408888288394574,
          1.3372155636603211,
          1.3353138254513053,
          1.3429966284896697,
          1.3519736920625167,
          1.343935540315558,
          1.3353770862050383,
          1.3370745667061221,
          1.344748541967573,
          1.3535626884336651,
          1.335287484303554,
          1.3443036800399348,
          1.3455725472071853,
          1.3463047673601238,
          1.3353272224094526,
          1.3370050641486035,
          1.3445890471540443,
          1.350499126357452,
          1.3420131073387225,
          1.341599934271884,
          1.3444418938574294,
          1.339485124212113,
          1.339213857297851,
          1.34248592800673,
          1.3413442507193407,
          1.3386592120903442,
          1.3071670198992595,
          1.2893587269753048,
          1.3484178517821193,
          1.3432796316298479,
          1.3410713661758147,
          1.3416673654220843,
          1.3376994722441888,
          1.3391824591054682,
          1.3364297229134372,
          1.3420166824734492,
          1.3429196669451564,
          1.3433629252763908,
          1.3435406873997215,
          1.3440938400679234,
          1.3440418112882973,
          1.34440108183756,
          1.3456690798460342,
          1.3468907567288746,
          1.347925792026096,
          1.338607760000444,
          1.3462038380151882,
          1.3490641296056374,
          1.3474507182287452,
          1.351320351997118,
          1.3500283203099188,
          1.3490191908456162,
          1.345732555812597,
          1.344863968652103,
          1.3449218597589219,
          1.3468873357936169,
          1.3475766209296087,
          1.3486261611752712,
          1.3394948365194128,
          1.3488140652464014,
          1.3458066607061037,
          1.3457744896852968,
          1.3470676632759255,
          1.3481171567409598,
          1.3521719203242202,
          1.3512959616988476,
          1.3491180938248541,
          1.3501574988556257,
          1.33753016931853,
          1.3500297322291521,
          1.3482894562444392,
          1.3482301426246235,
          1.3479248544356488,
          1.3468476106370095,
          1.3489851813579041,
          1.3497541372772162,
          1.3502574761113693,
          1.3521727670439543,
          1.3534557986298248,
          1.3537825819267806,
          1.338314475125831,
          1.3537072091984148,
          1.3535560740797064,
          1.3514364016790492,
          1.3507409504176222,
          1.349926571439503,
          1.348637314625565,
          1.3348926471145106,
          1.333976117262724,
          1.334467592004372,
          1.3342030833182397,
          1.3390681000476938,
          1.3497546144769716,
          1.3493549092892696,
          1.3400767800039053,
          1.3408897822679104,
          1.3398730274812365,
          1.341779262833754,
          1.3444733458300624,
          1.3427704872682331,
          1.3412980393930485,
          1.3416439885155313,
          1.3420559299413903,
          1.3396873972151606,
          1.3413441331084226,
          1.3415438729036973,
          1.3436870354700483,
          1.3462276475605943,
          1.3472672849626512,
          1.3439953859260443,
          1.3426645840692522,
          1.3428451201999936,
          1.3441944891692927,
          1.3443044123065495,
          1.3474454235068092,
          1.3415658549718328,
          1.3465010835318163,
          1.340430194313869,
          1.3406469795967801,
          1.3455473430034577,
          1.349591459069286,
          1.3458500076506865,
          1.3502206530155672,
          1.3477246830725291,
          1.3499771895467607,
          1.3499622723359237,
          1.3416792676491924,
          1.3423753450796354,
          1.342122435168998,
          1.3415471370568717,
          1.337537219917197,
          1.3375577648770798,
          1.3392410457426813,
          1.3396922643624274,
          1.3401003005523258,
          1.3415185653945183,
          1.342401343926066,
          1.3397788016970993,
          1.3397333027042437,
          1.2817069215968375,
          1.281955140134137,
          1.2823301623409766,
          1.2805721095242588,
          1.320239287540183,
          1.3235736038960781,
          1.3189033039657925,
          1.3205826810878327,
          1.3191062001768321,
          1.3205577050364674,
          1.317664120262257,
          1.322703300743554,
          1.3237494773420038,
          1.3208280346346724,
          1.3231299605395128,
          1.3202128086841107,
          1.3215857812299312,
          1.3089166922000135,
          1.3297527796247852,
          1.332528723437269,
          1.3339093228742855,
          1.334021141539843,
          1.3336670998148838,
          1.3122208822000432,
          1.3160936666077387,
          1.3116793444533814,
          1.3136338338943614,
          1.313250654520725,
          1.314426615866617,
          1.3165869079469978,
          1.3062670008791772,
          1.310112141012881,
          1.3087708200412964,
          1.308503977861922,
          1.308492552601754,
          1.3099969542952568,
          1.3113925840335257,
          1.283069382670322,
          1.283446479605301,
          1.2806394354926494,
          1.281481446142536,
          1.2825290974366874,
          1.2818564521671478,
          1.3294953548745303,
          1.3276735499716745,
          1.3264214379334087,
          1.3255547219734711,
          1.3304443586910317,
          1.3299081271871451,
          1.3094153647830171,
          1.3078622926222248,
          1.3087364754979458,
          1.3075380133900372,
          1.3070655199100698,
          1.3075471341351168,
          1.3075801866197923,
          1.3105949571081432,
          1.308894518872329,
          1.3105483981592954,
          1.2893340477316146,
          1.3233181490784798,
          1.3239081741740943,
          1.3250359305098454,
          1.3495058318348234,
          1.2933650054100614,
          1.2920319699769407,
          1.3304551002906109,
          1.3243396875061149,
          1.3262662777141847,
          1.3293296567041784,
          1.32979172825255,
          1.3243040479763997,
          1.321042154795734,
          1.3205402150734105,
          1.322029473497494,
          1.3180496887521358,
          1.3048183599520138,
          1.3029669835986282,
          1.3031546710952773,
          1.301686373156584,
          1.3025451758066604,
          1.3026824721868335,
          1.301883433865292,
          1.3061277669131734,
          1.301285911111801,
          1.3042246143882699,
          1.3036365210364356,
          1.3013268597499603,
          1.3043572955307299,
          1.303996613677369,
          1.3061096468902569,
          1.3054480243950732,
          1.3046720374995606,
          1.3054965796249203,
          1.3022982737557702,
          1.3021648304353715,
          1.3055812783399696,
          1.3076935258199842,
          1.3079140431771652,
          1.3081555032749435,
          1.3071674063050989,
          1.3075628847261747,
          1.3230747811611239,
          1.3284311670898454,
          1.3275904526526752,
          1.3242254443101509,
          1.3311255664042714,
          1.3273923754858115,
          1.3306808562275376,
          1.322312871237763,
          1.3232457923541576,
          1.33250795730011,
          1.3272818522606618,
          1.3267035184005498,
          1.3276774087929712,
          1.3271530486482315,
          1.329022794058407,
          1.3040036166790818,
          1.3621395753090666,
          1.3611959653243422,
          1.362119828623557,
          1.3640485877681512,
          1.3654157251482684,
          1.3616613990271371,
          1.3778877152433913,
          1.391575269300993,
          1.3347153913634897,
          1.348961590640251,
          1.394146066299304,
          1.40266160509219,
          1.3837675231487243,
          1.3854160932518795,
          1.292679329769361,
          1.3669259778172504,
          1.3779111716188202,
          1.3797395060386983,
          1.3854699982857899,
          1.3553703676578694,
          1.4307681685236948,
          1.445462284938923,
          1.4381363820727737,
          1.4431164400349494,
          1.3690846037201425,
          1.3966475919364,
          1.3981144128367358,
          1.392370666728483,
          1.3935886554890804,
          1.4023968775457856,
          1.3948625188764774,
          1.3986088574081854,
          1.3987172907709327,
          1.3960928474761454,
          1.3996847723542276,
          1.3995558665879668,
          1.3949707847951496,
          1.3977398982918745,
          1.399766896599864,
          1.3995519599597044,
          1.3955198255395493,
          1.397283842157002,
          1.3984631405322845,
          1.4020092036707783,
          1.400538847013659,
          1.3943539447375144,
          1.4036785832909175,
          1.4048472500172462,
          1.4012553870089215,
          1.4038622806100294,
          1.403119329325957,
          1.4060197574757567,
          1.4032349137543962,
          1.404599230619109,
          1.404000203581804,
          1.4037210635186224,
          1.4026510883226686,
          1.4021264239945672,
          1.4017143985503484,
          1.3988565566526352,
          1.393629380207697,
          1.4002594317477945,
          1.40062697761417,
          1.4030051179067977,
          1.39934386050485,
          1.4014192894388904,
          1.400010434777655,
          1.4101951180886232,
          1.4052765326468888,
          1.4045062262447912,
          1.4054048056345347,
          1.4070699794626342,
          1.4019208645334236,
          1.399914839464193,
          1.4081093216534804,
          1.4058229986447555,
          1.4061149025133164,
          1.405533926416853,
          1.4057398730818205,
          1.4052928416984622,
          1.4097624479246258,
          1.3935832922158498,
          1.4084738701672737,
          1.4028497771467379,
          1.4025347595532867,
          1.403078094080517,
          1.4040260868198688,
          1.401100942346662,
          1.4032946064344987,
          1.4012602647548897,
          1.4134499069115312,
          1.413300796243431,
          1.401012310975495,
          1.4112200458616677,
          1.4167856591181187,
          1.419792210283198,
          1.4169721676214329,
          1.4185115837826394,
          1.374282852405608,
          1.3667464214739626,
          1.3647932754078989,
          1.364905492978833,
          1.366473554777537,
          1.3647084328267207,
          1.3641601337238678,
          1.3623587330477784,
          1.3628388914348102,
          1.3647565501015386,
          1.367956777555041,
          1.3700730656196631,
          1.368041633413594,
          1.3711969823159393,
          1.3685624312364952,
          1.368681755302249,
          1.3671851799114298,
          1.3763901312097717,
          1.373867572894941,
          1.3739601888977975,
          1.3747001092714668,
          1.3773336408343035,
          1.3718003498167461,
          1.3757453839953475,
          1.379306773598291,
          1.3770809237481783,
          1.378000605084881,
          1.3807695117170868,
          1.382416558645188,
          1.3819247877443936,
          1.3789475812238117,
          1.3741059191478615,
          1.3779476132601687,
          1.3788374116684676,
          1.3772363788570843,
          1.375965618267452,
          1.3746019548874393,
          1.373224586883511,
          1.373770353071396,
          1.370820028225231,
          1.367557638171994,
          1.3716359902146564,
          1.3682919670590967,
          1.3340049020680769,
          1.3326801447688825,
          1.3336019833981616,
          1.3347329118377305,
          1.3363131015185339,
          1.3322837359757804,
          1.3321946782571863,
          1.2854503678206244,
          1.3696196338882014,
          1.368017156377775,
          1.367331839559714,
          1.3737389560940712,
          1.3744576196610299,
          1.3687136904214412,
          1.3694763858176857,
          1.36668608880898,
          1.3672748025475827,
          1.3710634228755592,
          1.3729346460751741,
          1.370508264193335,
          1.3693790590205053,
          1.3710094121120664,
          1.371267840795118,
          1.3732053012591277,
          1.3993368546917764,
          1.321204214426874,
          1.3205673948612164,
          1.32069015976828,
          1.3193536177884093,
          1.3198348225460355,
          1.3198823805928215,
          1.3188214674823946,
          1.4001046189481625,
          1.3984568370825314,
          1.4045253632063053,
          1.4022418712257227,
          1.3972271617557055,
          1.378101228997388,
          1.396877554712999,
          1.3974837242799767,
          1.3953685695565603,
          1.3955982538271992,
          1.395427966897407,
          1.4027378966441444,
          1.4123215469010597,
          1.4001120866706809,
          1.394228446238067,
          1.3929239184124922,
          1.2976307008778907,
          1.298332573143507,
          1.2969337257257847,
          1.2962063464606495,
          1.294701006605811,
          1.2916476231174179,
          1.295830545665653,
          1.288713705492311,
          1.294345239395992,
          1.2953582295668464,
          1.2952947342758852,
          1.2911403172091753,
          1.290779202832364,
          1.29793262781623,
          1.2967856200643268,
          1.298689181938898,
          1.2998598225856626,
          1.3000891561415853,
          1.300933741254127,
          1.305523820456335,
          1.3070878550554548,
          1.3067047897222317,
          1.3071728123632311,
          1.3068774261960954,
          1.3073460706115319,
          1.3064930061098052,
          1.3062533085068184,
          1.3083119292817045,
          1.3115932040321523,
          1.294206414375911,
          1.308536481409173,
          1.3075367428679028,
          1.3067809877783425,
          1.3082345910446556,
          1.2945634816894256,
          1.3088789371038378,
          1.2929905606576144,
          1.3062461348732033,
          1.2947981950673075,
          1.2949401336399393,
          1.3076378079345679,
          1.3067193471401597,
          1.2953471669289232,
          1.2991996020608594,
          1.2973375726157717,
          1.3052955173997691,
          1.3072102800045216,
          1.328546809837197,
          1.3276877467528554,
          1.3282855436779146,
          1.2864639274830016,
          1.2870082444741207,
          1.2879157769529934,
          1.2879887721540044,
          1.2882886138255252,
          1.2925635490008873,
          1.293966566645104,
          1.446480287012054,
          1.452495987454693,
          1.4517759781995072,
          1.4531650655885606,
          1.4543523817123178,
          1.4523973177575265,
          1.4489271805752448,
          1.4482824208020346,
          1.4509081142282274,
          1.4489311212031635,
          1.4515916427534201,
          1.4464483347703572,
          1.4502717325718189,
          1.4517812855899763,
          1.4511675571821525,
          1.4500353806754083,
          1.452416912231222,
          1.4501900593556536,
          1.4564650180938121,
          1.456622416476304,
          1.4548633392563763,
          1.4530310352110807,
          1.4449556774576735,
          1.4554680859085,
          1.4555266790492731,
          1.4503668722544232,
          1.451213897941924,
          1.4546450335090684,
          1.4457165694498084,
          1.447434315699565,
          1.4491498239714493,
          1.4446430469011298,
          1.4477832787068887,
          1.4440797074466718,
          1.4460719694425144,
          1.44618298305479,
          1.444358332981378,
          1.4450690449281178,
          1.4518223186912027,
          1.4433848775494968,
          1.445988059863485,
          1.4485951270246518,
          1.4461198447407133,
          1.44534120088779,
          1.4466286838914626,
          1.4471119773997287,
          1.447670434181071,
          1.31246021162246,
          1.3161327950004935,
          1.3165726780306881,
          1.3116822617293837,
          1.3163856903514648,
          1.3169224596017084,
          1.3173299644584724,
          1.3165783475838255,
          1.31776892051572,
          1.3117614700214142,
          1.3714096366112394,
          1.3702260011119267,
          1.3578438574793206,
          1.3565716827001997,
          1.354552223660296,
          1.352894926166181,
          1.3526188900569815,
          1.351714440939821,
          1.350197482861451,
          1.3547449134036968,
          1.3700669160712335,
          1.3515775676309512,
          1.353436181204226,
          1.3541567315681027,
          1.354049906791127,
          1.3527643970392298,
          1.34631024904111,
          1.348961711170609,
          1.3483947531667397,
          1.3481957061532102,
          1.3499026871040125,
          1.3692441818922374,
          1.3678621295789108,
          1.3715119708787606,
          1.3722848009296493,
          1.3741617382772797,
          1.3739410854282377,
          1.3730991180086038,
          1.3715875511419628,
          1.3739532452074892,
          1.3735036717727902,
          1.3687392940496197,
          1.366987286696181,
          1.367662355945608,
          1.3725409566369595,
          1.3740476540994069,
          1.370879739615963,
          1.3704946267818319,
          1.3694026719542929,
          1.3539013434633929,
          1.3552098604736484,
          1.3568895318365632,
          1.369391156083418,
          1.3574991140500388,
          1.3658478968113685,
          1.3655102143875217,
          1.3684173420705263,
          1.3226623838300875,
          1.3220346879526783,
          1.3232280335397644,
          1.3241162395100121,
          1.3251470002256716,
          1.3233078536386114,
          1.3507449261777276,
          1.3519652625237195,
          1.343164542305763,
          1.3461064600262538,
          1.3453701772727102,
          1.3435931829113579,
          1.342527290332568,
          1.3429664551874503,
          1.34110943783859,
          1.3455699790698423,
          1.345172569755738,
          1.3458702647263434,
          1.341979359948774,
          1.345276043192383,
          1.3440114710940638,
          1.3445653569991929,
          1.344856604703591,
          1.3457454616524451,
          1.3469018245740432,
          1.3474296843081701,
          1.3472093067939983,
          1.3457753474928371,
          1.3884172597070341,
          1.3846315451169187,
          1.3902640175240115,
          1.3884031811248536,
          1.3832014796474918,
          1.388174110163739,
          1.3898150362870643,
          1.3936038427321584,
          1.3837297041351546,
          1.392821390774378,
          1.394678969989385,
          1.394773252958036,
          1.390283406829788,
          1.3940951516643665,
          1.382830239537726,
          1.387224448476272,
          1.3862233734196856,
          1.3937143837711456,
          1.3929209702849565,
          1.3935143423581973,
          1.3848559723028522,
          1.3870087192667444,
          1.3880225732532303,
          1.3860441807607258,
          1.3937198420677013,
          1.3932082235368315,
          1.3876583459669192,
          1.3883315022559481,
          1.3966809496482975,
          1.3951935711256322,
          1.388853429245626,
          1.3874486506871426,
          1.3947766801720634,
          1.3962605919227666,
          1.3821330181549571,
          1.3904467559290847,
          1.38872795405383,
          1.387879204666016,
          1.3964681241488188,
          1.3894943709639047,
          1.397600519618371,
          1.392199195734594,
          1.3903581193809897,
          1.3902040655569814,
          1.3905130202271323,
          1.3876784878398374,
          1.3932748493327587,
          1.3936125125577157,
          1.3926975290310513,
          1.3925584790931957,
          1.3920550439026413,
          1.3871444368595176,
          1.3894447199134696,
          1.3954336679585913,
          1.389467324519619,
          1.387759583250722,
          1.3881775375590992,
          1.3888827807769966,
          1.384046610088895,
          1.384390986890149,
          1.383647183643841,
          1.3916668415615252,
          1.3819478982409492,
          1.3830653872629295,
          1.3925062248152236,
          1.3890692026660998,
          1.3842957031829393,
          1.3820774690154305,
          1.3851413505292747,
          1.3861118971736086,
          1.3921683906630253,
          1.391610101929331,
          1.3853276738945457,
          1.3903156800516598,
          1.3916838991563576,
          1.386134754293027,
          1.3898333736018254,
          1.3939219929429294,
          1.3920275267973798,
          1.3908424987837533,
          1.3941894073650947,
          1.389897715908134,
          1.3942402489764532,
          1.3943812008338867,
          1.393152021809552,
          1.3940211031242349,
          1.3948696733879469,
          1.3908141653016273,
          1.3948524363141481,
          1.3854943914724216,
          1.386158412237724,
          1.3939370542563823,
          1.3963652304633865,
          1.3979703351533255,
          1.3929133696171458,
          1.3928604331140668,
          1.3896489828157732,
          1.3970913852933753,
          1.2816757993312764,
          1.311763091336167,
          1.311536628868223,
          1.2933224327438246,
          1.2936097370332766,
          1.3579180845082497,
          1.354862791790445,
          1.354705140754078,
          1.3587673953431152,
          1.3613799663428785,
          1.3573275280540353,
          1.355495311708813,
          1.2739258167233893,
          1.2750954612568544,
          1.27553450520988,
          1.303590995633725,
          1.3031633398197322,
          1.2928501910006627,
          1.2902642774663728,
          1.2898290995549135,
          1.2898270512586238,
          1.3968683411312508,
          1.3969722799644955,
          1.3892739738021467,
          1.3963388421285428,
          1.3902443442059242,
          1.3897226991117952,
          1.3814023960148882,
          1.3991578704764291,
          1.3980764550818106,
          1.391571986830565,
          1.3933026077126274,
          1.3918147456311092,
          1.3924906225860834,
          1.3931035636363926,
          1.3941981523992562,
          1.3883249512276241,
          1.3943101239551081,
          1.393568156444722,
          1.4513660567718123,
          1.4531611101920539,
          1.4548200839405943,
          1.3945617002088786,
          1.447837709907731,
          1.4455889552961991,
          1.3739074487299365,
          1.446517923907347,
          1.4446854197624044,
          1.4430178445444928,
          1.4433715562556602,
          1.448145006456636,
          1.392068698044541,
          1.355179876416701,
          1.360293334389214,
          1.277544772322185,
          1.2757430581846363,
          1.2790442396857193,
          1.2773607628817047,
          1.2764807593689043,
          1.2717912859952192,
          1.2737962540502121,
          1.2753043651293587,
          1.2733743359112941,
          1.2772968603551003,
          1.274998507079263,
          1.27333300146065,
          1.2762661203482861,
          1.2772069380595075,
          1.274784117407762,
          1.2784436505669539,
          1.272406389504725,
          1.2706126262273696,
          1.2818252116961137,
          1.274814857226147,
          1.2765122720178543,
          1.2746646911948152,
          1.277605691154847,
          1.273911368539902,
          1.281342169104228,
          1.2819237415341909,
          1.2720250401511541,
          1.273135617253316,
          1.276839182859871,
          1.2776343854674224,
          1.2739507972210307,
          1.2734514848823009,
          1.2726440475687442,
          1.2732889977607464,
          1.2813137150572276,
          1.2832266599714905,
          1.2769805823717495,
          1.2799822967820182,
          1.2829905284723702,
          1.2834306517182228,
          1.2842590600348192,
          1.2843450233069789,
          1.2773716640930237,
          1.2852865683978083,
          1.283665894606537,
          1.2826212098586078,
          1.2820927498333108,
          1.2797413916490035,
          1.2828840851961176,
          1.278369639755716,
          1.2838768066709862,
          1.3217496873149626,
          1.3211726817146217,
          1.3221450186133532,
          1.323261328455711,
          1.322522221646899,
          1.3233129928646263,
          1.32157429694808,
          1.3206349930588046,
          1.3218251384145028,
          1.3201453629777036,
          1.2982031224521287,
          1.3342106478373381,
          1.3318481945093816,
          1.3271974323386024,
          1.3371197566812698,
          1.3281427792350193,
          1.3301014238029596,
          1.3385945699313244,
          1.3400495011789735,
          1.337109414406709,
          1.334020235539566,
          1.332900638736559,
          1.3362078554823698,
          1.3382825338635973,
          1.3323135685345087,
          1.3279067611579443,
          1.3303922793325875,
          1.326821061387296,
          1.327225464370421,
          1.3533536463794174,
          1.3544003715798585,
          1.3558304340730032,
          1.3563570937883112,
          1.3491501505382808,
          1.3577306247732577,
          1.3557548071635077,
          1.351213154891125,
          1.3523979713180423,
          1.3573426549157683,
          1.3581427179881114,
          1.3514133266988884,
          1.352264486560788,
          1.3546614860304713,
          1.3554179483948305,
          1.3587147470147338,
          1.359826679786971,
          1.36065300511494,
          1.362833734951973,
          1.3606853861366743,
          1.3612627825031405,
          1.3568738297975131,
          1.3587518558468132,
          1.3595356023853955,
          1.356363667330087,
          1.3572198097447834,
          1.3599148478753333,
          1.3571629858521417,
          1.3561768438388753,
          1.363095228751709,
          1.3475301018629275,
          1.3489369754158578,
          1.3533871776405721,
          1.3592000246240483,
          1.3553474172451743,
          1.3585465791925986,
          1.356712431701248,
          1.3470782741084315,
          1.3639797760612586,
          1.363108337353694,
          1.356448330445218,
          1.351182903911401,
          1.3638640262558084,
          1.3548531044473473,
          1.3535292620183683,
          1.3548790403480122,
          1.3532478142057665,
          1.3528089666562568,
          1.3515006916954586,
          1.3533454115738093,
          1.3360648632051915,
          1.2769075748749301,
          1.2754814002517192,
          1.3365036597802444,
          1.333054806550548,
          1.341935891063596,
          1.3302080747111178,
          1.3384461334209439,
          1.3351666442919863,
          1.33824903865788,
          1.3320229196131728,
          1.3342662016697917,
          1.3309769044577404,
          1.3382258757437402,
          1.339014103039561,
          1.3348930156411019,
          1.3366841663997724,
          1.3369784658429071,
          1.3337473401876647,
          1.339270203865429,
          1.3307490035221945,
          1.3357541574703333,
          1.335818685356262,
          1.3348896541471729,
          1.3398497061338188,
          1.3366352513195725,
          1.3370812821443905,
          1.3349161381898265,
          1.3340273406132328,
          1.3358886108582313,
          1.3374793997904242,
          1.333245746223494,
          1.3337730224911775,
          1.332589320673887,
          1.3361796317904415,
          1.3310224198845195,
          1.3342009367863668,
          1.337544127996722,
          1.335341205575825,
          1.3395182059074235,
          1.340605801519672,
          1.3411010791516005,
          1.3410803478942455,
          1.3425174131789677,
          1.3379881832413978,
          1.3362631051523637,
          1.3329161007510277,
          1.339271189725484,
          1.3316871944820943,
          1.3319694948660128,
          1.3348375584101981,
          1.3375715055634887,
          1.3388696011180514,
          1.3388784330957721,
          1.3414086530592122,
          1.3424420657666314,
          1.341438887484936,
          1.3367334844118628,
          1.334938634962172,
          1.3342047862503916,
          1.340164989877938,
          1.3329694275615094,
          1.3414197021702787,
          1.3417624541860327,
          1.3423385585651624,
          1.335652523129743,
          1.33527703622672,
          1.3327492745119438,
          1.3311357042252492,
          1.3398039017977645,
          1.339391741464611,
          1.3379496519642362,
          1.3003313037311046,
          1.3006494194943568,
          1.3197304025188716,
          1.3791544765788513,
          1.3796366595380933,
          1.3803889157456708,
          1.3829207779958597,
          1.3790484537959018,
          1.3776881486417756,
          1.378749975150724,
          1.3803300689506635,
          1.3820725108563843,
          1.3390367795721196,
          1.3384762811903597,
          1.3401160500047653,
          1.3384628901081859,
          1.3475709576217372,
          1.3508262061118326,
          1.3510860099421371,
          1.3490239873523138,
          1.3532075642039425,
          1.3525500507189252,
          1.3519836463649741,
          1.3531859030595268,
          1.3545340856241253,
          1.356214509440851,
          1.3544353263886084,
          1.3526707593180312,
          1.3522209278111617,
          1.3530053637216,
          1.354229234006053,
          1.3540288868380261,
          1.346640702174156,
          1.351063981435955,
          1.3511235363506409,
          1.3489435958045213,
          1.3475161741738964,
          1.3489116274391861,
          1.3488833306241554,
          1.3473580948340915,
          1.3503210301814026,
          1.3456852935378616,
          1.3454200181193685,
          1.3482322058800873,
          1.3492885418065712,
          1.3511513824159778,
          1.3507122252686137,
          1.3530664094691636,
          1.3524976218939686,
          1.354912464910644,
          1.354908408076639,
          1.3538868383953737,
          1.3519908804356837,
          1.351415214205708,
          1.350722444483305,
          1.348748572139395,
          1.3536055365743227,
          1.35629474946784,
          1.3500859214996381,
          1.3507467406692855,
          1.3553423222406014,
          1.3454696968380206,
          1.344961935269825,
          1.3580941783804652,
          1.35808555961423,
          1.3594142202064825,
          1.359329003227221,
          1.3601677402123447,
          1.3616776499929377,
          1.3576773100495547,
          1.3574127639795266,
          1.3464142307322382,
          1.3597987523788795,
          1.3603298279115985,
          1.3478163316444631,
          1.334497808758932,
          1.3336909599995805,
          1.3346544348736107,
          1.3352920829560473,
          1.336513362841354,
          1.3342242369297455,
          1.3357724555455204,
          1.3148102349625574,
          1.3155971787693,
          1.3152879383142535,
          1.3185357926226657,
          1.3126416639781904,
          1.3131084199960439,
          1.2866613509167766,
          1.348389703017815,
          1.345803542198286,
          1.3474209171225677,
          1.346961571834135,
          1.347803447002071,
          1.3469896662522876,
          1.3488837002095344,
          1.3504356366859596,
          1.3500959655979141,
          1.3510894123958355,
          1.3485028571990136,
          1.3498724840033915,
          1.347131956113807,
          1.3573554142331292,
          1.36076433250331,
          1.363021192573962,
          1.3639079799053717,
          1.364516331909098,
          1.3631052483305381,
          1.36051634143148,
          1.3595930873236584,
          1.3578757399246892,
          1.3585921987921117,
          1.351391956544542,
          1.356914375548832,
          1.3569134026813714,
          1.354100234198131,
          1.3549782392536949,
          1.3517336858231883,
          1.3467260929497138,
          1.3497594316284762,
          1.3506535652301486,
          1.3486324013971243,
          1.3494845970551803,
          1.3501227441783166,
          1.3650831137381514,
          1.3469184920371335,
          1.3441682107567352,
          1.3614343194045224,
          1.345327913138296,
          1.350137241282892,
          1.3473419453360576,
          1.364844191857187,
          1.3446076956720507,
          1.3436012053234196,
          1.3507782582674353,
          1.3508337587853534,
          1.3561462048594244,
          1.3460024420437309,
          1.3521986213490842,
          1.344443290774467,
          1.3480295181731,
          1.3530392226587296,
          1.355666011714308,
          1.351629180675143,
          1.3592847521921212,
          1.3545786731075924,
          1.3573530852890416,
          1.3587065308718134,
          1.35395665315986,
          1.3570852858259215,
          1.3487076641120468,
          1.3568141709085402,
          1.347161978578856,
          1.3458719785511368,
          1.298808293680487,
          1.4349017374168989,
          1.3207700328410261,
          1.4393517930056627,
          1.4287044514208955,
          1.4425443267234446,
          1.4412048068517598,
          1.4457460247850313,
          1.4439746500165003,
          1.4446673032445208,
          1.4429357583642513,
          1.4298007532188757,
          1.4315825936751374,
          1.4450222780478066,
          1.4422667144042824,
          1.4427240737592832,
          1.4446407499951675,
          1.4435372787951029,
          1.4470522162929984,
          1.440642443577247,
          1.4366819678680178,
          1.4390425021739435,
          1.4396538699810133,
          1.4351586520067259,
          1.436268069028048,
          1.4375945522901385,
          1.4350380305719785,
          1.434675002710207,
          1.432211251704956,
          1.4313183774184233,
          1.4310240348406782,
          1.430318472653442,
          1.431684328302078,
          1.4310251932285876,
          1.4301173304284711,
          1.43009453325602,
          1.4406484395019046,
          1.430290199551382,
          1.4413783621115421,
          1.4418753225467174,
          1.4399002817927802,
          1.442458148750923,
          1.4415585331685614,
          1.441596280822765,
          1.4400107886452522,
          1.4295038333628696,
          1.4279898550324333,
          1.427981404325167,
          1.4266570986026135,
          1.451676275372149,
          1.4431678994120087,
          1.442907681358222,
          1.4407540972608288,
          1.44163940382,
          1.4429256184927517,
          1.4321375604817523,
          1.4332851933446518,
          1.4422899750242872,
          1.4341673493432678,
          1.4341445831089241,
          1.4345708373489494,
          1.4413983720664565,
          1.4339380251133964,
          1.4329295481086504,
          1.4325852689082725,
          1.431970592407991,
          1.444494152740706,
          1.4311391533760722,
          1.439418878830242,
          1.4297478943267081,
          1.4323004696114001,
          1.4398048028708437,
          1.432540568742617,
          1.4381599526095137,
          1.4367821347968852,
          1.430903810123998,
          1.4305890857053525,
          1.4313637939913746,
          1.4310428462888094,
          1.4360501619073867,
          1.4291763831618314,
          1.4282160492988094,
          1.4363199769299182,
          1.4421024735721912,
          1.4351079301481962,
          1.433216701818879,
          1.432853027627675,
          1.432852763949027,
          1.4379842973747647,
          1.441136622845911,
          1.4410960393771695,
          1.4415022181337371,
          1.4397622607819605,
          1.4414225381608077,
          1.4447277856226999,
          1.440645361369899,
          1.4380924031427191,
          1.4380422657769674,
          1.4431361242898713,
          1.4445112227925534,
          1.4431865217487996,
          1.4409284934822946,
          1.4426259357840838,
          1.4433108832613721,
          1.4432155979701582,
          1.443304601667167,
          1.4449181264567525,
          1.446060606235269,
          1.4465930294608356,
          1.4482351850031774,
          1.4482051778503846,
          1.4478188418343658,
          1.447066700150355,
          1.4477311107371884,
          1.446460665222016,
          1.4401825671937183,
          1.448166564477661,
          1.4459803344577107,
          1.4445143800769504,
          1.4361090180988818,
          1.4348354207334109,
          1.434097578035523,
          1.437361837023011,
          1.4385397149030212,
          1.4372209438665462,
          1.4375737147522836,
          1.43801245617434,
          1.4358427798925448,
          1.4341060425225822,
          1.4351059455726942,
          1.4362606314134871,
          1.4377828988764243,
          1.4402515573518122,
          1.4441729554156417,
          1.4388910505284656,
          1.4394849525974833,
          1.4395974217094105,
          1.440762320298648,
          1.2865006247607842,
          1.4308445425583944,
          1.4238427576500399,
          1.4257754612180193,
          1.4367967427386854,
          1.4312148956597843,
          1.4326736396023163,
          1.4345387435451726,
          1.4346481536830256,
          1.43306208670149,
          1.4337532999482534,
          1.435063443902252,
          1.4357473677559216,
          1.4377603834864414,
          1.432166554284218,
          1.4362620559300798,
          1.4369020040104232,
          1.437063443029208,
          1.435359862099705,
          1.4416754714402995,
          1.421593416233771,
          1.4190888938075572,
          1.416694061920282,
          1.4177128949701714,
          1.4128628780398012,
          1.4142097093252877,
          1.4153793403801032,
          1.415445284587028,
          1.4172032241911128,
          1.434711422193891,
          1.4335446820813351,
          1.4164581734515593,
          1.416557602351461,
          1.4166643684962663,
          1.4174854795035818,
          1.4222297063338252,
          1.4208182004203656,
          1.4192692693735585,
          1.4196944591717864,
          1.4213038390576633,
          1.422111688922624,
          1.422589620352709,
          1.4200499817181682,
          1.4347516057895653,
          1.4324472329803555,
          1.4148476967331531,
          1.4301354067003174,
          1.4307503087333397,
          1.4288994741105259,
          1.4271284468798144,
          1.427502625106847,
          1.4260852523341399,
          1.4291071291117192,
          1.4293878629355858,
          1.4283671256018378,
          1.4260720481399056,
          1.4239686967948015,
          1.4243934487682803,
          1.431114531730307,
          1.4215030521476781,
          1.4227431505685837,
          1.4203104377393363,
          1.422924000109214,
          1.427311893500852,
          1.4254497490743518,
          1.4239920631489649,
          1.4325392485155228,
          1.4222737473701799,
          1.4325230423520172,
          1.4211373154277074,
          1.4200879465053684,
          1.4302489130537674,
          1.4316462128157206,
          1.4324881324444547,
          1.432668821136755,
          1.4337649976422135,
          1.436462796702934,
          1.4177611354207773,
          1.4183964969784908,
          1.4157664916664652,
          1.4160151256928248,
          1.4273018179324568,
          1.41485982057774,
          1.4165797598364078,
          1.4147863643355638,
          1.419135209639161,
          1.4196277366097159,
          1.4201764014560132,
          1.4216639025638373,
          1.4274234457532706,
          1.428447699888903,
          1.4247440400013038,
          1.4294449190692675,
          1.4293855700689322,
          1.4278309135192606
         ],
         "legendgroup": "",
         "lon": [
          103.85411804993062,
          103.88506094761496,
          103.84461988914568,
          103.83498485034055,
          103.84663563161574,
          103.85029569742481,
          103.8448538415614,
          103.86384511310682,
          103.8483680866534,
          103.84030110265202,
          103.83571828515677,
          103.84461939021914,
          103.83453102382205,
          103.84608858611757,
          103.84765302635225,
          103.8343768155432,
          103.85730354666741,
          103.85339638441604,
          103.84669851649676,
          103.85309824605719,
          103.85132794564834,
          103.84186149048261,
          103.84194781252401,
          103.85094037122862,
          103.78263177920336,
          103.7836667743232,
          103.78115465517361,
          103.78167448932463,
          103.78446333008414,
          103.7855911365702,
          103.78519200383877,
          103.78343964059528,
          103.80321526415888,
          103.80583744238771,
          103.84171281191207,
          103.8445240151766,
          103.842602544842,
          103.8381810968511,
          103.83867531323658,
          103.83680961188561,
          103.84041745596973,
          103.84304639719952,
          103.84845709182149,
          103.8463132241709,
          103.8489133401168,
          103.84939765277373,
          103.85162748927652,
          103.83544756414679,
          103.8383206515405,
          103.83746428814854,
          103.84871559664501,
          103.84241897219825,
          103.84275860557467,
          103.84369994453257,
          103.84365816613547,
          103.83469194577,
          103.85166737410135,
          103.85408147411323,
          103.85527878732958,
          103.85555655070138,
          103.85458838271062,
          103.85407215463408,
          103.84119216501767,
          103.8569820859847,
          103.85693260004962,
          103.85736389239304,
          103.85926727197639,
          103.8589905085286,
          103.85523049600965,
          103.85924660891077,
          103.85465226092984,
          103.85779708766381,
          103.85760956795286,
          103.83437534502293,
          103.84692254711774,
          103.84613433583942,
          103.84687730858236,
          103.8459153545853,
          103.84666686250256,
          103.84714621818317,
          103.84696416467047,
          103.84772411430865,
          103.85813978410101,
          103.85591341875042,
          103.8521600154717,
          103.84939908200639,
          103.85346179745191,
          103.85941720762452,
          103.83566062297803,
          103.8378048893886,
          103.83985421482706,
          103.84194543574868,
          103.84130175438848,
          103.84010720676336,
          103.84074189671752,
          103.84353033817357,
          103.84082469669583,
          103.84380466372642,
          103.83868455774677,
          103.8388348049752,
          103.83997857029854,
          103.83838679093324,
          103.84330771146671,
          103.83647879468057,
          103.83639865272241,
          103.8606965409108,
          103.84970936855954,
          103.85652048735007,
          103.8578842373726,
          103.84726652678953,
          103.83936784590809,
          103.84439219780549,
          103.84124722457109,
          103.83831596140111,
          103.84780380928048,
          103.83185420964756,
          103.8372138919684,
          103.8707983942747,
          103.87325519193966,
          103.87132184474288,
          103.87294849581703,
          103.8726349098329,
          103.85366320640033,
          103.74538227425023,
          103.74988224837854,
          103.75991777083932,
          103.76017896379149,
          103.75793361152391,
          103.75505234517985,
          103.74369552195999,
          103.74851052070362,
          103.75177182867142,
          103.8532954079852,
          103.85304135503775,
          103.85096301847568,
          103.85152763920874,
          103.85543169019624,
          103.85483824803825,
          103.83506094142581,
          103.84767846445094,
          103.83108616866849,
          103.84820175969944,
          103.84866481348304,
          103.84904051876208,
          103.84965495311533,
          103.8497629135689,
          103.84748284110552,
          103.84830892492698,
          103.84845669941872,
          103.84863114624696,
          103.84805039220309,
          103.84590085114523,
          103.83440656538825,
          103.83547581122498,
          103.84644532993362,
          103.84609524349491,
          103.84667247515071,
          103.84482006190818,
          103.8436216081292,
          103.84308446006825,
          103.84453538273506,
          103.84442083770382,
          103.84456648767798,
          103.84197133762791,
          103.84837778261435,
          103.84264015136279,
          103.84454814694604,
          103.8316301438792,
          103.843673799586,
          103.85096106346887,
          103.85188334257242,
          103.85302289077154,
          103.85531480784495,
          103.85618277394822,
          103.84245992582508,
          103.84276130300171,
          103.76597168318806,
          103.76388026052355,
          103.77351523338442,
          103.769323020166,
          103.77065516676869,
          103.77187994356325,
          103.77448858908413,
          103.7747788017754,
          103.77352906342188,
          103.77378188713287,
          103.77362031087529,
          103.76894572813356,
          103.76811152657707,
          103.76838389812862,
          103.76666134027609,
          103.7697816793337,
          103.77067200118962,
          103.77350310387159,
          103.77295108931864,
          103.77046826752341,
          103.77172518427912,
          103.77269937922739,
          103.77095043939005,
          103.76554600407248,
          103.76768309160978,
          103.76937734296405,
          103.76897932907691,
          103.76747797804018,
          103.7669356490397,
          103.77201112714418,
          103.76651781167334,
          103.76591367064563,
          103.76533871621282,
          103.7646848754348,
          103.76342664649424,
          103.76286006929934,
          103.77225793527451,
          103.76290164919297,
          103.76545448390729,
          103.76428644466128,
          103.7616776126488,
          103.76498679347878,
          103.76500878091201,
          103.76460302573554,
          103.76148675340289,
          103.7730772236165,
          103.77368892264833,
          103.76346427312731,
          103.76263790594507,
          103.77193206988431,
          103.77350010545896,
          103.76077695178864,
          103.75894983505414,
          103.76017044837701,
          103.77127261757693,
          103.77126415842302,
          103.77440629700938,
          103.76949985573658,
          103.76783128358818,
          103.77139632201656,
          103.77029114340532,
          103.75876137706041,
          103.75770261335524,
          103.75798290360115,
          103.76997021493003,
          103.76307279280742,
          103.76377023174244,
          103.76191703245868,
          103.76087204278889,
          103.77359583708764,
          103.85159633923459,
          103.85547996378321,
          103.85580084662912,
          103.85684097167238,
          103.85532195310904,
          103.85146379729117,
          103.86136809519917,
          103.86095873270096,
          103.7114251379433,
          103.71503519763277,
          103.70756220303522,
          103.70774069535429,
          103.71442382780674,
          103.71334566358098,
          103.70817527684127,
          103.70937375465293,
          103.71374987824363,
          103.7115798120472,
          103.70923455522795,
          103.71339091636743,
          103.71206380535853,
          103.71071997502995,
          103.82312918959744,
          103.80957147714517,
          103.81406981706961,
          103.81327487237816,
          103.8121918066441,
          103.80884793932923,
          103.81870264853309,
          103.80995307226117,
          103.81876020804593,
          103.80742676873176,
          103.8147829578236,
          103.81582316670986,
          103.81709921259939,
          103.81152776946885,
          103.81673344232469,
          103.81657502600684,
          103.8186510524157,
          103.81785799712053,
          103.80895514473973,
          103.80761950142183,
          103.81376449901636,
          103.81435801840551,
          103.82487004638574,
          103.82700432828145,
          103.85070749100281,
          103.85058597863122,
          103.86617287009001,
          103.85672896311362,
          103.85768389140547,
          103.85465630079302,
          103.85607403368186,
          103.85948585590134,
          103.86119338936605,
          103.85540203296401,
          103.85450430527487,
          103.85896437723326,
          103.85771827055758,
          103.85998347830004,
          103.8557497426465,
          103.85664071614075,
          103.85759288738568,
          103.85542137806341,
          103.85819063929866,
          103.85353576307051,
          103.85455834180877,
          103.8507430871221,
          103.8332897478355,
          103.82964101237133,
          103.82869825504923,
          103.8233756624964,
          103.80670138529173,
          103.93370774408997,
          103.93252399987297,
          103.93039617992274,
          103.92787851961256,
          103.929763771966,
          103.93144509494518,
          103.94055949192419,
          103.94185716126566,
          103.94096096793415,
          103.94342037708827,
          103.94104648719063,
          103.94064337056808,
          103.93829462226209,
          103.93961602850973,
          103.94049034285005,
          103.94034058725475,
          103.93803813520908,
          103.93557107829271,
          103.93875343367434,
          103.93885019978502,
          103.93675747950408,
          103.93580016456131,
          103.9356734308385,
          103.93517620266307,
          103.93277014516458,
          103.93149286604523,
          103.9308211568239,
          103.92760339777311,
          103.9275087746718,
          103.92985412808513,
          103.92291100535586,
          103.92542899880024,
          103.92418195189384,
          103.92224783902347,
          103.92342122843779,
          103.92575881889952,
          103.92666820717146,
          103.91306656126841,
          103.91273516961238,
          103.91195250661836,
          103.91639624241292,
          103.91789418745978,
          103.91517723527454,
          103.91520373671189,
          103.91901927098642,
          103.9259610240537,
          103.93033953937258,
          103.93088674617219,
          103.93256356632538,
          103.92905669849968,
          103.9226164633439,
          103.94565928752263,
          103.9476194524166,
          103.94633242793388,
          103.90433956320577,
          103.90639475945369,
          103.93692202997899,
          103.94197073619338,
          103.93192173162542,
          103.93403695950887,
          103.93484000406835,
          103.9279955190616,
          103.92430036898209,
          103.90738977380683,
          103.90696724615144,
          103.90905526271848,
          103.91760166991922,
          103.9344189574035,
          103.93633367546306,
          103.93838375965673,
          103.93740660996866,
          103.92827623307635,
          103.92794673996775,
          103.92336060080356,
          103.93494255225318,
          103.93041487733402,
          103.92227129473181,
          103.9342047573154,
          103.94135784200338,
          103.93556933270649,
          103.93619734820132,
          103.93829861018796,
          103.93726546144408,
          103.933815179244,
          103.93963512682487,
          103.91425233336754,
          103.93393509513557,
          103.93417561555682,
          103.92935743869732,
          103.92917918947799,
          103.9350827294625,
          103.93295160832349,
          103.92350807855561,
          103.92191686098977,
          103.9227613439323,
          103.79820565809362,
          103.74574719528933,
          103.7997973262445,
          103.92291142962756,
          103.92557681585416,
          103.92163403144191,
          103.92492554687288,
          103.9213875307924,
          103.92340067458152,
          103.92356461224107,
          103.9256873497185,
          103.91944117263655,
          103.92599509455664,
          103.79679138790354,
          103.74412537483317,
          103.74082478082033,
          103.74674494946991,
          103.73664153064142,
          103.73792965982472,
          103.73569574377154,
          103.73574760435865,
          103.73707093730017,
          103.73836209061987,
          103.74329658894578,
          103.7385843858947,
          103.74333625964935,
          103.75396651904369,
          103.74543486598327,
          103.74186894657885,
          103.74181570834445,
          103.74204059676535,
          103.74254462225541,
          103.74091199127932,
          103.73922107254175,
          103.74069102239277,
          103.75062314406662,
          103.7513306473733,
          103.7513716518421,
          103.74013365429586,
          103.74594296799194,
          103.74150685405392,
          103.74330985413629,
          103.74374379564632,
          103.74295584042666,
          103.74417169247353,
          103.74411077646042,
          103.75006247869928,
          103.7499803416757,
          103.74538107497938,
          103.74493840789494,
          103.74396269033326,
          103.74295135477573,
          103.7410970484225,
          103.74239727614687,
          103.74108732653967,
          103.74222984775591,
          103.74479108110897,
          103.74427780249404,
          103.75166243741124,
          103.75220046039195,
          103.74614735348534,
          103.74645700945563,
          103.7467303588615,
          103.749136737306,
          103.74996683599021,
          103.74953210680287,
          103.74769942278238,
          103.74516772920865,
          103.74352305674637,
          103.75272002464233,
          103.74374642444485,
          103.74759048649052,
          103.7502363572965,
          103.75018630981052,
          103.74911670029475,
          103.74850899592592,
          103.7466707134054,
          103.74832374074006,
          103.74487907782553,
          103.74203813468661,
          103.75310558123016,
          103.75313692680963,
          103.74587382647105,
          103.7489175658634,
          103.7498899432278,
          103.7508843161639,
          103.75130299874982,
          103.74403589785445,
          103.74553623187523,
          103.75196049935109,
          103.73814649010505,
          103.73868084627473,
          103.74093049457282,
          103.74341279299807,
          103.74323849875032,
          103.74453422557612,
          103.74620673798076,
          103.7467136802488,
          103.74939942553608,
          103.74710566112644,
          103.74897859928672,
          103.74491781005548,
          103.74750330141954,
          103.81440063004587,
          103.76398569521969,
          103.76513283286619,
          103.83921657283983,
          103.8633077225274,
          103.86495851328462,
          103.86535870755877,
          103.86565822017168,
          103.85679325981934,
          103.86432479530623,
          103.85494102404714,
          103.854698193613,
          103.86343720866708,
          103.86223821600996,
          103.86335272056286,
          103.86233932875267,
          103.84116520631481,
          103.76407292318407,
          103.86102759796269,
          103.9881780032726,
          103.98798894765062,
          103.9864868577459,
          103.98845411052046,
          103.85366487138282,
          103.76896294521585,
          103.76614163667355,
          103.76610607293507,
          103.76617984015766,
          103.76518546060046,
          103.76404642824534,
          103.76248157167105,
          103.76389656958308,
          103.76337442086897,
          103.76418697824268,
          103.76385460751823,
          103.76526174661916,
          103.76565077719496,
          103.76704166044892,
          103.7665267320007,
          103.77033993399895,
          103.77128667696373,
          103.76898892209617,
          103.76992906520272,
          103.77051277091007,
          103.76333478601896,
          103.7620714506784,
          103.75923178966606,
          103.75918489896867,
          103.77013103455867,
          103.76909230827643,
          103.76142107025231,
          103.76059908247035,
          103.75908121333633,
          103.76685761800195,
          103.76093627015332,
          103.76143922562301,
          103.76355742121356,
          103.76397169772963,
          103.76252679035963,
          103.76223990537257,
          103.7705025129515,
          103.76852929483222,
          103.76957394864701,
          103.7676911655017,
          103.77075500850212,
          103.76863110345546,
          103.77031234940885,
          103.8115434919542,
          103.80785308038945,
          103.80986791310714,
          103.81236594973764,
          103.80947738316917,
          103.81299281989986,
          103.80514816792643,
          103.80353761899173,
          103.80533099300017,
          103.841054070432,
          103.80694325929501,
          103.81193415972352,
          103.81198973307625,
          103.80961685626245,
          103.81014450777538,
          103.90162713697093,
          103.90444212518125,
          103.90447581531423,
          103.90269244435349,
          103.90266515157026,
          103.90162574678277,
          103.90183408598953,
          103.90320810512698,
          103.89684700195494,
          103.89837967178774,
          103.83991265403928,
          103.83890822772874,
          103.86136466220718,
          103.80771256448294,
          103.80718387313334,
          103.80621058640855,
          103.80753449141022,
          103.86863367566609,
          103.88760266728181,
          103.8878497929119,
          103.88343778425913,
          103.88699247956012,
          103.88629912428081,
          103.88916338167992,
          103.88442796153227,
          103.88423564310425,
          103.88630883704475,
          103.88483940328312,
          103.88736326896576,
          103.88756528216962,
          103.7858206208327,
          103.78692568583918,
          103.78825693218865,
          103.78436887624173,
          103.78816007877914,
          103.78726431710477,
          103.7888530789707,
          103.78851083553377,
          103.7887228637617,
          103.78765231793,
          103.89834009661325,
          103.89848850385351,
          103.8215599400175,
          103.84831918865608,
          103.82235539347374,
          103.81865062406209,
          103.82225247982483,
          103.82038883426772,
          103.82098507674438,
          103.82284807112997,
          103.82098533323034,
          103.82171169354837,
          103.8227828558411,
          103.82119375671991,
          103.89417972319171,
          103.90178514726769,
          103.90068924136003,
          103.90367432817436,
          103.89411326609486,
          103.89471557255494,
          103.8871054450445,
          103.89048363915774,
          103.89498042855223,
          103.89816102897977,
          103.89856384492994,
          103.89642766021035,
          103.8867121677647,
          103.88809151066687,
          103.88795773278929,
          103.88895037055629,
          103.88380228416153,
          103.89202551228584,
          103.90072077615454,
          103.88245583850758,
          103.8972275612912,
          103.88718176076142,
          103.8864274785372,
          103.88043241313824,
          103.89154633409036,
          103.89169169862795,
          103.89885301179292,
          103.89908052009024,
          103.88078745980043,
          103.88162446141324,
          103.88200551694186,
          103.87967359393343,
          103.88365807896534,
          103.88160329098604,
          103.89696590280194,
          103.89631784244226,
          103.88606016836792,
          103.88437512420153,
          103.88150314764592,
          103.88896369112064,
          103.88760385900282,
          103.88737066764303,
          103.88969858893643,
          103.88596778014345,
          103.8909833815686,
          103.89208429293113,
          103.87935014972331,
          103.8834179399384,
          103.88430415056742,
          103.88632970593174,
          103.88612996620292,
          103.88696296949873,
          103.89396218073183,
          103.89409369476046,
          103.89475931637891,
          103.8923108470265,
          103.89133366740658,
          103.89011314127175,
          103.88975560147739,
          103.89070311870574,
          103.88435474309739,
          103.89321220378636,
          103.89012226012038,
          103.89694633924013,
          103.89672135798818,
          103.89331974944314,
          103.89119380269554,
          103.88915444541854,
          103.88855958799265,
          103.89736447686485,
          103.88629764128477,
          103.89282820193246,
          103.8954400991066,
          103.89581761240278,
          103.89183951666378,
          103.8929697698491,
          103.88780296833419,
          103.88850841192986,
          103.88637393238047,
          103.88591137264272,
          103.88355145011163,
          103.88807050800872,
          103.88899792755882,
          103.87947328009933,
          103.88424412307053,
          103.88326593439776,
          103.8804913425767,
          103.87906751297733,
          103.89931294379424,
          103.90256661623886,
          103.90206222069138,
          103.89836579892797,
          103.899471965577,
          103.88052803909149,
          103.87786319567891,
          103.88858974438185,
          103.89402902276215,
          103.88451989671084,
          103.88523865940664,
          103.87784351376915,
          103.88022012092722,
          103.89007015976625,
          103.88011750262226,
          103.8806477877379,
          103.89010018427099,
          103.88976906939072,
          103.89475741107408,
          103.87769855426492,
          103.8890479251153,
          103.84549081920264,
          103.82135593247561,
          103.89754544969936,
          103.89702870875625,
          103.89638765571065,
          103.8960013870619,
          103.89509932335723,
          103.82771837120599,
          103.82784153679276,
          103.82740904968784,
          103.8324652115687,
          103.8309242113323,
          103.82785710514705,
          103.82697881537598,
          103.83251535744449,
          103.8822399963124,
          103.8801281920768,
          103.82937140536788,
          103.88217829311414,
          103.82898358689219,
          103.8279232232103,
          103.83092213801466,
          103.87859616391971,
          103.88071730074259,
          103.82718857876978,
          103.82527962420488,
          103.88278658416117,
          103.88299671364969,
          103.88428841321044,
          103.88316883050352,
          103.89885600323022,
          103.8986345782356,
          103.83897315415284,
          103.83964039101363,
          103.82701754725274,
          103.82679560007519,
          103.82559852808079,
          103.83880528241845,
          103.72065037678222,
          103.69728745900873,
          103.70414895637825,
          103.69843639350842,
          103.69974492611483,
          103.69876959218948,
          103.70008243365479,
          103.70212302793455,
          103.70408612809882,
          103.69952925533683,
          103.7028211437115,
          103.70496360394887,
          103.7009564655495,
          103.69717792676786,
          103.70259174815767,
          103.7037874056437,
          103.69805983031705,
          103.70062818236626,
          103.70313374298327,
          103.7045844632928,
          103.69568781607848,
          103.69450453965213,
          103.70606683648678,
          103.70388481388832,
          103.69758237259063,
          103.70808085404174,
          103.70391272028826,
          103.70314264442617,
          103.70176502840717,
          103.70300645678526,
          103.70150259793418,
          103.6968178714569,
          103.8618541749918,
          103.81032768986412,
          103.72521288102048,
          103.70492744066351,
          103.70592229404798,
          103.69860985167341,
          103.72161840392582,
          103.69692152964407,
          103.73809826514368,
          103.74009365443025,
          103.73993765550001,
          103.7382609053107,
          103.73692014627471,
          103.73907981531525,
          103.74141793961732,
          103.73564333470638,
          103.73547342856502,
          103.73484507216465,
          103.73395663150102,
          103.73677131352407,
          103.73247644634016,
          103.7298694479495,
          103.73102302081588,
          103.7301985030288,
          103.73201589833621,
          103.73213323917861,
          103.73106093441005,
          103.73164563193434,
          103.73059682433102,
          103.71666938291004,
          103.71649813216064,
          103.71691832636995,
          103.73548477933971,
          103.71550196112858,
          103.72047490460932,
          103.71787986661154,
          103.7200857457935,
          103.71951759408637,
          103.71545644450629,
          103.71580179588146,
          103.71858546676606,
          103.72134748501911,
          103.74190260101643,
          103.72287839227994,
          103.72203231052173,
          103.72357456415996,
          103.72526852277466,
          103.72463649779957,
          103.72678544658392,
          103.71905836585903,
          103.71802082662953,
          103.71847993384787,
          103.7189494838404,
          103.71967598067593,
          103.74241817422394,
          103.72252094049038,
          103.72462951363343,
          103.72459415698225,
          103.7267263759889,
          103.72450994802102,
          103.72429089393296,
          103.73931109135069,
          103.73911988019643,
          103.7398580011142,
          103.73965601749369,
          103.73885142891002,
          103.71787227953133,
          103.71790104604095,
          103.68842490797103,
          103.68540763961359,
          103.68655537092322,
          103.68644278769764,
          103.73185235993397,
          103.6892958327224,
          103.69112890870011,
          103.69276226807062,
          103.69192247618517,
          103.69364065669544,
          103.69334591602542,
          103.73803314961131,
          103.69350873447114,
          103.69417441757965,
          103.69773379422574,
          103.69822208525447,
          103.69611229344028,
          103.69685387663026,
          103.69311740148552,
          103.6945291758142,
          103.69856061913052,
          103.69512328117312,
          103.6949388062981,
          103.74157403903612,
          103.74242652213022,
          103.70096949302297,
          103.7001773248677,
          103.6924501001389,
          103.69506444233095,
          103.69647855749271,
          103.69623487505113,
          103.69909010573144,
          103.70720618934254,
          103.70590079148468,
          103.74200092091955,
          103.74746010063687,
          103.74410505198509,
          103.74685639183114,
          103.74514016877296,
          103.7431661191949,
          103.74708688360819,
          103.7449583160269,
          103.74594637866014,
          103.69685697580175,
          103.69604297580892,
          103.84238785277829,
          103.84329939417108,
          103.84325763782782,
          103.84277292721771,
          103.86912462402007,
          103.86890029223365,
          103.86359255881777,
          103.86372199579309,
          103.86158664703414,
          103.87006187688013,
          103.86291017151454,
          103.86573351416854,
          103.86644259415267,
          103.86965512421517,
          103.87068301702206,
          103.87403049568967,
          103.87047836388102,
          103.85251426170889,
          103.90890609088383,
          103.91055534077967,
          103.91195957483161,
          103.91141006264911,
          103.9132461064393,
          103.85160643935168,
          103.8487958988528,
          103.85204721150214,
          103.85204121653094,
          103.85067994596449,
          103.84993059473938,
          103.8514701851811,
          103.85680081928446,
          103.88394614159586,
          103.88773705617997,
          103.88294645078538,
          103.88536280878121,
          103.88554909176139,
          103.87334197089486,
          103.82865102019989,
          103.8274761660383,
          103.82864802888722,
          103.82729731282093,
          103.82946139003269,
          103.82924344240874,
          103.90308381076238,
          103.90434517614048,
          103.90245155876109,
          103.90005135904397,
          103.89336010931338,
          103.9010898046754,
          103.88441645100181,
          103.88930362341996,
          103.8823513067258,
          103.88354363243664,
          103.88860100484649,
          103.8883770803251,
          103.88385694864925,
          103.88450282359632,
          103.88601691043623,
          103.88625495695833,
          103.81522033138317,
          103.91150571719837,
          103.91087369459731,
          103.91049260744167,
          103.87535455642082,
          103.80345452106414,
          103.80353016873005,
          103.88706362505644,
          103.88609424966444,
          103.88801858425,
          103.88548655203132,
          103.88857500311526,
          103.8900961724619,
          103.85983538215314,
          103.85943053232852,
          103.8592002299238,
          103.8563684203736,
          103.91752217325165,
          103.90991363196858,
          103.90756132229325,
          103.90885093288675,
          103.90695068730781,
          103.90597861451549,
          103.90654207816098,
          103.91489545704614,
          103.90640021486173,
          103.91665765027,
          103.91287956925594,
          103.90618484205176,
          103.9153408153672,
          103.91419719336592,
          103.91616519665847,
          103.91247836691649,
          103.91256924764082,
          103.91638142426865,
          103.90828624158966,
          103.90840334501843,
          103.91468879090584,
          103.85909249026949,
          103.8599731043318,
          103.86079175042093,
          103.860536501889,
          103.8603921769383,
          103.88643638826342,
          103.8866722993353,
          103.8872655617889,
          103.88817771100875,
          103.88515749278551,
          103.88205537855607,
          103.8857074211039,
          103.8827929694789,
          103.88217267100742,
          103.8856404174847,
          103.8859150359735,
          103.88545599646321,
          103.8856050735695,
          103.88747666495222,
          103.88765970175433,
          103.86301043995836,
          103.9350586269767,
          103.93627591213452,
          103.93632632224252,
          103.93624144919517,
          103.93621372719701,
          103.9399014697318,
          103.73874607750489,
          103.74337020617482,
          103.72041507700816,
          103.69791006448088,
          103.91295050922268,
          103.91308759266302,
          103.77137123961244,
          103.76607212381168,
          103.81098242424252,
          103.96455015442594,
          103.94173943625067,
          103.9362361216365,
          103.90183385802798,
          103.93451077983535,
          103.7941461022233,
          103.79806059149975,
          103.79515144765338,
          103.79104630681391,
          103.95886128429326,
          103.91030619395787,
          103.90865055016039,
          103.90940612733498,
          103.91038940445063,
          103.90504945007166,
          103.91258495275902,
          103.90936832589114,
          103.9163888739782,
          103.91431651502297,
          103.91010391091966,
          103.91519589302487,
          103.91546575186779,
          103.91591124799312,
          103.90368863010534,
          103.90833604330263,
          103.9117777047101,
          103.91530323143323,
          103.90307285517675,
          103.90651604233183,
          103.91326596736533,
          103.91409384167889,
          103.90619802298995,
          103.90460666624058,
          103.9098906657592,
          103.90798247324102,
          103.90729350674636,
          103.9062230563649,
          103.90965714004695,
          103.90863393763117,
          103.89795280345739,
          103.89915033137765,
          103.9019426804346,
          103.91169725663087,
          103.9030958327368,
          103.90132875322395,
          103.91450023771391,
          103.911629841452,
          103.9009163284307,
          103.90038376648238,
          103.90038229474251,
          103.89943821756682,
          103.89867607165797,
          103.90146052684787,
          103.89821092418175,
          103.89534432107756,
          103.89684156866551,
          103.91172986197292,
          103.91468720451964,
          103.91679073265148,
          103.89876067269095,
          103.91325810351427,
          103.90888986674658,
          103.89552843195193,
          103.90957965561789,
          103.91021417456207,
          103.89972278958615,
          103.9083695310193,
          103.89751341807955,
          103.8956389998495,
          103.91761458579163,
          103.89328396343714,
          103.91579874451473,
          103.89427875623936,
          103.89202440609496,
          103.89160298259306,
          103.898751428957,
          103.89932825423607,
          103.91955204475835,
          103.89750491628322,
          103.9021077540441,
          103.90448268138022,
          103.90027160812295,
          103.90211346787348,
          103.95660442487505,
          103.96247396456312,
          103.96345701840346,
          103.96502890331372,
          103.95959774167446,
          103.96010539790726,
          103.96167711032794,
          103.96272060688577,
          103.95975833337474,
          103.95687982769032,
          103.95702273852433,
          103.96101285046049,
          103.94745603169562,
          103.94941542540158,
          103.95221374215522,
          103.9495037477115,
          103.9513153189908,
          103.94560888980388,
          103.94399274023186,
          103.94659596969208,
          103.94776600610439,
          103.94337373293367,
          103.96093300168182,
          103.94217718688299,
          103.94009872430242,
          103.9398767004852,
          103.9387119702444,
          103.93864139053586,
          103.93707054978742,
          103.93601952013235,
          103.93724254160885,
          103.96144271358429,
          103.93538366563013,
          103.93408744824963,
          103.933136254465,
          103.93329952863957,
          103.93590489391228,
          103.93838698872838,
          103.96260801282267,
          103.96341243438104,
          103.96324992159052,
          103.96025594204671,
          103.96121606162903,
          103.86921395965454,
          103.86605451410936,
          103.86584452814029,
          103.86611923734664,
          103.86322285844973,
          103.86761465081399,
          103.86606008684048,
          103.84227000806189,
          103.95783518955061,
          103.96032633770311,
          103.95799980233409,
          103.95718283417933,
          103.95939030529709,
          103.95268297102702,
          103.94961882876983,
          103.95149269876835,
          103.95544278951135,
          103.95071563026282,
          103.95452048873393,
          103.95511705035062,
          103.95759400506218,
          103.95768508262705,
          103.95957441760447,
          103.95845575439009,
          103.90702372583482,
          103.74835585800413,
          103.74819409636507,
          103.75040784611791,
          103.74917540107634,
          103.74814817657057,
          103.74716480513705,
          103.74738396670357,
          103.90602882381455,
          103.90577445865635,
          103.90742251192135,
          103.90762249223593,
          103.90562289882669,
          103.93593291083164,
          103.90764189630674,
          103.90775041709175,
          103.90946234340264,
          103.91008575182195,
          103.90647015288697,
          103.89194729925192,
          103.8992395945897,
          103.91929776382841,
          103.91091390677042,
          103.91253745829592,
          103.80216803097181,
          103.80175442244324,
          103.80371667974536,
          103.80382460327912,
          103.80325801294246,
          103.80438670203392,
          103.80877657038704,
          103.8039083538027,
          103.80922355228716,
          103.80351335770989,
          103.80277197043489,
          103.80316783226503,
          103.80214729898836,
          103.79906247903378,
          103.79891198839482,
          103.79642676862838,
          103.79860455464157,
          103.79765550841181,
          103.79758469119295,
          103.79875385421042,
          103.80113832326735,
          103.7994973472629,
          103.80054334003177,
          103.79900467147296,
          103.80054927179171,
          103.80089701701297,
          103.80039166552652,
          103.79369887834397,
          103.79201555445752,
          103.79956933961464,
          103.79270170688443,
          103.7931643203566,
          103.79667318529319,
          103.7920456703824,
          103.80387186857219,
          103.79623840948672,
          103.80055965992032,
          103.79504979530866,
          103.80848502285858,
          103.80806396955144,
          103.80056110547294,
          103.8012681797189,
          103.80440525007499,
          103.79738568437071,
          103.79728490662406,
          103.79909451795835,
          103.85535244045651,
          103.85155370374817,
          103.85307063417073,
          103.85456412458848,
          103.81857760519341,
          103.81690732416628,
          103.81727324816993,
          103.815817221734,
          103.81561639580673,
          103.8118774506864,
          103.8110072972264,
          103.82205727914038,
          103.81539294605052,
          103.81666194814848,
          103.81906292608271,
          103.8164254897944,
          103.81743227735917,
          103.8166936266958,
          103.81731036780363,
          103.82368995407141,
          103.81370144290932,
          103.82135766637313,
          103.82050273329794,
          103.82250801852724,
          103.81423563978659,
          103.8202882923335,
          103.81838924290274,
          103.82353138485568,
          103.82478696492069,
          103.81522395296497,
          103.81739647167652,
          103.81563840952437,
          103.82008390804212,
          103.81877261852777,
          103.81353977631429,
          103.81452318921048,
          103.82631386478512,
          103.82743286825053,
          103.81352159666459,
          103.83160177449474,
          103.83398232747933,
          103.832738663608,
          103.83269273289403,
          103.83220530968347,
          103.82127316472263,
          103.82870324072329,
          103.81375259506194,
          103.81624692605916,
          103.82991615123082,
          103.83207350346515,
          103.83075891243477,
          103.83435654794057,
          103.82974768261455,
          103.81819700149273,
          103.8225551339067,
          103.81500660782467,
          103.81722634794113,
          103.81548836056375,
          103.87445140859606,
          103.87845506103224,
          103.87708327324587,
          103.87407845046492,
          103.87944876634792,
          103.8783648643269,
          103.87924761702736,
          103.8802418081955,
          103.87991488367722,
          103.87349593503183,
          103.86933550523526,
          103.87341939616717,
          103.87308906272592,
          103.87033018876267,
          103.8699887080886,
          103.86941007543433,
          103.8677199321161,
          103.86770944034168,
          103.87046405891749,
          103.8736912310187,
          103.87053211749543,
          103.87209879674288,
          103.87201608645313,
          103.8721288272635,
          103.87083893019705,
          103.87149419262815,
          103.872723391519,
          103.87413981650234,
          103.8762489104555,
          103.87362325721136,
          103.87579928529907,
          103.87092233217393,
          103.87445279977993,
          103.87367190695359,
          103.872296737759,
          103.87260782853788,
          103.87430722794667,
          103.87625296021636,
          103.87488896753706,
          103.87571527826626,
          103.87170290325034,
          103.8722961107677,
          103.87327955200146,
          103.86999155861712,
          103.87002295696402,
          103.87021204033375,
          103.87510469851716,
          103.87568240519704,
          103.8753455597715,
          103.86861037078489,
          103.87238246840354,
          103.87163341170078,
          103.87507121088721,
          103.87117293787502,
          103.87188259226832,
          103.87205646888836,
          103.87445986390266,
          103.86022903293444,
          103.86283710341797,
          103.86100632168481,
          103.86221206094686,
          103.8621766860311,
          103.86310359429127,
          103.83829758916372,
          103.83696880365702,
          103.95045379939839,
          103.95391967522447,
          103.95816625977892,
          103.95354638404788,
          103.95228048073757,
          103.95894372041182,
          103.95131785642238,
          103.95712322052721,
          103.95926490626185,
          103.9589284100017,
          103.95711141512345,
          103.95461834695486,
          103.95191562437489,
          103.95202598786354,
          103.95227493068576,
          103.9539639888229,
          103.95562543072799,
          103.95629220295577,
          103.95712210094193,
          103.95543946175435,
          103.90416746999068,
          103.89333202360548,
          103.89823603716232,
          103.89946348353911,
          103.90065803933672,
          103.90074359393176,
          103.90533732069552,
          103.89953418022623,
          103.9009037659496,
          103.89870681748093,
          103.90455098519682,
          103.90242815700039,
          103.90011414541739,
          103.90387099960166,
          103.9031088524078,
          103.9052154115564,
          103.90609468269213,
          103.906757692769,
          103.89795579643935,
          103.89655861618228,
          103.90344012017628,
          103.89590076347645,
          103.89538993670782,
          103.89742587393197,
          103.89584128890542,
          103.90256587963714,
          103.89216437348863,
          103.89239969863954,
          103.90197084903332,
          103.89984356864667,
          103.89154112843612,
          103.89060865561805,
          103.89468941910205,
          103.89806140504734,
          103.90006207293152,
          103.88840339805546,
          103.88777616046228,
          103.88933309952282,
          103.89718165705649,
          103.88638030369792,
          103.89873817955828,
          103.88511138181323,
          103.88518232392181,
          103.89150780180555,
          103.89045576272176,
          103.90274506989354,
          103.89256123233105,
          103.8914760567713,
          103.88999768221228,
          103.88737404090254,
          103.90831268087479,
          103.90776944192206,
          103.87821202833301,
          103.89584219765395,
          103.90093736379617,
          103.87325996745565,
          103.87483706518685,
          103.8767194791357,
          103.89797731984483,
          103.89574224092472,
          103.89700587940068,
          103.90693848256669,
          103.8970957670353,
          103.89424243103555,
          103.87633404339013,
          103.89799118724449,
          103.89474221223811,
          103.89418824518245,
          103.89388818553024,
          103.89424467166315,
          103.87759621476141,
          103.87511098212575,
          103.90010855296318,
          103.87653275385756,
          103.87407028683941,
          103.90003979227828,
          103.90218814877576,
          103.8765260190466,
          103.87327575706874,
          103.90901878430208,
          103.87340511790605,
          103.91004707595529,
          103.87813726284283,
          103.87715995536352,
          103.8731219967987,
          103.8741039347353,
          103.88854798239005,
          103.90592175523312,
          103.89235786844588,
          103.89152200733022,
          103.89290117505956,
          103.87538181892415,
          103.88934469372973,
          103.88985718053202,
          103.8782509358387,
          103.88624115849477,
          103.88008277711153,
          103.8785554864361,
          103.84297700733677,
          103.92363210709732,
          103.92315418376593,
          103.80758222567272,
          103.8086951002244,
          103.83932819509428,
          103.8363407120638,
          103.83906659791536,
          103.83829385667372,
          103.83792313923097,
          103.83903345689444,
          103.8368427438326,
          103.83563161921093,
          103.83617308630484,
          103.83056534868145,
          103.85084575933833,
          103.85107669980185,
          103.80993984128175,
          103.80319271421484,
          103.80370237466185,
          103.8033264959866,
          103.881715032245,
          103.87941966679219,
          103.90760011419309,
          103.89528722452624,
          103.89305178725341,
          103.8944574348316,
          103.8900791730176,
          103.88970473952185,
          103.89694953065957,
          103.8798987349062,
          103.88662111892198,
          103.8712438790037,
          103.86972452623449,
          103.8856565539907,
          103.86970600306404,
          103.87121820760913,
          103.88702095718163,
          103.88428733664804,
          103.82091139683449,
          103.8237047130531,
          103.8167550426611,
          103.89483022537868,
          103.83362049901474,
          103.83282740751302,
          103.87175191509498,
          103.82973204035765,
          103.83025714496692,
          103.83103336006101,
          103.83171671151023,
          103.82934299684881,
          103.87687587467751,
          103.94595187637917,
          103.95315510409588,
          103.82112429824346,
          103.82068963521877,
          103.8175781692421,
          103.8100471507127,
          103.80676130700182,
          103.81066870217572,
          103.80690132190541,
          103.80922332015449,
          103.80897284613786,
          103.80776708675565,
          103.8117515396651,
          103.81111137475256,
          103.81083577381318,
          103.8072808650482,
          103.80719141319831,
          103.81857405338022,
          103.8232073879553,
          103.82353547243741,
          103.80734533801882,
          103.81301980698007,
          103.80981167433967,
          103.80871041296733,
          103.81934329580649,
          103.8075810262176,
          103.81521890869666,
          103.81171659158535,
          103.80911204099385,
          103.80698427155029,
          103.81946766823697,
          103.8224402252545,
          103.82215128778117,
          103.82139918679424,
          103.820754852551,
          103.82223343925538,
          103.82645402589318,
          103.8305745567535,
          103.82885466487458,
          103.8250799734771,
          103.83158438729406,
          103.83258282577599,
          103.83352601524115,
          103.83010916150751,
          103.83078772296413,
          103.83085215573304,
          103.83155028187858,
          103.83264485484851,
          103.83131204800384,
          103.82614156083415,
          103.83019652469024,
          103.82784357064948,
          103.83297237300414,
          103.73934148022114,
          103.73891401431416,
          103.73829445496793,
          103.73932836739313,
          103.73725175304064,
          103.7376345093951,
          103.7376019001642,
          103.73897739773945,
          103.741092696946,
          103.74229100005509,
          103.79789417922284,
          103.72152435155063,
          103.72246220687303,
          103.72106615550815,
          103.72045887880435,
          103.72230234256962,
          103.72223918558402,
          103.72287016767285,
          103.72018296671978,
          103.72324981677069,
          103.72454031143974,
          103.72248400459583,
          103.72452979381964,
          103.72252831122361,
          103.72177968691923,
          103.7233238770191,
          103.72149803520969,
          103.72339760723634,
          103.72234935625218,
          103.96025509665785,
          103.9585245233876,
          103.95721552075251,
          103.95910066578033,
          103.93057172796932,
          103.95222370166888,
          103.95023113290024,
          103.9379870586498,
          103.93803491918668,
          103.95934486358404,
          103.9610214920974,
          103.96047384946188,
          103.96282948823168,
          103.96218106175438,
          103.96144236093939,
          103.95849513834342,
          103.95962522398658,
          103.9598884790276,
          103.95687967842403,
          103.95910880324689,
          103.95056497201216,
          103.93665140890116,
          103.93665544860933,
          103.93523070362784,
          103.93607194832354,
          103.93343290207541,
          103.93413927453078,
          103.93907329779317,
          103.93860723824379,
          103.95216148876725,
          103.94141848248198,
          103.93350745764535,
          103.95223471017073,
          103.95631685027023,
          103.93300299723555,
          103.93844376960809,
          103.94015046680171,
          103.9341414275888,
          103.95302368936657,
          103.9540792437761,
          103.93111964390374,
          103.92875608502416,
          103.9557136213266,
          103.9386890231192,
          103.9299226435963,
          103.93070583108579,
          103.95634938237889,
          103.95762516100383,
          103.95720428465218,
          103.9590930658871,
          103.85659747937642,
          103.8430074041102,
          103.84229740226186,
          103.85113356861105,
          103.84524077047003,
          103.8461606844804,
          103.84491120787658,
          103.84984683207784,
          103.84559712610049,
          103.84407314986845,
          103.85739786556677,
          103.84548050687795,
          103.85857183592455,
          103.85892321210036,
          103.85800372941608,
          103.84857845222837,
          103.84480135435707,
          103.84285368128073,
          103.85567320543173,
          103.84708721261586,
          103.84223393404942,
          103.84934606220978,
          103.84733993345469,
          103.85462343286792,
          103.84592176737154,
          103.85928598754175,
          103.85778898074933,
          103.85359156385023,
          103.85210696045941,
          103.85240772188094,
          103.85083354968089,
          103.8483161533347,
          103.84859327961223,
          103.85074446814262,
          103.8482414982292,
          103.84448757302619,
          103.84404232075937,
          103.8452675574329,
          103.85155022411512,
          103.85421258052381,
          103.84633277507496,
          103.84587103389002,
          103.8474497268717,
          103.84708229584666,
          103.8524333470043,
          103.85378859000105,
          103.85424607419353,
          103.85552897461851,
          103.85671423889974,
          103.85824381543726,
          103.8572443132636,
          103.85668073960237,
          103.85574267886167,
          103.85443102196764,
          103.8545392383077,
          103.85555243223635,
          103.85645585589943,
          103.86043937234068,
          103.86050739683235,
          103.8607028294537,
          103.85225868390958,
          103.84832067140506,
          103.85046105448858,
          103.84903277871588,
          103.8496130554869,
          103.85105537987411,
          103.8563877342518,
          103.85711091585055,
          103.85929371591384,
          103.84876517259396,
          103.84845103464636,
          103.8494145564817,
          103.88365782138288,
          103.88347010008971,
          103.8611096164489,
          103.75753302194023,
          103.75657672438598,
          103.75731672497628,
          103.7539445336796,
          103.75862147578971,
          103.75515917100017,
          103.75447493964853,
          103.75450502128642,
          103.75309846721014,
          103.77438705164927,
          103.77365302105225,
          103.77239112522118,
          103.77197118619739,
          103.94694258680529,
          103.94331698509667,
          103.9457646070353,
          103.9457387352956,
          103.95276157879293,
          103.95231205447486,
          103.95326871485506,
          103.95393938972578,
          103.9533458846943,
          103.94736027787819,
          103.94727897895837,
          103.94710797478446,
          103.94909820583877,
          103.94819132677448,
          103.94939840662852,
          103.95096706281251,
          103.94744219430441,
          103.94941558410127,
          103.94797870694161,
          103.95044650654371,
          103.95232364470965,
          103.9526857910774,
          103.95423767399994,
          103.93686435633245,
          103.9405361777492,
          103.94048978184543,
          103.94981419991491,
          103.93531166289047,
          103.93272407564686,
          103.93433411754452,
          103.93537332934645,
          103.93520583669421,
          103.9365303255465,
          103.93689893386795,
          103.9351143616564,
          103.93284999223344,
          103.93143000035806,
          103.93341841093547,
          103.93100089511255,
          103.93170156744084,
          103.94372421839103,
          103.94525194863836,
          103.93287637468974,
          103.93306936325611,
          103.93112476356961,
          103.9458054036719,
          103.94562724999795,
          103.94561015235311,
          103.94692216628528,
          103.948213461328,
          103.95045443431617,
          103.95164211871018,
          103.95277496065557,
          103.95121107233138,
          103.9544694414271,
          103.94419007328689,
          103.954572976966,
          103.95796754389409,
          103.94364671149785,
          103.87921358148871,
          103.87922883841398,
          103.88062786478974,
          103.87892321391767,
          103.88118205349492,
          103.8791563769783,
          103.89617194548707,
          103.8708758709943,
          103.87139746428304,
          103.8740882168002,
          103.87395939841522,
          103.87262135331005,
          103.87038903663993,
          103.84185541409289,
          103.74698150151225,
          103.7437242364322,
          103.74330320604493,
          103.74947027262137,
          103.75322229615675,
          103.75493417141703,
          103.75543627209288,
          103.75506347479029,
          103.75680557319679,
          103.7587333867077,
          103.75832244183836,
          103.74630929254846,
          103.76049455516602,
          103.74858361747656,
          103.74651456484908,
          103.7455653333894,
          103.74764534848646,
          103.7474288288373,
          103.75000996550098,
          103.75013144078066,
          103.75106506231056,
          103.75056115304244,
          103.74929857711686,
          103.74435163478522,
          103.7526951581767,
          103.75107360482822,
          103.75261404178178,
          103.75130696430497,
          103.75370322750753,
          103.74457708245401,
          103.75098884548026,
          103.74321996303709,
          103.75136830370435,
          103.75204834998063,
          103.74966938642949,
          103.74593691879758,
          103.75789892567143,
          103.74762688341622,
          103.7487706304378,
          103.7508084878924,
          103.74467788179155,
          103.75565170531753,
          103.74648387196004,
          103.74501700592951,
          103.74672677463144,
          103.75525349002393,
          103.73824558370232,
          103.73733078865924,
          103.75535183241456,
          103.74048411069285,
          103.75536950267788,
          103.74410352317251,
          103.74400854476245,
          103.73928122312529,
          103.74206663560328,
          103.74984425559444,
          103.73971823110486,
          103.74000996570274,
          103.73957101868753,
          103.73976866347196,
          103.74346597267866,
          103.7420926617603,
          103.74142263735433,
          103.74189460190108,
          103.74120383317222,
          103.85193775629844,
          103.78661383499852,
          103.85324421211679,
          103.77532018596393,
          103.79224044528144,
          103.80578572471464,
          103.80661662993342,
          103.79733590276847,
          103.80753859127638,
          103.8088593028172,
          103.80847852325738,
          103.78959695405756,
          103.7753038278818,
          103.79733673907886,
          103.77271145021486,
          103.7728565868057,
          103.77220377085833,
          103.77480790698245,
          103.77297467231791,
          103.78187935887446,
          103.7816472217671,
          103.78044295062529,
          103.77929680078367,
          103.77599832470004,
          103.77647275536083,
          103.77720833374295,
          103.77475028200838,
          103.77803049237724,
          103.78112571086996,
          103.78038564415145,
          103.77933113821558,
          103.7761943248137,
          103.77428614577339,
          103.7739106135832,
          103.77385708979327,
          103.77476656516593,
          103.76957878115822,
          103.77406832476404,
          103.78641906620277,
          103.79043221999984,
          103.79122797617181,
          103.77674614865364,
          103.77598351244053,
          103.7920159018694,
          103.7933217086181,
          103.77206088192716,
          103.77226391845845,
          103.77516184012644,
          103.77367553747698,
          103.79779215949502,
          103.7890260469373,
          103.79202821147746,
          103.7781942519941,
          103.77875344943092,
          103.79369475477213,
          103.79160459490237,
          103.78930198286736,
          103.79263531082324,
          103.79077629022994,
          103.7915192513934,
          103.79234535601525,
          103.78948653597355,
          103.7936134010419,
          103.7939036248058,
          103.79293808149389,
          103.79255620965694,
          103.79143331679907,
          103.79152360115765,
          103.78907507943342,
          103.79340911605199,
          103.79493449356093,
          103.79452913617192,
          103.79622188281198,
          103.79146735457682,
          103.78945084654232,
          103.79003156211428,
          103.79844359182066,
          103.79669175117753,
          103.79553446041857,
          103.7922524391746,
          103.79470011164317,
          103.79469552060185,
          103.79461887935128,
          103.77795396332391,
          103.79307229006761,
          103.78394716416366,
          103.78505273108544,
          103.78641256091377,
          103.79710041815831,
          103.79597944897536,
          103.79799759340607,
          103.79906542301565,
          103.80073252063535,
          103.80052216679397,
          103.79980332120414,
          103.80625228578837,
          103.80370034550462,
          103.80501825981985,
          103.77760829441715,
          103.79680914025207,
          103.79898848589738,
          103.79864838266604,
          103.80191604139247,
          103.80376969030848,
          103.79635353028391,
          103.79557899104884,
          103.79510174280979,
          103.79389846144059,
          103.79602620929869,
          103.80110119714958,
          103.80357168153259,
          103.80412113202188,
          103.80499561676923,
          103.79848075891469,
          103.7999034357181,
          103.77634762861848,
          103.80034232483085,
          103.8000408978968,
          103.80160710865371,
          103.79715763971646,
          103.79591598929478,
          103.79910136039943,
          103.80114955716317,
          103.80023093157065,
          103.7987160427398,
          103.79470325887394,
          103.79362056980065,
          103.7985543315889,
          103.80011427959637,
          103.8011645045016,
          103.8020552796305,
          103.80259162468799,
          103.80134510711407,
          103.80178056899146,
          103.7979176666449,
          103.79928658075366,
          103.80350329793218,
          103.80553027040906,
          103.83788672656173,
          103.82803573858456,
          103.8332822753992,
          103.82995451109494,
          103.83247154839604,
          103.83786491910425,
          103.83566122456322,
          103.83553198421866,
          103.83681432353167,
          103.83943828884127,
          103.83914511785235,
          103.84116106834873,
          103.83951188284229,
          103.83815752931177,
          103.82805888962481,
          103.83785583613854,
          103.83715517427227,
          103.834620998969,
          103.83485400918325,
          103.83389101572565,
          103.83207955944745,
          103.83331757837132,
          103.83100850345677,
          103.8326530461173,
          103.83383747728278,
          103.83362348353343,
          103.83371280418602,
          103.8343714689353,
          103.83453541086548,
          103.8288865213409,
          103.8274698163474,
          103.83523094996403,
          103.83575142662993,
          103.83674085042276,
          103.83859933016723,
          103.83610980649,
          103.83617566424094,
          103.83606560585034,
          103.83847393612979,
          103.83798968420079,
          103.8371782534703,
          103.84011109694276,
          103.84052674015588,
          103.83150986637429,
          103.83020908207355,
          103.83671818270025,
          103.83993155850956,
          103.84088483144087,
          103.8410989313101,
          103.8431591347614,
          103.84262983673793,
          103.84576379192423,
          103.84555134125354,
          103.84781777851174,
          103.84752949552275,
          103.84798421288862,
          103.84726485601645,
          103.84750862385843,
          103.83210758322917,
          103.84706547736427,
          103.84556918695263,
          103.84492031076019,
          103.84601639752843,
          103.83703535537585,
          103.83676278174141,
          103.84644704407421,
          103.83238250558833,
          103.84917592983274,
          103.83419412821716,
          103.84811947881191,
          103.84758824136432,
          103.84444690507677,
          103.84502569792487,
          103.84513253066642,
          103.84202257132385,
          103.8422882584646,
          103.84089555872305,
          103.8435853001647,
          103.84459591428705,
          103.84326755705932,
          103.84408075944778,
          103.82745054301348,
          103.84035181050707,
          103.84090800664795,
          103.84124713848661,
          103.84156294080113,
          103.84169023040401,
          103.84308354204451,
          103.84176956974055,
          103.8497817653445,
          103.84994391018606,
          103.8518045847136,
          103.83127807040289,
          103.85071158132058,
          103.83401256586923
         ],
         "marker": {
          "color": "fuchsia"
         },
         "mode": "markers",
         "name": "",
         "showlegend": false,
         "subplot": "mapbox",
         "type": "scattermapbox"
        }
       ],
       "layout": {
        "height": 300,
        "legend": {
         "tracegroupgap": 0
        },
        "mapbox": {
         "center": {
          "lat": 1.3585668732154679,
          "lon": 103.83961854868701
         },
         "domain": {
          "x": [
           0,
           1
          ],
          "y": [
           0,
           1
          ]
         },
         "style": "open-street-map",
         "zoom": 3
        },
        "margin": {
         "b": 0,
         "l": 0,
         "r": 0,
         "t": 0
        },
        "template": {
         "data": {
          "bar": [
           {
            "error_x": {
             "color": "#2a3f5f"
            },
            "error_y": {
             "color": "#2a3f5f"
            },
            "marker": {
             "line": {
              "color": "#E5ECF6",
              "width": 0.5
             },
             "pattern": {
              "fillmode": "overlay",
              "size": 10,
              "solidity": 0.2
             }
            },
            "type": "bar"
           }
          ],
          "barpolar": [
           {
            "marker": {
             "line": {
              "color": "#E5ECF6",
              "width": 0.5
             },
             "pattern": {
              "fillmode": "overlay",
              "size": 10,
              "solidity": 0.2
             }
            },
            "type": "barpolar"
           }
          ],
          "carpet": [
           {
            "aaxis": {
             "endlinecolor": "#2a3f5f",
             "gridcolor": "white",
             "linecolor": "white",
             "minorgridcolor": "white",
             "startlinecolor": "#2a3f5f"
            },
            "baxis": {
             "endlinecolor": "#2a3f5f",
             "gridcolor": "white",
             "linecolor": "white",
             "minorgridcolor": "white",
             "startlinecolor": "#2a3f5f"
            },
            "type": "carpet"
           }
          ],
          "choropleth": [
           {
            "colorbar": {
             "outlinewidth": 0,
             "ticks": ""
            },
            "type": "choropleth"
           }
          ],
          "contour": [
           {
            "colorbar": {
             "outlinewidth": 0,
             "ticks": ""
            },
            "colorscale": [
             [
              0,
              "#0d0887"
             ],
             [
              0.1111111111111111,
              "#46039f"
             ],
             [
              0.2222222222222222,
              "#7201a8"
             ],
             [
              0.3333333333333333,
              "#9c179e"
             ],
             [
              0.4444444444444444,
              "#bd3786"
             ],
             [
              0.5555555555555556,
              "#d8576b"
             ],
             [
              0.6666666666666666,
              "#ed7953"
             ],
             [
              0.7777777777777778,
              "#fb9f3a"
             ],
             [
              0.8888888888888888,
              "#fdca26"
             ],
             [
              1,
              "#f0f921"
             ]
            ],
            "type": "contour"
           }
          ],
          "contourcarpet": [
           {
            "colorbar": {
             "outlinewidth": 0,
             "ticks": ""
            },
            "type": "contourcarpet"
           }
          ],
          "heatmap": [
           {
            "colorbar": {
             "outlinewidth": 0,
             "ticks": ""
            },
            "colorscale": [
             [
              0,
              "#0d0887"
             ],
             [
              0.1111111111111111,
              "#46039f"
             ],
             [
              0.2222222222222222,
              "#7201a8"
             ],
             [
              0.3333333333333333,
              "#9c179e"
             ],
             [
              0.4444444444444444,
              "#bd3786"
             ],
             [
              0.5555555555555556,
              "#d8576b"
             ],
             [
              0.6666666666666666,
              "#ed7953"
             ],
             [
              0.7777777777777778,
              "#fb9f3a"
             ],
             [
              0.8888888888888888,
              "#fdca26"
             ],
             [
              1,
              "#f0f921"
             ]
            ],
            "type": "heatmap"
           }
          ],
          "heatmapgl": [
           {
            "colorbar": {
             "outlinewidth": 0,
             "ticks": ""
            },
            "colorscale": [
             [
              0,
              "#0d0887"
             ],
             [
              0.1111111111111111,
              "#46039f"
             ],
             [
              0.2222222222222222,
              "#7201a8"
             ],
             [
              0.3333333333333333,
              "#9c179e"
             ],
             [
              0.4444444444444444,
              "#bd3786"
             ],
             [
              0.5555555555555556,
              "#d8576b"
             ],
             [
              0.6666666666666666,
              "#ed7953"
             ],
             [
              0.7777777777777778,
              "#fb9f3a"
             ],
             [
              0.8888888888888888,
              "#fdca26"
             ],
             [
              1,
              "#f0f921"
             ]
            ],
            "type": "heatmapgl"
           }
          ],
          "histogram": [
           {
            "marker": {
             "pattern": {
              "fillmode": "overlay",
              "size": 10,
              "solidity": 0.2
             }
            },
            "type": "histogram"
           }
          ],
          "histogram2d": [
           {
            "colorbar": {
             "outlinewidth": 0,
             "ticks": ""
            },
            "colorscale": [
             [
              0,
              "#0d0887"
             ],
             [
              0.1111111111111111,
              "#46039f"
             ],
             [
              0.2222222222222222,
              "#7201a8"
             ],
             [
              0.3333333333333333,
              "#9c179e"
             ],
             [
              0.4444444444444444,
              "#bd3786"
             ],
             [
              0.5555555555555556,
              "#d8576b"
             ],
             [
              0.6666666666666666,
              "#ed7953"
             ],
             [
              0.7777777777777778,
              "#fb9f3a"
             ],
             [
              0.8888888888888888,
              "#fdca26"
             ],
             [
              1,
              "#f0f921"
             ]
            ],
            "type": "histogram2d"
           }
          ],
          "histogram2dcontour": [
           {
            "colorbar": {
             "outlinewidth": 0,
             "ticks": ""
            },
            "colorscale": [
             [
              0,
              "#0d0887"
             ],
             [
              0.1111111111111111,
              "#46039f"
             ],
             [
              0.2222222222222222,
              "#7201a8"
             ],
             [
              0.3333333333333333,
              "#9c179e"
             ],
             [
              0.4444444444444444,
              "#bd3786"
             ],
             [
              0.5555555555555556,
              "#d8576b"
             ],
             [
              0.6666666666666666,
              "#ed7953"
             ],
             [
              0.7777777777777778,
              "#fb9f3a"
             ],
             [
              0.8888888888888888,
              "#fdca26"
             ],
             [
              1,
              "#f0f921"
             ]
            ],
            "type": "histogram2dcontour"
           }
          ],
          "mesh3d": [
           {
            "colorbar": {
             "outlinewidth": 0,
             "ticks": ""
            },
            "type": "mesh3d"
           }
          ],
          "parcoords": [
           {
            "line": {
             "colorbar": {
              "outlinewidth": 0,
              "ticks": ""
             }
            },
            "type": "parcoords"
           }
          ],
          "pie": [
           {
            "automargin": true,
            "type": "pie"
           }
          ],
          "scatter": [
           {
            "fillpattern": {
             "fillmode": "overlay",
             "size": 10,
             "solidity": 0.2
            },
            "type": "scatter"
           }
          ],
          "scatter3d": [
           {
            "line": {
             "colorbar": {
              "outlinewidth": 0,
              "ticks": ""
             }
            },
            "marker": {
             "colorbar": {
              "outlinewidth": 0,
              "ticks": ""
             }
            },
            "type": "scatter3d"
           }
          ],
          "scattercarpet": [
           {
            "marker": {
             "colorbar": {
              "outlinewidth": 0,
              "ticks": ""
             }
            },
            "type": "scattercarpet"
           }
          ],
          "scattergeo": [
           {
            "marker": {
             "colorbar": {
              "outlinewidth": 0,
              "ticks": ""
             }
            },
            "type": "scattergeo"
           }
          ],
          "scattergl": [
           {
            "marker": {
             "colorbar": {
              "outlinewidth": 0,
              "ticks": ""
             }
            },
            "type": "scattergl"
           }
          ],
          "scattermapbox": [
           {
            "marker": {
             "colorbar": {
              "outlinewidth": 0,
              "ticks": ""
             }
            },
            "type": "scattermapbox"
           }
          ],
          "scatterpolar": [
           {
            "marker": {
             "colorbar": {
              "outlinewidth": 0,
              "ticks": ""
             }
            },
            "type": "scatterpolar"
           }
          ],
          "scatterpolargl": [
           {
            "marker": {
             "colorbar": {
              "outlinewidth": 0,
              "ticks": ""
             }
            },
            "type": "scatterpolargl"
           }
          ],
          "scatterternary": [
           {
            "marker": {
             "colorbar": {
              "outlinewidth": 0,
              "ticks": ""
             }
            },
            "type": "scatterternary"
           }
          ],
          "surface": [
           {
            "colorbar": {
             "outlinewidth": 0,
             "ticks": ""
            },
            "colorscale": [
             [
              0,
              "#0d0887"
             ],
             [
              0.1111111111111111,
              "#46039f"
             ],
             [
              0.2222222222222222,
              "#7201a8"
             ],
             [
              0.3333333333333333,
              "#9c179e"
             ],
             [
              0.4444444444444444,
              "#bd3786"
             ],
             [
              0.5555555555555556,
              "#d8576b"
             ],
             [
              0.6666666666666666,
              "#ed7953"
             ],
             [
              0.7777777777777778,
              "#fb9f3a"
             ],
             [
              0.8888888888888888,
              "#fdca26"
             ],
             [
              1,
              "#f0f921"
             ]
            ],
            "type": "surface"
           }
          ],
          "table": [
           {
            "cells": {
             "fill": {
              "color": "#EBF0F8"
             },
             "line": {
              "color": "white"
             }
            },
            "header": {
             "fill": {
              "color": "#C8D4E3"
             },
             "line": {
              "color": "white"
             }
            },
            "type": "table"
           }
          ]
         },
         "layout": {
          "annotationdefaults": {
           "arrowcolor": "#2a3f5f",
           "arrowhead": 0,
           "arrowwidth": 1
          },
          "autotypenumbers": "strict",
          "coloraxis": {
           "colorbar": {
            "outlinewidth": 0,
            "ticks": ""
           }
          },
          "colorscale": {
           "diverging": [
            [
             0,
             "#8e0152"
            ],
            [
             0.1,
             "#c51b7d"
            ],
            [
             0.2,
             "#de77ae"
            ],
            [
             0.3,
             "#f1b6da"
            ],
            [
             0.4,
             "#fde0ef"
            ],
            [
             0.5,
             "#f7f7f7"
            ],
            [
             0.6,
             "#e6f5d0"
            ],
            [
             0.7,
             "#b8e186"
            ],
            [
             0.8,
             "#7fbc41"
            ],
            [
             0.9,
             "#4d9221"
            ],
            [
             1,
             "#276419"
            ]
           ],
           "sequential": [
            [
             0,
             "#0d0887"
            ],
            [
             0.1111111111111111,
             "#46039f"
            ],
            [
             0.2222222222222222,
             "#7201a8"
            ],
            [
             0.3333333333333333,
             "#9c179e"
            ],
            [
             0.4444444444444444,
             "#bd3786"
            ],
            [
             0.5555555555555556,
             "#d8576b"
            ],
            [
             0.6666666666666666,
             "#ed7953"
            ],
            [
             0.7777777777777778,
             "#fb9f3a"
            ],
            [
             0.8888888888888888,
             "#fdca26"
            ],
            [
             1,
             "#f0f921"
            ]
           ],
           "sequentialminus": [
            [
             0,
             "#0d0887"
            ],
            [
             0.1111111111111111,
             "#46039f"
            ],
            [
             0.2222222222222222,
             "#7201a8"
            ],
            [
             0.3333333333333333,
             "#9c179e"
            ],
            [
             0.4444444444444444,
             "#bd3786"
            ],
            [
             0.5555555555555556,
             "#d8576b"
            ],
            [
             0.6666666666666666,
             "#ed7953"
            ],
            [
             0.7777777777777778,
             "#fb9f3a"
            ],
            [
             0.8888888888888888,
             "#fdca26"
            ],
            [
             1,
             "#f0f921"
            ]
           ]
          },
          "colorway": [
           "#636efa",
           "#EF553B",
           "#00cc96",
           "#ab63fa",
           "#FFA15A",
           "#19d3f3",
           "#FF6692",
           "#B6E880",
           "#FF97FF",
           "#FECB52"
          ],
          "font": {
           "color": "#2a3f5f"
          },
          "geo": {
           "bgcolor": "white",
           "lakecolor": "white",
           "landcolor": "#E5ECF6",
           "showlakes": true,
           "showland": true,
           "subunitcolor": "white"
          },
          "hoverlabel": {
           "align": "left"
          },
          "hovermode": "closest",
          "mapbox": {
           "style": "light"
          },
          "paper_bgcolor": "white",
          "plot_bgcolor": "#E5ECF6",
          "polar": {
           "angularaxis": {
            "gridcolor": "white",
            "linecolor": "white",
            "ticks": ""
           },
           "bgcolor": "#E5ECF6",
           "radialaxis": {
            "gridcolor": "white",
            "linecolor": "white",
            "ticks": ""
           }
          },
          "scene": {
           "xaxis": {
            "backgroundcolor": "#E5ECF6",
            "gridcolor": "white",
            "gridwidth": 2,
            "linecolor": "white",
            "showbackground": true,
            "ticks": "",
            "zerolinecolor": "white"
           },
           "yaxis": {
            "backgroundcolor": "#E5ECF6",
            "gridcolor": "white",
            "gridwidth": 2,
            "linecolor": "white",
            "showbackground": true,
            "ticks": "",
            "zerolinecolor": "white"
           },
           "zaxis": {
            "backgroundcolor": "#E5ECF6",
            "gridcolor": "white",
            "gridwidth": 2,
            "linecolor": "white",
            "showbackground": true,
            "ticks": "",
            "zerolinecolor": "white"
           }
          },
          "shapedefaults": {
           "line": {
            "color": "#2a3f5f"
           }
          },
          "ternary": {
           "aaxis": {
            "gridcolor": "white",
            "linecolor": "white",
            "ticks": ""
           },
           "baxis": {
            "gridcolor": "white",
            "linecolor": "white",
            "ticks": ""
           },
           "bgcolor": "#E5ECF6",
           "caxis": {
            "gridcolor": "white",
            "linecolor": "white",
            "ticks": ""
           }
          },
          "title": {
           "x": 0.05
          },
          "xaxis": {
           "automargin": true,
           "gridcolor": "white",
           "linecolor": "white",
           "ticks": "",
           "title": {
            "standoff": 15
           },
           "zerolinecolor": "white",
           "zerolinewidth": 2
          },
          "yaxis": {
           "automargin": true,
           "gridcolor": "white",
           "linecolor": "white",
           "ticks": "",
           "title": {
            "standoff": 15
           },
           "zerolinecolor": "white",
           "zerolinewidth": 2
          }
         }
        }
       }
      }
     },
     "metadata": {},
     "output_type": "display_data"
    }
   ],
   "source": [
    "import plotly.express as px\n",
    "\n",
    "fig = px.scatter_mapbox(carparkInformation, lat=\"latitude\", lon=\"longitude\", hover_name=\"address\", hover_data=[\"car_park_type\", \"free_parking\"],\n",
    "                        color_discrete_sequence=[\"fuchsia\"], zoom=3, height=300)\n",
    "fig.update_layout(mapbox_style=\"open-street-map\")\n",
    "fig.update_layout(margin={\"r\":0,\"t\":0,\"l\":0,\"b\":0})\n",
    "fig.show()"
   ]
  }
 ],
 "metadata": {
  "kernelspec": {
   "display_name": "Python 3.10.6 ('base')",
   "language": "python",
   "name": "python3"
  },
  "language_info": {
   "codemirror_mode": {
    "name": "ipython",
    "version": 3
   },
   "file_extension": ".py",
   "mimetype": "text/x-python",
   "name": "python",
   "nbconvert_exporter": "python",
   "pygments_lexer": "ipython3",
   "version": "3.10.6"
  },
  "orig_nbformat": 4,
  "vscode": {
   "interpreter": {
    "hash": "bf35ec45542d25303f83e89cd42236e5011338780312707fb2b6b43a0ed3dcea"
   }
  }
 },
 "nbformat": 4,
 "nbformat_minor": 2
}
