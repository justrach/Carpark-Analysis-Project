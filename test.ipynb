{
 "cells": [
  {
   "cell_type": "code",
   "execution_count": 56,
   "metadata": {},
   "outputs": [
    {
     "name": "stdout",
     "output_type": "stream",
     "text": [
      "2022-10-07T01:50:34Z\n"
     ]
    },
    {
     "ename": "TypeError",
     "evalue": "write() argument must be str, not dict",
     "output_type": "error",
     "traceback": [
      "\u001b[0;31m---------------------------------------------------------------------------\u001b[0m",
      "\u001b[0;31mTypeError\u001b[0m                                 Traceback (most recent call last)",
      "Cell \u001b[0;32mIn [56], line 18\u001b[0m\n\u001b[1;32m     16\u001b[0m \u001b[38;5;66;03m# st.write(data)\u001b[39;00m\n\u001b[1;32m     17\u001b[0m \u001b[38;5;28;01mwith\u001b[39;00m \u001b[38;5;28mopen\u001b[39m(\u001b[38;5;124m'\u001b[39m\u001b[38;5;124moutputfile.json\u001b[39m\u001b[38;5;124m'\u001b[39m, \u001b[38;5;124m'\u001b[39m\u001b[38;5;124mw\u001b[39m\u001b[38;5;124m'\u001b[39m) \u001b[38;5;28;01mas\u001b[39;00m outf:\n\u001b[0;32m---> 18\u001b[0m     \u001b[43moutf\u001b[49m\u001b[38;5;241;43m.\u001b[39;49m\u001b[43mwrite\u001b[49m\u001b[43m(\u001b[49m\u001b[43mdata\u001b[49m\u001b[43m)\u001b[49m\n\u001b[1;32m     20\u001b[0m \u001b[38;5;66;03m# data\u001b[39;00m\n\u001b[1;32m     22\u001b[0m \u001b[38;5;28;01mwith\u001b[39;00m \u001b[38;5;28mopen\u001b[39m(\u001b[38;5;124m'\u001b[39m\u001b[38;5;124moutputfile.json\u001b[39m\u001b[38;5;124m'\u001b[39m, \u001b[38;5;124m'\u001b[39m\u001b[38;5;124mw\u001b[39m\u001b[38;5;124m'\u001b[39m) \u001b[38;5;28;01mas\u001b[39;00m outf:\n",
      "\u001b[0;31mTypeError\u001b[0m: write() argument must be str, not dict"
     ]
    }
   ],
   "source": [
    "import requests as req\n",
    "import datetime\n",
    "import pandas as pd\n",
    "\n",
    "\n",
    "\n",
    "\n",
    "#Get the current date time\n",
    "output_date = datetime.datetime.now().strftime(\"%Y-%m-%dT%H:%M:%SZ\")\n",
    "val = \"YYYY-MM-DD[T]HH:mm:ss\"\n",
    "val = \"2022-10-06T10:51:34.765Z\"\n",
    "print(str(output_date))\n",
    "# Get the data from the API\n",
    "data = req.get(\"https://api.data.gov.sg/v1/transport/carpark-availability?date_time=\" + val ).json()\n",
    "\n",
    "# st.write(data)\n",
    "\n",
    "# data\n",
    "\n",
    "# with open('outputfile.json', 'w') as outf:\n",
    "#     outf.write(str(data))"
   ]
  },
  {
   "cell_type": "code",
   "execution_count": 72,
   "metadata": {},
   "outputs": [
    {
     "name": "stdout",
     "output_type": "stream",
     "text": [
      "\n"
     ]
    }
   ],
   "source": [
    "\n",
    "df = pd.DataFrame(data['items'][0]['carpark_data'])\n",
    "carpark_df = df[\"carpark_info\"] \n",
    "key_list = []\n",
    "value_of_carpark = []\n",
    "for k,v in carpark_df.items():\n",
    "    # print(k,v)\n",
    "    # print(\"\")\n",
    "    for key,value in v[0].items():\n",
    "        # print(key,value)\n",
    "        key_list.append(key)\n",
    "        value_of_carpark.append(value)\n",
    "        # print(\"\")\n",
    "\n",
    "# print(value_\n",
    "# lis,val)\n",
    "\n",
    "# append every third value of value_of_carpark to the key_list\n",
    "total_lots =  []\n",
    "for i in range(0, len(value_of_carpark), 3):\n",
    "    total_lots.append(value_of_carpark[i])\n",
    "\n",
    "# print(total_lots)\n",
    "print()"
   ]
  },
  {
   "cell_type": "code",
   "execution_count": 77,
   "metadata": {},
   "outputs": [
    {
     "name": "stdout",
     "output_type": "stream",
     "text": [
      "5904 1968 1968 1968\n"
     ]
    }
   ],
   "source": [
    "lot_type_list = []\n",
    "# every 2nd item append to lot_type_list\n",
    "for i in range(1, len(value_of_carpark), 3):\n",
    "    lot_type_list.append(value_of_carpark[i])\n",
    "lot_type_list\n",
    "\n",
    "lot_available_list = []\n",
    "# every 3rd item append to lot_available_list\n",
    "for i in range(2, len(value_of_carpark), 3):\n",
    "    lot_available_list.append(value_of_carpark[i])\n",
    "lot_available_list\n",
    "\n",
    "print(len(key_list),len(total_lots),len(lot_type_list),len(lot_available_list))"
   ]
  },
  {
   "cell_type": "code",
   "execution_count": 79,
   "metadata": {},
   "outputs": [
    {
     "data": {
      "text/plain": [
       "(1968, 3)"
      ]
     },
     "execution_count": 79,
     "metadata": {},
     "output_type": "execute_result"
    }
   ],
   "source": [
    "df.shape"
   ]
  },
  {
   "cell_type": "code",
   "execution_count": 80,
   "metadata": {},
   "outputs": [
    {
     "data": {
      "text/html": [
       "<div>\n",
       "<style scoped>\n",
       "    .dataframe tbody tr th:only-of-type {\n",
       "        vertical-align: middle;\n",
       "    }\n",
       "\n",
       "    .dataframe tbody tr th {\n",
       "        vertical-align: top;\n",
       "    }\n",
       "\n",
       "    .dataframe thead th {\n",
       "        text-align: right;\n",
       "    }\n",
       "</style>\n",
       "<table border=\"1\" class=\"dataframe\">\n",
       "  <thead>\n",
       "    <tr style=\"text-align: right;\">\n",
       "      <th></th>\n",
       "      <th>carpark_info</th>\n",
       "      <th>carpark_number</th>\n",
       "      <th>update_datetime</th>\n",
       "      <th>total_lots</th>\n",
       "      <th>lot_type</th>\n",
       "      <th>lot_available</th>\n",
       "    </tr>\n",
       "  </thead>\n",
       "  <tbody>\n",
       "    <tr>\n",
       "      <th>0</th>\n",
       "      <td>[{'total_lots': '105', 'lot_type': 'C', 'lots_...</td>\n",
       "      <td>HE12</td>\n",
       "      <td>2022-10-06T10:51:08</td>\n",
       "      <td>105</td>\n",
       "      <td>C</td>\n",
       "      <td>0</td>\n",
       "    </tr>\n",
       "    <tr>\n",
       "      <th>1</th>\n",
       "      <td>[{'total_lots': '583', 'lot_type': 'C', 'lots_...</td>\n",
       "      <td>HLM</td>\n",
       "      <td>2022-10-06T10:50:55</td>\n",
       "      <td>583</td>\n",
       "      <td>C</td>\n",
       "      <td>83</td>\n",
       "    </tr>\n",
       "    <tr>\n",
       "      <th>2</th>\n",
       "      <td>[{'total_lots': '329', 'lot_type': 'C', 'lots_...</td>\n",
       "      <td>RHM</td>\n",
       "      <td>2022-10-06T10:51:08</td>\n",
       "      <td>329</td>\n",
       "      <td>C</td>\n",
       "      <td>156</td>\n",
       "    </tr>\n",
       "    <tr>\n",
       "      <th>3</th>\n",
       "      <td>[{'total_lots': '97', 'lot_type': 'C', 'lots_a...</td>\n",
       "      <td>BM29</td>\n",
       "      <td>2022-10-06T10:50:50</td>\n",
       "      <td>97</td>\n",
       "      <td>C</td>\n",
       "      <td>0</td>\n",
       "    </tr>\n",
       "    <tr>\n",
       "      <th>4</th>\n",
       "      <td>[{'total_lots': '96', 'lot_type': 'C', 'lots_a...</td>\n",
       "      <td>Q81</td>\n",
       "      <td>2022-10-06T10:51:00</td>\n",
       "      <td>96</td>\n",
       "      <td>C</td>\n",
       "      <td>0</td>\n",
       "    </tr>\n",
       "    <tr>\n",
       "      <th>...</th>\n",
       "      <td>...</td>\n",
       "      <td>...</td>\n",
       "      <td>...</td>\n",
       "      <td>...</td>\n",
       "      <td>...</td>\n",
       "      <td>...</td>\n",
       "    </tr>\n",
       "    <tr>\n",
       "      <th>1963</th>\n",
       "      <td>[{'total_lots': '679', 'lot_type': 'C', 'lots_...</td>\n",
       "      <td>B65M</td>\n",
       "      <td>2022-10-06T10:49:55</td>\n",
       "      <td>679</td>\n",
       "      <td>C</td>\n",
       "      <td>501</td>\n",
       "    </tr>\n",
       "    <tr>\n",
       "      <th>1964</th>\n",
       "      <td>[{'total_lots': '5', 'lot_type': 'C', 'lots_av...</td>\n",
       "      <td>B65L</td>\n",
       "      <td>2022-10-06T10:49:55</td>\n",
       "      <td>5</td>\n",
       "      <td>C</td>\n",
       "      <td>0</td>\n",
       "    </tr>\n",
       "    <tr>\n",
       "      <th>1965</th>\n",
       "      <td>[{'total_lots': '306', 'lot_type': 'C', 'lots_...</td>\n",
       "      <td>BE3</td>\n",
       "      <td>2022-10-06T10:48:57</td>\n",
       "      <td>306</td>\n",
       "      <td>C</td>\n",
       "      <td>177</td>\n",
       "    </tr>\n",
       "    <tr>\n",
       "      <th>1966</th>\n",
       "      <td>[{'total_lots': '195', 'lot_type': 'C', 'lots_...</td>\n",
       "      <td>BE3R</td>\n",
       "      <td>2022-10-06T10:48:57</td>\n",
       "      <td>195</td>\n",
       "      <td>C</td>\n",
       "      <td>94</td>\n",
       "    </tr>\n",
       "    <tr>\n",
       "      <th>1967</th>\n",
       "      <td>[{'total_lots': '249', 'lot_type': 'C', 'lots_...</td>\n",
       "      <td>B8B</td>\n",
       "      <td>2022-10-06T10:50:19</td>\n",
       "      <td>249</td>\n",
       "      <td>C</td>\n",
       "      <td>153</td>\n",
       "    </tr>\n",
       "  </tbody>\n",
       "</table>\n",
       "<p>1968 rows × 6 columns</p>\n",
       "</div>"
      ],
      "text/plain": [
       "                                           carpark_info carpark_number  \\\n",
       "0     [{'total_lots': '105', 'lot_type': 'C', 'lots_...           HE12   \n",
       "1     [{'total_lots': '583', 'lot_type': 'C', 'lots_...            HLM   \n",
       "2     [{'total_lots': '329', 'lot_type': 'C', 'lots_...            RHM   \n",
       "3     [{'total_lots': '97', 'lot_type': 'C', 'lots_a...           BM29   \n",
       "4     [{'total_lots': '96', 'lot_type': 'C', 'lots_a...            Q81   \n",
       "...                                                 ...            ...   \n",
       "1963  [{'total_lots': '679', 'lot_type': 'C', 'lots_...           B65M   \n",
       "1964  [{'total_lots': '5', 'lot_type': 'C', 'lots_av...           B65L   \n",
       "1965  [{'total_lots': '306', 'lot_type': 'C', 'lots_...            BE3   \n",
       "1966  [{'total_lots': '195', 'lot_type': 'C', 'lots_...           BE3R   \n",
       "1967  [{'total_lots': '249', 'lot_type': 'C', 'lots_...            B8B   \n",
       "\n",
       "          update_datetime total_lots lot_type lot_available  \n",
       "0     2022-10-06T10:51:08        105        C             0  \n",
       "1     2022-10-06T10:50:55        583        C            83  \n",
       "2     2022-10-06T10:51:08        329        C           156  \n",
       "3     2022-10-06T10:50:50         97        C             0  \n",
       "4     2022-10-06T10:51:00         96        C             0  \n",
       "...                   ...        ...      ...           ...  \n",
       "1963  2022-10-06T10:49:55        679        C           501  \n",
       "1964  2022-10-06T10:49:55          5        C             0  \n",
       "1965  2022-10-06T10:48:57        306        C           177  \n",
       "1966  2022-10-06T10:48:57        195        C            94  \n",
       "1967  2022-10-06T10:50:19        249        C           153  \n",
       "\n",
       "[1968 rows x 6 columns]"
      ]
     },
     "execution_count": 80,
     "metadata": {},
     "output_type": "execute_result"
    }
   ],
   "source": [
    "df[\"total_lots\"] = total_lots\n",
    "df[\"lot_type\"] = lot_type_list\n",
    "df[\"lot_available\"] = lot_available_list\n",
    "\n",
    "df"
   ]
  },
  {
   "cell_type": "code",
   "execution_count": null,
   "metadata": {},
   "outputs": [],
   "source": []
  },
  {
   "cell_type": "code",
   "execution_count": null,
   "metadata": {},
   "outputs": [],
   "source": []
  }
 ],
 "metadata": {
  "language_info": {
   "name": "python"
  },
  "orig_nbformat": 4
 },
 "nbformat": 4,
 "nbformat_minor": 2
}
