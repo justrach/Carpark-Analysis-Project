{
 "cells": [
  {
   "cell_type": "code",
   "execution_count": 56,
   "metadata": {},
   "outputs": [
    {
     "name": "stdout",
     "output_type": "stream",
     "text": [
      "2022-10-07T01:50:34Z\n"
     ]
    },
    {
     "ename": "TypeError",
     "evalue": "write() argument must be str, not dict",
     "output_type": "error",
     "traceback": [
      "\u001b[0;31m---------------------------------------------------------------------------\u001b[0m",
      "\u001b[0;31mTypeError\u001b[0m                                 Traceback (most recent call last)",
      "Cell \u001b[0;32mIn [56], line 18\u001b[0m\n\u001b[1;32m     16\u001b[0m \u001b[38;5;66;03m# st.write(data)\u001b[39;00m\n\u001b[1;32m     17\u001b[0m \u001b[38;5;28;01mwith\u001b[39;00m \u001b[38;5;28mopen\u001b[39m(\u001b[38;5;124m'\u001b[39m\u001b[38;5;124moutputfile.json\u001b[39m\u001b[38;5;124m'\u001b[39m, \u001b[38;5;124m'\u001b[39m\u001b[38;5;124mw\u001b[39m\u001b[38;5;124m'\u001b[39m) \u001b[38;5;28;01mas\u001b[39;00m outf:\n\u001b[0;32m---> 18\u001b[0m     \u001b[43moutf\u001b[49m\u001b[38;5;241;43m.\u001b[39;49m\u001b[43mwrite\u001b[49m\u001b[43m(\u001b[49m\u001b[43mdata\u001b[49m\u001b[43m)\u001b[49m\n\u001b[1;32m     20\u001b[0m \u001b[38;5;66;03m# data\u001b[39;00m\n\u001b[1;32m     22\u001b[0m \u001b[38;5;28;01mwith\u001b[39;00m \u001b[38;5;28mopen\u001b[39m(\u001b[38;5;124m'\u001b[39m\u001b[38;5;124moutputfile.json\u001b[39m\u001b[38;5;124m'\u001b[39m, \u001b[38;5;124m'\u001b[39m\u001b[38;5;124mw\u001b[39m\u001b[38;5;124m'\u001b[39m) \u001b[38;5;28;01mas\u001b[39;00m outf:\n",
      "\u001b[0;31mTypeError\u001b[0m: write() argument must be str, not dict"
     ]
    }
   ],
   "source": [
    "import requests as req\n",
    "import datetime\n",
    "import pandas as pd\n",
    "\n",
    "\n",
    "\n",
    "\n",
    "#Get the current date time\n",
    "output_date = datetime.datetime.now().strftime(\"%Y-%m-%dT%H:%M:%SZ\")\n",
    "val = \"YYYY-MM-DD[T]HH:mm:ss\"\n",
    "val = \"2022-10-06T10:51:34.765Z\"\n",
    "print(str(output_date))\n",
    "# Get the data from the API\n",
    "data = req.get(\"https://api.data.gov.sg/v1/transport/carpark-availability?date_time=\" + val ).json()\n",
    "\n",
    "# st.write(data)\n",
    "\n",
    "# data\n",
    "\n",
    "# with open('outputfile.json', 'w') as outf:\n",
    "#     outf.write(str(data))"
   ]
  },
  {
   "cell_type": "code",
   "execution_count": 72,
   "metadata": {},
   "outputs": [
    {
     "name": "stdout",
     "output_type": "stream",
     "text": [
      "\n"
     ]
    }
   ],
   "source": [
    "\n",
    "df = pd.DataFrame(data['items'][0]['carpark_data'])\n",
    "carpark_df = df[\"carpark_info\"] \n",
    "key_list = []\n",
    "value_of_carpark = []\n",
    "for k,v in carpark_df.items():\n",
    "    # print(k,v)\n",
    "    # print(\"\")\n",
    "    for key,value in v[0].items():\n",
    "        # print(key,value)\n",
    "        key_list.append(key)\n",
    "        value_of_carpark.append(value)\n",
    "        # print(\"\")\n",
    "\n",
    "# print(value_\n",
    "# lis,val)\n",
    "\n",
    "# append every third value of value_of_carpark to the key_list\n",
    "total_lots =  []\n",
    "for i in range(0, len(value_of_carpark), 3):\n",
    "    total_lots.append(value_of_carpark[i])\n",
    "\n",
    "# print(total_lots)\n",
    "print()"
   ]
  },
  {
   "cell_type": "code",
   "execution_count": 77,
   "metadata": {},
   "outputs": [
    {
     "name": "stdout",
     "output_type": "stream",
     "text": [
      "5904 1968 1968 1968\n"
     ]
    }
   ],
   "source": [
    "lot_type_list = []\n",
    "# every 2nd item append to lot_type_list\n",
    "for i in range(1, len(value_of_carpark), 3):\n",
    "    lot_type_list.append(value_of_carpark[i])\n",
    "lot_type_list\n",
    "\n",
    "lot_available_list = []\n",
    "# every 3rd item append to lot_available_list\n",
    "for i in range(2, len(value_of_carpark), 3):\n",
    "    lot_available_list.append(value_of_carpark[i])\n",
    "lot_available_list\n",
    "\n",
    "print(len(key_list),len(total_lots),len(lot_type_list),len(lot_available_list))"
   ]
  },
  {
   "cell_type": "code",
   "execution_count": null,
   "metadata": {},
   "outputs": [],
   "source": []
  },
  {
   "cell_type": "code",
   "execution_count": null,
   "metadata": {},
   "outputs": [],
   "source": []
  },
  {
   "cell_type": "code",
   "execution_count": null,
   "metadata": {},
   "outputs": [],
   "source": []
  }
 ],
 "metadata": {
  "language_info": {
   "name": "python"
  },
  "orig_nbformat": 4
 },
 "nbformat": 4,
 "nbformat_minor": 2
}
