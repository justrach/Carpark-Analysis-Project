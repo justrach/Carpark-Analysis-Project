{
 "cells": [
  {
   "cell_type": "code",
   "execution_count": 14,
   "metadata": {},
   "outputs": [
    {
     "name": "stdout",
     "output_type": "stream",
     "text": [
      "4\n",
      "4\n",
      "['4', '2', '1']\n"
     ]
    }
   ],
   "source": [
    "# Data that needs to change randomly (add noise)\n",
    "\n",
    "# inputs are [1,x] -\n",
    "\n",
    "# output is [jitterd data]\n",
    "\n",
    "A = [3,2,1,4]\n",
    "def geteMin(A):\n",
    "    print(    len(A))\n",
    "\n",
    "    count = 0\n",
    "    for x in range(0,len(A)):\n",
    "        if(A[x] == 0):\n",
    "            pass\n",
    "        else: \n",
    "            A[x] = 0\n",
    "            count+=1\n",
    "    return count\n",
    "print(geteMin(A))\n",
    "print(\"4 2 1\".split())"
   ]
  },
  {
   "cell_type": "code",
   "execution_count": null,
   "metadata": {},
   "outputs": [],
   "source": [
    "X|"
   ]
  }
 ],
 "metadata": {
  "kernelspec": {
   "display_name": "Python 3.10.6 ('base')",
   "language": "python",
   "name": "python3"
  },
  "language_info": {
   "codemirror_mode": {
    "name": "ipython",
    "version": 3
   },
   "file_extension": ".py",
   "mimetype": "text/x-python",
   "name": "python",
   "nbconvert_exporter": "python",
   "pygments_lexer": "ipython3",
   "version": "3.10.6"
  },
  "orig_nbformat": 4,
  "vscode": {
   "interpreter": {
    "hash": "bf35ec45542d25303f83e89cd42236e5011338780312707fb2b6b43a0ed3dcea"
   }
  }
 },
 "nbformat": 4,
 "nbformat_minor": 2
}
